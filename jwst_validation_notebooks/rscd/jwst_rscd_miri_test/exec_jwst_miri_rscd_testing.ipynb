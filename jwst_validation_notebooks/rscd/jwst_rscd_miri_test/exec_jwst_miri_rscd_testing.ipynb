{
 "cells": [
  {
   "cell_type": "markdown",
   "metadata": {},
   "source": [
    "<a id=\"title_ID\"></a>\n",
    "# JWST Pipeline Validation Testing Notebook: Calwebb_Detector1, RSCD step\n",
    "\n",
    "<span style=\"color:red\"> **Instruments Affected**</span>: MIRI\n",
    "\n",
    "Tested on MIRI Simulated data\n",
    "\n",
    "### Table of Contents\n",
    "<div style=\"text-align: left\"> \n",
    "\n",
    "<br>  [Introduction](#intro_ID) <br> [Imports](#imports_ID) <br> [Run Pipeline Steps](#pipeline_ID) <br> [Check Flagged Frames](#flagging_ID) <br> [Results](#results_ID) <br> [About This Notebook](#about_ID) <br>\n",
    "\n",
    "\n",
    "</div>"
   ]
  },
  {
   "cell_type": "markdown",
   "metadata": {},
   "source": [
    "<a id=\"intro_ID\"></a>\n",
    "# Introduction\n",
    "\n",
    "\n",
    "This test is designed to test the RSCD step in the calwebb_detector1 pipeline. This step only applies to MIRI. The Reset Switch Charge Decay (RSCD) step corrects for a set of ramp effects that affect all ingrations after the first by simply flagging the first N groups as DO_NOT_USE. The number of groups to flag is read from the reference file based on readout mode and subarray. For more information on the pipeline step visit the links below. \n",
    "\n",
    "Step description: https://jwst-pipeline.readthedocs.io/en/latest/jwst/rscd/description.html\n",
    "\n",
    "Pipeline code: https://github.com/spacetelescope/jwst/tree/master/jwst/rscd\n",
    "\n",
    "Most of the data for this test were created with the MIRI Data Simulator, and the documentation for that code can be found here: http://miri.ster.kuleuven.be/bin/view/Public/MIRISim_Public. This test can also be run on properly formatted ground test data.\n",
    "\n",
    "\n",
    "### Calibration WG Requested Algorithm: \n",
    "\n",
    "A short description and link to the page: https://outerspace.stsci.edu/display/JWSTCC/Vanilla+Reset+Switch+Charge+Decay+Correction\n",
    "\n",
    "\n",
    "### Defining Terms\n",
    "Definition of terms or acronymns.\n",
    "\n",
    "JWST: James Webb Space Telescope\n",
    "\n",
    "MIRI: Mid-Infrared Instrument\n",
    "\n",
    "MIRISim: MIRI Data Simulator\n",
    "\n",
    "RSCD: Reset Switch Charge Decay\n",
    "\n",
    "### Description of test\n",
    "\n",
    "This test is performed by reading in data of various types (subarray, readpattern, etc.) and running them through the rscd step to see whether the correct number of frames are flagged (read from the reference file).\n",
    "\n",
    "### Create the data for testing\n",
    "\n",
    "The set of data used in this particular test were created with the MIRI Data Simulator (MIRISim). Referring to the MIRISim link, you can see how to set up and run the simulator to re-create the input files if you wish. The data was run with a scene.ini file that specified what the scene should look like, with coordinates for the stars given in units of arcsecond offsets from the center of the field of view. The scene.ini file as well as the setup files simuation.ini and simulator.ini are needed to run the simulation.\n",
    "\n",
    "Once in the mirisim conda environment, the simulation is run with the command line:\n",
    "> mirisim simulation.ini\n",
    "\n",
    "\n",
    "\n",
    "\n",
    "[Top of Page](#title_ID)"
   ]
  },
  {
   "cell_type": "code",
   "execution_count": 1,
   "metadata": {
    "execution": {
     "iopub.execute_input": "2021-04-03T02:13:18.017133Z",
     "iopub.status.busy": "2021-04-03T02:13:18.016818Z",
     "iopub.status.idle": "2021-04-03T02:13:18.019988Z",
     "shell.execute_reply": "2021-04-03T02:13:18.019614Z"
    }
   },
   "outputs": [],
   "source": [
    "# Create a temporary directory to hold notebook output, and change the working directory to that directory.\n",
    "from tempfile import TemporaryDirectory\n",
    "import os\n",
    "data_dir = TemporaryDirectory()\n",
    "os.chdir(data_dir.name)"
   ]
  },
  {
   "cell_type": "markdown",
   "metadata": {},
   "source": [
    "<a id=\"imports_ID\"></a>\n",
    "# Imports\n",
    "The following packages will need to be imported for the scripts to work.\n",
    "\n",
    "* os for reading in CRDS server info and path information\n",
    "* ci_watson and get_bigdata for reading data from artifactory\n",
    "* jwst.datamodels for opening files as a JWST Datamodel\n",
    "* jwst.pipeline to run the pipeline step/module\n",
    "* jwst.associations to create association table\n",
    "* numpy for calculations\n",
    "* inspect and Markdown to get documentation for step being tested  \n",
    "* photutils for star finding and aperture photometry\n",
    "\n",
    "\n",
    "[Top of Page](#title_ID)"
   ]
  },
  {
   "cell_type": "code",
   "execution_count": 2,
   "metadata": {
    "execution": {
     "iopub.execute_input": "2021-04-03T02:13:18.022803Z",
     "iopub.status.busy": "2021-04-03T02:13:18.022469Z",
     "iopub.status.idle": "2021-04-03T02:13:18.690174Z",
     "shell.execute_reply": "2021-04-03T02:13:18.689830Z"
    }
   },
   "outputs": [],
   "source": [
    "import os\n",
    "os.environ['CRDS_SERVER_URL'] = 'https://jwst-crds.stsci.edu'\n",
    "import crds\n",
    "\n",
    "from astropy.io import fits\n",
    "import numpy as np\n",
    "from IPython.display import Markdown\n",
    "from jwst.datamodels import RampModel, dqflags\n",
    "from jwst.dq_init import DQInitStep\n",
    "from jwst.rscd import RscdStep\n",
    "from ci_watson.artifactory_helpers import get_bigdata\n",
    "import inspect\n",
    "from IPython.display import Markdown"
   ]
  },
  {
   "cell_type": "code",
   "execution_count": 3,
   "metadata": {
    "execution": {
     "iopub.execute_input": "2021-04-03T02:13:18.696532Z",
     "iopub.status.busy": "2021-04-03T02:13:18.696203Z",
     "iopub.status.idle": "2021-04-03T02:13:18.698351Z",
     "shell.execute_reply": "2021-04-03T02:13:18.698674Z"
    }
   },
   "outputs": [
    {
     "data": {
      "text/markdown": [
       "\n",
       "# rscd_step\n",
       "---\n",
       "RscdStep: Performs an RSCD correction to MIRI data.<br />Baseline version flags the first N groups as 'DO_NOT_USE' in<br />the 2nd and later integrations in a copy of the input<br />science data model.<br />Enhanced version is not ready nor enabled.\n"
      ],
      "text/plain": [
       "<IPython.core.display.Markdown object>"
      ]
     },
     "execution_count": 1,
     "metadata": {},
     "output_type": "execute_result"
    }
   ],
   "source": [
    "# Get raw python docstring to see documentation for this step\n",
    "raw = inspect.getdoc(RscdStep) or ''\n",
    "\n",
    "# To convert to markdown, you need convert line breaks from \\n to <br />\n",
    "markdown_text = \"<br />\".join(raw.split(\"\\n\"))\n",
    "\n",
    "# Here you can format markdown as an output using the Markdown method.\n",
    "Markdown(\"\"\"\n",
    "# rscd_step\n",
    "---\n",
    "{}\n",
    "\"\"\".format(markdown_text))"
   ]
  },
  {
   "cell_type": "markdown",
   "metadata": {},
   "source": [
    "<a id=\"pipeline_ID\"></a>\n",
    "### Run Pipeline Steps\n",
    "\n",
    "For this test, run each file through dq_init and the rscd steps only. The output for the test is the output of the rscd step. We are testing that the specified number of frames for each file is flagged properly.\n",
    "\n",
    "[Top of Page](#title_ID)"
   ]
  },
  {
   "cell_type": "code",
   "execution_count": 4,
   "metadata": {
    "execution": {
     "iopub.execute_input": "2021-04-03T02:13:18.703226Z",
     "iopub.status.busy": "2021-04-03T02:13:18.702674Z",
     "iopub.status.idle": "2021-04-03T02:13:56.410799Z",
     "shell.execute_reply": "2021-04-03T02:13:56.411051Z"
    }
   },
   "outputs": [
    {
     "name": "stdout",
     "output_type": "stream",
     "text": [
      "There are  5  images.\n"
     ]
    },
    {
     "name": "stderr",
     "output_type": "stream",
     "text": [
      "2021-04-02 22:13:47,243 - stpipe.DQInitStep - INFO - DQInitStep instance created.\n"
     ]
    },
    {
     "name": "stderr",
     "output_type": "stream",
     "text": [
      "2021-04-02 22:13:47,294 - stpipe.DQInitStep - INFO - Step DQInitStep running with args (<RampModel(3, 10, 1024, 1032) from starfield_slow_seq1_MIRIMAGE_F1130Wexp1.fits>,).\n"
     ]
    },
    {
     "name": "stderr",
     "output_type": "stream",
     "text": [
      "2021-04-02 22:13:47,295 - stpipe.DQInitStep - INFO - Step DQInitStep parameters are: {'pre_hooks': [], 'post_hooks': [], 'output_file': None, 'output_dir': None, 'output_ext': '.fits', 'output_use_model': False, 'output_use_index': True, 'save_results': False, 'skip': False, 'suffix': None, 'search_output_file': True, 'input_dir': ''}\n"
     ]
    },
    {
     "name": "stderr",
     "output_type": "stream",
     "text": [
      "2021-04-02 22:13:47,311 - stpipe.DQInitStep - INFO - Using MASK reference file /grp/crds/cache/references/jwst/jwst_miri_mask_0023.fits\n"
     ]
    },
    {
     "name": "stderr",
     "output_type": "stream",
     "text": [
      "2021-04-02 22:13:47,572 - stpipe.DQInitStep - INFO - Step DQInitStep done\n"
     ]
    },
    {
     "name": "stderr",
     "output_type": "stream",
     "text": [
      "2021-04-02 22:13:47,581 - stpipe.RscdStep - INFO - RscdStep instance created.\n"
     ]
    },
    {
     "name": "stderr",
     "output_type": "stream",
     "text": [
      "2021-04-02 22:13:47,632 - stpipe.RscdStep - INFO - Step RscdStep running with args (<RampModel(3, 10, 1024, 1032) from starfield_slow_seq1_MIRIMAGE_F1130Wexp1.fits>,).\n"
     ]
    },
    {
     "name": "stderr",
     "output_type": "stream",
     "text": [
      "2021-04-02 22:13:47,634 - stpipe.RscdStep - INFO - Step RscdStep parameters are: {'pre_hooks': [], 'post_hooks': [], 'output_file': '/data1/jenkins/workspace/Notebooks/jwst_validation_notebooks_spacetelescope/tmp/tmpay0c_fw1/starfield_slow_seq1_MIRIMAGE_F1130Wexp1', 'output_dir': None, 'output_ext': '.fits', 'output_use_model': False, 'output_use_index': True, 'save_results': False, 'skip': False, 'suffix': None, 'search_output_file': True, 'input_dir': '', 'type': 'baseline'}\n"
     ]
    },
    {
     "name": "stderr",
     "output_type": "stream",
     "text": [
      "2021-04-02 22:13:47,650 - stpipe.RscdStep - INFO - Using RSCD reference file /grp/crds/cache/references/jwst/jwst_miri_rscd_0010.fits\n"
     ]
    },
    {
     "name": "stderr",
     "output_type": "stream",
     "text": [
      "2021-04-02 22:13:48,175 - stpipe.RscdStep - INFO - Saved model in starfield_slow_seq1_MIRIMAGE_F1130Wexp1_rscdstep.fits\n"
     ]
    },
    {
     "name": "stderr",
     "output_type": "stream",
     "text": [
      "2021-04-02 22:13:48,176 - stpipe.RscdStep - INFO - Step RscdStep done\n"
     ]
    },
    {
     "name": "stderr",
     "output_type": "stream",
     "text": [
      "2021-04-02 22:13:48,599 - stpipe.DQInitStep - INFO - DQInitStep instance created.\n"
     ]
    },
    {
     "name": "stderr",
     "output_type": "stream",
     "text": [
      "2021-04-02 22:13:48,689 - stpipe.DQInitStep - INFO - Step DQInitStep running with args (<RampModel(2, 35, 1024, 1032) from starfield_fast_4ptdither_seq1_MIRIMAGE_F1130Wexp1.fits>,).\n"
     ]
    },
    {
     "name": "stderr",
     "output_type": "stream",
     "text": [
      "2021-04-02 22:13:48,690 - stpipe.DQInitStep - INFO - Step DQInitStep parameters are: {'pre_hooks': [], 'post_hooks': [], 'output_file': None, 'output_dir': None, 'output_ext': '.fits', 'output_use_model': False, 'output_use_index': True, 'save_results': False, 'skip': False, 'suffix': None, 'search_output_file': True, 'input_dir': ''}\n"
     ]
    },
    {
     "name": "stderr",
     "output_type": "stream",
     "text": [
      "2021-04-02 22:13:48,706 - stpipe.DQInitStep - INFO - Using MASK reference file /grp/crds/cache/references/jwst/jwst_miri_mask_0023.fits\n"
     ]
    },
    {
     "name": "stderr",
     "output_type": "stream",
     "text": [
      "2021-04-02 22:13:49,235 - stpipe.DQInitStep - INFO - Step DQInitStep done\n"
     ]
    },
    {
     "name": "stderr",
     "output_type": "stream",
     "text": [
      "2021-04-02 22:13:49,246 - stpipe.RscdStep - INFO - RscdStep instance created.\n"
     ]
    },
    {
     "name": "stderr",
     "output_type": "stream",
     "text": [
      "2021-04-02 22:13:49,324 - stpipe.RscdStep - INFO - Step RscdStep running with args (<RampModel(2, 35, 1024, 1032) from starfield_fast_4ptdither_seq1_MIRIMAGE_F1130Wexp1.fits>,).\n"
     ]
    },
    {
     "name": "stderr",
     "output_type": "stream",
     "text": [
      "2021-04-02 22:13:49,326 - stpipe.RscdStep - INFO - Step RscdStep parameters are: {'pre_hooks': [], 'post_hooks': [], 'output_file': '/data1/jenkins/workspace/Notebooks/jwst_validation_notebooks_spacetelescope/tmp/tmpay0c_fw1/starfield_fast_4ptdither_seq1_MIRIMAGE_F1130Wexp1', 'output_dir': None, 'output_ext': '.fits', 'output_use_model': False, 'output_use_index': True, 'save_results': False, 'skip': False, 'suffix': None, 'search_output_file': True, 'input_dir': '', 'type': 'baseline'}\n"
     ]
    },
    {
     "name": "stderr",
     "output_type": "stream",
     "text": [
      "2021-04-02 22:13:49,341 - stpipe.RscdStep - INFO - Using RSCD reference file /grp/crds/cache/references/jwst/jwst_miri_rscd_0010.fits\n"
     ]
    },
    {
     "name": "stderr",
     "output_type": "stream",
     "text": [
      "2021-04-02 22:13:50,314 - stpipe.RscdStep - INFO - Saved model in starfield_fast_4ptdither_seq1_MIRIMAGE_F1130Wexp1_rscdstep.fits\n"
     ]
    },
    {
     "name": "stderr",
     "output_type": "stream",
     "text": [
      "2021-04-02 22:13:50,315 - stpipe.RscdStep - INFO - Step RscdStep done\n"
     ]
    },
    {
     "name": "stderr",
     "output_type": "stream",
     "text": [
      "2021-04-02 22:13:50,453 - stpipe.DQInitStep - INFO - DQInitStep instance created.\n"
     ]
    },
    {
     "name": "stderr",
     "output_type": "stream",
     "text": [
      "2021-04-02 22:13:50,594 - stpipe.DQInitStep - INFO - Step DQInitStep running with args (<RampModel(2, 35, 512, 512) from det_image_seq1_MIRIMAGE_F1130Wexp1_brightsky.fits>,).\n"
     ]
    },
    {
     "name": "stderr",
     "output_type": "stream",
     "text": [
      "2021-04-02 22:13:50,596 - stpipe.DQInitStep - INFO - Step DQInitStep parameters are: {'pre_hooks': [], 'post_hooks': [], 'output_file': None, 'output_dir': None, 'output_ext': '.fits', 'output_use_model': False, 'output_use_index': True, 'save_results': False, 'skip': False, 'suffix': None, 'search_output_file': True, 'input_dir': ''}\n"
     ]
    },
    {
     "name": "stderr",
     "output_type": "stream",
     "text": [
      "2021-04-02 22:13:50,612 - stpipe.DQInitStep - INFO - Using MASK reference file /grp/crds/cache/references/jwst/jwst_miri_mask_0023.fits\n"
     ]
    },
    {
     "name": "stderr",
     "output_type": "stream",
     "text": [
      "2021-04-02 22:13:50,771 - stpipe.DQInitStep - INFO - Extracting mask subarray to match science data\n"
     ]
    },
    {
     "name": "stderr",
     "output_type": "stream",
     "text": [
      "2021-04-02 22:13:50,776 - stpipe.DQInitStep - INFO - Step DQInitStep done\n"
     ]
    },
    {
     "name": "stderr",
     "output_type": "stream",
     "text": [
      "2021-04-02 22:13:50,786 - stpipe.RscdStep - INFO - RscdStep instance created.\n"
     ]
    },
    {
     "name": "stderr",
     "output_type": "stream",
     "text": [
      "2021-04-02 22:13:50,902 - stpipe.RscdStep - INFO - Step RscdStep running with args (<RampModel(2, 35, 512, 512) from det_image_seq1_MIRIMAGE_F1130Wexp1_brightsky.fits>,).\n"
     ]
    },
    {
     "name": "stderr",
     "output_type": "stream",
     "text": [
      "2021-04-02 22:13:50,904 - stpipe.RscdStep - INFO - Step RscdStep parameters are: {'pre_hooks': [], 'post_hooks': [], 'output_file': '/data1/jenkins/workspace/Notebooks/jwst_validation_notebooks_spacetelescope/tmp/tmpay0c_fw1/det_image_seq1_MIRIMAGE_F1130Wexp1_brightsky', 'output_dir': None, 'output_ext': '.fits', 'output_use_model': False, 'output_use_index': True, 'save_results': False, 'skip': False, 'suffix': None, 'search_output_file': True, 'input_dir': '', 'type': 'baseline'}\n"
     ]
    },
    {
     "name": "stderr",
     "output_type": "stream",
     "text": [
      "2021-04-02 22:13:50,919 - stpipe.RscdStep - INFO - Using RSCD reference file /grp/crds/cache/references/jwst/jwst_miri_rscd_0010.fits\n"
     ]
    },
    {
     "name": "stderr",
     "output_type": "stream",
     "text": [
      "2021-04-02 22:13:51,225 - stpipe.RscdStep - INFO - Saved model in det_image_seq1_MIRIMAGE_F1130Wexp1_brightsky_rscdstep.fits\n"
     ]
    },
    {
     "name": "stderr",
     "output_type": "stream",
     "text": [
      "2021-04-02 22:13:51,226 - stpipe.RscdStep - INFO - Step RscdStep done\n"
     ]
    },
    {
     "name": "stderr",
     "output_type": "stream",
     "text": [
      "2021-04-02 22:13:51,740 - stpipe.DQInitStep - INFO - DQInitStep instance created.\n"
     ]
    },
    {
     "name": "stderr",
     "output_type": "stream",
     "text": [
      "2021-04-02 22:13:51,949 - stpipe.DQInitStep - INFO - Step DQInitStep running with args (<RampModel(2, 35, 1024, 1032) from starfield_fastgrpavg_seq1_MIRIMAGE_F1130Wexp1.fits>,).\n"
     ]
    },
    {
     "name": "stderr",
     "output_type": "stream",
     "text": [
      "2021-04-02 22:13:51,950 - stpipe.DQInitStep - INFO - Step DQInitStep parameters are: {'pre_hooks': [], 'post_hooks': [], 'output_file': None, 'output_dir': None, 'output_ext': '.fits', 'output_use_model': False, 'output_use_index': True, 'save_results': False, 'skip': False, 'suffix': None, 'search_output_file': True, 'input_dir': ''}\n"
     ]
    },
    {
     "name": "stderr",
     "output_type": "stream",
     "text": [
      "2021-04-02 22:13:51,970 - stpipe.DQInitStep - INFO - Using MASK reference file /grp/crds/cache/references/jwst/jwst_miri_mask_0023.fits\n"
     ]
    },
    {
     "name": "stderr",
     "output_type": "stream",
     "text": [
      "2021-04-02 22:13:52,539 - stpipe.DQInitStep - INFO - Step DQInitStep done\n"
     ]
    },
    {
     "name": "stderr",
     "output_type": "stream",
     "text": [
      "2021-04-02 22:13:52,552 - stpipe.RscdStep - INFO - RscdStep instance created.\n"
     ]
    },
    {
     "name": "stderr",
     "output_type": "stream",
     "text": [
      "2021-04-02 22:13:52,683 - stpipe.RscdStep - INFO - Step RscdStep running with args (<RampModel(2, 35, 1024, 1032) from starfield_fastgrpavg_seq1_MIRIMAGE_F1130Wexp1.fits>,).\n"
     ]
    },
    {
     "name": "stderr",
     "output_type": "stream",
     "text": [
      "2021-04-02 22:13:52,684 - stpipe.RscdStep - INFO - Step RscdStep parameters are: {'pre_hooks': [], 'post_hooks': [], 'output_file': '/data1/jenkins/workspace/Notebooks/jwst_validation_notebooks_spacetelescope/tmp/tmpay0c_fw1/starfield_fastgrpavg_seq1_MIRIMAGE_F1130Wexp1', 'output_dir': None, 'output_ext': '.fits', 'output_use_model': False, 'output_use_index': True, 'save_results': False, 'skip': False, 'suffix': None, 'search_output_file': True, 'input_dir': '', 'type': 'baseline'}\n"
     ]
    },
    {
     "name": "stderr",
     "output_type": "stream",
     "text": [
      "2021-04-02 22:13:52,701 - stpipe.RscdStep - INFO - Using RSCD reference file /grp/crds/cache/references/jwst/jwst_miri_rscd_0010.fits\n"
     ]
    },
    {
     "name": "stderr",
     "output_type": "stream",
     "text": [
      "2021-04-02 22:13:52,737 - stpipe.RscdStep - WARNING - READPATT, SUBARRAY combination not found in ref file: RSCD correction will be skipped\n"
     ]
    },
    {
     "name": "stderr",
     "output_type": "stream",
     "text": [
      "2021-04-02 22:13:53,142 - stpipe.RscdStep - INFO - Saved model in starfield_fastgrpavg_seq1_MIRIMAGE_F1130Wexp1_rscdstep.fits\n"
     ]
    },
    {
     "name": "stderr",
     "output_type": "stream",
     "text": [
      "2021-04-02 22:13:53,143 - stpipe.RscdStep - INFO - Step RscdStep done\n"
     ]
    },
    {
     "name": "stderr",
     "output_type": "stream",
     "text": [
      "2021-04-02 22:13:53,907 - stpipe.DQInitStep - INFO - DQInitStep instance created.\n"
     ]
    },
    {
     "name": "stderr",
     "output_type": "stream",
     "text": [
      "2021-04-02 22:13:54,123 - stpipe.DQInitStep - INFO - Step DQInitStep running with args (<RampModel(5, 20, 1024, 1032) from jw04193001001_01101_00001_MIRIFULONG_uncal.fits>,).\n"
     ]
    },
    {
     "name": "stderr",
     "output_type": "stream",
     "text": [
      "2021-04-02 22:13:54,124 - stpipe.DQInitStep - INFO - Step DQInitStep parameters are: {'pre_hooks': [], 'post_hooks': [], 'output_file': None, 'output_dir': None, 'output_ext': '.fits', 'output_use_model': False, 'output_use_index': True, 'save_results': False, 'skip': False, 'suffix': None, 'search_output_file': True, 'input_dir': ''}\n"
     ]
    },
    {
     "name": "stderr",
     "output_type": "stream",
     "text": [
      "2021-04-02 22:13:54,156 - stpipe.DQInitStep - INFO - Using MASK reference file /grp/crds/cache/references/jwst/jwst_miri_mask_0021.fits\n"
     ]
    },
    {
     "name": "stderr",
     "output_type": "stream",
     "text": [
      "2021-04-02 22:13:54,975 - stpipe.DQInitStep - INFO - Step DQInitStep done\n"
     ]
    },
    {
     "name": "stderr",
     "output_type": "stream",
     "text": [
      "2021-04-02 22:13:54,986 - stpipe.RscdStep - INFO - RscdStep instance created.\n"
     ]
    },
    {
     "name": "stderr",
     "output_type": "stream",
     "text": [
      "2021-04-02 22:13:55,061 - stpipe.RscdStep - INFO - Step RscdStep running with args (<RampModel(5, 20, 1024, 1032) from jw04193001001_01101_00001_MIRIFULONG_uncal.fits>,).\n"
     ]
    },
    {
     "name": "stderr",
     "output_type": "stream",
     "text": [
      "2021-04-02 22:13:55,063 - stpipe.RscdStep - INFO - Step RscdStep parameters are: {'pre_hooks': [], 'post_hooks': [], 'output_file': '/data1/jenkins/workspace/Notebooks/jwst_validation_notebooks_spacetelescope/tmp/tmpay0c_fw1/jw04193001001_01101_00001_MIRIFULONG', 'output_dir': None, 'output_ext': '.fits', 'output_use_model': False, 'output_use_index': True, 'save_results': False, 'skip': False, 'suffix': None, 'search_output_file': True, 'input_dir': '', 'type': 'baseline'}\n"
     ]
    },
    {
     "name": "stderr",
     "output_type": "stream",
     "text": [
      "2021-04-02 22:13:55,082 - stpipe.RscdStep - INFO - Using RSCD reference file /grp/crds/cache/references/jwst/jwst_miri_rscd_0011.fits\n"
     ]
    },
    {
     "name": "stderr",
     "output_type": "stream",
     "text": [
      "2021-04-02 22:13:56,405 - stpipe.RscdStep - INFO - Saved model in jw04193001001_01101_00001_MIRIFULONG_rscdstep.fits\n"
     ]
    },
    {
     "name": "stderr",
     "output_type": "stream",
     "text": [
      "2021-04-02 22:13:56,406 - stpipe.RscdStep - INFO - Step RscdStep done\n"
     ]
    },
    {
     "name": "stdout",
     "output_type": "stream",
     "text": [
      "All files processed.\n"
     ]
    }
   ],
   "source": [
    "# Put in tests for FULL frame fast, FULL frame slow, subarray and FASTGRPAVG (should skip FASTGRPAVG) \n",
    "\n",
    "# read in input files\n",
    "\n",
    "file1 = get_bigdata('jwst_validation_notebooks',\n",
    "                    'validation_data',\n",
    "                    'rscd',\n",
    "                    'rscd_miri_test', \n",
    "                    'starfield_slow_seq1_MIRIMAGE_F1130Wexp1.fits')\n",
    "\n",
    "file2 = get_bigdata('jwst_validation_notebooks',\n",
    "                    'validation_data',\n",
    "                    'rscd',\n",
    "                    'rscd_miri_test', \n",
    "                    'starfield_fast_4ptdither_seq1_MIRIMAGE_F1130Wexp1.fits')\n",
    "\n",
    "file3 = get_bigdata('jwst_validation_notebooks',\n",
    "                    'validation_data',\n",
    "                    'rscd',\n",
    "                    'rscd_miri_test', \n",
    "                    'det_image_seq1_MIRIMAGE_F1130Wexp1_brightsky.fits')\n",
    "\n",
    "file4 = get_bigdata('jwst_validation_notebooks',\n",
    "                    'validation_data',\n",
    "                    'rscd',\n",
    "                    'rscd_miri_test', \n",
    "                    'starfield_fastgrpavg_seq1_MIRIMAGE_F1130Wexp1.fits')\n",
    "\n",
    "file5 = get_bigdata('jwst_validation_notebooks',\n",
    "                    'validation_data',\n",
    "                    'rscd',\n",
    "                    'rscd_miri_test', \n",
    "                    'jw04193001001_01101_00001_MIRIFULONG_uncal.fits')\n",
    "\n",
    "filelist = get_bigdata('jwst_validation_notebooks',\n",
    "                       'validation_data',\n",
    "                       'rscd',\n",
    "                       'rscd_miri_test', \n",
    "                       'rscd_testfiles.txt')\n",
    "\n",
    "rscdoutfiles = 'rscd_processed_files.txt'\n",
    "\n",
    "# read in list of input files\n",
    "imlist1 = np.loadtxt(filelist,dtype=bytes, ndmin=1).astype(str)  # avoid the 'b at the start of a line\n",
    "\n",
    "# open output file for ramp fit file names\n",
    "f = open(rscdoutfiles,'w')\n",
    "\n",
    "print('There are ', imlist1.size, ' images.')\n",
    "\n",
    "# loop over list of files\n",
    "for file in imlist1:\n",
    "       \n",
    "    # set up output file name\n",
    "    if 'uncal' in file:\n",
    "        base, remainder = file.split('_uncal')\n",
    "    else:    \n",
    "        base, remainder = file.split('.')\n",
    "    # write out name of output files to text file for later use\n",
    "    f.write(base+'_rscdstep.fits'+'\\n')\n",
    "    \n",
    "    # check that header has needed keywords set\n",
    "    model = RampModel(file)\n",
    "    preim = DQInitStep.call(model)\n",
    "    postim = RscdStep.call(preim, output_file=base)\n",
    "    \n",
    "f.close()\n",
    "\n",
    "print('All files processed.')"
   ]
  },
  {
   "cell_type": "markdown",
   "metadata": {},
   "source": [
    "<a id=\"flagging_ID\"></a>\n",
    "\n",
    "### Check flagged frames\n",
    "\n",
    "Check that the frames at the beginning of each integration after the first are flagged properly.\n",
    "\n",
    "FAST mode should mark 4 frames as 'DO_NOT\"USE', SLOW mode marks 2 frames, and step should skip FASTGRPAVG.\n",
    "All subarrays are set to skip 4 frames. (These are the values currently set in the reference files as of 8/2020.)\n",
    "\n",
    "[Top of Page](#title_ID)"
   ]
  },
  {
   "cell_type": "code",
   "execution_count": 5,
   "metadata": {
    "execution": {
     "iopub.execute_input": "2021-04-03T02:13:56.422308Z",
     "iopub.status.busy": "2021-04-03T02:13:56.416911Z",
     "iopub.status.idle": "2021-04-03T02:13:57.988026Z",
     "shell.execute_reply": "2021-04-03T02:13:57.988273Z"
    }
   },
   "outputs": [
    {
     "name": "stdout",
     "output_type": "stream",
     "text": [
      "RSCD reference file crds://jwst_miri_rscd_0010.fits\n",
      "Science file tested:  starfield_slow_seq1_MIRIMAGE_F1130Wexp1_rscdstep.fits\n",
      "Subarray:  FULL  Readout pattern:  SLOW  Number of frames to flag:  2\n",
      "Data quality flags for each frame in each integration\n",
      "[[0 0 0 0 0 0 0 0 0 0]\n",
      " [1 1 0 0 0 0 0 0 0 0]\n",
      " [1 1 0 0 0 0 0 0 0 0]]\n",
      "\n"
     ]
    },
    {
     "name": "stdout",
     "output_type": "stream",
     "text": [
      "RSCD reference file crds://jwst_miri_rscd_0010.fits\n",
      "Science file tested:  starfield_fast_4ptdither_seq1_MIRIMAGE_F1130Wexp1_rscdstep.fits\n",
      "Subarray:  FULL  Readout pattern:  FAST  Number of frames to flag:  4\n",
      "Data quality flags for each frame in each integration\n",
      "[[0 0 0 0 0 0 0 0 0 0 0 0 0 0 0 0 0 0 0 0 0 0 0 0 0 0 0 0 0 0 0 0 0 0 0]\n",
      " [1 1 1 1 0 0 0 0 0 0 0 0 0 0 0 0 0 0 0 0 0 0 0 0 0 0 0 0 0 0 0 0 0 0 0]]\n",
      "\n",
      "RSCD reference file crds://jwst_miri_rscd_0010.fits\n",
      "Science file tested:  det_image_seq1_MIRIMAGE_F1130Wexp1_brightsky_rscdstep.fits\n",
      "Subarray:  BRIGHTSKY  Readout pattern:  FAST  Number of frames to flag:  4\n",
      "Data quality flags for each frame in each integration\n",
      "[[0 0 0 0 0 0 0 0 0 0 0 0 0 0 0 0 0 0 0 0 0 0 0 0 0 0 0 0 0 0 0 0 0 0 0]\n",
      " [1 1 1 1 0 0 0 0 0 0 0 0 0 0 0 0 0 0 0 0 0 0 0 0 0 0 0 0 0 0 0 0 0 0 0]]\n",
      "\n"
     ]
    },
    {
     "name": "stdout",
     "output_type": "stream",
     "text": [
      "RSCD reference file crds://jwst_miri_rscd_0010.fits\n",
      "Science file tested:  starfield_fastgrpavg_seq1_MIRIMAGE_F1130Wexp1_rscdstep.fits\n",
      "Subarray:  FULL  Readout pattern:  FASTGRPAVG  Number of frames to flag:  0\n",
      "Data quality flags for each frame in each integration\n",
      "[[0 0 0 0 0 0 0 0 0 0 0 0 0 0 0 0 0 0 0 0 0 0 0 0 0 0 0 0 0 0 0 0 0 0 0]\n",
      " [0 0 0 0 0 0 0 0 0 0 0 0 0 0 0 0 0 0 0 0 0 0 0 0 0 0 0 0 0 0 0 0 0 0 0]]\n",
      "\n"
     ]
    },
    {
     "name": "stdout",
     "output_type": "stream",
     "text": [
      "RSCD reference file crds://jwst_miri_rscd_0011.fits\n",
      "Science file tested:  jw04193001001_01101_00001_MIRIFULONG_rscdstep.fits\n",
      "Subarray:  FULL  Readout pattern:  FAST  Number of frames to flag:  4\n",
      "Data quality flags for each frame in each integration\n",
      "[[0 0 0 0 0 0 0 0 0 0 0 0 0 0 0 0 0 0 0 0]\n",
      " [1 1 1 1 0 0 0 0 0 0 0 0 0 0 0 0 0 0 0 0]\n",
      " [1 1 1 1 0 0 0 0 0 0 0 0 0 0 0 0 0 0 0 0]\n",
      " [1 1 1 1 0 0 0 0 0 0 0 0 0 0 0 0 0 0 0 0]\n",
      " [1 1 1 1 0 0 0 0 0 0 0 0 0 0 0 0 0 0 0 0]]\n",
      "\n",
      "All files processed. If no Assertion Errors printed, all tests passed.\n"
     ]
    }
   ],
   "source": [
    "# FAST mode should mark 4 frames as 'DO_NOT\"USE', SLOW mode marks 2 frames, and step should skip FASTGRPAVG.\n",
    "# All subarrays are set to skip 4 frames.\n",
    "\n",
    "# read in list of input files\n",
    "imlist2 = np.loadtxt(rscdoutfiles,dtype=bytes, ndmin=1).astype(str)  # avoid the 'b at the start of a line\n",
    "\n",
    "# loop over list of files\n",
    "for rscdfile in imlist2:\n",
    "    # Read in RSCD output file\n",
    "\n",
    "    rscdmodel = RampModel(rscdfile)\n",
    "    \n",
    "    # access groupdq extension of the file\n",
    "    groupdq = rscdmodel.groupdq\n",
    "    \n",
    "    # Get readout pattern from science header\n",
    "    readpatt = rscdmodel.meta.exposure.readpatt\n",
    "    science_subarray = rscdmodel.meta.subarray.name\n",
    "    \n",
    "    # Get reference file used in step\n",
    "    rscdreffile = rscdmodel.meta.ref_file.rscd.name\n",
    "    print('RSCD reference file', rscdreffile)\n",
    "    \n",
    "    # parse linfile name to discard crds://\n",
    "    file = rscdreffile.split(\"/\")[2]\n",
    "    \n",
    "    # read in reference file\n",
    "    # find location of file\n",
    "    basename = crds.core.config.pop_crds_uri(rscdreffile)\n",
    "    path = crds.locate_file(basename, \"jwst\")\n",
    " \n",
    "    # open reference file\n",
    "    reffile = fits.open(path)\n",
    "    reftable = reffile['RSCD_GROUP_SKIP'].data\n",
    "    refhead = reffile[0].header\n",
    "    \n",
    "    # read in table value for number to skip from reference file\n",
    "    mask = ((reftable['READPATT'] == readpatt) & (reftable['SUBARRAY'] == 'FULL'))\n",
    "    row=reftable[mask]\n",
    "    numskiparray = row['group_skip']\n",
    "    \n",
    "    if numskiparray.size > 0:\n",
    "        numskip = row['group_skip'][0] \n",
    "    else:\n",
    "        numskip = 0\n",
    "        \n",
    "    # For all integrations after the first, flag numskip frames at the start of the ramp as 'DO_NOT_USE'\n",
    "    nint = rscdmodel.meta.exposure.nints\n",
    " \n",
    "    # Use assert statement to check that all integrations greater than the first and in cases where \n",
    "    # the number of frames to skip is not 0, check that all groups are properly flagged.\n",
    "    for int in range(nint):\n",
    "        if (int > 0 and numskip > 0):\n",
    "            assert np.all(groupdq[int, 0:numskip-1, 400, 400] == dqflags.group['DO_NOT_USE'])\n",
    "    \n",
    "    # output print to screen to see output of tests\n",
    "    print('Science file tested: ',rscdfile)\n",
    "    print('Subarray: ', science_subarray, ' Readout pattern: ', readpatt, ' Number of frames to flag: ', numskip)\n",
    "    print('Data quality flags for each frame in each integration')\n",
    "    print(groupdq[:,:,400,400])\n",
    "    print()\n",
    "\n",
    "print('All files processed. If no Assertion Errors printed, all tests passed.')    "
   ]
  },
  {
   "cell_type": "markdown",
   "metadata": {},
   "source": [
    "<a id=\"results_ID\"></a>\n",
    "### Results: Pass/Fail criteria\n",
    "\n",
    "As long as there are no Assertion Errors, and the number shown along with the subarray and Readout pattern matches the number of frames flagged at the start of the integration for all integrations after the first, then the test passes.\n",
    "\n",
    "For example:\n",
    "\n",
    "FULL    FAST    4\n",
    "\n",
    "[0 0 0 0 0 0 0 0 0 0]\n",
    "\n",
    "[1 1 1 1 0 0 0 0 0 0]\n",
    "\n",
    "This indicates a passing test.\n",
    "\n",
    "[Top of Page](#title_ID)"
   ]
  },
  {
   "cell_type": "markdown",
   "metadata": {},
   "source": [
    "<a id=\"about_ID\"></a>\n",
    "## About this Notebook\n",
    "**Author:** Misty Cracraft, Senior Staff Scientist, MIRI Branch\n",
    "<br>**Updated On:** 08/03/2020"
   ]
  }
 ],
 "metadata": {
  "kernelspec": {
   "display_name": "Python 3",
   "language": "python",
   "name": "python3"
  },
  "language_info": {
   "codemirror_mode": {
    "name": "ipython",
    "version": 3
   },
   "file_extension": ".py",
   "mimetype": "text/x-python",
   "name": "python",
   "nbconvert_exporter": "python",
   "pygments_lexer": "ipython3",
   "version": "3.8.8"
  }
 },
 "nbformat": 4,
 "nbformat_minor": 4
}
