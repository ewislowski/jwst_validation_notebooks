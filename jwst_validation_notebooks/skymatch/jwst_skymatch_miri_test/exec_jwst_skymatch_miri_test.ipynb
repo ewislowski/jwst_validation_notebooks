{
 "cells": [
  {
   "cell_type": "markdown",
   "metadata": {},
   "source": [
    "<a id=\"title_ID\"></a>\n",
    "# Testing skymatch step with MIRI simulated data\n",
    "<span style=\"color:red\"> **Instruments Affected**</span>: FGS, MIRI, NIRCam, NIRISS, NIRSpec \n",
    "\n",
    "Tested on MIRI Simulated data\n",
    "\n",
    "### Table of Contents\n",
    "<div style=\"text-align: left\"> \n",
    "\n",
    "<br>  [Introduction](#intro_ID) <br> [Imports](#imports_ID) <br> [Set up association files](#associations_ID) <br> [Insert outliers](#outliers_ID) <br> [Run Pipeline](#pipeline_ID) \n",
    "\n",
    "\n",
    "</div>"
   ]
  },
  {
   "cell_type": "markdown",
   "metadata": {},
   "source": [
    "<a id=\"intro_ID\"></a>\n",
    "## Introduction\n",
    "\n",
    "This notebook processes level 2 images through the calwebb_image3 skymatch step and examines outputs for different sky method parameters.\n",
    "\n",
    "1) Set up data path and image list file.\n",
    "\n",
    "2) Set up association files.\n",
    "\n",
    "3) Modify average backgrould level of input images.\n",
    "\n",
    "4) Run skymatch step on images.\n",
    "\n",
    "5) Run skymatch for each skymethod parameter (local, global, match, global+match). \n",
    "\n",
    "6) Testing other parameters (nclip, usigma, lsigma, lower, upper, skystat). \n",
    "\n",
    "\n",
    "These steps are set up with simulated MIRI F560W data of the LMC astrometric field.\n",
    "\n",
    "The pipeline documentation can be found here: https://jwst-pipeline.readthedocs.io/en/latest/jwst/skymatch/README.html\n",
    "\n",
    "The pipeline code is available on GitHub: https://github.com/spacetelescope/jwst\n",
    "\n",
    "Author: T. Temim"
   ]
  },
  {
   "cell_type": "code",
   "execution_count": 1,
   "metadata": {
    "execution": {
     "iopub.execute_input": "2021-02-19T01:14:09.479421Z",
     "iopub.status.busy": "2021-02-19T01:14:09.479117Z",
     "iopub.status.idle": "2021-02-19T01:14:09.481971Z",
     "shell.execute_reply": "2021-02-19T01:14:09.481581Z"
    }
   },
   "outputs": [],
   "source": [
    "# Create a temporary directory to hold notebook output, and change the working directory to that directory.\n",
    "from tempfile import TemporaryDirectory\n",
    "import os\n",
    "data_dir = TemporaryDirectory()\n",
    "os.chdir(data_dir.name)"
   ]
  },
  {
   "cell_type": "markdown",
   "metadata": {},
   "source": [
    "<a id=\"imports_ID\"></a>\n",
    "### Set up import statements\n",
    "\n",
    "The following packages are needed to run this notebook:\n",
    "* jwst to run the pipeline \n",
    "* matplotlib to plot\n",
    "* ci_watson to retrieve data from artifactory\n"
   ]
  },
  {
   "cell_type": "code",
   "execution_count": 2,
   "metadata": {
    "execution": {
     "iopub.execute_input": "2021-02-19T01:14:09.485388Z",
     "iopub.status.busy": "2021-02-19T01:14:09.485076Z",
     "iopub.status.idle": "2021-02-19T01:14:10.421776Z",
     "shell.execute_reply": "2021-02-19T01:14:10.421371Z"
    }
   },
   "outputs": [],
   "source": [
    "import pytest\n",
    "from astropy.io import fits\n",
    "import numpy as np\n",
    "import matplotlib\n",
    "import matplotlib.pyplot as plt\n",
    "%matplotlib inline\n",
    "import jwst\n",
    "import json\n",
    "from jwst.skymatch import skymatch\n",
    "from jwst.skymatch.skyimage import SkyImage\n",
    "from jwst.associations.lib.rules_level3_base import DMS_Level3_Base\n",
    "from jwst.associations import asn_from_list\n",
    "from jwst import datamodels\n",
    "from matplotlib import rcParams\n",
    "from ci_watson.artifactory_helpers import get_bigdata"
   ]
  },
  {
   "cell_type": "code",
   "execution_count": 3,
   "metadata": {
    "execution": {
     "iopub.execute_input": "2021-02-19T01:14:10.424382Z",
     "iopub.status.busy": "2021-02-19T01:14:10.424078Z",
     "iopub.status.idle": "2021-02-19T01:14:10.425701Z",
     "shell.execute_reply": "2021-02-19T01:14:10.425435Z"
    }
   },
   "outputs": [],
   "source": [
    "import os\n",
    "os.environ['CRDS_CONTEXT']='jwst_0619.pmap'"
   ]
  },
  {
   "cell_type": "markdown",
   "metadata": {},
   "source": [
    "### Print pipeline version number"
   ]
  },
  {
   "cell_type": "code",
   "execution_count": 4,
   "metadata": {
    "execution": {
     "iopub.execute_input": "2021-02-19T01:14:10.429394Z",
     "iopub.status.busy": "2021-02-19T01:14:10.429055Z",
     "iopub.status.idle": "2021-02-19T01:14:10.431333Z",
     "shell.execute_reply": "2021-02-19T01:14:10.431062Z"
    }
   },
   "outputs": [
    {
     "data": {
      "text/plain": [
       "'0.18.3'"
      ]
     },
     "execution_count": 1,
     "metadata": {},
     "output_type": "execute_result"
    }
   ],
   "source": [
    "jwst.__version__ "
   ]
  },
  {
   "cell_type": "markdown",
   "metadata": {},
   "source": [
    "### Retrieve data from Artifactory"
   ]
  },
  {
   "cell_type": "code",
   "execution_count": 5,
   "metadata": {
    "execution": {
     "iopub.execute_input": "2021-02-19T01:14:10.434085Z",
     "iopub.status.busy": "2021-02-19T01:14:10.433763Z",
     "iopub.status.idle": "2021-02-19T01:14:11.506840Z",
     "shell.execute_reply": "2021-02-19T01:14:11.506530Z"
    }
   },
   "outputs": [],
   "source": [
    "input_file1 = get_bigdata('jwst_validation_notebooks',\n",
    "                     'validation_data',\n",
    "                     'outlier_detection',\n",
    "                     'outlier_detection_miri_test', \n",
    "                     'det_image_seq1_MIRIMAGE_F560Wexp1_cal.fits')\n",
    "input_file2 = get_bigdata('jwst_validation_notebooks',\n",
    "                     'validation_data',\n",
    "                     'outlier_detection',\n",
    "                     'outlier_detection_miri_test', \n",
    "                     'det_image_seq2_MIRIMAGE_F560Wexp1_cal.fits')\n",
    "input_file3 = get_bigdata('jwst_validation_notebooks',\n",
    "                     'validation_data',\n",
    "                     'outlier_detection',\n",
    "                     'outlier_detection_miri_test', \n",
    "                     'det_image_seq3_MIRIMAGE_F560Wexp1_cal.fits')\n",
    "input_file4 = get_bigdata('jwst_validation_notebooks',\n",
    "                     'validation_data',\n",
    "                     'outlier_detection',\n",
    "                     'outlier_detection_miri_test', \n",
    "                     'det_image_seq4_MIRIMAGE_F560Wexp1_cal.fits')"
   ]
  },
  {
   "cell_type": "code",
   "execution_count": 6,
   "metadata": {
    "execution": {
     "iopub.execute_input": "2021-02-19T01:14:11.509675Z",
     "iopub.status.busy": "2021-02-19T01:14:11.509368Z",
     "iopub.status.idle": "2021-02-19T01:14:11.511016Z",
     "shell.execute_reply": "2021-02-19T01:14:11.510686Z"
    }
   },
   "outputs": [],
   "source": [
    "input_files=[]\n",
    "input_files=[input_file1,input_file2,input_file3,input_file4]\n",
    "\n",
    "imlist1=['det_image_seq1_MIRIMAGE_F560Wexp1_cal.fits','det_image_seq2_MIRIMAGE_F560Wexp1_cal.fits','det_image_seq3_MIRIMAGE_F560Wexp1_cal.fits','det_image_seq4_MIRIMAGE_F560Wexp1_cal.fits']"
   ]
  },
  {
   "cell_type": "markdown",
   "metadata": {},
   "source": [
    "<a id=\"associations_ID\"></a>\n",
    "### Set up association files\n",
    "The level three pipeline relies on an association file to specify which files are to be combined and provide the output file name.\n",
    "\n",
    "[Top of Page](#title_ID)"
   ]
  },
  {
   "cell_type": "code",
   "execution_count": 7,
   "metadata": {
    "execution": {
     "iopub.execute_input": "2021-02-19T01:14:11.515004Z",
     "iopub.status.busy": "2021-02-19T01:14:11.514679Z",
     "iopub.status.idle": "2021-02-19T01:14:11.520185Z",
     "shell.execute_reply": "2021-02-19T01:14:11.520419Z"
    }
   },
   "outputs": [],
   "source": [
    "# use asn_from_list to create association table\n",
    "cal_list=imlist1\n",
    "asn = asn_from_list.asn_from_list(cal_list, rule=DMS_Level3_Base, product_name='skymatch_combined.fits')\n",
    "\n",
    "# use this if you need to add non'science' exposure types\n",
    "#asn['products'][0]['members'][1]['exptype'] = 'background'\n",
    "#asn['products'][0]['members'][2]['exptype'] = 'sourcecat'\n",
    "\n",
    "# dump association table to a .json file for use in image3\n",
    "with open('skymatch_asnfile.json', 'w') as fp:\n",
    "    fp.write(asn.dump()[1])\n",
    "\n",
    "skymatch_json_file='skymatch_asnfile.json'\n",
    "    \n",
    "json_file = skymatch_json_file\n",
    "file_list = []\n",
    "file_list2 = []\n",
    "with open(json_file) as json_data:\n",
    "    d = json.load(json_data)\n",
    "    members = d['products'][0]['members']\n",
    "    for item in np.arange(0,len(members)):\n",
    "        file_list.append(members[item]['expname'])\n",
    "        file_list2.append(members[item]['expname'][:-5]+\"_skymatch.fits\")\n",
    "\n",
    "    \n",
    "asn2 = asn_from_list.asn_from_list(file_list2, rule=DMS_Level3_Base, product_name=d['products'][0]['name'])\n",
    "\n",
    "# use this if you need to add non'science' exposure types\n",
    "#asn['products'][0]['members'][1]['exptype'] = 'background'\n",
    "#asn['products'][0]['members'][2]['exptype'] = 'sourcecat'\n",
    "\n",
    "# dump association table to a .json file for use in image3\n",
    "with open('skymatch_asnfile2.json', 'w') as fp:\n",
    "    fp.write(asn2.dump()[1])\n",
    "    \n",
    "skymatch_json_file2='skymatch_asnfile2.json'"
   ]
  },
  {
   "cell_type": "markdown",
   "metadata": {},
   "source": [
    "### Modify average background level of input images"
   ]
  },
  {
   "cell_type": "code",
   "execution_count": 8,
   "metadata": {
    "execution": {
     "iopub.execute_input": "2021-02-19T01:14:11.522534Z",
     "iopub.status.busy": "2021-02-19T01:14:11.522240Z",
     "iopub.status.idle": "2021-02-19T01:14:11.523832Z",
     "shell.execute_reply": "2021-02-19T01:14:11.523573Z"
    }
   },
   "outputs": [],
   "source": [
    "infile01_1 = input_files[0]\n",
    "infile01_2 = input_files[1]\n",
    "infile02_1 = input_files[2]\n",
    "infile02_2 = input_files[3]"
   ]
  },
  {
   "cell_type": "code",
   "execution_count": 9,
   "metadata": {
    "execution": {
     "iopub.execute_input": "2021-02-19T01:14:11.526300Z",
     "iopub.status.busy": "2021-02-19T01:14:11.526006Z",
     "iopub.status.idle": "2021-02-19T01:14:12.441139Z",
     "shell.execute_reply": "2021-02-19T01:14:12.440833Z"
    }
   },
   "outputs": [],
   "source": [
    "img01_1 = datamodels.open(infile01_1)\n",
    "img01_2 = datamodels.open(infile01_2)\n",
    "img02_1 = datamodels.open(infile02_1)\n",
    "img02_2 = datamodels.open(infile02_2)"
   ]
  },
  {
   "cell_type": "code",
   "execution_count": 10,
   "metadata": {
    "execution": {
     "iopub.execute_input": "2021-02-19T01:14:12.444237Z",
     "iopub.status.busy": "2021-02-19T01:14:12.443932Z",
     "iopub.status.idle": "2021-02-19T01:14:12.460068Z",
     "shell.execute_reply": "2021-02-19T01:14:12.459785Z"
    }
   },
   "outputs": [],
   "source": [
    "data01_1 = img01_1.data\n",
    "data01_2 = img01_2.data\n",
    "data02_1 = img02_1.data\n",
    "data02_2 = img02_2.data\n",
    "\n",
    "data01_1[data01_1<=0.3]=np.nan\n",
    "data01_2[data01_2<=0.3]=np.nan\n",
    "data02_1[data02_1<=0.3]=np.nan\n",
    "data02_2[data02_2<=0.3]=np.nan\n",
    "\n",
    "data01_1_orig = np.copy(img01_1.data)\n",
    "data01_2_orig = np.copy(img01_2.data)\n",
    "data02_1_orig = np.copy(img02_1.data)\n",
    "data02_2_orig = np.copy(img02_2.data)"
   ]
  },
  {
   "cell_type": "code",
   "execution_count": 11,
   "metadata": {
    "execution": {
     "iopub.execute_input": "2021-02-19T01:14:12.462927Z",
     "iopub.status.busy": "2021-02-19T01:14:12.462615Z",
     "iopub.status.idle": "2021-02-19T01:14:12.488478Z",
     "shell.execute_reply": "2021-02-19T01:14:12.488159Z"
    }
   },
   "outputs": [
    {
     "name": "stdout",
     "output_type": "stream",
     "text": [
      "Mean: 0.93090874 0.1817127\n",
      "Mean: 0.9362799 0.17500266\n",
      "Mean: 0.9330347 0.17194116\n",
      "Mean: 0.93216574 0.16481434\n"
     ]
    }
   ],
   "source": [
    "# check mean values of background \n",
    "print('Mean:', np.mean(data01_1_orig[data01_1_orig<=4.0]),np.std(data01_1_orig[data01_1_orig<=4.0]))\n",
    "print('Mean:', np.mean(data01_2_orig[data01_2_orig<=4.0]),np.std(data01_2_orig[data01_2_orig<=4.0]))\n",
    "print('Mean:', np.mean(data02_1_orig[data02_1_orig<=4.0]),np.std(data02_1_orig[data02_1_orig<=4.0]))\n",
    "print('Mean:', np.mean(data02_2_orig[data02_2_orig<=4.0]),np.std(data02_2_orig[data02_2_orig<=4.0]))"
   ]
  },
  {
   "cell_type": "code",
   "execution_count": 12,
   "metadata": {
    "execution": {
     "iopub.execute_input": "2021-02-19T01:14:12.491362Z",
     "iopub.status.busy": "2021-02-19T01:14:12.491072Z",
     "iopub.status.idle": "2021-02-19T01:14:12.727115Z",
     "shell.execute_reply": "2021-02-19T01:14:12.726774Z"
    }
   },
   "outputs": [],
   "source": [
    "# creating a background image with specified mean and gaussian noise with sigma = 1.0\n",
    "bkg_img_noise_neg2 = np.random.normal(-2,2*0.2,data01_1.shape)\n",
    "bkg_img_noise_2 = np.random.normal(2,2*0.2,data01_1.shape)\n",
    "bkg_img_noise_3 = np.random.normal(3,3*0.2,data01_1.shape)\n",
    "bkg_img_noise_4 = np.random.normal(4,4*0.2,data01_1.shape)\n",
    "bkg_img_noise_5 = np.random.normal(5,5*0.2,data01_1.shape)\n",
    "bkg_img_noise_7 = np.random.normal(7,7*0.2,data01_1.shape)"
   ]
  },
  {
   "cell_type": "code",
   "execution_count": 13,
   "metadata": {
    "execution": {
     "iopub.execute_input": "2021-02-19T01:14:12.729840Z",
     "iopub.status.busy": "2021-02-19T01:14:12.729549Z",
     "iopub.status.idle": "2021-02-19T01:14:12.749776Z",
     "shell.execute_reply": "2021-02-19T01:14:12.750021Z"
    }
   },
   "outputs": [],
   "source": [
    "# adding the new background with specified mean and gaussian noise (above) to image\n",
    "img01_1.data=bkg_img_noise_2\n",
    "img01_2.data=bkg_img_noise_3\n",
    "img02_1.data=bkg_img_noise_5\n",
    "img02_2.data=bkg_img_noise_2"
   ]
  },
  {
   "cell_type": "code",
   "execution_count": 14,
   "metadata": {
    "execution": {
     "iopub.execute_input": "2021-02-19T01:14:12.752651Z",
     "iopub.status.busy": "2021-02-19T01:14:12.752350Z",
     "iopub.status.idle": "2021-02-19T01:14:12.779278Z",
     "shell.execute_reply": "2021-02-19T01:14:12.779018Z"
    }
   },
   "outputs": [
    {
     "name": "stdout",
     "output_type": "stream",
     "text": [
      "1.9998354 0.40014878\n",
      "2.9997911 0.5997532\n",
      "4.999382 0.99920005\n",
      "1.9998354 0.40014878\n"
     ]
    }
   ],
   "source": [
    "# checking the mean and standard deviations of the new background values\n",
    "print(np.nanmean(img01_1.data),np.nanstd(img01_1.data))\n",
    "print(np.nanmean(img01_2.data),np.nanstd(img01_2.data))\n",
    "print(np.nanmean(img02_1.data),np.nanstd(img02_1.data))\n",
    "print(np.nanmean(img02_2.data),np.nanstd(img02_2.data))"
   ]
  },
  {
   "cell_type": "code",
   "execution_count": 15,
   "metadata": {
    "execution": {
     "iopub.execute_input": "2021-02-19T01:14:12.793666Z",
     "iopub.status.busy": "2021-02-19T01:14:12.793374Z",
     "iopub.status.idle": "2021-02-19T01:14:13.190954Z",
     "shell.execute_reply": "2021-02-19T01:14:13.191203Z"
    }
   },
   "outputs": [
    {
     "data": {
      "text/plain": [
       "'det_image_seq4_MIRIMAGE_F560Wexp1_cal_skymatch.fits'"
      ]
     },
     "execution_count": 1,
     "metadata": {},
     "output_type": "execute_result"
    }
   ],
   "source": [
    "img01_1.save(file_list2[0],overwrite=True)\n",
    "img01_2.save(file_list2[1],overwrite=True)\n",
    "img02_1.save(file_list2[2],overwrite=True)\n",
    "img02_2.save(file_list2[3],overwrite=True)"
   ]
  },
  {
   "cell_type": "markdown",
   "metadata": {},
   "source": [
    "<a id=\"pipeline_ID\"></a>\n",
    "## Run Pipeline steps\n",
    "\n",
    "Run the pipeline on the data for different sets of parameters\n",
    "\n",
    "## 1. Run skymatch step on images"
   ]
  },
  {
   "cell_type": "code",
   "execution_count": 16,
   "metadata": {
    "execution": {
     "iopub.execute_input": "2021-02-19T01:14:13.194891Z",
     "iopub.status.busy": "2021-02-19T01:14:13.193764Z",
     "iopub.status.idle": "2021-02-19T01:14:19.988765Z",
     "shell.execute_reply": "2021-02-19T01:14:19.989206Z"
    }
   },
   "outputs": [
    {
     "name": "stderr",
     "output_type": "stream",
     "text": [
      "2021-02-18 20:14:14,401 - CRDS - INFO -  Fetching  crds_cache/mappings/jwst/jwst_system_datalvl_0002.rmap       694 bytes  (1 / 135 files) (0 / 335.8 K bytes)\n"
     ]
    },
    {
     "name": "stderr",
     "output_type": "stream",
     "text": [
      "2021-02-18 20:14:14,434 - CRDS - INFO -  Fetching  crds_cache/mappings/jwst/jwst_system_calver_0022.rmap      2.4 K bytes  (2 / 135 files) (694 / 335.8 K bytes)\n"
     ]
    },
    {
     "name": "stderr",
     "output_type": "stream",
     "text": [
      "2021-02-18 20:14:14,464 - CRDS - INFO -  Fetching  crds_cache/mappings/jwst/jwst_system_0021.imap               385 bytes  (3 / 135 files) (3.1 K / 335.8 K bytes)\n"
     ]
    },
    {
     "name": "stderr",
     "output_type": "stream",
     "text": [
      "2021-02-18 20:14:14,493 - CRDS - INFO -  Fetching  crds_cache/mappings/jwst/jwst_nirspec_wavelengthrange_0016.rmap    1.1 K bytes  (4 / 135 files) (3.5 K / 335.8 K bytes)\n"
     ]
    },
    {
     "name": "stderr",
     "output_type": "stream",
     "text": [
      "2021-02-18 20:14:14,521 - CRDS - INFO -  Fetching  crds_cache/mappings/jwst/jwst_nirspec_wavecorr_0003.rmap      833 bytes  (5 / 135 files) (4.6 K / 335.8 K bytes)\n"
     ]
    },
    {
     "name": "stderr",
     "output_type": "stream",
     "text": [
      "2021-02-18 20:14:14,551 - CRDS - INFO -  Fetching  crds_cache/mappings/jwst/jwst_nirspec_superbias_0038.rmap   15.8 K bytes  (6 / 135 files) (5.5 K / 335.8 K bytes)\n"
     ]
    },
    {
     "name": "stderr",
     "output_type": "stream",
     "text": [
      "2021-02-18 20:14:14,579 - CRDS - INFO -  Fetching  crds_cache/mappings/jwst/jwst_nirspec_sflat_0009.rmap      8.5 K bytes  (7 / 135 files) (21.2 K / 335.8 K bytes)\n"
     ]
    },
    {
     "name": "stderr",
     "output_type": "stream",
     "text": [
      "2021-02-18 20:14:14,609 - CRDS - INFO -  Fetching  crds_cache/mappings/jwst/jwst_nirspec_saturation_0017.rmap    2.0 K bytes  (8 / 135 files) (29.7 K / 335.8 K bytes)\n"
     ]
    },
    {
     "name": "stderr",
     "output_type": "stream",
     "text": [
      "2021-02-18 20:14:14,637 - CRDS - INFO -  Fetching  crds_cache/mappings/jwst/jwst_nirspec_refpix_0014.rmap     1.5 K bytes  (9 / 135 files) (31.7 K / 335.8 K bytes)\n"
     ]
    },
    {
     "name": "stderr",
     "output_type": "stream",
     "text": [
      "2021-02-18 20:14:14,666 - CRDS - INFO -  Fetching  crds_cache/mappings/jwst/jwst_nirspec_readnoise_0015.rmap    1.8 K bytes  (10 / 135 files) (33.2 K / 335.8 K bytes)\n"
     ]
    },
    {
     "name": "stderr",
     "output_type": "stream",
     "text": [
      "2021-02-18 20:14:14,695 - CRDS - INFO -  Fetching  crds_cache/mappings/jwst/jwst_nirspec_photom_0012.rmap       907 bytes  (11 / 135 files) (35.0 K / 335.8 K bytes)\n"
     ]
    },
    {
     "name": "stderr",
     "output_type": "stream",
     "text": [
      "2021-02-18 20:14:14,724 - CRDS - INFO -  Fetching  crds_cache/mappings/jwst/jwst_nirspec_pathloss_0003.rmap      932 bytes  (12 / 135 files) (36.0 K / 335.8 K bytes)\n"
     ]
    },
    {
     "name": "stderr",
     "output_type": "stream",
     "text": [
      "2021-02-18 20:14:14,753 - CRDS - INFO -  Fetching  crds_cache/mappings/jwst/jwst_nirspec_ote_0019.rmap        1.0 K bytes  (13 / 135 files) (36.9 K / 335.8 K bytes)\n"
     ]
    },
    {
     "name": "stderr",
     "output_type": "stream",
     "text": [
      "2021-02-18 20:14:14,782 - CRDS - INFO -  Fetching  crds_cache/mappings/jwst/jwst_nirspec_msaoper_0003.rmap      783 bytes  (14 / 135 files) (37.9 K / 335.8 K bytes)\n"
     ]
    },
    {
     "name": "stderr",
     "output_type": "stream",
     "text": [
      "2021-02-18 20:14:14,812 - CRDS - INFO -  Fetching  crds_cache/mappings/jwst/jwst_nirspec_msa_0017.rmap        1.0 K bytes  (15 / 135 files) (38.7 K / 335.8 K bytes)\n"
     ]
    },
    {
     "name": "stderr",
     "output_type": "stream",
     "text": [
      "2021-02-18 20:14:14,841 - CRDS - INFO -  Fetching  crds_cache/mappings/jwst/jwst_nirspec_mask_0021.rmap       1.5 K bytes  (16 / 135 files) (39.7 K / 335.8 K bytes)\n"
     ]
    },
    {
     "name": "stderr",
     "output_type": "stream",
     "text": [
      "2021-02-18 20:14:14,870 - CRDS - INFO -  Fetching  crds_cache/mappings/jwst/jwst_nirspec_linearity_0017.rmap    1.6 K bytes  (17 / 135 files) (41.2 K / 335.8 K bytes)\n"
     ]
    },
    {
     "name": "stderr",
     "output_type": "stream",
     "text": [
      "2021-02-18 20:14:14,899 - CRDS - INFO -  Fetching  crds_cache/mappings/jwst/jwst_nirspec_ipc_0006.rmap          876 bytes  (18 / 135 files) (42.8 K / 335.8 K bytes)\n"
     ]
    },
    {
     "name": "stderr",
     "output_type": "stream",
     "text": [
      "2021-02-18 20:14:14,927 - CRDS - INFO -  Fetching  crds_cache/mappings/jwst/jwst_nirspec_ifuslicer_0007.rmap      733 bytes  (19 / 135 files) (43.6 K / 335.8 K bytes)\n"
     ]
    },
    {
     "name": "stderr",
     "output_type": "stream",
     "text": [
      "2021-02-18 20:14:14,954 - CRDS - INFO -  Fetching  crds_cache/mappings/jwst/jwst_nirspec_ifupost_0009.rmap      719 bytes  (20 / 135 files) (44.4 K / 335.8 K bytes)\n"
     ]
    },
    {
     "name": "stderr",
     "output_type": "stream",
     "text": [
      "2021-02-18 20:14:14,981 - CRDS - INFO -  Fetching  crds_cache/mappings/jwst/jwst_nirspec_ifufore_0007.rmap      719 bytes  (21 / 135 files) (45.1 K / 335.8 K bytes)\n"
     ]
    },
    {
     "name": "stderr",
     "output_type": "stream",
     "text": [
      "2021-02-18 20:14:15,010 - CRDS - INFO -  Fetching  crds_cache/mappings/jwst/jwst_nirspec_gain_0019.rmap       1.8 K bytes  (22 / 135 files) (45.8 K / 335.8 K bytes)\n"
     ]
    },
    {
     "name": "stderr",
     "output_type": "stream",
     "text": [
      "2021-02-18 20:14:15,038 - CRDS - INFO -  Fetching  crds_cache/mappings/jwst/jwst_nirspec_fpa_0017.rmap        1.0 K bytes  (23 / 135 files) (47.6 K / 335.8 K bytes)\n"
     ]
    },
    {
     "name": "stderr",
     "output_type": "stream",
     "text": [
      "2021-02-18 20:14:15,071 - CRDS - INFO -  Fetching  crds_cache/mappings/jwst/jwst_nirspec_fore_0016.rmap       3.4 K bytes  (24 / 135 files) (48.6 K / 335.8 K bytes)\n"
     ]
    },
    {
     "name": "stderr",
     "output_type": "stream",
     "text": [
      "2021-02-18 20:14:15,098 - CRDS - INFO -  Fetching  crds_cache/mappings/jwst/jwst_nirspec_flat_0012.rmap       3.6 K bytes  (25 / 135 files) (52.0 K / 335.8 K bytes)\n"
     ]
    },
    {
     "name": "stderr",
     "output_type": "stream",
     "text": [
      "2021-02-18 20:14:15,128 - CRDS - INFO -  Fetching  crds_cache/mappings/jwst/jwst_nirspec_fflat_0007.rmap      3.3 K bytes  (26 / 135 files) (55.6 K / 335.8 K bytes)\n"
     ]
    },
    {
     "name": "stderr",
     "output_type": "stream",
     "text": [
      "2021-02-18 20:14:15,157 - CRDS - INFO -  Fetching  crds_cache/mappings/jwst/jwst_nirspec_extract1d_0010.rmap    1.2 K bytes  (27 / 135 files) (58.9 K / 335.8 K bytes)\n"
     ]
    },
    {
     "name": "stderr",
     "output_type": "stream",
     "text": [
      "2021-02-18 20:14:15,186 - CRDS - INFO -  Fetching  crds_cache/mappings/jwst/jwst_nirspec_disperser_0018.rmap    3.9 K bytes  (28 / 135 files) (60.1 K / 335.8 K bytes)\n"
     ]
    },
    {
     "name": "stderr",
     "output_type": "stream",
     "text": [
      "2021-02-18 20:14:15,215 - CRDS - INFO -  Fetching  crds_cache/mappings/jwst/jwst_nirspec_dflat_0004.rmap      1.0 K bytes  (29 / 135 files) (64.0 K / 335.8 K bytes)\n"
     ]
    },
    {
     "name": "stderr",
     "output_type": "stream",
     "text": [
      "2021-02-18 20:14:15,244 - CRDS - INFO -  Fetching  crds_cache/mappings/jwst/jwst_nirspec_dark_0031.rmap      14.4 K bytes  (30 / 135 files) (65.0 K / 335.8 K bytes)\n"
     ]
    },
    {
     "name": "stderr",
     "output_type": "stream",
     "text": [
      "2021-02-18 20:14:15,273 - CRDS - INFO -  Fetching  crds_cache/mappings/jwst/jwst_nirspec_cubepar_0005.rmap      740 bytes  (31 / 135 files) (79.4 K / 335.8 K bytes)\n"
     ]
    },
    {
     "name": "stderr",
     "output_type": "stream",
     "text": [
      "2021-02-18 20:14:15,299 - CRDS - INFO -  Fetching  crds_cache/mappings/jwst/jwst_nirspec_collimator_0016.rmap    1.1 K bytes  (32 / 135 files) (80.1 K / 335.8 K bytes)\n"
     ]
    },
    {
     "name": "stderr",
     "output_type": "stream",
     "text": [
      "2021-02-18 20:14:15,325 - CRDS - INFO -  Fetching  crds_cache/mappings/jwst/jwst_nirspec_camera_0016.rmap     1.0 K bytes  (33 / 135 files) (81.2 K / 335.8 K bytes)\n"
     ]
    },
    {
     "name": "stderr",
     "output_type": "stream",
     "text": [
      "2021-02-18 20:14:15,348 - CRDS - INFO -  Fetching  crds_cache/mappings/jwst/jwst_nirspec_barshadow_0003.rmap      877 bytes  (34 / 135 files) (82.3 K / 335.8 K bytes)\n"
     ]
    },
    {
     "name": "stderr",
     "output_type": "stream",
     "text": [
      "2021-02-18 20:14:15,373 - CRDS - INFO -  Fetching  crds_cache/mappings/jwst/jwst_nirspec_area_0013.rmap       4.5 K bytes  (35 / 135 files) (83.1 K / 335.8 K bytes)\n"
     ]
    },
    {
     "name": "stderr",
     "output_type": "stream",
     "text": [
      "2021-02-18 20:14:15,399 - CRDS - INFO -  Fetching  crds_cache/mappings/jwst/jwst_nirspec_apcorr_0002.rmap     4.2 K bytes  (36 / 135 files) (87.6 K / 335.8 K bytes)\n"
     ]
    },
    {
     "name": "stderr",
     "output_type": "stream",
     "text": [
      "2021-02-18 20:14:15,423 - CRDS - INFO -  Fetching  crds_cache/mappings/jwst/jwst_nirspec_0201.imap            2.4 K bytes  (37 / 135 files) (91.8 K / 335.8 K bytes)\n"
     ]
    },
    {
     "name": "stderr",
     "output_type": "stream",
     "text": [
      "2021-02-18 20:14:15,449 - CRDS - INFO -  Fetching  crds_cache/mappings/jwst/jwst_niriss_wfssbkg_0002.rmap     2.3 K bytes  (38 / 135 files) (94.1 K / 335.8 K bytes)\n"
     ]
    },
    {
     "name": "stderr",
     "output_type": "stream",
     "text": [
      "2021-02-18 20:14:15,475 - CRDS - INFO -  Fetching  crds_cache/mappings/jwst/jwst_niriss_wavelengthrange_0005.rmap      811 bytes  (39 / 135 files) (96.4 K / 335.8 K bytes)\n"
     ]
    },
    {
     "name": "stderr",
     "output_type": "stream",
     "text": [
      "2021-02-18 20:14:15,503 - CRDS - INFO -  Fetching  crds_cache/mappings/jwst/jwst_niriss_trappars_0004.rmap      753 bytes  (40 / 135 files) (97.2 K / 335.8 K bytes)\n"
     ]
    },
    {
     "name": "stderr",
     "output_type": "stream",
     "text": [
      "2021-02-18 20:14:15,533 - CRDS - INFO -  Fetching  crds_cache/mappings/jwst/jwst_niriss_trapdensity_0004.rmap      774 bytes  (41 / 135 files) (98.0 K / 335.8 K bytes)\n"
     ]
    },
    {
     "name": "stderr",
     "output_type": "stream",
     "text": [
      "2021-02-18 20:14:15,563 - CRDS - INFO -  Fetching  crds_cache/mappings/jwst/jwst_niriss_throughput_0004.rmap      979 bytes  (42 / 135 files) (98.7 K / 335.8 K bytes)\n"
     ]
    },
    {
     "name": "stderr",
     "output_type": "stream",
     "text": [
      "2021-02-18 20:14:15,591 - CRDS - INFO -  Fetching  crds_cache/mappings/jwst/jwst_niriss_superbias_0022.rmap    4.6 K bytes  (43 / 135 files) (99.7 K / 335.8 K bytes)\n"
     ]
    },
    {
     "name": "stderr",
     "output_type": "stream",
     "text": [
      "2021-02-18 20:14:15,621 - CRDS - INFO -  Fetching  crds_cache/mappings/jwst/jwst_niriss_specwcs_0005.rmap     2.3 K bytes  (44 / 135 files) (104.3 K / 335.8 K bytes)\n"
     ]
    },
    {
     "name": "stderr",
     "output_type": "stream",
     "text": [
      "2021-02-18 20:14:15,649 - CRDS - INFO -  Fetching  crds_cache/mappings/jwst/jwst_niriss_saturation_0010.rmap      625 bytes  (45 / 135 files) (106.6 K / 335.8 K bytes)\n"
     ]
    },
    {
     "name": "stderr",
     "output_type": "stream",
     "text": [
      "2021-02-18 20:14:15,679 - CRDS - INFO -  Fetching  crds_cache/mappings/jwst/jwst_niriss_readnoise_0008.rmap      969 bytes  (46 / 135 files) (107.2 K / 335.8 K bytes)\n"
     ]
    },
    {
     "name": "stderr",
     "output_type": "stream",
     "text": [
      "2021-02-18 20:14:15,709 - CRDS - INFO -  Fetching  crds_cache/mappings/jwst/jwst_niriss_photom_0026.rmap        996 bytes  (47 / 135 files) (108.2 K / 335.8 K bytes)\n"
     ]
    },
    {
     "name": "stderr",
     "output_type": "stream",
     "text": [
      "2021-02-18 20:14:15,738 - CRDS - INFO -  Fetching  crds_cache/mappings/jwst/jwst_niriss_persat_0005.rmap        738 bytes  (48 / 135 files) (109.2 K / 335.8 K bytes)\n"
     ]
    },
    {
     "name": "stderr",
     "output_type": "stream",
     "text": [
      "2021-02-18 20:14:15,766 - CRDS - INFO -  Fetching  crds_cache/mappings/jwst/jwst_niriss_pathloss_0002.rmap      707 bytes  (49 / 135 files) (109.9 K / 335.8 K bytes)\n"
     ]
    },
    {
     "name": "stderr",
     "output_type": "stream",
     "text": [
      "2021-02-18 20:14:15,794 - CRDS - INFO -  Fetching  crds_cache/mappings/jwst/jwst_niriss_mask_0016.rmap          735 bytes  (50 / 135 files) (110.6 K / 335.8 K bytes)\n"
     ]
    },
    {
     "name": "stderr",
     "output_type": "stream",
     "text": [
      "2021-02-18 20:14:15,823 - CRDS - INFO -  Fetching  crds_cache/mappings/jwst/jwst_niriss_linearity_0015.rmap      760 bytes  (51 / 135 files) (111.4 K / 335.8 K bytes)\n"
     ]
    },
    {
     "name": "stderr",
     "output_type": "stream",
     "text": [
      "2021-02-18 20:14:15,851 - CRDS - INFO -  Fetching  crds_cache/mappings/jwst/jwst_niriss_ipc_0006.rmap           590 bytes  (52 / 135 files) (112.1 K / 335.8 K bytes)\n"
     ]
    },
    {
     "name": "stderr",
     "output_type": "stream",
     "text": [
      "2021-02-18 20:14:15,881 - CRDS - INFO -  Fetching  crds_cache/mappings/jwst/jwst_niriss_gain_0009.rmap          838 bytes  (53 / 135 files) (112.7 K / 335.8 K bytes)\n"
     ]
    },
    {
     "name": "stderr",
     "output_type": "stream",
     "text": [
      "2021-02-18 20:14:15,910 - CRDS - INFO -  Fetching  crds_cache/mappings/jwst/jwst_niriss_flat_0016.rmap        4.1 K bytes  (54 / 135 files) (113.6 K / 335.8 K bytes)\n"
     ]
    },
    {
     "name": "stderr",
     "output_type": "stream",
     "text": [
      "2021-02-18 20:14:15,939 - CRDS - INFO -  Fetching  crds_cache/mappings/jwst/jwst_niriss_extract1d_0006.rmap      854 bytes  (55 / 135 files) (117.7 K / 335.8 K bytes)\n"
     ]
    },
    {
     "name": "stderr",
     "output_type": "stream",
     "text": [
      "2021-02-18 20:14:15,971 - CRDS - INFO -  Fetching  crds_cache/mappings/jwst/jwst_niriss_drizpars_0004.rmap      519 bytes  (56 / 135 files) (118.5 K / 335.8 K bytes)\n"
     ]
    },
    {
     "name": "stderr",
     "output_type": "stream",
     "text": [
      "2021-02-18 20:14:15,999 - CRDS - INFO -  Fetching  crds_cache/mappings/jwst/jwst_niriss_distortion_0017.rmap      899 bytes  (57 / 135 files) (119.1 K / 335.8 K bytes)\n"
     ]
    },
    {
     "name": "stderr",
     "output_type": "stream",
     "text": [
      "2021-02-18 20:14:16,029 - CRDS - INFO -  Fetching  crds_cache/mappings/jwst/jwst_niriss_dark_0027.rmap        4.0 K bytes  (58 / 135 files) (120.0 K / 335.8 K bytes)\n"
     ]
    },
    {
     "name": "stderr",
     "output_type": "stream",
     "text": [
      "2021-02-18 20:14:16,058 - CRDS - INFO -  Fetching  crds_cache/mappings/jwst/jwst_niriss_area_0012.rmap        1.1 K bytes  (59 / 135 files) (123.9 K / 335.8 K bytes)\n"
     ]
    },
    {
     "name": "stderr",
     "output_type": "stream",
     "text": [
      "2021-02-18 20:14:16,087 - CRDS - INFO -  Fetching  crds_cache/mappings/jwst/jwst_niriss_apcorr_0003.rmap      4.1 K bytes  (60 / 135 files) (125.0 K / 335.8 K bytes)\n"
     ]
    },
    {
     "name": "stderr",
     "output_type": "stream",
     "text": [
      "2021-02-18 20:14:16,116 - CRDS - INFO -  Fetching  crds_cache/mappings/jwst/jwst_niriss_abvegaoffset_0002.rmap    1.3 K bytes  (61 / 135 files) (129.2 K / 335.8 K bytes)\n"
     ]
    },
    {
     "name": "stderr",
     "output_type": "stream",
     "text": [
      "2021-02-18 20:14:16,146 - CRDS - INFO -  Fetching  crds_cache/mappings/jwst/jwst_niriss_0128.imap             2.2 K bytes  (62 / 135 files) (130.4 K / 335.8 K bytes)\n"
     ]
    },
    {
     "name": "stderr",
     "output_type": "stream",
     "text": [
      "2021-02-18 20:14:16,175 - CRDS - INFO -  Fetching  crds_cache/mappings/jwst/jwst_nircam_wfssbkg_0003.rmap     7.2 K bytes  (63 / 135 files) (132.6 K / 335.8 K bytes)\n"
     ]
    },
    {
     "name": "stderr",
     "output_type": "stream",
     "text": [
      "2021-02-18 20:14:16,207 - CRDS - INFO -  Fetching  crds_cache/mappings/jwst/jwst_nircam_wavelengthrange_0009.rmap      945 bytes  (64 / 135 files) (139.7 K / 335.8 K bytes)\n"
     ]
    },
    {
     "name": "stderr",
     "output_type": "stream",
     "text": [
      "2021-02-18 20:14:16,237 - CRDS - INFO -  Fetching  crds_cache/mappings/jwst/jwst_nircam_tsophot_0002.rmap       794 bytes  (65 / 135 files) (140.7 K / 335.8 K bytes)\n"
     ]
    },
    {
     "name": "stderr",
     "output_type": "stream",
     "text": [
      "2021-02-18 20:14:16,267 - CRDS - INFO -  Fetching  crds_cache/mappings/jwst/jwst_nircam_trappars_0003.rmap    1.6 K bytes  (66 / 135 files) (141.5 K / 335.8 K bytes)\n"
     ]
    },
    {
     "name": "stderr",
     "output_type": "stream",
     "text": [
      "2021-02-18 20:14:16,302 - CRDS - INFO -  Fetching  crds_cache/mappings/jwst/jwst_nircam_trapdensity_0003.rmap    1.6 K bytes  (67 / 135 files) (143.1 K / 335.8 K bytes)\n"
     ]
    },
    {
     "name": "stderr",
     "output_type": "stream",
     "text": [
      "2021-02-18 20:14:16,334 - CRDS - INFO -  Fetching  crds_cache/mappings/jwst/jwst_nircam_superbias_0006.rmap    2.6 K bytes  (68 / 135 files) (144.7 K / 335.8 K bytes)\n"
     ]
    },
    {
     "name": "stderr",
     "output_type": "stream",
     "text": [
      "2021-02-18 20:14:16,365 - CRDS - INFO -  Fetching  crds_cache/mappings/jwst/jwst_nircam_specwcs_0008.rmap     1.7 K bytes  (69 / 135 files) (147.3 K / 335.8 K bytes)\n"
     ]
    },
    {
     "name": "stderr",
     "output_type": "stream",
     "text": [
      "2021-02-18 20:14:16,398 - CRDS - INFO -  Fetching  crds_cache/mappings/jwst/jwst_nircam_saturation_0006.rmap    2.2 K bytes  (70 / 135 files) (149.0 K / 335.8 K bytes)\n"
     ]
    },
    {
     "name": "stderr",
     "output_type": "stream",
     "text": [
      "2021-02-18 20:14:16,432 - CRDS - INFO -  Fetching  crds_cache/mappings/jwst/jwst_nircam_readnoise_0006.rmap    5.6 K bytes  (71 / 135 files) (151.1 K / 335.8 K bytes)\n"
     ]
    },
    {
     "name": "stderr",
     "output_type": "stream",
     "text": [
      "2021-02-18 20:14:16,469 - CRDS - INFO -  Fetching  crds_cache/mappings/jwst/jwst_nircam_psfmask_0005.rmap    10.7 K bytes  (72 / 135 files) (156.7 K / 335.8 K bytes)\n"
     ]
    },
    {
     "name": "stderr",
     "output_type": "stream",
     "text": [
      "2021-02-18 20:14:16,506 - CRDS - INFO -  Fetching  crds_cache/mappings/jwst/jwst_nircam_photom_0010.rmap      4.3 K bytes  (73 / 135 files) (167.4 K / 335.8 K bytes)\n"
     ]
    },
    {
     "name": "stderr",
     "output_type": "stream",
     "text": [
      "2021-02-18 20:14:16,541 - CRDS - INFO -  Fetching  crds_cache/mappings/jwst/jwst_nircam_persat_0004.rmap      1.6 K bytes  (74 / 135 files) (171.8 K / 335.8 K bytes)\n"
     ]
    },
    {
     "name": "stderr",
     "output_type": "stream",
     "text": [
      "2021-02-18 20:14:16,575 - CRDS - INFO -  Fetching  crds_cache/mappings/jwst/jwst_nircam_mask_0007.rmap        2.3 K bytes  (75 / 135 files) (173.3 K / 335.8 K bytes)\n"
     ]
    },
    {
     "name": "stderr",
     "output_type": "stream",
     "text": [
      "2021-02-18 20:14:16,608 - CRDS - INFO -  Fetching  crds_cache/mappings/jwst/jwst_nircam_linearity_0011.rmap    2.4 K bytes  (76 / 135 files) (175.6 K / 335.8 K bytes)\n"
     ]
    },
    {
     "name": "stderr",
     "output_type": "stream",
     "text": [
      "2021-02-18 20:14:16,642 - CRDS - INFO -  Fetching  crds_cache/mappings/jwst/jwst_nircam_ipc_0003.rmap         2.0 K bytes  (77 / 135 files) (178.0 K / 335.8 K bytes)\n"
     ]
    },
    {
     "name": "stderr",
     "output_type": "stream",
     "text": [
      "2021-02-18 20:14:16,673 - CRDS - INFO -  Fetching  crds_cache/mappings/jwst/jwst_nircam_gain_0009.rmap        2.9 K bytes  (78 / 135 files) (180.0 K / 335.8 K bytes)\n"
     ]
    },
    {
     "name": "stderr",
     "output_type": "stream",
     "text": [
      "2021-02-18 20:14:16,702 - CRDS - INFO -  Fetching  crds_cache/mappings/jwst/jwst_nircam_flat_0014.rmap       21.5 K bytes  (79 / 135 files) (182.9 K / 335.8 K bytes)\n"
     ]
    },
    {
     "name": "stderr",
     "output_type": "stream",
     "text": [
      "2021-02-18 20:14:16,735 - CRDS - INFO -  Fetching  crds_cache/mappings/jwst/jwst_nircam_filteroffset_0003.rmap    1.1 K bytes  (80 / 135 files) (204.4 K / 335.8 K bytes)\n"
     ]
    },
    {
     "name": "stderr",
     "output_type": "stream",
     "text": [
      "2021-02-18 20:14:16,765 - CRDS - INFO -  Fetching  crds_cache/mappings/jwst/jwst_nircam_drizpars_0001.rmap      519 bytes  (81 / 135 files) (205.5 K / 335.8 K bytes)\n"
     ]
    },
    {
     "name": "stderr",
     "output_type": "stream",
     "text": [
      "2021-02-18 20:14:16,801 - CRDS - INFO -  Fetching  crds_cache/mappings/jwst/jwst_nircam_distortion_0022.rmap    9.1 K bytes  (82 / 135 files) (206.1 K / 335.8 K bytes)\n"
     ]
    },
    {
     "name": "stderr",
     "output_type": "stream",
     "text": [
      "2021-02-18 20:14:16,839 - CRDS - INFO -  Fetching  crds_cache/mappings/jwst/jwst_nircam_dark_0018.rmap       14.1 K bytes  (83 / 135 files) (215.2 K / 335.8 K bytes)\n"
     ]
    },
    {
     "name": "stderr",
     "output_type": "stream",
     "text": [
      "2021-02-18 20:14:16,868 - CRDS - INFO -  Fetching  crds_cache/mappings/jwst/jwst_nircam_area_0006.rmap        4.6 K bytes  (84 / 135 files) (229.3 K / 335.8 K bytes)\n"
     ]
    },
    {
     "name": "stderr",
     "output_type": "stream",
     "text": [
      "2021-02-18 20:14:16,898 - CRDS - INFO -  Fetching  crds_cache/mappings/jwst/jwst_nircam_apcorr_0003.rmap      4.2 K bytes  (85 / 135 files) (233.9 K / 335.8 K bytes)\n"
     ]
    },
    {
     "name": "stderr",
     "output_type": "stream",
     "text": [
      "2021-02-18 20:14:16,928 - CRDS - INFO -  Fetching  crds_cache/mappings/jwst/jwst_nircam_abvegaoffset_0002.rmap    1.3 K bytes  (86 / 135 files) (238.1 K / 335.8 K bytes)\n"
     ]
    },
    {
     "name": "stderr",
     "output_type": "stream",
     "text": [
      "2021-02-18 20:14:16,961 - CRDS - INFO -  Fetching  crds_cache/mappings/jwst/jwst_nircam_0138.imap             2.2 K bytes  (87 / 135 files) (239.3 K / 335.8 K bytes)\n"
     ]
    },
    {
     "name": "stderr",
     "output_type": "stream",
     "text": [
      "2021-02-18 20:14:16,990 - CRDS - INFO -  Fetching  crds_cache/mappings/jwst/jwst_miri_wcsregions_0009.rmap    1.1 K bytes  (88 / 135 files) (241.5 K / 335.8 K bytes)\n"
     ]
    },
    {
     "name": "stderr",
     "output_type": "stream",
     "text": [
      "2021-02-18 20:14:17,017 - CRDS - INFO -  Fetching  crds_cache/mappings/jwst/jwst_miri_wavelengthrange_0019.rmap    1.1 K bytes  (89 / 135 files) (242.6 K / 335.8 K bytes)\n"
     ]
    },
    {
     "name": "stderr",
     "output_type": "stream",
     "text": [
      "2021-02-18 20:14:17,044 - CRDS - INFO -  Fetching  crds_cache/mappings/jwst/jwst_miri_tsophot_0002.rmap         780 bytes  (90 / 135 files) (243.7 K / 335.8 K bytes)\n"
     ]
    },
    {
     "name": "stderr",
     "output_type": "stream",
     "text": [
      "2021-02-18 20:14:17,071 - CRDS - INFO -  Fetching  crds_cache/mappings/jwst/jwst_miri_straymask_0007.rmap       885 bytes  (91 / 135 files) (244.5 K / 335.8 K bytes)\n"
     ]
    },
    {
     "name": "stderr",
     "output_type": "stream",
     "text": [
      "2021-02-18 20:14:17,100 - CRDS - INFO -  Fetching  crds_cache/mappings/jwst/jwst_miri_specwcs_0025.rmap       2.3 K bytes  (92 / 135 files) (245.3 K / 335.8 K bytes)\n"
     ]
    },
    {
     "name": "stderr",
     "output_type": "stream",
     "text": [
      "2021-02-18 20:14:17,129 - CRDS - INFO -  Fetching  crds_cache/mappings/jwst/jwst_miri_saturation_0011.rmap      961 bytes  (93 / 135 files) (247.6 K / 335.8 K bytes)\n"
     ]
    },
    {
     "name": "stderr",
     "output_type": "stream",
     "text": [
      "2021-02-18 20:14:17,158 - CRDS - INFO -  Fetching  crds_cache/mappings/jwst/jwst_miri_rscd_0006.rmap            860 bytes  (94 / 135 files) (248.6 K / 335.8 K bytes)\n"
     ]
    },
    {
     "name": "stderr",
     "output_type": "stream",
     "text": [
      "2021-02-18 20:14:17,190 - CRDS - INFO -  Fetching  crds_cache/mappings/jwst/jwst_miri_resol_0004.rmap           739 bytes  (95 / 135 files) (249.4 K / 335.8 K bytes)\n"
     ]
    },
    {
     "name": "stderr",
     "output_type": "stream",
     "text": [
      "2021-02-18 20:14:17,221 - CRDS - INFO -  Fetching  crds_cache/mappings/jwst/jwst_miri_reset_0010.rmap         2.1 K bytes  (96 / 135 files) (250.2 K / 335.8 K bytes)\n"
     ]
    },
    {
     "name": "stderr",
     "output_type": "stream",
     "text": [
      "2021-02-18 20:14:17,250 - CRDS - INFO -  Fetching  crds_cache/mappings/jwst/jwst_miri_regions_0025.rmap       2.0 K bytes  (97 / 135 files) (252.3 K / 335.8 K bytes)\n"
     ]
    },
    {
     "name": "stderr",
     "output_type": "stream",
     "text": [
      "2021-02-18 20:14:17,282 - CRDS - INFO -  Fetching  crds_cache/mappings/jwst/jwst_miri_readnoise_0014.rmap     4.3 K bytes  (98 / 135 files) (254.3 K / 335.8 K bytes)\n"
     ]
    },
    {
     "name": "stderr",
     "output_type": "stream",
     "text": [
      "2021-02-18 20:14:17,314 - CRDS - INFO -  Fetching  crds_cache/mappings/jwst/jwst_miri_psfmask_0003.rmap       1.3 K bytes  (99 / 135 files) (258.6 K / 335.8 K bytes)\n"
     ]
    },
    {
     "name": "stderr",
     "output_type": "stream",
     "text": [
      "2021-02-18 20:14:17,345 - CRDS - INFO -  Fetching  crds_cache/mappings/jwst/jwst_miri_photom_0028.rmap        5.5 K bytes  (100 / 135 files) (259.8 K / 335.8 K bytes)\n"
     ]
    },
    {
     "name": "stderr",
     "output_type": "stream",
     "text": [
      "2021-02-18 20:14:17,375 - CRDS - INFO -  Fetching  crds_cache/mappings/jwst/jwst_miri_mask_0015.rmap            893 bytes  (101 / 135 files) (265.3 K / 335.8 K bytes)\n"
     ]
    },
    {
     "name": "stderr",
     "output_type": "stream",
     "text": [
      "2021-02-18 20:14:17,409 - CRDS - INFO -  Fetching  crds_cache/mappings/jwst/jwst_miri_linearity_0013.rmap     1.9 K bytes  (102 / 135 files) (266.2 K / 335.8 K bytes)\n"
     ]
    },
    {
     "name": "stderr",
     "output_type": "stream",
     "text": [
      "2021-02-18 20:14:17,437 - CRDS - INFO -  Fetching  crds_cache/mappings/jwst/jwst_miri_ipc_0005.rmap             721 bytes  (103 / 135 files) (268.2 K / 335.8 K bytes)\n"
     ]
    },
    {
     "name": "stderr",
     "output_type": "stream",
     "text": [
      "2021-02-18 20:14:17,466 - CRDS - INFO -  Fetching  crds_cache/mappings/jwst/jwst_miri_gain_0007.rmap            893 bytes  (104 / 135 files) (268.9 K / 335.8 K bytes)\n"
     ]
    },
    {
     "name": "stderr",
     "output_type": "stream",
     "text": [
      "2021-02-18 20:14:17,496 - CRDS - INFO -  Fetching  crds_cache/mappings/jwst/jwst_miri_fringe_0014.rmap        2.1 K bytes  (105 / 135 files) (269.8 K / 335.8 K bytes)\n"
     ]
    },
    {
     "name": "stderr",
     "output_type": "stream",
     "text": [
      "2021-02-18 20:14:17,527 - CRDS - INFO -  Fetching  crds_cache/mappings/jwst/jwst_miri_flat_0046.rmap         19.1 K bytes  (106 / 135 files) (271.9 K / 335.8 K bytes)\n"
     ]
    },
    {
     "name": "stderr",
     "output_type": "stream",
     "text": [
      "2021-02-18 20:14:17,554 - CRDS - INFO -  Fetching  crds_cache/mappings/jwst/jwst_miri_filteroffset_0020.rmap    1.1 K bytes  (107 / 135 files) (290.9 K / 335.8 K bytes)\n"
     ]
    },
    {
     "name": "stderr",
     "output_type": "stream",
     "text": [
      "2021-02-18 20:14:17,583 - CRDS - INFO -  Fetching  crds_cache/mappings/jwst/jwst_miri_extract1d_0011.rmap     1.1 K bytes  (108 / 135 files) (292.1 K / 335.8 K bytes)\n"
     ]
    },
    {
     "name": "stderr",
     "output_type": "stream",
     "text": [
      "2021-02-18 20:14:17,616 - CRDS - INFO -  Fetching  crds_cache/mappings/jwst/jwst_miri_drizpars_0002.rmap        511 bytes  (109 / 135 files) (293.1 K / 335.8 K bytes)\n"
     ]
    },
    {
     "name": "stderr",
     "output_type": "stream",
     "text": [
      "2021-02-18 20:14:17,651 - CRDS - INFO -  Fetching  crds_cache/mappings/jwst/jwst_miri_distortion_0031.rmap    1.9 K bytes  (110 / 135 files) (293.7 K / 335.8 K bytes)\n"
     ]
    },
    {
     "name": "stderr",
     "output_type": "stream",
     "text": [
      "2021-02-18 20:14:17,681 - CRDS - INFO -  Fetching  crds_cache/mappings/jwst/jwst_miri_dark_0020.rmap          3.5 K bytes  (111 / 135 files) (295.5 K / 335.8 K bytes)\n"
     ]
    },
    {
     "name": "stderr",
     "output_type": "stream",
     "text": [
      "2021-02-18 20:14:17,710 - CRDS - INFO -  Fetching  crds_cache/mappings/jwst/jwst_miri_cubepar_0006.rmap         686 bytes  (112 / 135 files) (299.0 K / 335.8 K bytes)\n"
     ]
    },
    {
     "name": "stderr",
     "output_type": "stream",
     "text": [
      "2021-02-18 20:14:17,741 - CRDS - INFO -  Fetching  crds_cache/mappings/jwst/jwst_miri_area_0011.rmap            755 bytes  (113 / 135 files) (299.7 K / 335.8 K bytes)\n"
     ]
    },
    {
     "name": "stderr",
     "output_type": "stream",
     "text": [
      "2021-02-18 20:14:17,770 - CRDS - INFO -  Fetching  crds_cache/mappings/jwst/jwst_miri_apcorr_0004.rmap        4.3 K bytes  (114 / 135 files) (300.4 K / 335.8 K bytes)\n"
     ]
    },
    {
     "name": "stderr",
     "output_type": "stream",
     "text": [
      "2021-02-18 20:14:17,799 - CRDS - INFO -  Fetching  crds_cache/mappings/jwst/jwst_miri_abvegaoffset_0002.rmap    1.3 K bytes  (115 / 135 files) (304.7 K / 335.8 K bytes)\n"
     ]
    },
    {
     "name": "stderr",
     "output_type": "stream",
     "text": [
      "2021-02-18 20:14:17,828 - CRDS - INFO -  Fetching  crds_cache/mappings/jwst/jwst_miri_0204.imap               2.2 K bytes  (116 / 135 files) (306.0 K / 335.8 K bytes)\n"
     ]
    },
    {
     "name": "stderr",
     "output_type": "stream",
     "text": [
      "2021-02-18 20:14:17,856 - CRDS - INFO -  Fetching  crds_cache/mappings/jwst/jwst_fgs_trappars_0004.rmap         903 bytes  (117 / 135 files) (308.2 K / 335.8 K bytes)\n"
     ]
    },
    {
     "name": "stderr",
     "output_type": "stream",
     "text": [
      "2021-02-18 20:14:17,885 - CRDS - INFO -  Fetching  crds_cache/mappings/jwst/jwst_fgs_trapdensity_0004.rmap      930 bytes  (118 / 135 files) (309.1 K / 335.8 K bytes)\n"
     ]
    },
    {
     "name": "stderr",
     "output_type": "stream",
     "text": [
      "2021-02-18 20:14:17,916 - CRDS - INFO -  Fetching  crds_cache/mappings/jwst/jwst_fgs_superbias_0015.rmap      3.8 K bytes  (119 / 135 files) (310.0 K / 335.8 K bytes)\n"
     ]
    },
    {
     "name": "stderr",
     "output_type": "stream",
     "text": [
      "2021-02-18 20:14:17,945 - CRDS - INFO -  Fetching  crds_cache/mappings/jwst/jwst_fgs_saturation_0009.rmap       779 bytes  (120 / 135 files) (313.8 K / 335.8 K bytes)\n"
     ]
    },
    {
     "name": "stderr",
     "output_type": "stream",
     "text": [
      "2021-02-18 20:14:17,974 - CRDS - INFO -  Fetching  crds_cache/mappings/jwst/jwst_fgs_readnoise_0011.rmap      1.3 K bytes  (121 / 135 files) (314.6 K / 335.8 K bytes)\n"
     ]
    },
    {
     "name": "stderr",
     "output_type": "stream",
     "text": [
      "2021-02-18 20:14:18,003 - CRDS - INFO -  Fetching  crds_cache/mappings/jwst/jwst_fgs_photom_0011.rmap         1.0 K bytes  (122 / 135 files) (315.9 K / 335.8 K bytes)\n"
     ]
    },
    {
     "name": "stderr",
     "output_type": "stream",
     "text": [
      "2021-02-18 20:14:18,032 - CRDS - INFO -  Fetching  crds_cache/mappings/jwst/jwst_fgs_persat_0004.rmap           884 bytes  (123 / 135 files) (316.9 K / 335.8 K bytes)\n"
     ]
    },
    {
     "name": "stderr",
     "output_type": "stream",
     "text": [
      "2021-02-18 20:14:18,061 - CRDS - INFO -  Fetching  crds_cache/mappings/jwst/jwst_fgs_mask_0018.rmap           1.2 K bytes  (124 / 135 files) (317.8 K / 335.8 K bytes)\n"
     ]
    },
    {
     "name": "stderr",
     "output_type": "stream",
     "text": [
      "2021-02-18 20:14:18,089 - CRDS - INFO -  Fetching  crds_cache/mappings/jwst/jwst_fgs_linearity_0013.rmap        925 bytes  (125 / 135 files) (319.0 K / 335.8 K bytes)\n"
     ]
    },
    {
     "name": "stderr",
     "output_type": "stream",
     "text": [
      "2021-02-18 20:14:18,119 - CRDS - INFO -  Fetching  crds_cache/mappings/jwst/jwst_fgs_ipc_0003.rmap              614 bytes  (126 / 135 files) (319.9 K / 335.8 K bytes)\n"
     ]
    },
    {
     "name": "stderr",
     "output_type": "stream",
     "text": [
      "2021-02-18 20:14:18,148 - CRDS - INFO -  Fetching  crds_cache/mappings/jwst/jwst_fgs_gain_0010.rmap             890 bytes  (127 / 135 files) (320.5 K / 335.8 K bytes)\n"
     ]
    },
    {
     "name": "stderr",
     "output_type": "stream",
     "text": [
      "2021-02-18 20:14:18,177 - CRDS - INFO -  Fetching  crds_cache/mappings/jwst/jwst_fgs_flat_0009.rmap           1.1 K bytes  (128 / 135 files) (321.4 K / 335.8 K bytes)\n"
     ]
    },
    {
     "name": "stderr",
     "output_type": "stream",
     "text": [
      "2021-02-18 20:14:18,206 - CRDS - INFO -  Fetching  crds_cache/mappings/jwst/jwst_fgs_distortion_0007.rmap     1.1 K bytes  (129 / 135 files) (322.5 K / 335.8 K bytes)\n"
     ]
    },
    {
     "name": "stderr",
     "output_type": "stream",
     "text": [
      "2021-02-18 20:14:18,236 - CRDS - INFO -  Fetching  crds_cache/mappings/jwst/jwst_fgs_dark_0011.rmap           3.3 K bytes  (130 / 135 files) (323.6 K / 335.8 K bytes)\n"
     ]
    },
    {
     "name": "stderr",
     "output_type": "stream",
     "text": [
      "2021-02-18 20:14:18,265 - CRDS - INFO -  Fetching  crds_cache/mappings/jwst/jwst_fgs_area_0009.rmap           1.0 K bytes  (131 / 135 files) (326.9 K / 335.8 K bytes)\n"
     ]
    },
    {
     "name": "stderr",
     "output_type": "stream",
     "text": [
      "2021-02-18 20:14:18,294 - CRDS - INFO -  Fetching  crds_cache/mappings/jwst/jwst_fgs_apcorr_0002.rmap         4.1 K bytes  (132 / 135 files) (327.9 K / 335.8 K bytes)\n"
     ]
    },
    {
     "name": "stderr",
     "output_type": "stream",
     "text": [
      "2021-02-18 20:14:18,322 - CRDS - INFO -  Fetching  crds_cache/mappings/jwst/jwst_fgs_abvegaoffset_0002.rmap    1.3 K bytes  (133 / 135 files) (332.0 K / 335.8 K bytes)\n"
     ]
    },
    {
     "name": "stderr",
     "output_type": "stream",
     "text": [
      "2021-02-18 20:14:18,348 - CRDS - INFO -  Fetching  crds_cache/mappings/jwst/jwst_fgs_0082.imap                1.9 K bytes  (134 / 135 files) (333.3 K / 335.8 K bytes)\n"
     ]
    },
    {
     "name": "stderr",
     "output_type": "stream",
     "text": [
      "2021-02-18 20:14:18,383 - CRDS - INFO -  Fetching  crds_cache/mappings/jwst/jwst_0619.pmap                      615 bytes  (135 / 135 files) (335.2 K / 335.8 K bytes)\n"
     ]
    },
    {
     "name": "stderr",
     "output_type": "stream",
     "text": [
      "2021-02-18 20:14:18,527 - CRDS - ERROR -  Error determining best reference for 'pars-skymatchstep'  =   Unknown reference type 'pars-skymatchstep'\n"
     ]
    },
    {
     "name": "stderr",
     "output_type": "stream",
     "text": [
      "2021-02-18 20:14:18,530 - stpipe.SkyMatchStep - INFO - SkyMatchStep instance created.\n"
     ]
    },
    {
     "name": "stderr",
     "output_type": "stream",
     "text": [
      "2021-02-18 20:14:18,700 - stpipe.SkyMatchStep - INFO - Step SkyMatchStep running with args ('skymatch_asnfile2.json',).\n"
     ]
    },
    {
     "name": "stderr",
     "output_type": "stream",
     "text": [
      "2021-02-18 20:14:18,702 - stpipe.SkyMatchStep - INFO - Step SkyMatchStep parameters are: {'pre_hooks': [], 'post_hooks': [], 'output_file': '/data1/jenkins/workspace/Notebooks/jwst_validation_notebooks_spacetelescope/tmp/tmp9sk87zsv/MIRI', 'output_dir': None, 'output_ext': '.fits', 'output_use_model': False, 'output_use_index': True, 'save_results': True, 'skip': False, 'suffix': None, 'search_output_file': True, 'input_dir': '', 'skymethod': 'local', 'match_down': True, 'subtract': False, 'stepsize': None, 'skystat': 'mode', 'dqbits': '0', 'lower': None, 'upper': None, 'nclip': 5, 'lsigma': 4.0, 'usigma': 4.0, 'binwidth': 0.1}\n"
     ]
    },
    {
     "name": "stderr",
     "output_type": "stream",
     "text": [
      "2021-02-18 20:14:19,047 - stpipe.SkyMatchStep - INFO -  \n"
     ]
    },
    {
     "name": "stderr",
     "output_type": "stream",
     "text": [
      "2021-02-18 20:14:19,048 - stpipe.SkyMatchStep - INFO - ***** jwst.skymatch.skymatch.match() started on 2021-02-18 20:14:19.047476\n"
     ]
    },
    {
     "name": "stderr",
     "output_type": "stream",
     "text": [
      "2021-02-18 20:14:19,049 - stpipe.SkyMatchStep - INFO -  \n"
     ]
    },
    {
     "name": "stderr",
     "output_type": "stream",
     "text": [
      "2021-02-18 20:14:19,049 - stpipe.SkyMatchStep - INFO - Sky computation method: 'local'\n"
     ]
    },
    {
     "name": "stderr",
     "output_type": "stream",
     "text": [
      "2021-02-18 20:14:19,050 - stpipe.SkyMatchStep - INFO - Sky subtraction from image data: OFF\n"
     ]
    },
    {
     "name": "stderr",
     "output_type": "stream",
     "text": [
      "2021-02-18 20:14:19,050 - stpipe.SkyMatchStep - INFO -  \n"
     ]
    },
    {
     "name": "stderr",
     "output_type": "stream",
     "text": [
      "2021-02-18 20:14:19,050 - stpipe.SkyMatchStep - INFO - ----  Sky values computed per image and/or image groups.\n"
     ]
    },
    {
     "name": "stderr",
     "output_type": "stream",
     "text": [
      "2021-02-18 20:14:19,127 - stpipe.SkyMatchStep - INFO -    *  Image ID=det_image_seq1_MIRIMAGE_F560Wexp1_cal_skymatch.fits. Sky background: 1.9737\n"
     ]
    },
    {
     "name": "stderr",
     "output_type": "stream",
     "text": [
      "2021-02-18 20:14:19,127 - stpipe.SkyMatchStep - INFO -    *  Image ID=det_image_seq2_MIRIMAGE_F560Wexp1_cal_skymatch.fits. Sky background: 2.97167\n"
     ]
    },
    {
     "name": "stderr",
     "output_type": "stream",
     "text": [
      "2021-02-18 20:14:19,128 - stpipe.SkyMatchStep - INFO -    *  Image ID=det_image_seq3_MIRIMAGE_F560Wexp1_cal_skymatch.fits. Sky background: 4.87825\n"
     ]
    },
    {
     "name": "stderr",
     "output_type": "stream",
     "text": [
      "2021-02-18 20:14:19,128 - stpipe.SkyMatchStep - INFO -    *  Image ID=det_image_seq4_MIRIMAGE_F560Wexp1_cal_skymatch.fits. Sky background: 1.9737\n"
     ]
    },
    {
     "name": "stderr",
     "output_type": "stream",
     "text": [
      "2021-02-18 20:14:19,129 - stpipe.SkyMatchStep - INFO -  \n"
     ]
    },
    {
     "name": "stderr",
     "output_type": "stream",
     "text": [
      "2021-02-18 20:14:19,129 - stpipe.SkyMatchStep - INFO - ***** jwst.skymatch.skymatch.match() ended on 2021-02-18 20:14:19.129070\n"
     ]
    },
    {
     "name": "stderr",
     "output_type": "stream",
     "text": [
      "2021-02-18 20:14:19,129 - stpipe.SkyMatchStep - INFO - ***** jwst.skymatch.skymatch.match() TOTAL RUN TIME: 0:00:00.081594\n"
     ]
    },
    {
     "name": "stderr",
     "output_type": "stream",
     "text": [
      "2021-02-18 20:14:19,130 - stpipe.SkyMatchStep - INFO -  \n"
     ]
    },
    {
     "name": "stderr",
     "output_type": "stream",
     "text": [
      "2021-02-18 20:14:19,346 - stpipe.SkyMatchStep - INFO - Saved model in MIRI_0_skymatchstep.fits\n"
     ]
    },
    {
     "name": "stderr",
     "output_type": "stream",
     "text": [
      "2021-02-18 20:14:19,583 - stpipe.SkyMatchStep - INFO - Saved model in MIRI_1_skymatchstep.fits\n"
     ]
    },
    {
     "name": "stderr",
     "output_type": "stream",
     "text": [
      "2021-02-18 20:14:19,782 - stpipe.SkyMatchStep - INFO - Saved model in MIRI_2_skymatchstep.fits\n"
     ]
    },
    {
     "name": "stderr",
     "output_type": "stream",
     "text": [
      "2021-02-18 20:14:19,983 - stpipe.SkyMatchStep - INFO - Saved model in MIRI_3_skymatchstep.fits\n"
     ]
    },
    {
     "name": "stderr",
     "output_type": "stream",
     "text": [
      "2021-02-18 20:14:19,984 - stpipe.SkyMatchStep - INFO - Step SkyMatchStep done\n"
     ]
    },
    {
     "data": {
      "text/plain": [
       "<ModelContainer>"
      ]
     },
     "execution_count": 1,
     "metadata": {},
     "output_type": "execute_result"
    }
   ],
   "source": [
    "# skymatch, local, subtract= False, all 8 images used\n",
    "jwst.skymatch.skymatch_step.SkyMatchStep.call(skymatch_json_file2, skymethod='local', subtract=False,output_file='MIRI',save_results=True)"
   ]
  },
  {
   "cell_type": "code",
   "execution_count": 17,
   "metadata": {
    "execution": {
     "iopub.execute_input": "2021-02-19T01:14:19.994980Z",
     "iopub.status.busy": "2021-02-19T01:14:19.993176Z",
     "iopub.status.idle": "2021-02-19T01:14:20.675699Z",
     "shell.execute_reply": "2021-02-19T01:14:20.675372Z"
    }
   },
   "outputs": [
    {
     "name": "stdout",
     "output_type": "stream",
     "text": [
      "Mean: original, new (local)\n",
      "Mean: 1.9998354 , 1.9998354\n",
      "Mean: 2.9997911 , 2.9997911\n",
      "Mean: 4.999382 , 4.999382\n",
      "Mean: 1.9998354 , 1.9998354\n"
     ]
    }
   ],
   "source": [
    "img01_1_new = datamodels.open('MIRI_0_skymatchstep.fits')\n",
    "img01_2_new = datamodels.open('MIRI_1_skymatchstep.fits')\n",
    "img02_1_new = datamodels.open('MIRI_2_skymatchstep.fits')\n",
    "img02_2_new = datamodels.open('MIRI_3_skymatchstep.fits')\n",
    "\n",
    "print('Mean: original, new (local)')\n",
    "print('Mean:',np.mean(img01_1.data),',', np.mean(img01_1_new.data))\n",
    "print('Mean:',np.mean(img01_2.data),',', np.mean(img01_2_new.data))\n",
    "print('Mean:',np.mean(img02_1.data),',', np.mean(img02_1_new.data))\n",
    "print('Mean:',np.mean(img02_2.data),',', np.mean(img02_2_new.data))"
   ]
  },
  {
   "cell_type": "code",
   "execution_count": 18,
   "metadata": {
    "execution": {
     "iopub.execute_input": "2021-02-19T01:14:20.688014Z",
     "iopub.status.busy": "2021-02-19T01:14:20.682899Z",
     "iopub.status.idle": "2021-02-19T01:14:22.501250Z",
     "shell.execute_reply": "2021-02-19T01:14:22.500948Z"
    }
   },
   "outputs": [
    {
     "name": "stderr",
     "output_type": "stream",
     "text": [
      "2021-02-18 20:14:21,037 - CRDS - ERROR -  Error determining best reference for 'pars-skymatchstep'  =   Unknown reference type 'pars-skymatchstep'\n"
     ]
    },
    {
     "name": "stderr",
     "output_type": "stream",
     "text": [
      "2021-02-18 20:14:21,038 - stpipe.SkyMatchStep - INFO - SkyMatchStep instance created.\n"
     ]
    },
    {
     "name": "stderr",
     "output_type": "stream",
     "text": [
      "2021-02-18 20:14:21,179 - stpipe.SkyMatchStep - INFO - Step SkyMatchStep running with args ('skymatch_asnfile2.json',).\n"
     ]
    },
    {
     "name": "stderr",
     "output_type": "stream",
     "text": [
      "2021-02-18 20:14:21,181 - stpipe.SkyMatchStep - INFO - Step SkyMatchStep parameters are: {'pre_hooks': [], 'post_hooks': [], 'output_file': '/data1/jenkins/workspace/Notebooks/jwst_validation_notebooks_spacetelescope/tmp/tmp9sk87zsv/MIRI', 'output_dir': None, 'output_ext': '.fits', 'output_use_model': False, 'output_use_index': True, 'save_results': True, 'skip': False, 'suffix': None, 'search_output_file': True, 'input_dir': '', 'skymethod': 'local', 'match_down': True, 'subtract': True, 'stepsize': None, 'skystat': 'mode', 'dqbits': '0', 'lower': None, 'upper': None, 'nclip': 5, 'lsigma': 4.0, 'usigma': 4.0, 'binwidth': 0.1}\n"
     ]
    },
    {
     "name": "stderr",
     "output_type": "stream",
     "text": [
      "2021-02-18 20:14:21,520 - stpipe.SkyMatchStep - INFO -  \n"
     ]
    },
    {
     "name": "stderr",
     "output_type": "stream",
     "text": [
      "2021-02-18 20:14:21,521 - stpipe.SkyMatchStep - INFO - ***** jwst.skymatch.skymatch.match() started on 2021-02-18 20:14:21.520817\n"
     ]
    },
    {
     "name": "stderr",
     "output_type": "stream",
     "text": [
      "2021-02-18 20:14:21,521 - stpipe.SkyMatchStep - INFO -  \n"
     ]
    },
    {
     "name": "stderr",
     "output_type": "stream",
     "text": [
      "2021-02-18 20:14:21,522 - stpipe.SkyMatchStep - INFO - Sky computation method: 'local'\n"
     ]
    },
    {
     "name": "stderr",
     "output_type": "stream",
     "text": [
      "2021-02-18 20:14:21,522 - stpipe.SkyMatchStep - INFO - Sky subtraction from image data: ON\n"
     ]
    },
    {
     "name": "stderr",
     "output_type": "stream",
     "text": [
      "2021-02-18 20:14:21,523 - stpipe.SkyMatchStep - INFO -  \n"
     ]
    },
    {
     "name": "stderr",
     "output_type": "stream",
     "text": [
      "2021-02-18 20:14:21,523 - stpipe.SkyMatchStep - INFO - ----  Sky values computed per image and/or image groups.\n"
     ]
    },
    {
     "name": "stderr",
     "output_type": "stream",
     "text": [
      "2021-02-18 20:14:21,602 - stpipe.SkyMatchStep - INFO -    *  Image ID=det_image_seq1_MIRIMAGE_F560Wexp1_cal_skymatch.fits. Sky background: 1.9737 (old=0, delta=1.9737)\n"
     ]
    },
    {
     "name": "stderr",
     "output_type": "stream",
     "text": [
      "2021-02-18 20:14:21,604 - stpipe.SkyMatchStep - INFO -    *  Image ID=det_image_seq2_MIRIMAGE_F560Wexp1_cal_skymatch.fits. Sky background: 2.97167 (old=0, delta=2.97167)\n"
     ]
    },
    {
     "name": "stderr",
     "output_type": "stream",
     "text": [
      "2021-02-18 20:14:21,605 - stpipe.SkyMatchStep - INFO -    *  Image ID=det_image_seq3_MIRIMAGE_F560Wexp1_cal_skymatch.fits. Sky background: 4.87825 (old=0, delta=4.87825)\n"
     ]
    },
    {
     "name": "stderr",
     "output_type": "stream",
     "text": [
      "2021-02-18 20:14:21,607 - stpipe.SkyMatchStep - INFO -    *  Image ID=det_image_seq4_MIRIMAGE_F560Wexp1_cal_skymatch.fits. Sky background: 1.9737 (old=0, delta=1.9737)\n"
     ]
    },
    {
     "name": "stderr",
     "output_type": "stream",
     "text": [
      "2021-02-18 20:14:21,607 - stpipe.SkyMatchStep - INFO -  \n"
     ]
    },
    {
     "name": "stderr",
     "output_type": "stream",
     "text": [
      "2021-02-18 20:14:21,608 - stpipe.SkyMatchStep - INFO - ***** jwst.skymatch.skymatch.match() ended on 2021-02-18 20:14:21.607960\n"
     ]
    },
    {
     "name": "stderr",
     "output_type": "stream",
     "text": [
      "2021-02-18 20:14:21,608 - stpipe.SkyMatchStep - INFO - ***** jwst.skymatch.skymatch.match() TOTAL RUN TIME: 0:00:00.087143\n"
     ]
    },
    {
     "name": "stderr",
     "output_type": "stream",
     "text": [
      "2021-02-18 20:14:21,609 - stpipe.SkyMatchStep - INFO -  \n"
     ]
    },
    {
     "name": "stderr",
     "output_type": "stream",
     "text": [
      "2021-02-18 20:14:21,843 - stpipe.SkyMatchStep - INFO - Saved model in MIRI_0_skymatchstep.fits\n"
     ]
    },
    {
     "name": "stderr",
     "output_type": "stream",
     "text": [
      "2021-02-18 20:14:22,088 - stpipe.SkyMatchStep - INFO - Saved model in MIRI_1_skymatchstep.fits\n"
     ]
    },
    {
     "name": "stderr",
     "output_type": "stream",
     "text": [
      "2021-02-18 20:14:22,290 - stpipe.SkyMatchStep - INFO - Saved model in MIRI_2_skymatchstep.fits\n"
     ]
    },
    {
     "name": "stderr",
     "output_type": "stream",
     "text": [
      "2021-02-18 20:14:22,494 - stpipe.SkyMatchStep - INFO - Saved model in MIRI_3_skymatchstep.fits\n"
     ]
    },
    {
     "name": "stderr",
     "output_type": "stream",
     "text": [
      "2021-02-18 20:14:22,495 - stpipe.SkyMatchStep - INFO - Step SkyMatchStep done\n"
     ]
    },
    {
     "data": {
      "text/plain": [
       "<ModelContainer>"
      ]
     },
     "execution_count": 1,
     "metadata": {},
     "output_type": "execute_result"
    }
   ],
   "source": [
    "# skymatch, local, subtract = True, all 8 images used\n",
    "jwst.skymatch.skymatch_step.SkyMatchStep.call(skymatch_json_file2, skymethod='local', subtract=True,output_file='MIRI',save_results=True)"
   ]
  },
  {
   "cell_type": "code",
   "execution_count": 19,
   "metadata": {
    "execution": {
     "iopub.execute_input": "2021-02-19T01:14:22.506181Z",
     "iopub.status.busy": "2021-02-19T01:14:22.505868Z",
     "iopub.status.idle": "2021-02-19T01:14:23.193418Z",
     "shell.execute_reply": "2021-02-19T01:14:23.193060Z"
    }
   },
   "outputs": [
    {
     "name": "stdout",
     "output_type": "stream",
     "text": [
      "Mean: original, new (local)\n",
      "Mean: 1.9998354 , 0.026135962\n",
      "Mean: 2.9997911 , 0.028123831\n",
      "Mean: 4.999382 , 0.12112979\n",
      "Mean: 1.9998354 , 0.026135962\n"
     ]
    }
   ],
   "source": [
    "img01_1_new = datamodels.open('MIRI_0_skymatchstep.fits')\n",
    "img01_2_new = datamodels.open('MIRI_1_skymatchstep.fits')\n",
    "img02_1_new = datamodels.open('MIRI_2_skymatchstep.fits')\n",
    "img02_2_new = datamodels.open('MIRI_3_skymatchstep.fits')\n",
    "\n",
    "print('Mean: original, new (local)')\n",
    "print('Mean:',np.mean(img01_1.data),',', np.mean(img01_1_new.data))\n",
    "print('Mean:',np.mean(img01_2.data),',', np.mean(img01_2_new.data))\n",
    "print('Mean:',np.mean(img02_1.data),',', np.mean(img02_1_new.data))\n",
    "print('Mean:',np.mean(img02_2.data),',', np.mean(img02_2_new.data))"
   ]
  },
  {
   "cell_type": "markdown",
   "metadata": {},
   "source": [
    "## 2. Run skymatch for each skymethod parameter (local, global, match, global+match)"
   ]
  },
  {
   "cell_type": "markdown",
   "metadata": {},
   "source": [
    "### 2.1 skymethod = 'local'"
   ]
  },
  {
   "cell_type": "code",
   "execution_count": 20,
   "metadata": {
    "execution": {
     "iopub.execute_input": "2021-02-19T01:14:23.205657Z",
     "iopub.status.busy": "2021-02-19T01:14:23.200522Z",
     "iopub.status.idle": "2021-02-19T01:14:24.854379Z",
     "shell.execute_reply": "2021-02-19T01:14:24.854024Z"
    }
   },
   "outputs": [
    {
     "name": "stderr",
     "output_type": "stream",
     "text": [
      "2021-02-18 20:14:23,560 - CRDS - ERROR -  Error determining best reference for 'pars-skymatchstep'  =   Unknown reference type 'pars-skymatchstep'\n"
     ]
    },
    {
     "name": "stderr",
     "output_type": "stream",
     "text": [
      "2021-02-18 20:14:23,562 - stpipe.SkyMatchStep - INFO - SkyMatchStep instance created.\n"
     ]
    },
    {
     "name": "stderr",
     "output_type": "stream",
     "text": [
      "2021-02-18 20:14:23,682 - stpipe.SkyMatchStep - INFO - Step SkyMatchStep running with args ('skymatch_asnfile2.json',).\n"
     ]
    },
    {
     "name": "stderr",
     "output_type": "stream",
     "text": [
      "2021-02-18 20:14:23,683 - stpipe.SkyMatchStep - INFO - Step SkyMatchStep parameters are: {'pre_hooks': [], 'post_hooks': [], 'output_file': '/data1/jenkins/workspace/Notebooks/jwst_validation_notebooks_spacetelescope/tmp/tmp9sk87zsv/MIRI', 'output_dir': None, 'output_ext': '.fits', 'output_use_model': False, 'output_use_index': True, 'save_results': True, 'skip': False, 'suffix': None, 'search_output_file': True, 'input_dir': '', 'skymethod': 'local', 'match_down': True, 'subtract': False, 'stepsize': None, 'skystat': 'mode', 'dqbits': '0', 'lower': None, 'upper': None, 'nclip': 5, 'lsigma': 4.0, 'usigma': 4.0, 'binwidth': 0.1}\n"
     ]
    },
    {
     "name": "stderr",
     "output_type": "stream",
     "text": [
      "2021-02-18 20:14:24,011 - stpipe.SkyMatchStep - INFO -  \n"
     ]
    },
    {
     "name": "stderr",
     "output_type": "stream",
     "text": [
      "2021-02-18 20:14:24,011 - stpipe.SkyMatchStep - INFO - ***** jwst.skymatch.skymatch.match() started on 2021-02-18 20:14:24.011137\n"
     ]
    },
    {
     "name": "stderr",
     "output_type": "stream",
     "text": [
      "2021-02-18 20:14:24,012 - stpipe.SkyMatchStep - INFO -  \n"
     ]
    },
    {
     "name": "stderr",
     "output_type": "stream",
     "text": [
      "2021-02-18 20:14:24,012 - stpipe.SkyMatchStep - INFO - Sky computation method: 'local'\n"
     ]
    },
    {
     "name": "stderr",
     "output_type": "stream",
     "text": [
      "2021-02-18 20:14:24,012 - stpipe.SkyMatchStep - INFO - Sky subtraction from image data: OFF\n"
     ]
    },
    {
     "name": "stderr",
     "output_type": "stream",
     "text": [
      "2021-02-18 20:14:24,013 - stpipe.SkyMatchStep - INFO -  \n"
     ]
    },
    {
     "name": "stderr",
     "output_type": "stream",
     "text": [
      "2021-02-18 20:14:24,013 - stpipe.SkyMatchStep - INFO - ----  Sky values computed per image and/or image groups.\n"
     ]
    },
    {
     "name": "stderr",
     "output_type": "stream",
     "text": [
      "2021-02-18 20:14:24,089 - stpipe.SkyMatchStep - INFO -    *  Image ID=det_image_seq1_MIRIMAGE_F560Wexp1_cal_skymatch.fits. Sky background: 1.9737\n"
     ]
    },
    {
     "name": "stderr",
     "output_type": "stream",
     "text": [
      "2021-02-18 20:14:24,089 - stpipe.SkyMatchStep - INFO -    *  Image ID=det_image_seq2_MIRIMAGE_F560Wexp1_cal_skymatch.fits. Sky background: 2.97167\n"
     ]
    },
    {
     "name": "stderr",
     "output_type": "stream",
     "text": [
      "2021-02-18 20:14:24,090 - stpipe.SkyMatchStep - INFO -    *  Image ID=det_image_seq3_MIRIMAGE_F560Wexp1_cal_skymatch.fits. Sky background: 4.87825\n"
     ]
    },
    {
     "name": "stderr",
     "output_type": "stream",
     "text": [
      "2021-02-18 20:14:24,090 - stpipe.SkyMatchStep - INFO -    *  Image ID=det_image_seq4_MIRIMAGE_F560Wexp1_cal_skymatch.fits. Sky background: 1.9737\n"
     ]
    },
    {
     "name": "stderr",
     "output_type": "stream",
     "text": [
      "2021-02-18 20:14:24,091 - stpipe.SkyMatchStep - INFO -  \n"
     ]
    },
    {
     "name": "stderr",
     "output_type": "stream",
     "text": [
      "2021-02-18 20:14:24,091 - stpipe.SkyMatchStep - INFO - ***** jwst.skymatch.skymatch.match() ended on 2021-02-18 20:14:24.091073\n"
     ]
    },
    {
     "name": "stderr",
     "output_type": "stream",
     "text": [
      "2021-02-18 20:14:24,091 - stpipe.SkyMatchStep - INFO - ***** jwst.skymatch.skymatch.match() TOTAL RUN TIME: 0:00:00.079936\n"
     ]
    },
    {
     "name": "stderr",
     "output_type": "stream",
     "text": [
      "2021-02-18 20:14:24,092 - stpipe.SkyMatchStep - INFO -  \n"
     ]
    },
    {
     "name": "stderr",
     "output_type": "stream",
     "text": [
      "2021-02-18 20:14:24,281 - stpipe.SkyMatchStep - INFO - Saved model in MIRI_0_skymatchstep.fits\n"
     ]
    },
    {
     "name": "stderr",
     "output_type": "stream",
     "text": [
      "2021-02-18 20:14:24,488 - stpipe.SkyMatchStep - INFO - Saved model in MIRI_1_skymatchstep.fits\n"
     ]
    },
    {
     "name": "stderr",
     "output_type": "stream",
     "text": [
      "2021-02-18 20:14:24,673 - stpipe.SkyMatchStep - INFO - Saved model in MIRI_2_skymatchstep.fits\n"
     ]
    },
    {
     "name": "stderr",
     "output_type": "stream",
     "text": [
      "2021-02-18 20:14:24,849 - stpipe.SkyMatchStep - INFO - Saved model in MIRI_3_skymatchstep.fits\n"
     ]
    },
    {
     "name": "stderr",
     "output_type": "stream",
     "text": [
      "2021-02-18 20:14:24,850 - stpipe.SkyMatchStep - INFO - Step SkyMatchStep done\n"
     ]
    },
    {
     "data": {
      "text/plain": [
       "<ModelContainer>"
      ]
     },
     "execution_count": 1,
     "metadata": {},
     "output_type": "execute_result"
    }
   ],
   "source": [
    "# skymatch, local\n",
    "jwst.skymatch.skymatch_step.SkyMatchStep.call(skymatch_json_file2, skymethod='local', subtract=False,output_file='MIRI',save_results=True)"
   ]
  },
  {
   "cell_type": "code",
   "execution_count": 21,
   "metadata": {
    "execution": {
     "iopub.execute_input": "2021-02-19T01:14:24.858023Z",
     "iopub.status.busy": "2021-02-19T01:14:24.857708Z",
     "iopub.status.idle": "2021-02-19T01:14:25.482721Z",
     "shell.execute_reply": "2021-02-19T01:14:25.482362Z"
    }
   },
   "outputs": [
    {
     "name": "stdout",
     "output_type": "stream",
     "text": [
      "Mean: original, new (local)\n",
      "Mean: 1.9998354 , 1.9998354\n",
      "Mean: 2.9997911 , 2.9997911\n",
      "Mean: 4.999382 , 4.999382\n",
      "Mean: 1.9998354 , 1.9998354\n"
     ]
    }
   ],
   "source": [
    "img01_1_new = datamodels.open('MIRI_0_skymatchstep.fits')\n",
    "img01_2_new = datamodels.open('MIRI_1_skymatchstep.fits')\n",
    "img02_1_new = datamodels.open('MIRI_2_skymatchstep.fits')\n",
    "img02_2_new = datamodels.open('MIRI_3_skymatchstep.fits')\n",
    "\n",
    "print('Mean: original, new (local)')\n",
    "print('Mean:',np.mean(img01_1.data),',', np.mean(img01_1_new.data))\n",
    "print('Mean:',np.mean(img01_2.data),',', np.mean(img01_2_new.data))\n",
    "print('Mean:',np.mean(img02_1.data),',', np.mean(img02_1_new.data))\n",
    "print('Mean:',np.mean(img02_2.data),',', np.mean(img02_2_new.data))"
   ]
  },
  {
   "cell_type": "markdown",
   "metadata": {},
   "source": [
    "### ** Check that the original and output (new) sky values match for individual images (but not necessarily the same for all images)"
   ]
  },
  {
   "cell_type": "markdown",
   "metadata": {},
   "source": [
    "##### Notes: ‘local’: compute sky background values of each input image or group of images (members of the same “exposure”). A single sky value is computed for each group of images."
   ]
  },
  {
   "cell_type": "markdown",
   "metadata": {},
   "source": [
    "### 2.2 skymethod = 'global'"
   ]
  },
  {
   "cell_type": "code",
   "execution_count": 22,
   "metadata": {
    "execution": {
     "iopub.execute_input": "2021-02-19T01:14:25.490082Z",
     "iopub.status.busy": "2021-02-19T01:14:25.489762Z",
     "iopub.status.idle": "2021-02-19T01:14:27.116722Z",
     "shell.execute_reply": "2021-02-19T01:14:27.116432Z"
    }
   },
   "outputs": [
    {
     "name": "stderr",
     "output_type": "stream",
     "text": [
      "2021-02-18 20:14:25,838 - CRDS - ERROR -  Error determining best reference for 'pars-skymatchstep'  =   Unknown reference type 'pars-skymatchstep'\n"
     ]
    },
    {
     "name": "stderr",
     "output_type": "stream",
     "text": [
      "2021-02-18 20:14:25,840 - stpipe.SkyMatchStep - INFO - SkyMatchStep instance created.\n"
     ]
    },
    {
     "name": "stderr",
     "output_type": "stream",
     "text": [
      "2021-02-18 20:14:25,960 - stpipe.SkyMatchStep - INFO - Step SkyMatchStep running with args ('skymatch_asnfile2.json',).\n"
     ]
    },
    {
     "name": "stderr",
     "output_type": "stream",
     "text": [
      "2021-02-18 20:14:25,961 - stpipe.SkyMatchStep - INFO - Step SkyMatchStep parameters are: {'pre_hooks': [], 'post_hooks': [], 'output_file': '/data1/jenkins/workspace/Notebooks/jwst_validation_notebooks_spacetelescope/tmp/tmp9sk87zsv/MIRI', 'output_dir': None, 'output_ext': '.fits', 'output_use_model': False, 'output_use_index': True, 'save_results': True, 'skip': False, 'suffix': None, 'search_output_file': True, 'input_dir': '', 'skymethod': 'global', 'match_down': True, 'subtract': True, 'stepsize': None, 'skystat': 'mode', 'dqbits': '0', 'lower': None, 'upper': None, 'nclip': 5, 'lsigma': 4.0, 'usigma': 4.0, 'binwidth': 0.1}\n"
     ]
    },
    {
     "name": "stderr",
     "output_type": "stream",
     "text": [
      "2021-02-18 20:14:26,289 - stpipe.SkyMatchStep - INFO -  \n"
     ]
    },
    {
     "name": "stderr",
     "output_type": "stream",
     "text": [
      "2021-02-18 20:14:26,290 - stpipe.SkyMatchStep - INFO - ***** jwst.skymatch.skymatch.match() started on 2021-02-18 20:14:26.289265\n"
     ]
    },
    {
     "name": "stderr",
     "output_type": "stream",
     "text": [
      "2021-02-18 20:14:26,290 - stpipe.SkyMatchStep - INFO -  \n"
     ]
    },
    {
     "name": "stderr",
     "output_type": "stream",
     "text": [
      "2021-02-18 20:14:26,291 - stpipe.SkyMatchStep - INFO - Sky computation method: 'global'\n"
     ]
    },
    {
     "name": "stderr",
     "output_type": "stream",
     "text": [
      "2021-02-18 20:14:26,291 - stpipe.SkyMatchStep - INFO - Sky subtraction from image data: ON\n"
     ]
    },
    {
     "name": "stderr",
     "output_type": "stream",
     "text": [
      "2021-02-18 20:14:26,291 - stpipe.SkyMatchStep - INFO -  \n"
     ]
    },
    {
     "name": "stderr",
     "output_type": "stream",
     "text": [
      "2021-02-18 20:14:26,292 - stpipe.SkyMatchStep - INFO - ----  Computing \"global\" sky - smallest sky value across *all* input images.\n"
     ]
    },
    {
     "name": "stderr",
     "output_type": "stream",
     "text": [
      "2021-02-18 20:14:26,367 - stpipe.SkyMatchStep - INFO -  \n"
     ]
    },
    {
     "name": "stderr",
     "output_type": "stream",
     "text": [
      "2021-02-18 20:14:26,368 - stpipe.SkyMatchStep - INFO -    \"Global\" sky value correction: 1.973699655086067 [not converted]\n"
     ]
    },
    {
     "name": "stderr",
     "output_type": "stream",
     "text": [
      "2021-02-18 20:14:26,369 - stpipe.SkyMatchStep - INFO -    *  Image ID=det_image_seq1_MIRIMAGE_F560Wexp1_cal_skymatch.fits. Sky background: 1.9737 (old=0, delta=1.9737)\n"
     ]
    },
    {
     "name": "stderr",
     "output_type": "stream",
     "text": [
      "2021-02-18 20:14:26,371 - stpipe.SkyMatchStep - INFO -    *  Image ID=det_image_seq2_MIRIMAGE_F560Wexp1_cal_skymatch.fits. Sky background: 1.9737 (old=0, delta=1.9737)\n"
     ]
    },
    {
     "name": "stderr",
     "output_type": "stream",
     "text": [
      "2021-02-18 20:14:26,372 - stpipe.SkyMatchStep - INFO -    *  Image ID=det_image_seq3_MIRIMAGE_F560Wexp1_cal_skymatch.fits. Sky background: 1.9737 (old=0, delta=1.9737)\n"
     ]
    },
    {
     "name": "stderr",
     "output_type": "stream",
     "text": [
      "2021-02-18 20:14:26,374 - stpipe.SkyMatchStep - INFO -    *  Image ID=det_image_seq4_MIRIMAGE_F560Wexp1_cal_skymatch.fits. Sky background: 1.9737 (old=0, delta=1.9737)\n"
     ]
    },
    {
     "name": "stderr",
     "output_type": "stream",
     "text": [
      "2021-02-18 20:14:26,374 - stpipe.SkyMatchStep - INFO -  \n"
     ]
    },
    {
     "name": "stderr",
     "output_type": "stream",
     "text": [
      "2021-02-18 20:14:26,375 - stpipe.SkyMatchStep - INFO - ***** jwst.skymatch.skymatch.match() ended on 2021-02-18 20:14:26.374681\n"
     ]
    },
    {
     "name": "stderr",
     "output_type": "stream",
     "text": [
      "2021-02-18 20:14:26,375 - stpipe.SkyMatchStep - INFO - ***** jwst.skymatch.skymatch.match() TOTAL RUN TIME: 0:00:00.085416\n"
     ]
    },
    {
     "name": "stderr",
     "output_type": "stream",
     "text": [
      "2021-02-18 20:14:26,375 - stpipe.SkyMatchStep - INFO -  \n"
     ]
    },
    {
     "name": "stderr",
     "output_type": "stream",
     "text": [
      "2021-02-18 20:14:26,558 - stpipe.SkyMatchStep - INFO - Saved model in MIRI_0_skymatchstep.fits\n"
     ]
    },
    {
     "name": "stderr",
     "output_type": "stream",
     "text": [
      "2021-02-18 20:14:26,755 - stpipe.SkyMatchStep - INFO - Saved model in MIRI_1_skymatchstep.fits\n"
     ]
    },
    {
     "name": "stderr",
     "output_type": "stream",
     "text": [
      "2021-02-18 20:14:26,935 - stpipe.SkyMatchStep - INFO - Saved model in MIRI_2_skymatchstep.fits\n"
     ]
    },
    {
     "name": "stderr",
     "output_type": "stream",
     "text": [
      "2021-02-18 20:14:27,111 - stpipe.SkyMatchStep - INFO - Saved model in MIRI_3_skymatchstep.fits\n"
     ]
    },
    {
     "name": "stderr",
     "output_type": "stream",
     "text": [
      "2021-02-18 20:14:27,112 - stpipe.SkyMatchStep - INFO - Step SkyMatchStep done\n"
     ]
    },
    {
     "data": {
      "text/plain": [
       "<ModelContainer>"
      ]
     },
     "execution_count": 1,
     "metadata": {},
     "output_type": "execute_result"
    }
   ],
   "source": [
    "# skymatch, global, subtract = True\n",
    "jwst.skymatch.skymatch_step.SkyMatchStep.call(skymatch_json_file2, skymethod='global', subtract=True,output_file='MIRI',save_results=True)"
   ]
  },
  {
   "cell_type": "code",
   "execution_count": 23,
   "metadata": {
    "execution": {
     "iopub.execute_input": "2021-02-19T01:14:27.122460Z",
     "iopub.status.busy": "2021-02-19T01:14:27.120276Z",
     "iopub.status.idle": "2021-02-19T01:14:27.546866Z",
     "shell.execute_reply": "2021-02-19T01:14:27.547124Z"
    }
   },
   "outputs": [
    {
     "name": "stdout",
     "output_type": "stream",
     "text": [
      "Mean: original, new (global)\n",
      "Mean: 1.9998354 , 0.026135962\n",
      "Mean: 2.9997911 , 1.0260917\n",
      "Mean: 4.999382 , 3.0256817\n",
      "Mean: 1.9998354 , 0.026135962\n"
     ]
    }
   ],
   "source": [
    "img01_1_new = datamodels.open('MIRI_0_skymatchstep.fits')\n",
    "img01_2_new = datamodels.open('MIRI_1_skymatchstep.fits')\n",
    "img02_1_new = datamodels.open('MIRI_2_skymatchstep.fits')\n",
    "img02_2_new = datamodels.open('MIRI_3_skymatchstep.fits')\n",
    "\n",
    "print('Mean: original, new (global)')\n",
    "print('Mean:',np.mean(img01_1.data),',', np.mean(img01_1_new.data))\n",
    "print('Mean:',np.mean(img01_2.data),',', np.mean(img01_2_new.data))\n",
    "print('Mean:',np.mean(img02_1.data),',', np.mean(img02_1_new.data))\n",
    "print('Mean:',np.mean(img02_2.data),',', np.mean(img02_2_new.data))"
   ]
  },
  {
   "cell_type": "markdown",
   "metadata": {},
   "source": [
    "### ** Check that the output (new) sky values are equal to the original sky value minus the lowest original sky value "
   ]
  },
  {
   "cell_type": "markdown",
   "metadata": {},
   "source": [
    "##### Notes: ‘global’: compute a common sky value for all input image and groups of images. In this setting match will compute sky values for each input image/group, find the minimum sky value, and then it will set (and/or subtract) sky value of each input image to this minimum value. This method may be useful when input images have been already matched. The 'global' method computes the minimum sky value across all input images and/or groups. That sky value is then considered to be the background in all input images."
   ]
  },
  {
   "cell_type": "markdown",
   "metadata": {},
   "source": [
    "### 2.3 skymethod = 'match', match_down=True"
   ]
  },
  {
   "cell_type": "code",
   "execution_count": 24,
   "metadata": {
    "execution": {
     "iopub.execute_input": "2021-02-19T01:14:27.559908Z",
     "iopub.status.busy": "2021-02-19T01:14:27.554749Z",
     "iopub.status.idle": "2021-02-19T01:14:30.908515Z",
     "shell.execute_reply": "2021-02-19T01:14:30.908161Z"
    }
   },
   "outputs": [
    {
     "name": "stderr",
     "output_type": "stream",
     "text": [
      "2021-02-18 20:14:28,121 - CRDS - ERROR -  Error determining best reference for 'pars-skymatchstep'  =   Unknown reference type 'pars-skymatchstep'\n"
     ]
    },
    {
     "name": "stderr",
     "output_type": "stream",
     "text": [
      "2021-02-18 20:14:28,123 - stpipe.SkyMatchStep - INFO - SkyMatchStep instance created.\n"
     ]
    },
    {
     "name": "stderr",
     "output_type": "stream",
     "text": [
      "2021-02-18 20:14:28,234 - stpipe.SkyMatchStep - INFO - Step SkyMatchStep running with args ('skymatch_asnfile2.json',).\n"
     ]
    },
    {
     "name": "stderr",
     "output_type": "stream",
     "text": [
      "2021-02-18 20:14:28,235 - stpipe.SkyMatchStep - INFO - Step SkyMatchStep parameters are: {'pre_hooks': [], 'post_hooks': [], 'output_file': '/data1/jenkins/workspace/Notebooks/jwst_validation_notebooks_spacetelescope/tmp/tmp9sk87zsv/MIRI', 'output_dir': None, 'output_ext': '.fits', 'output_use_model': False, 'output_use_index': True, 'save_results': True, 'skip': False, 'suffix': None, 'search_output_file': True, 'input_dir': '', 'skymethod': 'match', 'match_down': True, 'subtract': True, 'stepsize': None, 'skystat': 'mode', 'dqbits': '0', 'lower': None, 'upper': None, 'nclip': 5, 'lsigma': 4.0, 'usigma': 4.0, 'binwidth': 0.1}\n"
     ]
    },
    {
     "name": "stderr",
     "output_type": "stream",
     "text": [
      "2021-02-18 20:14:28,568 - stpipe.SkyMatchStep - INFO -  \n"
     ]
    },
    {
     "name": "stderr",
     "output_type": "stream",
     "text": [
      "2021-02-18 20:14:28,569 - stpipe.SkyMatchStep - INFO - ***** jwst.skymatch.skymatch.match() started on 2021-02-18 20:14:28.568351\n"
     ]
    },
    {
     "name": "stderr",
     "output_type": "stream",
     "text": [
      "2021-02-18 20:14:28,569 - stpipe.SkyMatchStep - INFO -  \n"
     ]
    },
    {
     "name": "stderr",
     "output_type": "stream",
     "text": [
      "2021-02-18 20:14:28,569 - stpipe.SkyMatchStep - INFO - Sky computation method: 'match'\n"
     ]
    },
    {
     "name": "stderr",
     "output_type": "stream",
     "text": [
      "2021-02-18 20:14:28,570 - stpipe.SkyMatchStep - INFO - Sky matching direction: DOWN\n"
     ]
    },
    {
     "name": "stderr",
     "output_type": "stream",
     "text": [
      "2021-02-18 20:14:28,570 - stpipe.SkyMatchStep - INFO - Sky subtraction from image data: ON\n"
     ]
    },
    {
     "name": "stderr",
     "output_type": "stream",
     "text": [
      "2021-02-18 20:14:28,570 - stpipe.SkyMatchStep - INFO -  \n"
     ]
    },
    {
     "name": "stderr",
     "output_type": "stream",
     "text": [
      "2021-02-18 20:14:28,571 - stpipe.SkyMatchStep - INFO - ----  Computing differences in sky values in overlapping regions.\n"
     ]
    },
    {
     "name": "stderr",
     "output_type": "stream",
     "text": [
      "2021-02-18 20:14:30,085 - stpipe.SkyMatchStep - INFO -    *  Image ID=det_image_seq1_MIRIMAGE_F560Wexp1_cal_skymatch.fits. Sky background: 0.00524547 (old=0, delta=0.00524547)\n"
     ]
    },
    {
     "name": "stderr",
     "output_type": "stream",
     "text": [
      "2021-02-18 20:14:30,086 - stpipe.SkyMatchStep - INFO -    *  Image ID=det_image_seq2_MIRIMAGE_F560Wexp1_cal_skymatch.fits. Sky background: 1.00647 (old=0, delta=1.00647)\n"
     ]
    },
    {
     "name": "stderr",
     "output_type": "stream",
     "text": [
      "2021-02-18 20:14:30,088 - stpipe.SkyMatchStep - INFO -    *  Image ID=det_image_seq3_MIRIMAGE_F560Wexp1_cal_skymatch.fits. Sky background: 2.91632 (old=0, delta=2.91632)\n"
     ]
    },
    {
     "name": "stderr",
     "output_type": "stream",
     "text": [
      "2021-02-18 20:14:30,089 - stpipe.SkyMatchStep - INFO -    *  Image ID=det_image_seq4_MIRIMAGE_F560Wexp1_cal_skymatch.fits. Sky background: 0 (old=0, delta=0)\n"
     ]
    },
    {
     "name": "stderr",
     "output_type": "stream",
     "text": [
      "2021-02-18 20:14:30,090 - stpipe.SkyMatchStep - INFO -  \n"
     ]
    },
    {
     "name": "stderr",
     "output_type": "stream",
     "text": [
      "2021-02-18 20:14:30,090 - stpipe.SkyMatchStep - INFO - ***** jwst.skymatch.skymatch.match() ended on 2021-02-18 20:14:30.090197\n"
     ]
    },
    {
     "name": "stderr",
     "output_type": "stream",
     "text": [
      "2021-02-18 20:14:30,091 - stpipe.SkyMatchStep - INFO - ***** jwst.skymatch.skymatch.match() TOTAL RUN TIME: 0:00:01.521846\n"
     ]
    },
    {
     "name": "stderr",
     "output_type": "stream",
     "text": [
      "2021-02-18 20:14:30,091 - stpipe.SkyMatchStep - INFO -  \n"
     ]
    },
    {
     "name": "stderr",
     "output_type": "stream",
     "text": [
      "2021-02-18 20:14:30,294 - stpipe.SkyMatchStep - INFO - Saved model in MIRI_0_skymatchstep.fits\n"
     ]
    },
    {
     "name": "stderr",
     "output_type": "stream",
     "text": [
      "2021-02-18 20:14:30,469 - stpipe.SkyMatchStep - INFO - Saved model in MIRI_1_skymatchstep.fits\n"
     ]
    },
    {
     "name": "stderr",
     "output_type": "stream",
     "text": [
      "2021-02-18 20:14:30,686 - stpipe.SkyMatchStep - INFO - Saved model in MIRI_2_skymatchstep.fits\n"
     ]
    },
    {
     "name": "stderr",
     "output_type": "stream",
     "text": [
      "2021-02-18 20:14:30,903 - stpipe.SkyMatchStep - INFO - Saved model in MIRI_3_skymatchstep.fits\n"
     ]
    },
    {
     "name": "stderr",
     "output_type": "stream",
     "text": [
      "2021-02-18 20:14:30,904 - stpipe.SkyMatchStep - INFO - Step SkyMatchStep done\n"
     ]
    },
    {
     "data": {
      "text/plain": [
       "<ModelContainer>"
      ]
     },
     "execution_count": 1,
     "metadata": {},
     "output_type": "execute_result"
    }
   ],
   "source": [
    "# skymatch, match down, subtract = True\n",
    "jwst.skymatch.skymatch_step.SkyMatchStep.call(skymatch_json_file2, skymethod='match', match_down=True,subtract=True,output_file='MIRI',save_results=True)"
   ]
  },
  {
   "cell_type": "code",
   "execution_count": 25,
   "metadata": {
    "execution": {
     "iopub.execute_input": "2021-02-19T01:14:30.915820Z",
     "iopub.status.busy": "2021-02-19T01:14:30.911877Z",
     "iopub.status.idle": "2021-02-19T01:14:31.474133Z",
     "shell.execute_reply": "2021-02-19T01:14:31.474470Z"
    }
   },
   "outputs": [
    {
     "name": "stdout",
     "output_type": "stream",
     "text": [
      "Mean: original, new (match down)\n",
      "Mean: 1.9998354 , 1.9945904\n",
      "Mean: 2.9997911 , 1.9933224\n",
      "Mean: 4.999382 , 2.0830631\n",
      "Mean: 1.9998354 , 1.9998354\n"
     ]
    }
   ],
   "source": [
    "img01_1_new = datamodels.open('MIRI_0_skymatchstep.fits')\n",
    "img01_2_new = datamodels.open('MIRI_1_skymatchstep.fits')\n",
    "img02_1_new = datamodels.open('MIRI_2_skymatchstep.fits')\n",
    "img02_2_new = datamodels.open('MIRI_3_skymatchstep.fits')\n",
    "\n",
    "print('Mean: original, new (match down)')\n",
    "print('Mean:',np.mean(img01_1.data),',', np.mean(img01_1_new.data))\n",
    "print('Mean:',np.mean(img01_2.data),',', np.mean(img01_2_new.data))\n",
    "print('Mean:',np.mean(img02_1.data),',', np.mean(img02_1_new.data))\n",
    "print('Mean:',np.mean(img02_2.data),',', np.mean(img02_2_new.data))"
   ]
  },
  {
   "cell_type": "markdown",
   "metadata": {},
   "source": [
    "### ** Check that all output (new) sky values are equal to the lowest original sky value "
   ]
  },
  {
   "cell_type": "markdown",
   "metadata": {},
   "source": [
    "##### Notes: ‘match’: compute differences in sky values between images and/or groups in (pair-wise) common sky regions. In this case computed sky values will be relative (delta) to the sky computed in one of the input images whose sky value will be set to (reported to be) 0. This case matches to the lowest sky value."
   ]
  },
  {
   "cell_type": "markdown",
   "metadata": {},
   "source": [
    "### 2.4 skymethod = 'match', match_down=False"
   ]
  },
  {
   "cell_type": "code",
   "execution_count": 26,
   "metadata": {
    "execution": {
     "iopub.execute_input": "2021-02-19T01:14:31.486434Z",
     "iopub.status.busy": "2021-02-19T01:14:31.481334Z",
     "iopub.status.idle": "2021-02-19T01:14:34.569435Z",
     "shell.execute_reply": "2021-02-19T01:14:34.569097Z"
    }
   },
   "outputs": [
    {
     "name": "stderr",
     "output_type": "stream",
     "text": [
      "2021-02-18 20:14:31,829 - CRDS - ERROR -  Error determining best reference for 'pars-skymatchstep'  =   Unknown reference type 'pars-skymatchstep'\n"
     ]
    },
    {
     "name": "stderr",
     "output_type": "stream",
     "text": [
      "2021-02-18 20:14:31,831 - stpipe.SkyMatchStep - INFO - SkyMatchStep instance created.\n"
     ]
    },
    {
     "name": "stderr",
     "output_type": "stream",
     "text": [
      "2021-02-18 20:14:31,953 - stpipe.SkyMatchStep - INFO - Step SkyMatchStep running with args ('skymatch_asnfile2.json',).\n"
     ]
    },
    {
     "name": "stderr",
     "output_type": "stream",
     "text": [
      "2021-02-18 20:14:31,954 - stpipe.SkyMatchStep - INFO - Step SkyMatchStep parameters are: {'pre_hooks': [], 'post_hooks': [], 'output_file': '/data1/jenkins/workspace/Notebooks/jwst_validation_notebooks_spacetelescope/tmp/tmp9sk87zsv/MIRI', 'output_dir': None, 'output_ext': '.fits', 'output_use_model': False, 'output_use_index': True, 'save_results': True, 'skip': False, 'suffix': None, 'search_output_file': True, 'input_dir': '', 'skymethod': 'match', 'match_down': False, 'subtract': True, 'stepsize': None, 'skystat': 'mode', 'dqbits': '0', 'lower': None, 'upper': None, 'nclip': 5, 'lsigma': 4.0, 'usigma': 4.0, 'binwidth': 0.1}\n"
     ]
    },
    {
     "name": "stderr",
     "output_type": "stream",
     "text": [
      "2021-02-18 20:14:32,292 - stpipe.SkyMatchStep - INFO -  \n"
     ]
    },
    {
     "name": "stderr",
     "output_type": "stream",
     "text": [
      "2021-02-18 20:14:32,293 - stpipe.SkyMatchStep - INFO - ***** jwst.skymatch.skymatch.match() started on 2021-02-18 20:14:32.292722\n"
     ]
    },
    {
     "name": "stderr",
     "output_type": "stream",
     "text": [
      "2021-02-18 20:14:32,294 - stpipe.SkyMatchStep - INFO -  \n"
     ]
    },
    {
     "name": "stderr",
     "output_type": "stream",
     "text": [
      "2021-02-18 20:14:32,294 - stpipe.SkyMatchStep - INFO - Sky computation method: 'match'\n"
     ]
    },
    {
     "name": "stderr",
     "output_type": "stream",
     "text": [
      "2021-02-18 20:14:32,294 - stpipe.SkyMatchStep - INFO - Sky matching direction: UP\n"
     ]
    },
    {
     "name": "stderr",
     "output_type": "stream",
     "text": [
      "2021-02-18 20:14:32,295 - stpipe.SkyMatchStep - INFO - Sky subtraction from image data: ON\n"
     ]
    },
    {
     "name": "stderr",
     "output_type": "stream",
     "text": [
      "2021-02-18 20:14:32,295 - stpipe.SkyMatchStep - INFO -  \n"
     ]
    },
    {
     "name": "stderr",
     "output_type": "stream",
     "text": [
      "2021-02-18 20:14:32,295 - stpipe.SkyMatchStep - INFO - ----  Computing differences in sky values in overlapping regions.\n"
     ]
    },
    {
     "name": "stderr",
     "output_type": "stream",
     "text": [
      "2021-02-18 20:14:33,807 - stpipe.SkyMatchStep - INFO -    *  Image ID=det_image_seq1_MIRIMAGE_F560Wexp1_cal_skymatch.fits. Sky background: -2.91107 (old=0, delta=-2.91107)\n"
     ]
    },
    {
     "name": "stderr",
     "output_type": "stream",
     "text": [
      "2021-02-18 20:14:33,809 - stpipe.SkyMatchStep - INFO -    *  Image ID=det_image_seq2_MIRIMAGE_F560Wexp1_cal_skymatch.fits. Sky background: -1.90985 (old=0, delta=-1.90985)\n"
     ]
    },
    {
     "name": "stderr",
     "output_type": "stream",
     "text": [
      "2021-02-18 20:14:33,811 - stpipe.SkyMatchStep - INFO -    *  Image ID=det_image_seq3_MIRIMAGE_F560Wexp1_cal_skymatch.fits. Sky background: 0 (old=0, delta=0)\n"
     ]
    },
    {
     "name": "stderr",
     "output_type": "stream",
     "text": [
      "2021-02-18 20:14:33,812 - stpipe.SkyMatchStep - INFO -    *  Image ID=det_image_seq4_MIRIMAGE_F560Wexp1_cal_skymatch.fits. Sky background: -2.91632 (old=0, delta=-2.91632)\n"
     ]
    },
    {
     "name": "stderr",
     "output_type": "stream",
     "text": [
      "2021-02-18 20:14:33,812 - stpipe.SkyMatchStep - INFO -  \n"
     ]
    },
    {
     "name": "stderr",
     "output_type": "stream",
     "text": [
      "2021-02-18 20:14:33,813 - stpipe.SkyMatchStep - INFO - ***** jwst.skymatch.skymatch.match() ended on 2021-02-18 20:14:33.812912\n"
     ]
    },
    {
     "name": "stderr",
     "output_type": "stream",
     "text": [
      "2021-02-18 20:14:33,813 - stpipe.SkyMatchStep - INFO - ***** jwst.skymatch.skymatch.match() TOTAL RUN TIME: 0:00:01.520190\n"
     ]
    },
    {
     "name": "stderr",
     "output_type": "stream",
     "text": [
      "2021-02-18 20:14:33,813 - stpipe.SkyMatchStep - INFO -  \n"
     ]
    },
    {
     "name": "stderr",
     "output_type": "stream",
     "text": [
      "2021-02-18 20:14:34,014 - stpipe.SkyMatchStep - INFO - Saved model in MIRI_0_skymatchstep.fits\n"
     ]
    },
    {
     "name": "stderr",
     "output_type": "stream",
     "text": [
      "2021-02-18 20:14:34,195 - stpipe.SkyMatchStep - INFO - Saved model in MIRI_1_skymatchstep.fits\n"
     ]
    },
    {
     "name": "stderr",
     "output_type": "stream",
     "text": [
      "2021-02-18 20:14:34,387 - stpipe.SkyMatchStep - INFO - Saved model in MIRI_2_skymatchstep.fits\n"
     ]
    },
    {
     "name": "stderr",
     "output_type": "stream",
     "text": [
      "2021-02-18 20:14:34,563 - stpipe.SkyMatchStep - INFO - Saved model in MIRI_3_skymatchstep.fits\n"
     ]
    },
    {
     "name": "stderr",
     "output_type": "stream",
     "text": [
      "2021-02-18 20:14:34,564 - stpipe.SkyMatchStep - INFO - Step SkyMatchStep done\n"
     ]
    },
    {
     "data": {
      "text/plain": [
       "<ModelContainer>"
      ]
     },
     "execution_count": 1,
     "metadata": {},
     "output_type": "execute_result"
    }
   ],
   "source": [
    "# skymatch, match up, subtract = True\n",
    "jwst.skymatch.skymatch_step.SkyMatchStep.call(skymatch_json_file2, skymethod='match', match_down=False,subtract=True,output_file='MIRI',save_results=True)"
   ]
  },
  {
   "cell_type": "code",
   "execution_count": 27,
   "metadata": {
    "execution": {
     "iopub.execute_input": "2021-02-19T01:14:34.573258Z",
     "iopub.status.busy": "2021-02-19T01:14:34.572952Z",
     "iopub.status.idle": "2021-02-19T01:14:35.155056Z",
     "shell.execute_reply": "2021-02-19T01:14:35.154684Z"
    }
   },
   "outputs": [
    {
     "name": "stdout",
     "output_type": "stream",
     "text": [
      "Mean: original, new (match up)\n",
      "Mean: 1.9998354 , 4.910908\n",
      "Mean: 2.9997911 , 4.9096413\n",
      "Mean: 4.999382 , 4.999382\n",
      "Mean: 1.9998354 , 4.9161553\n"
     ]
    }
   ],
   "source": [
    "img01_1_new = datamodels.open('MIRI_0_skymatchstep.fits')\n",
    "img01_2_new = datamodels.open('MIRI_1_skymatchstep.fits')\n",
    "img02_1_new = datamodels.open('MIRI_2_skymatchstep.fits')\n",
    "img02_2_new = datamodels.open('MIRI_3_skymatchstep.fits')\n",
    "\n",
    "print('Mean: original, new (match up)')\n",
    "print('Mean:',np.mean(img01_1.data),',', np.mean(img01_1_new.data))\n",
    "print('Mean:',np.mean(img01_2.data),',', np.mean(img01_2_new.data))\n",
    "print('Mean:',np.mean(img02_1.data),',', np.mean(img02_1_new.data))\n",
    "print('Mean:',np.mean(img02_2.data),',', np.mean(img02_2_new.data))"
   ]
  },
  {
   "cell_type": "markdown",
   "metadata": {},
   "source": [
    "### ** Check that all output (new) sky values are equal to the highest original sky value "
   ]
  },
  {
   "cell_type": "markdown",
   "metadata": {},
   "source": [
    "##### Notes: ‘match’: compute differences in sky values between images and/or groups in (pair-wise) common sky regions. In this case computed sky values will be relative (delta) to the sky computed in one of the input images whose sky value will be set to (reported to be) 0. This case matches to the highest sky value."
   ]
  },
  {
   "cell_type": "markdown",
   "metadata": {},
   "source": [
    "### 2.5 skymethod = 'global+match'"
   ]
  },
  {
   "cell_type": "code",
   "execution_count": 28,
   "metadata": {
    "execution": {
     "iopub.execute_input": "2021-02-19T01:14:35.171833Z",
     "iopub.status.busy": "2021-02-19T01:14:35.166725Z",
     "iopub.status.idle": "2021-02-19T01:14:38.363597Z",
     "shell.execute_reply": "2021-02-19T01:14:38.363305Z"
    }
   },
   "outputs": [
    {
     "name": "stderr",
     "output_type": "stream",
     "text": [
      "2021-02-18 20:14:35,520 - CRDS - ERROR -  Error determining best reference for 'pars-skymatchstep'  =   Unknown reference type 'pars-skymatchstep'\n"
     ]
    },
    {
     "name": "stderr",
     "output_type": "stream",
     "text": [
      "2021-02-18 20:14:35,522 - stpipe.SkyMatchStep - INFO - SkyMatchStep instance created.\n"
     ]
    },
    {
     "name": "stderr",
     "output_type": "stream",
     "text": [
      "2021-02-18 20:14:35,653 - stpipe.SkyMatchStep - INFO - Step SkyMatchStep running with args ('skymatch_asnfile2.json',).\n"
     ]
    },
    {
     "name": "stderr",
     "output_type": "stream",
     "text": [
      "2021-02-18 20:14:35,654 - stpipe.SkyMatchStep - INFO - Step SkyMatchStep parameters are: {'pre_hooks': [], 'post_hooks': [], 'output_file': '/data1/jenkins/workspace/Notebooks/jwst_validation_notebooks_spacetelescope/tmp/tmp9sk87zsv/MIRI', 'output_dir': None, 'output_ext': '.fits', 'output_use_model': False, 'output_use_index': True, 'save_results': True, 'skip': False, 'suffix': None, 'search_output_file': True, 'input_dir': '', 'skymethod': 'global+match', 'match_down': True, 'subtract': True, 'stepsize': None, 'skystat': 'mode', 'dqbits': '0', 'lower': None, 'upper': None, 'nclip': 5, 'lsigma': 4.0, 'usigma': 4.0, 'binwidth': 0.1}\n"
     ]
    },
    {
     "name": "stderr",
     "output_type": "stream",
     "text": [
      "2021-02-18 20:14:35,980 - stpipe.SkyMatchStep - INFO -  \n"
     ]
    },
    {
     "name": "stderr",
     "output_type": "stream",
     "text": [
      "2021-02-18 20:14:35,981 - stpipe.SkyMatchStep - INFO - ***** jwst.skymatch.skymatch.match() started on 2021-02-18 20:14:35.980808\n"
     ]
    },
    {
     "name": "stderr",
     "output_type": "stream",
     "text": [
      "2021-02-18 20:14:35,981 - stpipe.SkyMatchStep - INFO -  \n"
     ]
    },
    {
     "name": "stderr",
     "output_type": "stream",
     "text": [
      "2021-02-18 20:14:35,982 - stpipe.SkyMatchStep - INFO - Sky computation method: 'global+match'\n"
     ]
    },
    {
     "name": "stderr",
     "output_type": "stream",
     "text": [
      "2021-02-18 20:14:35,982 - stpipe.SkyMatchStep - INFO - Sky matching direction: DOWN\n"
     ]
    },
    {
     "name": "stderr",
     "output_type": "stream",
     "text": [
      "2021-02-18 20:14:35,982 - stpipe.SkyMatchStep - INFO - Sky subtraction from image data: ON\n"
     ]
    },
    {
     "name": "stderr",
     "output_type": "stream",
     "text": [
      "2021-02-18 20:14:35,983 - stpipe.SkyMatchStep - INFO -  \n"
     ]
    },
    {
     "name": "stderr",
     "output_type": "stream",
     "text": [
      "2021-02-18 20:14:35,983 - stpipe.SkyMatchStep - INFO - ----  Computing differences in sky values in overlapping regions.\n"
     ]
    },
    {
     "name": "stderr",
     "output_type": "stream",
     "text": [
      "2021-02-18 20:14:37,506 - stpipe.SkyMatchStep - INFO -    *  Image ID=det_image_seq1_MIRIMAGE_F560Wexp1_cal_skymatch.fits. Sky background: 0.00524547 (old=0, delta=0.00524547)\n"
     ]
    },
    {
     "name": "stderr",
     "output_type": "stream",
     "text": [
      "2021-02-18 20:14:37,508 - stpipe.SkyMatchStep - INFO -    *  Image ID=det_image_seq2_MIRIMAGE_F560Wexp1_cal_skymatch.fits. Sky background: 1.00647 (old=0, delta=1.00647)\n"
     ]
    },
    {
     "name": "stderr",
     "output_type": "stream",
     "text": [
      "2021-02-18 20:14:37,509 - stpipe.SkyMatchStep - INFO -    *  Image ID=det_image_seq3_MIRIMAGE_F560Wexp1_cal_skymatch.fits. Sky background: 2.91632 (old=0, delta=2.91632)\n"
     ]
    },
    {
     "name": "stderr",
     "output_type": "stream",
     "text": [
      "2021-02-18 20:14:37,511 - stpipe.SkyMatchStep - INFO -    *  Image ID=det_image_seq4_MIRIMAGE_F560Wexp1_cal_skymatch.fits. Sky background: 0 (old=0, delta=0)\n"
     ]
    },
    {
     "name": "stderr",
     "output_type": "stream",
     "text": [
      "2021-02-18 20:14:37,511 - stpipe.SkyMatchStep - INFO -  \n"
     ]
    },
    {
     "name": "stderr",
     "output_type": "stream",
     "text": [
      "2021-02-18 20:14:37,512 - stpipe.SkyMatchStep - INFO - ----  Computing \"global\" sky - smallest sky value across *all* input images.\n"
     ]
    },
    {
     "name": "stderr",
     "output_type": "stream",
     "text": [
      "2021-02-18 20:14:37,586 - stpipe.SkyMatchStep - INFO -  \n"
     ]
    },
    {
     "name": "stderr",
     "output_type": "stream",
     "text": [
      "2021-02-18 20:14:37,586 - stpipe.SkyMatchStep - INFO -    \"Global\" sky value correction: 1.9619332001080498 [not converted]\n"
     ]
    },
    {
     "name": "stderr",
     "output_type": "stream",
     "text": [
      "2021-02-18 20:14:37,586 - stpipe.SkyMatchStep - INFO -  \n"
     ]
    },
    {
     "name": "stderr",
     "output_type": "stream",
     "text": [
      "2021-02-18 20:14:37,587 - stpipe.SkyMatchStep - INFO - ----  Final (match+global) sky for:\n"
     ]
    },
    {
     "name": "stderr",
     "output_type": "stream",
     "text": [
      "2021-02-18 20:14:37,588 - stpipe.SkyMatchStep - INFO -    *  Image ID=det_image_seq1_MIRIMAGE_F560Wexp1_cal_skymatch.fits. Sky background: 1.96718 (old=0.00524547, delta=1.96193)\n"
     ]
    },
    {
     "name": "stderr",
     "output_type": "stream",
     "text": [
      "2021-02-18 20:14:37,590 - stpipe.SkyMatchStep - INFO -    *  Image ID=det_image_seq2_MIRIMAGE_F560Wexp1_cal_skymatch.fits. Sky background: 2.9684 (old=1.00647, delta=1.96193)\n"
     ]
    },
    {
     "name": "stderr",
     "output_type": "stream",
     "text": [
      "2021-02-18 20:14:37,591 - stpipe.SkyMatchStep - INFO -    *  Image ID=det_image_seq3_MIRIMAGE_F560Wexp1_cal_skymatch.fits. Sky background: 4.87825 (old=2.91632, delta=1.96193)\n"
     ]
    },
    {
     "name": "stderr",
     "output_type": "stream",
     "text": [
      "2021-02-18 20:14:37,593 - stpipe.SkyMatchStep - INFO -    *  Image ID=det_image_seq4_MIRIMAGE_F560Wexp1_cal_skymatch.fits. Sky background: 1.96193 (old=0, delta=1.96193)\n"
     ]
    },
    {
     "name": "stderr",
     "output_type": "stream",
     "text": [
      "2021-02-18 20:14:37,593 - stpipe.SkyMatchStep - INFO -  \n"
     ]
    },
    {
     "name": "stderr",
     "output_type": "stream",
     "text": [
      "2021-02-18 20:14:37,594 - stpipe.SkyMatchStep - INFO - ***** jwst.skymatch.skymatch.match() ended on 2021-02-18 20:14:37.593885\n"
     ]
    },
    {
     "name": "stderr",
     "output_type": "stream",
     "text": [
      "2021-02-18 20:14:37,594 - stpipe.SkyMatchStep - INFO - ***** jwst.skymatch.skymatch.match() TOTAL RUN TIME: 0:00:01.613077\n"
     ]
    },
    {
     "name": "stderr",
     "output_type": "stream",
     "text": [
      "2021-02-18 20:14:37,594 - stpipe.SkyMatchStep - INFO -  \n"
     ]
    },
    {
     "name": "stderr",
     "output_type": "stream",
     "text": [
      "2021-02-18 20:14:37,807 - stpipe.SkyMatchStep - INFO - Saved model in MIRI_0_skymatchstep.fits\n"
     ]
    },
    {
     "name": "stderr",
     "output_type": "stream",
     "text": [
      "2021-02-18 20:14:37,987 - stpipe.SkyMatchStep - INFO - Saved model in MIRI_1_skymatchstep.fits\n"
     ]
    },
    {
     "name": "stderr",
     "output_type": "stream",
     "text": [
      "2021-02-18 20:14:38,175 - stpipe.SkyMatchStep - INFO - Saved model in MIRI_2_skymatchstep.fits\n"
     ]
    },
    {
     "name": "stderr",
     "output_type": "stream",
     "text": [
      "2021-02-18 20:14:38,358 - stpipe.SkyMatchStep - INFO - Saved model in MIRI_3_skymatchstep.fits\n"
     ]
    },
    {
     "name": "stderr",
     "output_type": "stream",
     "text": [
      "2021-02-18 20:14:38,359 - stpipe.SkyMatchStep - INFO - Step SkyMatchStep done\n"
     ]
    },
    {
     "data": {
      "text/plain": [
       "<ModelContainer>"
      ]
     },
     "execution_count": 1,
     "metadata": {},
     "output_type": "execute_result"
    }
   ],
   "source": [
    "# skymatch, global+match, subtract = True\n",
    "jwst.skymatch.skymatch_step.SkyMatchStep.call(skymatch_json_file2, skymethod='global+match', match_down=True,subtract=True,output_file='MIRI',save_results=True)"
   ]
  },
  {
   "cell_type": "code",
   "execution_count": 29,
   "metadata": {
    "execution": {
     "iopub.execute_input": "2021-02-19T01:14:38.368469Z",
     "iopub.status.busy": "2021-02-19T01:14:38.368162Z",
     "iopub.status.idle": "2021-02-19T01:14:38.916199Z",
     "shell.execute_reply": "2021-02-19T01:14:38.915828Z"
    }
   },
   "outputs": [
    {
     "name": "stdout",
     "output_type": "stream",
     "text": [
      "Mean: original, new (global+match)\n",
      "Mean: 1.9998354 , 0.03265695\n",
      "Mean: 2.9997911 , 0.031388853\n",
      "Mean: 4.999382 , 0.1211297\n",
      "Mean: 1.9998354 , 0.037902396\n"
     ]
    }
   ],
   "source": [
    "img01_1_new = datamodels.open('MIRI_0_skymatchstep.fits')\n",
    "img01_2_new = datamodels.open('MIRI_1_skymatchstep.fits')\n",
    "img02_1_new = datamodels.open('MIRI_2_skymatchstep.fits')\n",
    "img02_2_new = datamodels.open('MIRI_3_skymatchstep.fits')\n",
    "\n",
    "print('Mean: original, new (global+match)')\n",
    "print('Mean:',np.mean(img01_1.data),',', np.mean(img01_1_new.data))\n",
    "print('Mean:',np.mean(img01_2.data),',', np.mean(img01_2_new.data))\n",
    "print('Mean:',np.mean(img02_1.data),',', np.mean(img02_1_new.data))\n",
    "print('Mean:',np.mean(img02_2.data),',', np.mean(img02_2_new.data))"
   ]
  },
  {
   "cell_type": "markdown",
   "metadata": {},
   "source": [
    "### ** Check that all output (new) sky values are around zero (within a standard deviation)"
   ]
  },
  {
   "cell_type": "markdown",
   "metadata": {
    "collapsed": true
   },
   "source": [
    "##### Notes: ‘global+match’: first use ‘match’ method to equalize sky values between images and then find a minimum “global” sky value in all input images.\n"
   ]
  }
 ],
 "metadata": {
  "anaconda-cloud": {},
  "kernelspec": {
   "display_name": "Python 3",
   "language": "python",
   "name": "python3"
  },
  "language_info": {
   "codemirror_mode": {
    "name": "ipython",
    "version": 3
   },
   "file_extension": ".py",
   "mimetype": "text/x-python",
   "name": "python",
   "nbconvert_exporter": "python",
   "pygments_lexer": "ipython3",
   "version": "3.8.6"
  }
 },
 "nbformat": 4,
 "nbformat_minor": 2
}
