{
 "cells": [
  {
   "cell_type": "markdown",
   "metadata": {},
   "source": [
    "<a id=\"title_ID\"></a>\n",
    "# JWST Pipeline Validation Notebook: skymatch with MIRI\n",
    "\n",
    "<span style=\"color:red\"> **Instruments Affected**</span>: MIRI, NIRCam \n",
    "\n",
    "\n",
    "Tested on MIRI Simulated data\n",
    "\n",
    "### Table of Contents\n",
    "<div style=\"text-align: left\"> \n",
    "\n",
    "<br>  [Introduction](#intro_ID) <br> [Imports](#imports_ID) <br> [Set up association files](#associations_ID) <br> [Insert outliers](#outliers_ID) <br> [Run Pipeline](#pipeline_ID) \n",
    "\n",
    "\n",
    "</div>"
   ]
  },
  {
   "cell_type": "markdown",
   "metadata": {},
   "source": [
    "<a id=\"intro_ID\"></a>\n",
    "## Introduction\n",
    "\n",
    "This notebook processes level 2 images through the calwebb_image3 skymatch step and examines outputs for different sky method parameters.\n",
    "\n",
    "1) Set up data path and image list file.\n",
    "\n",
    "2) Set up association files.\n",
    "\n",
    "3) Modify average backgrould level of input images.\n",
    "\n",
    "4) Run skymatch step on images.\n",
    "\n",
    "5) Run skymatch for each skymethod parameter (local, global, match, global+match). \n",
    "\n",
    "6) Testing other parameters (nclip, usigma, lsigma, lower, upper, skystat). \n",
    "\n",
    "\n",
    "These steps are set up with simulated MIRI F560W data of the LMC astrometric field.\n",
    "\n",
    "The pipeline documentation can be found here: https://jwst-pipeline.readthedocs.io/en/latest/jwst/skymatch/README.html\n",
    "\n",
    "The pipeline code is available on GitHub: https://github.com/spacetelescope/jwst\n",
    "\n",
    "Author: T. Temim"
   ]
  },
  {
   "cell_type": "code",
   "execution_count": 1,
   "metadata": {
    "execution": {
     "iopub.execute_input": "2021-04-24T02:48:20.353743Z",
     "iopub.status.busy": "2021-04-24T02:48:20.353416Z",
     "iopub.status.idle": "2021-04-24T02:48:20.356812Z",
     "shell.execute_reply": "2021-04-24T02:48:20.356437Z"
    }
   },
   "outputs": [],
   "source": [
    "# Create a temporary directory to hold notebook output, and change the working directory to that directory.\n",
    "from tempfile import TemporaryDirectory\n",
    "import os\n",
    "data_dir = TemporaryDirectory()\n",
    "os.chdir(data_dir.name)"
   ]
  },
  {
   "cell_type": "markdown",
   "metadata": {},
   "source": [
    "<a id=\"imports_ID\"></a>\n",
    "### Set up import statements\n",
    "\n",
    "The following packages are needed to run this notebook:\n",
    "* jwst to run the pipeline \n",
    "* matplotlib to plot\n",
    "* ci_watson to retrieve data from artifactory\n"
   ]
  },
  {
   "cell_type": "code",
   "execution_count": 2,
   "metadata": {
    "execution": {
     "iopub.execute_input": "2021-04-24T02:48:20.360369Z",
     "iopub.status.busy": "2021-04-24T02:48:20.360044Z",
     "iopub.status.idle": "2021-04-24T02:48:21.253758Z",
     "shell.execute_reply": "2021-04-24T02:48:21.253399Z"
    }
   },
   "outputs": [],
   "source": [
    "import pytest\n",
    "from astropy.io import fits\n",
    "import numpy as np\n",
    "import matplotlib\n",
    "import matplotlib.pyplot as plt\n",
    "%matplotlib inline\n",
    "import jwst\n",
    "import json\n",
    "from jwst.skymatch import skymatch\n",
    "from jwst.skymatch.skyimage import SkyImage\n",
    "from jwst.associations.lib.rules_level3_base import DMS_Level3_Base\n",
    "from jwst.associations import asn_from_list\n",
    "from jwst import datamodels\n",
    "from matplotlib import rcParams\n",
    "from ci_watson.artifactory_helpers import get_bigdata"
   ]
  },
  {
   "cell_type": "code",
   "execution_count": 3,
   "metadata": {
    "execution": {
     "iopub.execute_input": "2021-04-24T02:48:21.256295Z",
     "iopub.status.busy": "2021-04-24T02:48:21.255983Z",
     "iopub.status.idle": "2021-04-24T02:48:21.257833Z",
     "shell.execute_reply": "2021-04-24T02:48:21.257564Z"
    }
   },
   "outputs": [],
   "source": [
    "import os\n",
    "os.environ['CRDS_CONTEXT']='jwst_0619.pmap'"
   ]
  },
  {
   "cell_type": "markdown",
   "metadata": {},
   "source": [
    "### Print pipeline version number"
   ]
  },
  {
   "cell_type": "code",
   "execution_count": 4,
   "metadata": {
    "execution": {
     "iopub.execute_input": "2021-04-24T02:48:21.261466Z",
     "iopub.status.busy": "2021-04-24T02:48:21.261168Z",
     "iopub.status.idle": "2021-04-24T02:48:21.263470Z",
     "shell.execute_reply": "2021-04-24T02:48:21.263148Z"
    }
   },
   "outputs": [
    {
     "data": {
      "text/plain": [
       "'1.1.0'"
      ]
     },
     "execution_count": 1,
     "metadata": {},
     "output_type": "execute_result"
    }
   ],
   "source": [
    "jwst.__version__ "
   ]
  },
  {
   "cell_type": "markdown",
   "metadata": {},
   "source": [
    "### Retrieve data from Artifactory"
   ]
  },
  {
   "cell_type": "code",
   "execution_count": 5,
   "metadata": {
    "execution": {
     "iopub.execute_input": "2021-04-24T02:48:21.266396Z",
     "iopub.status.busy": "2021-04-24T02:48:21.266082Z",
     "iopub.status.idle": "2021-04-24T02:48:22.819328Z",
     "shell.execute_reply": "2021-04-24T02:48:22.819016Z"
    }
   },
   "outputs": [],
   "source": [
    "input_file1 = get_bigdata('jwst_validation_notebooks',\n",
    "                     'validation_data',\n",
    "                     'outlier_detection',\n",
    "                     'outlier_detection_miri_test', \n",
    "                     'det_image_seq1_MIRIMAGE_F560Wexp1_cal.fits')\n",
    "input_file2 = get_bigdata('jwst_validation_notebooks',\n",
    "                     'validation_data',\n",
    "                     'outlier_detection',\n",
    "                     'outlier_detection_miri_test', \n",
    "                     'det_image_seq2_MIRIMAGE_F560Wexp1_cal.fits')\n",
    "input_file3 = get_bigdata('jwst_validation_notebooks',\n",
    "                     'validation_data',\n",
    "                     'outlier_detection',\n",
    "                     'outlier_detection_miri_test', \n",
    "                     'det_image_seq3_MIRIMAGE_F560Wexp1_cal.fits')\n",
    "input_file4 = get_bigdata('jwst_validation_notebooks',\n",
    "                     'validation_data',\n",
    "                     'outlier_detection',\n",
    "                     'outlier_detection_miri_test', \n",
    "                     'det_image_seq4_MIRIMAGE_F560Wexp1_cal.fits')"
   ]
  },
  {
   "cell_type": "code",
   "execution_count": 6,
   "metadata": {
    "execution": {
     "iopub.execute_input": "2021-04-24T02:48:22.824243Z",
     "iopub.status.busy": "2021-04-24T02:48:22.823918Z",
     "iopub.status.idle": "2021-04-24T02:48:22.826518Z",
     "shell.execute_reply": "2021-04-24T02:48:22.826256Z"
    }
   },
   "outputs": [],
   "source": [
    "input_files=[]\n",
    "input_files=[input_file1,input_file2,input_file3,input_file4]\n",
    "\n",
    "imlist1=['det_image_seq1_MIRIMAGE_F560Wexp1_cal.fits','det_image_seq2_MIRIMAGE_F560Wexp1_cal.fits','det_image_seq3_MIRIMAGE_F560Wexp1_cal.fits','det_image_seq4_MIRIMAGE_F560Wexp1_cal.fits']"
   ]
  },
  {
   "cell_type": "markdown",
   "metadata": {},
   "source": [
    "<a id=\"associations_ID\"></a>\n",
    "### Set up association files\n",
    "The level three pipeline relies on an association file to specify which files are to be combined and provide the output file name.\n",
    "\n",
    "[Top of Page](#title_ID)"
   ]
  },
  {
   "cell_type": "code",
   "execution_count": 7,
   "metadata": {
    "execution": {
     "iopub.execute_input": "2021-04-24T02:48:22.831175Z",
     "iopub.status.busy": "2021-04-24T02:48:22.830840Z",
     "iopub.status.idle": "2021-04-24T02:48:22.836632Z",
     "shell.execute_reply": "2021-04-24T02:48:22.836296Z"
    }
   },
   "outputs": [],
   "source": [
    "# use asn_from_list to create association table\n",
    "cal_list=imlist1\n",
    "asn = asn_from_list.asn_from_list(cal_list, rule=DMS_Level3_Base, product_name='skymatch_combined.fits')\n",
    "\n",
    "# use this if you need to add non'science' exposure types\n",
    "#asn['products'][0]['members'][1]['exptype'] = 'background'\n",
    "#asn['products'][0]['members'][2]['exptype'] = 'sourcecat'\n",
    "\n",
    "# dump association table to a .json file for use in image3\n",
    "with open('skymatch_asnfile.json', 'w') as fp:\n",
    "    fp.write(asn.dump()[1])\n",
    "\n",
    "skymatch_json_file='skymatch_asnfile.json'\n",
    "    \n",
    "json_file = skymatch_json_file\n",
    "file_list = []\n",
    "file_list2 = []\n",
    "with open(json_file) as json_data:\n",
    "    d = json.load(json_data)\n",
    "    members = d['products'][0]['members']\n",
    "    for item in np.arange(0,len(members)):\n",
    "        file_list.append(members[item]['expname'])\n",
    "        file_list2.append(members[item]['expname'][:-5]+\"_skymatch.fits\")\n",
    "\n",
    "    \n",
    "asn2 = asn_from_list.asn_from_list(file_list2, rule=DMS_Level3_Base, product_name=d['products'][0]['name'])\n",
    "\n",
    "# use this if you need to add non'science' exposure types\n",
    "#asn['products'][0]['members'][1]['exptype'] = 'background'\n",
    "#asn['products'][0]['members'][2]['exptype'] = 'sourcecat'\n",
    "\n",
    "# dump association table to a .json file for use in image3\n",
    "with open('skymatch_asnfile2.json', 'w') as fp:\n",
    "    fp.write(asn2.dump()[1])\n",
    "    \n",
    "skymatch_json_file2='skymatch_asnfile2.json'"
   ]
  },
  {
   "cell_type": "markdown",
   "metadata": {},
   "source": [
    "### Modify average background level of input images"
   ]
  },
  {
   "cell_type": "code",
   "execution_count": 8,
   "metadata": {
    "execution": {
     "iopub.execute_input": "2021-04-24T02:48:22.839018Z",
     "iopub.status.busy": "2021-04-24T02:48:22.838695Z",
     "iopub.status.idle": "2021-04-24T02:48:22.840241Z",
     "shell.execute_reply": "2021-04-24T02:48:22.840482Z"
    }
   },
   "outputs": [],
   "source": [
    "infile01_1 = input_files[0]\n",
    "infile01_2 = input_files[1]\n",
    "infile02_1 = input_files[2]\n",
    "infile02_2 = input_files[3]"
   ]
  },
  {
   "cell_type": "code",
   "execution_count": 9,
   "metadata": {
    "execution": {
     "iopub.execute_input": "2021-04-24T02:48:22.844574Z",
     "iopub.status.busy": "2021-04-24T02:48:22.843135Z",
     "iopub.status.idle": "2021-04-24T02:48:23.718532Z",
     "shell.execute_reply": "2021-04-24T02:48:23.718225Z"
    }
   },
   "outputs": [],
   "source": [
    "img01_1 = datamodels.open(infile01_1)\n",
    "img01_2 = datamodels.open(infile01_2)\n",
    "img02_1 = datamodels.open(infile02_1)\n",
    "img02_2 = datamodels.open(infile02_2)"
   ]
  },
  {
   "cell_type": "code",
   "execution_count": 10,
   "metadata": {
    "execution": {
     "iopub.execute_input": "2021-04-24T02:48:23.721903Z",
     "iopub.status.busy": "2021-04-24T02:48:23.721590Z",
     "iopub.status.idle": "2021-04-24T02:48:23.739344Z",
     "shell.execute_reply": "2021-04-24T02:48:23.739089Z"
    }
   },
   "outputs": [],
   "source": [
    "data01_1 = img01_1.data\n",
    "data01_2 = img01_2.data\n",
    "data02_1 = img02_1.data\n",
    "data02_2 = img02_2.data\n",
    "\n",
    "data01_1[data01_1<=0.3]=np.nan\n",
    "data01_2[data01_2<=0.3]=np.nan\n",
    "data02_1[data02_1<=0.3]=np.nan\n",
    "data02_2[data02_2<=0.3]=np.nan\n",
    "\n",
    "data01_1_orig = np.copy(img01_1.data)\n",
    "data01_2_orig = np.copy(img01_2.data)\n",
    "data02_1_orig = np.copy(img02_1.data)\n",
    "data02_2_orig = np.copy(img02_2.data)"
   ]
  },
  {
   "cell_type": "code",
   "execution_count": 11,
   "metadata": {
    "execution": {
     "iopub.execute_input": "2021-04-24T02:48:23.742367Z",
     "iopub.status.busy": "2021-04-24T02:48:23.742061Z",
     "iopub.status.idle": "2021-04-24T02:48:23.768090Z",
     "shell.execute_reply": "2021-04-24T02:48:23.767830Z"
    }
   },
   "outputs": [
    {
     "name": "stdout",
     "output_type": "stream",
     "text": [
      "Mean: 0.93090874 0.1817127\n",
      "Mean: 0.9362799 0.17500266\n",
      "Mean: 0.9330347 0.17194116\n",
      "Mean: 0.93216574 0.16481434\n"
     ]
    }
   ],
   "source": [
    "# check mean values of background \n",
    "print('Mean:', np.mean(data01_1_orig[data01_1_orig<=4.0]),np.std(data01_1_orig[data01_1_orig<=4.0]))\n",
    "print('Mean:', np.mean(data01_2_orig[data01_2_orig<=4.0]),np.std(data01_2_orig[data01_2_orig<=4.0]))\n",
    "print('Mean:', np.mean(data02_1_orig[data02_1_orig<=4.0]),np.std(data02_1_orig[data02_1_orig<=4.0]))\n",
    "print('Mean:', np.mean(data02_2_orig[data02_2_orig<=4.0]),np.std(data02_2_orig[data02_2_orig<=4.0]))"
   ]
  },
  {
   "cell_type": "code",
   "execution_count": 12,
   "metadata": {
    "execution": {
     "iopub.execute_input": "2021-04-24T02:48:23.771160Z",
     "iopub.status.busy": "2021-04-24T02:48:23.770857Z",
     "iopub.status.idle": "2021-04-24T02:48:24.007023Z",
     "shell.execute_reply": "2021-04-24T02:48:24.006684Z"
    }
   },
   "outputs": [],
   "source": [
    "# creating a background image with specified mean and gaussian noise with sigma = 1.0\n",
    "bkg_img_noise_neg2 = np.random.normal(-2,2*0.2,data01_1.shape)\n",
    "bkg_img_noise_2 = np.random.normal(2,2*0.2,data01_1.shape)\n",
    "bkg_img_noise_3 = np.random.normal(3,3*0.2,data01_1.shape)\n",
    "bkg_img_noise_4 = np.random.normal(4,4*0.2,data01_1.shape)\n",
    "bkg_img_noise_5 = np.random.normal(5,5*0.2,data01_1.shape)\n",
    "bkg_img_noise_7 = np.random.normal(7,7*0.2,data01_1.shape)"
   ]
  },
  {
   "cell_type": "code",
   "execution_count": 13,
   "metadata": {
    "execution": {
     "iopub.execute_input": "2021-04-24T02:48:24.009475Z",
     "iopub.status.busy": "2021-04-24T02:48:24.009169Z",
     "iopub.status.idle": "2021-04-24T02:48:24.026071Z",
     "shell.execute_reply": "2021-04-24T02:48:24.025761Z"
    }
   },
   "outputs": [],
   "source": [
    "# adding the new background with specified mean and gaussian noise (above) to image\n",
    "img01_1.data=bkg_img_noise_2\n",
    "img01_2.data=bkg_img_noise_3\n",
    "img02_1.data=bkg_img_noise_5\n",
    "img02_2.data=bkg_img_noise_2"
   ]
  },
  {
   "cell_type": "code",
   "execution_count": 14,
   "metadata": {
    "execution": {
     "iopub.execute_input": "2021-04-24T02:48:24.028813Z",
     "iopub.status.busy": "2021-04-24T02:48:24.028491Z",
     "iopub.status.idle": "2021-04-24T02:48:24.057777Z",
     "shell.execute_reply": "2021-04-24T02:48:24.057510Z"
    }
   },
   "outputs": [
    {
     "name": "stdout",
     "output_type": "stream",
     "text": [
      "1.9999493 0.39984012\n",
      "2.9998176 0.6000836\n",
      "4.9994397 0.99947965\n",
      "1.9999493 0.39984012\n"
     ]
    }
   ],
   "source": [
    "# checking the mean and standard deviations of the new background values\n",
    "print(np.nanmean(img01_1.data),np.nanstd(img01_1.data))\n",
    "print(np.nanmean(img01_2.data),np.nanstd(img01_2.data))\n",
    "print(np.nanmean(img02_1.data),np.nanstd(img02_1.data))\n",
    "print(np.nanmean(img02_2.data),np.nanstd(img02_2.data))"
   ]
  },
  {
   "cell_type": "code",
   "execution_count": 15,
   "metadata": {
    "execution": {
     "iopub.execute_input": "2021-04-24T02:48:24.072061Z",
     "iopub.status.busy": "2021-04-24T02:48:24.071757Z",
     "iopub.status.idle": "2021-04-24T02:48:24.464742Z",
     "shell.execute_reply": "2021-04-24T02:48:24.464464Z"
    }
   },
   "outputs": [
    {
     "data": {
      "text/plain": [
       "'det_image_seq4_MIRIMAGE_F560Wexp1_cal_skymatch.fits'"
      ]
     },
     "execution_count": 1,
     "metadata": {},
     "output_type": "execute_result"
    }
   ],
   "source": [
    "img01_1.save(file_list2[0],overwrite=True)\n",
    "img01_2.save(file_list2[1],overwrite=True)\n",
    "img02_1.save(file_list2[2],overwrite=True)\n",
    "img02_2.save(file_list2[3],overwrite=True)"
   ]
  },
  {
   "cell_type": "markdown",
   "metadata": {},
   "source": [
    "<a id=\"pipeline_ID\"></a>\n",
    "## Run Pipeline steps\n",
    "\n",
    "Run the pipeline on the data for different sets of parameters\n",
    "\n",
    "## 1. Run skymatch step on images"
   ]
  },
  {
   "cell_type": "code",
   "execution_count": 16,
   "metadata": {
    "execution": {
     "iopub.execute_input": "2021-04-24T02:48:24.468472Z",
     "iopub.status.busy": "2021-04-24T02:48:24.467024Z",
     "iopub.status.idle": "2021-04-24T02:48:26.536081Z",
     "shell.execute_reply": "2021-04-24T02:48:26.535813Z"
    }
   },
   "outputs": [
    {
     "name": "stderr",
     "output_type": "stream",
     "text": [
      "2021-04-23 22:48:25,185 - CRDS - ERROR -  Error determining best reference for 'pars-skymatchstep'  =   Unknown reference type 'pars-skymatchstep'\n"
     ]
    },
    {
     "name": "stderr",
     "output_type": "stream",
     "text": [
      "2021-04-23 22:48:25,188 - stpipe.SkyMatchStep - INFO - SkyMatchStep instance created.\n"
     ]
    },
    {
     "name": "stderr",
     "output_type": "stream",
     "text": [
      "2021-04-23 22:48:25,270 - stpipe.SkyMatchStep - INFO - Step SkyMatchStep running with args ('skymatch_asnfile2.json',).\n"
     ]
    },
    {
     "name": "stderr",
     "output_type": "stream",
     "text": [
      "2021-04-23 22:48:25,272 - stpipe.SkyMatchStep - INFO - Step SkyMatchStep parameters are: {'pre_hooks': [], 'post_hooks': [], 'output_file': '/data1/jenkins/workspace/Notebooks/jwst_validation_notebooks_spacetelescope/tmp/tmpp8_yvpqc/MIRI', 'output_dir': None, 'output_ext': '.fits', 'output_use_model': False, 'output_use_index': True, 'save_results': True, 'skip': False, 'suffix': None, 'search_output_file': True, 'input_dir': '', 'skymethod': 'local', 'match_down': True, 'subtract': False, 'stepsize': None, 'skystat': 'mode', 'dqbits': '0', 'lower': None, 'upper': None, 'nclip': 5, 'lsigma': 4.0, 'usigma': 4.0, 'binwidth': 0.1}\n"
     ]
    },
    {
     "name": "stderr",
     "output_type": "stream",
     "text": [
      "2021-04-23 22:48:25,607 - stpipe.SkyMatchStep - INFO -  \n"
     ]
    },
    {
     "name": "stderr",
     "output_type": "stream",
     "text": [
      "2021-04-23 22:48:25,607 - stpipe.SkyMatchStep - INFO - ***** jwst.skymatch.skymatch.match() started on 2021-04-23 22:48:25.607005\n"
     ]
    },
    {
     "name": "stderr",
     "output_type": "stream",
     "text": [
      "2021-04-23 22:48:25,608 - stpipe.SkyMatchStep - INFO -  \n"
     ]
    },
    {
     "name": "stderr",
     "output_type": "stream",
     "text": [
      "2021-04-23 22:48:25,608 - stpipe.SkyMatchStep - INFO - Sky computation method: 'local'\n"
     ]
    },
    {
     "name": "stderr",
     "output_type": "stream",
     "text": [
      "2021-04-23 22:48:25,608 - stpipe.SkyMatchStep - INFO - Sky subtraction from image data: OFF\n"
     ]
    },
    {
     "name": "stderr",
     "output_type": "stream",
     "text": [
      "2021-04-23 22:48:25,609 - stpipe.SkyMatchStep - INFO -  \n"
     ]
    },
    {
     "name": "stderr",
     "output_type": "stream",
     "text": [
      "2021-04-23 22:48:25,609 - stpipe.SkyMatchStep - INFO - ----  Sky values computed per image and/or image groups.\n"
     ]
    },
    {
     "name": "stderr",
     "output_type": "stream",
     "text": [
      "2021-04-23 22:48:25,686 - stpipe.SkyMatchStep - INFO -    *  Image ID=det_image_seq1_MIRIMAGE_F560Wexp1_cal_skymatch.fits. Sky background: 1.97961\n"
     ]
    },
    {
     "name": "stderr",
     "output_type": "stream",
     "text": [
      "2021-04-23 22:48:25,686 - stpipe.SkyMatchStep - INFO -    *  Image ID=det_image_seq2_MIRIMAGE_F560Wexp1_cal_skymatch.fits. Sky background: 2.94238\n"
     ]
    },
    {
     "name": "stderr",
     "output_type": "stream",
     "text": [
      "2021-04-23 22:48:25,687 - stpipe.SkyMatchStep - INFO -    *  Image ID=det_image_seq3_MIRIMAGE_F560Wexp1_cal_skymatch.fits. Sky background: 4.96079\n"
     ]
    },
    {
     "name": "stderr",
     "output_type": "stream",
     "text": [
      "2021-04-23 22:48:25,687 - stpipe.SkyMatchStep - INFO -    *  Image ID=det_image_seq4_MIRIMAGE_F560Wexp1_cal_skymatch.fits. Sky background: 1.97961\n"
     ]
    },
    {
     "name": "stderr",
     "output_type": "stream",
     "text": [
      "2021-04-23 22:48:25,687 - stpipe.SkyMatchStep - INFO -  \n"
     ]
    },
    {
     "name": "stderr",
     "output_type": "stream",
     "text": [
      "2021-04-23 22:48:25,688 - stpipe.SkyMatchStep - INFO - ***** jwst.skymatch.skymatch.match() ended on 2021-04-23 22:48:25.687823\n"
     ]
    },
    {
     "name": "stderr",
     "output_type": "stream",
     "text": [
      "2021-04-23 22:48:25,688 - stpipe.SkyMatchStep - INFO - ***** jwst.skymatch.skymatch.match() TOTAL RUN TIME: 0:00:00.080818\n"
     ]
    },
    {
     "name": "stderr",
     "output_type": "stream",
     "text": [
      "2021-04-23 22:48:25,688 - stpipe.SkyMatchStep - INFO -  \n"
     ]
    },
    {
     "name": "stderr",
     "output_type": "stream",
     "text": [
      "2021-04-23 22:48:25,893 - stpipe.SkyMatchStep - INFO - Saved model in MIRI_0_skymatchstep.fits\n"
     ]
    },
    {
     "name": "stderr",
     "output_type": "stream",
     "text": [
      "2021-04-23 22:48:26,127 - stpipe.SkyMatchStep - INFO - Saved model in MIRI_1_skymatchstep.fits\n"
     ]
    },
    {
     "name": "stderr",
     "output_type": "stream",
     "text": [
      "2021-04-23 22:48:26,328 - stpipe.SkyMatchStep - INFO - Saved model in MIRI_2_skymatchstep.fits\n"
     ]
    },
    {
     "name": "stderr",
     "output_type": "stream",
     "text": [
      "2021-04-23 22:48:26,531 - stpipe.SkyMatchStep - INFO - Saved model in MIRI_3_skymatchstep.fits\n"
     ]
    },
    {
     "name": "stderr",
     "output_type": "stream",
     "text": [
      "2021-04-23 22:48:26,531 - stpipe.SkyMatchStep - INFO - Step SkyMatchStep done\n"
     ]
    },
    {
     "data": {
      "text/plain": [
       "<ModelContainer>"
      ]
     },
     "execution_count": 1,
     "metadata": {},
     "output_type": "execute_result"
    }
   ],
   "source": [
    "# skymatch, local, subtract= False, all 8 images used\n",
    "jwst.skymatch.skymatch_step.SkyMatchStep.call(skymatch_json_file2, skymethod='local', subtract=False,output_file='MIRI',save_results=True)"
   ]
  },
  {
   "cell_type": "code",
   "execution_count": 17,
   "metadata": {
    "execution": {
     "iopub.execute_input": "2021-04-24T02:48:26.539684Z",
     "iopub.status.busy": "2021-04-24T02:48:26.539354Z",
     "iopub.status.idle": "2021-04-24T02:48:27.105722Z",
     "shell.execute_reply": "2021-04-24T02:48:27.105366Z"
    }
   },
   "outputs": [
    {
     "name": "stdout",
     "output_type": "stream",
     "text": [
      "Mean: original, new (local)\n",
      "Mean: 1.9999493 , 1.9999493\n",
      "Mean: 2.9998176 , 2.9998176\n",
      "Mean: 4.9994397 , 4.9994397\n",
      "Mean: 1.9999493 , 1.9999493\n"
     ]
    }
   ],
   "source": [
    "img01_1_new = datamodels.open('MIRI_0_skymatchstep.fits')\n",
    "img01_2_new = datamodels.open('MIRI_1_skymatchstep.fits')\n",
    "img02_1_new = datamodels.open('MIRI_2_skymatchstep.fits')\n",
    "img02_2_new = datamodels.open('MIRI_3_skymatchstep.fits')\n",
    "\n",
    "print('Mean: original, new (local)')\n",
    "print('Mean:',np.mean(img01_1.data),',', np.mean(img01_1_new.data))\n",
    "print('Mean:',np.mean(img01_2.data),',', np.mean(img01_2_new.data))\n",
    "print('Mean:',np.mean(img02_1.data),',', np.mean(img02_1_new.data))\n",
    "print('Mean:',np.mean(img02_2.data),',', np.mean(img02_2_new.data))"
   ]
  },
  {
   "cell_type": "code",
   "execution_count": 18,
   "metadata": {
    "execution": {
     "iopub.execute_input": "2021-04-24T02:48:27.114004Z",
     "iopub.status.busy": "2021-04-24T02:48:27.108883Z",
     "iopub.status.idle": "2021-04-24T02:48:28.819478Z",
     "shell.execute_reply": "2021-04-24T02:48:28.819158Z"
    }
   },
   "outputs": [
    {
     "name": "stderr",
     "output_type": "stream",
     "text": [
      "2021-04-23 22:48:27,460 - CRDS - ERROR -  Error determining best reference for 'pars-skymatchstep'  =   Unknown reference type 'pars-skymatchstep'\n"
     ]
    },
    {
     "name": "stderr",
     "output_type": "stream",
     "text": [
      "2021-04-23 22:48:27,462 - stpipe.SkyMatchStep - INFO - SkyMatchStep instance created.\n"
     ]
    },
    {
     "name": "stderr",
     "output_type": "stream",
     "text": [
      "2021-04-23 22:48:27,557 - stpipe.SkyMatchStep - INFO - Step SkyMatchStep running with args ('skymatch_asnfile2.json',).\n"
     ]
    },
    {
     "name": "stderr",
     "output_type": "stream",
     "text": [
      "2021-04-23 22:48:27,559 - stpipe.SkyMatchStep - INFO - Step SkyMatchStep parameters are: {'pre_hooks': [], 'post_hooks': [], 'output_file': '/data1/jenkins/workspace/Notebooks/jwst_validation_notebooks_spacetelescope/tmp/tmpp8_yvpqc/MIRI', 'output_dir': None, 'output_ext': '.fits', 'output_use_model': False, 'output_use_index': True, 'save_results': True, 'skip': False, 'suffix': None, 'search_output_file': True, 'input_dir': '', 'skymethod': 'local', 'match_down': True, 'subtract': True, 'stepsize': None, 'skystat': 'mode', 'dqbits': '0', 'lower': None, 'upper': None, 'nclip': 5, 'lsigma': 4.0, 'usigma': 4.0, 'binwidth': 0.1}\n"
     ]
    },
    {
     "name": "stderr",
     "output_type": "stream",
     "text": [
      "2021-04-23 22:48:27,880 - stpipe.SkyMatchStep - INFO -  \n"
     ]
    },
    {
     "name": "stderr",
     "output_type": "stream",
     "text": [
      "2021-04-23 22:48:27,880 - stpipe.SkyMatchStep - INFO - ***** jwst.skymatch.skymatch.match() started on 2021-04-23 22:48:27.880110\n"
     ]
    },
    {
     "name": "stderr",
     "output_type": "stream",
     "text": [
      "2021-04-23 22:48:27,881 - stpipe.SkyMatchStep - INFO -  \n"
     ]
    },
    {
     "name": "stderr",
     "output_type": "stream",
     "text": [
      "2021-04-23 22:48:27,881 - stpipe.SkyMatchStep - INFO - Sky computation method: 'local'\n"
     ]
    },
    {
     "name": "stderr",
     "output_type": "stream",
     "text": [
      "2021-04-23 22:48:27,881 - stpipe.SkyMatchStep - INFO - Sky subtraction from image data: ON\n"
     ]
    },
    {
     "name": "stderr",
     "output_type": "stream",
     "text": [
      "2021-04-23 22:48:27,882 - stpipe.SkyMatchStep - INFO -  \n"
     ]
    },
    {
     "name": "stderr",
     "output_type": "stream",
     "text": [
      "2021-04-23 22:48:27,882 - stpipe.SkyMatchStep - INFO - ----  Sky values computed per image and/or image groups.\n"
     ]
    },
    {
     "name": "stderr",
     "output_type": "stream",
     "text": [
      "2021-04-23 22:48:27,966 - stpipe.SkyMatchStep - INFO -    *  Image ID=det_image_seq1_MIRIMAGE_F560Wexp1_cal_skymatch.fits. Sky background: 1.97961 (old=0, delta=1.97961)\n"
     ]
    },
    {
     "name": "stderr",
     "output_type": "stream",
     "text": [
      "2021-04-23 22:48:27,968 - stpipe.SkyMatchStep - INFO -    *  Image ID=det_image_seq2_MIRIMAGE_F560Wexp1_cal_skymatch.fits. Sky background: 2.94238 (old=0, delta=2.94238)\n"
     ]
    },
    {
     "name": "stderr",
     "output_type": "stream",
     "text": [
      "2021-04-23 22:48:27,970 - stpipe.SkyMatchStep - INFO -    *  Image ID=det_image_seq3_MIRIMAGE_F560Wexp1_cal_skymatch.fits. Sky background: 4.96079 (old=0, delta=4.96079)\n"
     ]
    },
    {
     "name": "stderr",
     "output_type": "stream",
     "text": [
      "2021-04-23 22:48:27,971 - stpipe.SkyMatchStep - INFO -    *  Image ID=det_image_seq4_MIRIMAGE_F560Wexp1_cal_skymatch.fits. Sky background: 1.97961 (old=0, delta=1.97961)\n"
     ]
    },
    {
     "name": "stderr",
     "output_type": "stream",
     "text": [
      "2021-04-23 22:48:27,972 - stpipe.SkyMatchStep - INFO -  \n"
     ]
    },
    {
     "name": "stderr",
     "output_type": "stream",
     "text": [
      "2021-04-23 22:48:27,972 - stpipe.SkyMatchStep - INFO - ***** jwst.skymatch.skymatch.match() ended on 2021-04-23 22:48:27.972266\n"
     ]
    },
    {
     "name": "stderr",
     "output_type": "stream",
     "text": [
      "2021-04-23 22:48:27,972 - stpipe.SkyMatchStep - INFO - ***** jwst.skymatch.skymatch.match() TOTAL RUN TIME: 0:00:00.092156\n"
     ]
    },
    {
     "name": "stderr",
     "output_type": "stream",
     "text": [
      "2021-04-23 22:48:27,973 - stpipe.SkyMatchStep - INFO -  \n"
     ]
    },
    {
     "name": "stderr",
     "output_type": "stream",
     "text": [
      "2021-04-23 22:48:28,185 - stpipe.SkyMatchStep - INFO - Saved model in MIRI_0_skymatchstep.fits\n"
     ]
    },
    {
     "name": "stderr",
     "output_type": "stream",
     "text": [
      "2021-04-23 22:48:28,418 - stpipe.SkyMatchStep - INFO - Saved model in MIRI_1_skymatchstep.fits\n"
     ]
    },
    {
     "name": "stderr",
     "output_type": "stream",
     "text": [
      "2021-04-23 22:48:28,614 - stpipe.SkyMatchStep - INFO - Saved model in MIRI_2_skymatchstep.fits\n"
     ]
    },
    {
     "name": "stderr",
     "output_type": "stream",
     "text": [
      "2021-04-23 22:48:28,814 - stpipe.SkyMatchStep - INFO - Saved model in MIRI_3_skymatchstep.fits\n"
     ]
    },
    {
     "name": "stderr",
     "output_type": "stream",
     "text": [
      "2021-04-23 22:48:28,815 - stpipe.SkyMatchStep - INFO - Step SkyMatchStep done\n"
     ]
    },
    {
     "data": {
      "text/plain": [
       "<ModelContainer>"
      ]
     },
     "execution_count": 1,
     "metadata": {},
     "output_type": "execute_result"
    }
   ],
   "source": [
    "# skymatch, local, subtract = True, all 8 images used\n",
    "jwst.skymatch.skymatch_step.SkyMatchStep.call(skymatch_json_file2, skymethod='local', subtract=True,output_file='MIRI',save_results=True)"
   ]
  },
  {
   "cell_type": "code",
   "execution_count": 19,
   "metadata": {
    "execution": {
     "iopub.execute_input": "2021-04-24T02:48:28.822719Z",
     "iopub.status.busy": "2021-04-24T02:48:28.821006Z",
     "iopub.status.idle": "2021-04-24T02:48:29.419314Z",
     "shell.execute_reply": "2021-04-24T02:48:29.419575Z"
    }
   },
   "outputs": [
    {
     "name": "stdout",
     "output_type": "stream",
     "text": [
      "Mean: original, new (local)\n",
      "Mean: 1.9999493 , 0.020336743\n",
      "Mean: 2.9998176 , 0.05743888\n",
      "Mean: 4.9994397 , 0.038649887\n",
      "Mean: 1.9999493 , 0.020336743\n"
     ]
    }
   ],
   "source": [
    "img01_1_new = datamodels.open('MIRI_0_skymatchstep.fits')\n",
    "img01_2_new = datamodels.open('MIRI_1_skymatchstep.fits')\n",
    "img02_1_new = datamodels.open('MIRI_2_skymatchstep.fits')\n",
    "img02_2_new = datamodels.open('MIRI_3_skymatchstep.fits')\n",
    "\n",
    "print('Mean: original, new (local)')\n",
    "print('Mean:',np.mean(img01_1.data),',', np.mean(img01_1_new.data))\n",
    "print('Mean:',np.mean(img01_2.data),',', np.mean(img01_2_new.data))\n",
    "print('Mean:',np.mean(img02_1.data),',', np.mean(img02_1_new.data))\n",
    "print('Mean:',np.mean(img02_2.data),',', np.mean(img02_2_new.data))"
   ]
  },
  {
   "cell_type": "markdown",
   "metadata": {},
   "source": [
    "## 2. Run skymatch for each skymethod parameter (local, global, match, global+match)"
   ]
  },
  {
   "cell_type": "markdown",
   "metadata": {},
   "source": [
    "### 2.1 skymethod = 'local'"
   ]
  },
  {
   "cell_type": "code",
   "execution_count": 20,
   "metadata": {
    "execution": {
     "iopub.execute_input": "2021-04-24T02:48:29.423136Z",
     "iopub.status.busy": "2021-04-24T02:48:29.422829Z",
     "iopub.status.idle": "2021-04-24T02:48:31.077332Z",
     "shell.execute_reply": "2021-04-24T02:48:31.077054Z"
    }
   },
   "outputs": [
    {
     "name": "stderr",
     "output_type": "stream",
     "text": [
      "2021-04-23 22:48:29,782 - CRDS - ERROR -  Error determining best reference for 'pars-skymatchstep'  =   Unknown reference type 'pars-skymatchstep'\n"
     ]
    },
    {
     "name": "stderr",
     "output_type": "stream",
     "text": [
      "2021-04-23 22:48:29,784 - stpipe.SkyMatchStep - INFO - SkyMatchStep instance created.\n"
     ]
    },
    {
     "name": "stderr",
     "output_type": "stream",
     "text": [
      "2021-04-23 22:48:29,901 - stpipe.SkyMatchStep - INFO - Step SkyMatchStep running with args ('skymatch_asnfile2.json',).\n"
     ]
    },
    {
     "name": "stderr",
     "output_type": "stream",
     "text": [
      "2021-04-23 22:48:29,903 - stpipe.SkyMatchStep - INFO - Step SkyMatchStep parameters are: {'pre_hooks': [], 'post_hooks': [], 'output_file': '/data1/jenkins/workspace/Notebooks/jwst_validation_notebooks_spacetelescope/tmp/tmpp8_yvpqc/MIRI', 'output_dir': None, 'output_ext': '.fits', 'output_use_model': False, 'output_use_index': True, 'save_results': True, 'skip': False, 'suffix': None, 'search_output_file': True, 'input_dir': '', 'skymethod': 'local', 'match_down': True, 'subtract': False, 'stepsize': None, 'skystat': 'mode', 'dqbits': '0', 'lower': None, 'upper': None, 'nclip': 5, 'lsigma': 4.0, 'usigma': 4.0, 'binwidth': 0.1}\n"
     ]
    },
    {
     "name": "stderr",
     "output_type": "stream",
     "text": [
      "2021-04-23 22:48:30,224 - stpipe.SkyMatchStep - INFO -  \n"
     ]
    },
    {
     "name": "stderr",
     "output_type": "stream",
     "text": [
      "2021-04-23 22:48:30,225 - stpipe.SkyMatchStep - INFO - ***** jwst.skymatch.skymatch.match() started on 2021-04-23 22:48:30.224763\n"
     ]
    },
    {
     "name": "stderr",
     "output_type": "stream",
     "text": [
      "2021-04-23 22:48:30,226 - stpipe.SkyMatchStep - INFO -  \n"
     ]
    },
    {
     "name": "stderr",
     "output_type": "stream",
     "text": [
      "2021-04-23 22:48:30,226 - stpipe.SkyMatchStep - INFO - Sky computation method: 'local'\n"
     ]
    },
    {
     "name": "stderr",
     "output_type": "stream",
     "text": [
      "2021-04-23 22:48:30,226 - stpipe.SkyMatchStep - INFO - Sky subtraction from image data: OFF\n"
     ]
    },
    {
     "name": "stderr",
     "output_type": "stream",
     "text": [
      "2021-04-23 22:48:30,227 - stpipe.SkyMatchStep - INFO -  \n"
     ]
    },
    {
     "name": "stderr",
     "output_type": "stream",
     "text": [
      "2021-04-23 22:48:30,227 - stpipe.SkyMatchStep - INFO - ----  Sky values computed per image and/or image groups.\n"
     ]
    },
    {
     "name": "stderr",
     "output_type": "stream",
     "text": [
      "2021-04-23 22:48:30,303 - stpipe.SkyMatchStep - INFO -    *  Image ID=det_image_seq1_MIRIMAGE_F560Wexp1_cal_skymatch.fits. Sky background: 1.97961\n"
     ]
    },
    {
     "name": "stderr",
     "output_type": "stream",
     "text": [
      "2021-04-23 22:48:30,303 - stpipe.SkyMatchStep - INFO -    *  Image ID=det_image_seq2_MIRIMAGE_F560Wexp1_cal_skymatch.fits. Sky background: 2.94238\n"
     ]
    },
    {
     "name": "stderr",
     "output_type": "stream",
     "text": [
      "2021-04-23 22:48:30,304 - stpipe.SkyMatchStep - INFO -    *  Image ID=det_image_seq3_MIRIMAGE_F560Wexp1_cal_skymatch.fits. Sky background: 4.96079\n"
     ]
    },
    {
     "name": "stderr",
     "output_type": "stream",
     "text": [
      "2021-04-23 22:48:30,304 - stpipe.SkyMatchStep - INFO -    *  Image ID=det_image_seq4_MIRIMAGE_F560Wexp1_cal_skymatch.fits. Sky background: 1.97961\n"
     ]
    },
    {
     "name": "stderr",
     "output_type": "stream",
     "text": [
      "2021-04-23 22:48:30,304 - stpipe.SkyMatchStep - INFO -  \n"
     ]
    },
    {
     "name": "stderr",
     "output_type": "stream",
     "text": [
      "2021-04-23 22:48:30,305 - stpipe.SkyMatchStep - INFO - ***** jwst.skymatch.skymatch.match() ended on 2021-04-23 22:48:30.304853\n"
     ]
    },
    {
     "name": "stderr",
     "output_type": "stream",
     "text": [
      "2021-04-23 22:48:30,305 - stpipe.SkyMatchStep - INFO - ***** jwst.skymatch.skymatch.match() TOTAL RUN TIME: 0:00:00.080090\n"
     ]
    },
    {
     "name": "stderr",
     "output_type": "stream",
     "text": [
      "2021-04-23 22:48:30,305 - stpipe.SkyMatchStep - INFO -  \n"
     ]
    },
    {
     "name": "stderr",
     "output_type": "stream",
     "text": [
      "2021-04-23 22:48:30,505 - stpipe.SkyMatchStep - INFO - Saved model in MIRI_0_skymatchstep.fits\n"
     ]
    },
    {
     "name": "stderr",
     "output_type": "stream",
     "text": [
      "2021-04-23 22:48:30,701 - stpipe.SkyMatchStep - INFO - Saved model in MIRI_1_skymatchstep.fits\n"
     ]
    },
    {
     "name": "stderr",
     "output_type": "stream",
     "text": [
      "2021-04-23 22:48:30,889 - stpipe.SkyMatchStep - INFO - Saved model in MIRI_2_skymatchstep.fits\n"
     ]
    },
    {
     "name": "stderr",
     "output_type": "stream",
     "text": [
      "2021-04-23 22:48:31,072 - stpipe.SkyMatchStep - INFO - Saved model in MIRI_3_skymatchstep.fits\n"
     ]
    },
    {
     "name": "stderr",
     "output_type": "stream",
     "text": [
      "2021-04-23 22:48:31,072 - stpipe.SkyMatchStep - INFO - Step SkyMatchStep done\n"
     ]
    },
    {
     "data": {
      "text/plain": [
       "<ModelContainer>"
      ]
     },
     "execution_count": 1,
     "metadata": {},
     "output_type": "execute_result"
    }
   ],
   "source": [
    "# skymatch, local\n",
    "jwst.skymatch.skymatch_step.SkyMatchStep.call(skymatch_json_file2, skymethod='local', subtract=False,output_file='MIRI',save_results=True)"
   ]
  },
  {
   "cell_type": "code",
   "execution_count": 21,
   "metadata": {
    "execution": {
     "iopub.execute_input": "2021-04-24T02:48:31.082365Z",
     "iopub.status.busy": "2021-04-24T02:48:31.081891Z",
     "iopub.status.idle": "2021-04-24T02:48:31.481275Z",
     "shell.execute_reply": "2021-04-24T02:48:31.480940Z"
    }
   },
   "outputs": [
    {
     "name": "stdout",
     "output_type": "stream",
     "text": [
      "Mean: original, new (local)\n",
      "Mean: 1.9999493 , 1.9999493\n",
      "Mean: 2.9998176 , 2.9998176\n",
      "Mean: 4.9994397 , 4.9994397\n",
      "Mean: 1.9999493 , 1.9999493\n"
     ]
    }
   ],
   "source": [
    "img01_1_new = datamodels.open('MIRI_0_skymatchstep.fits')\n",
    "img01_2_new = datamodels.open('MIRI_1_skymatchstep.fits')\n",
    "img02_1_new = datamodels.open('MIRI_2_skymatchstep.fits')\n",
    "img02_2_new = datamodels.open('MIRI_3_skymatchstep.fits')\n",
    "\n",
    "print('Mean: original, new (local)')\n",
    "print('Mean:',np.mean(img01_1.data),',', np.mean(img01_1_new.data))\n",
    "print('Mean:',np.mean(img01_2.data),',', np.mean(img01_2_new.data))\n",
    "print('Mean:',np.mean(img02_1.data),',', np.mean(img02_1_new.data))\n",
    "print('Mean:',np.mean(img02_2.data),',', np.mean(img02_2_new.data))"
   ]
  },
  {
   "cell_type": "markdown",
   "metadata": {},
   "source": [
    "### ** Check that the original and output (new) sky values match for individual images (but not necessarily the same for all images)"
   ]
  },
  {
   "cell_type": "markdown",
   "metadata": {},
   "source": [
    "##### Notes: ‘local’: compute sky background values of each input image or group of images (members of the same “exposure”). A single sky value is computed for each group of images."
   ]
  },
  {
   "cell_type": "markdown",
   "metadata": {},
   "source": [
    "### 2.2 skymethod = 'global'"
   ]
  },
  {
   "cell_type": "code",
   "execution_count": 22,
   "metadata": {
    "execution": {
     "iopub.execute_input": "2021-04-24T02:48:31.491963Z",
     "iopub.status.busy": "2021-04-24T02:48:31.484604Z",
     "iopub.status.idle": "2021-04-24T02:48:33.360833Z",
     "shell.execute_reply": "2021-04-24T02:48:33.361118Z"
    }
   },
   "outputs": [
    {
     "name": "stderr",
     "output_type": "stream",
     "text": [
      "2021-04-23 22:48:32,060 - CRDS - ERROR -  Error determining best reference for 'pars-skymatchstep'  =   Unknown reference type 'pars-skymatchstep'\n"
     ]
    },
    {
     "name": "stderr",
     "output_type": "stream",
     "text": [
      "2021-04-23 22:48:32,062 - stpipe.SkyMatchStep - INFO - SkyMatchStep instance created.\n"
     ]
    },
    {
     "name": "stderr",
     "output_type": "stream",
     "text": [
      "2021-04-23 22:48:32,174 - stpipe.SkyMatchStep - INFO - Step SkyMatchStep running with args ('skymatch_asnfile2.json',).\n"
     ]
    },
    {
     "name": "stderr",
     "output_type": "stream",
     "text": [
      "2021-04-23 22:48:32,176 - stpipe.SkyMatchStep - INFO - Step SkyMatchStep parameters are: {'pre_hooks': [], 'post_hooks': [], 'output_file': '/data1/jenkins/workspace/Notebooks/jwst_validation_notebooks_spacetelescope/tmp/tmpp8_yvpqc/MIRI', 'output_dir': None, 'output_ext': '.fits', 'output_use_model': False, 'output_use_index': True, 'save_results': True, 'skip': False, 'suffix': None, 'search_output_file': True, 'input_dir': '', 'skymethod': 'global', 'match_down': True, 'subtract': True, 'stepsize': None, 'skystat': 'mode', 'dqbits': '0', 'lower': None, 'upper': None, 'nclip': 5, 'lsigma': 4.0, 'usigma': 4.0, 'binwidth': 0.1}\n"
     ]
    },
    {
     "name": "stderr",
     "output_type": "stream",
     "text": [
      "2021-04-23 22:48:32,500 - stpipe.SkyMatchStep - INFO -  \n"
     ]
    },
    {
     "name": "stderr",
     "output_type": "stream",
     "text": [
      "2021-04-23 22:48:32,501 - stpipe.SkyMatchStep - INFO - ***** jwst.skymatch.skymatch.match() started on 2021-04-23 22:48:32.500859\n"
     ]
    },
    {
     "name": "stderr",
     "output_type": "stream",
     "text": [
      "2021-04-23 22:48:32,502 - stpipe.SkyMatchStep - INFO -  \n"
     ]
    },
    {
     "name": "stderr",
     "output_type": "stream",
     "text": [
      "2021-04-23 22:48:32,502 - stpipe.SkyMatchStep - INFO - Sky computation method: 'global'\n"
     ]
    },
    {
     "name": "stderr",
     "output_type": "stream",
     "text": [
      "2021-04-23 22:48:32,502 - stpipe.SkyMatchStep - INFO - Sky subtraction from image data: ON\n"
     ]
    },
    {
     "name": "stderr",
     "output_type": "stream",
     "text": [
      "2021-04-23 22:48:32,503 - stpipe.SkyMatchStep - INFO -  \n"
     ]
    },
    {
     "name": "stderr",
     "output_type": "stream",
     "text": [
      "2021-04-23 22:48:32,503 - stpipe.SkyMatchStep - INFO - ----  Computing \"global\" sky - smallest sky value across *all* input images.\n"
     ]
    },
    {
     "name": "stderr",
     "output_type": "stream",
     "text": [
      "2021-04-23 22:48:32,579 - stpipe.SkyMatchStep - INFO -  \n"
     ]
    },
    {
     "name": "stderr",
     "output_type": "stream",
     "text": [
      "2021-04-23 22:48:32,579 - stpipe.SkyMatchStep - INFO -    \"Global\" sky value correction: 1.9796128342859447 [not converted]\n"
     ]
    },
    {
     "name": "stderr",
     "output_type": "stream",
     "text": [
      "2021-04-23 22:48:32,581 - stpipe.SkyMatchStep - INFO -    *  Image ID=det_image_seq1_MIRIMAGE_F560Wexp1_cal_skymatch.fits. Sky background: 1.97961 (old=0, delta=1.97961)\n"
     ]
    },
    {
     "name": "stderr",
     "output_type": "stream",
     "text": [
      "2021-04-23 22:48:32,582 - stpipe.SkyMatchStep - INFO -    *  Image ID=det_image_seq2_MIRIMAGE_F560Wexp1_cal_skymatch.fits. Sky background: 1.97961 (old=0, delta=1.97961)\n"
     ]
    },
    {
     "name": "stderr",
     "output_type": "stream",
     "text": [
      "2021-04-23 22:48:32,584 - stpipe.SkyMatchStep - INFO -    *  Image ID=det_image_seq3_MIRIMAGE_F560Wexp1_cal_skymatch.fits. Sky background: 1.97961 (old=0, delta=1.97961)\n"
     ]
    },
    {
     "name": "stderr",
     "output_type": "stream",
     "text": [
      "2021-04-23 22:48:32,585 - stpipe.SkyMatchStep - INFO -    *  Image ID=det_image_seq4_MIRIMAGE_F560Wexp1_cal_skymatch.fits. Sky background: 1.97961 (old=0, delta=1.97961)\n"
     ]
    },
    {
     "name": "stderr",
     "output_type": "stream",
     "text": [
      "2021-04-23 22:48:32,586 - stpipe.SkyMatchStep - INFO -  \n"
     ]
    },
    {
     "name": "stderr",
     "output_type": "stream",
     "text": [
      "2021-04-23 22:48:32,586 - stpipe.SkyMatchStep - INFO - ***** jwst.skymatch.skymatch.match() ended on 2021-04-23 22:48:32.586217\n"
     ]
    },
    {
     "name": "stderr",
     "output_type": "stream",
     "text": [
      "2021-04-23 22:48:32,586 - stpipe.SkyMatchStep - INFO - ***** jwst.skymatch.skymatch.match() TOTAL RUN TIME: 0:00:00.085358\n"
     ]
    },
    {
     "name": "stderr",
     "output_type": "stream",
     "text": [
      "2021-04-23 22:48:32,587 - stpipe.SkyMatchStep - INFO -  \n"
     ]
    },
    {
     "name": "stderr",
     "output_type": "stream",
     "text": [
      "2021-04-23 22:48:32,779 - stpipe.SkyMatchStep - INFO - Saved model in MIRI_0_skymatchstep.fits\n"
     ]
    },
    {
     "name": "stderr",
     "output_type": "stream",
     "text": [
      "2021-04-23 22:48:32,981 - stpipe.SkyMatchStep - INFO - Saved model in MIRI_1_skymatchstep.fits\n"
     ]
    },
    {
     "name": "stderr",
     "output_type": "stream",
     "text": [
      "2021-04-23 22:48:33,169 - stpipe.SkyMatchStep - INFO - Saved model in MIRI_2_skymatchstep.fits\n"
     ]
    },
    {
     "name": "stderr",
     "output_type": "stream",
     "text": [
      "2021-04-23 22:48:33,355 - stpipe.SkyMatchStep - INFO - Saved model in MIRI_3_skymatchstep.fits\n"
     ]
    },
    {
     "name": "stderr",
     "output_type": "stream",
     "text": [
      "2021-04-23 22:48:33,356 - stpipe.SkyMatchStep - INFO - Step SkyMatchStep done\n"
     ]
    },
    {
     "data": {
      "text/plain": [
       "<ModelContainer>"
      ]
     },
     "execution_count": 1,
     "metadata": {},
     "output_type": "execute_result"
    }
   ],
   "source": [
    "# skymatch, global, subtract = True\n",
    "jwst.skymatch.skymatch_step.SkyMatchStep.call(skymatch_json_file2, skymethod='global', subtract=True,output_file='MIRI',save_results=True)"
   ]
  },
  {
   "cell_type": "code",
   "execution_count": 23,
   "metadata": {
    "execution": {
     "iopub.execute_input": "2021-04-24T02:48:33.366725Z",
     "iopub.status.busy": "2021-04-24T02:48:33.364637Z",
     "iopub.status.idle": "2021-04-24T02:48:33.753286Z",
     "shell.execute_reply": "2021-04-24T02:48:33.753529Z"
    }
   },
   "outputs": [
    {
     "name": "stdout",
     "output_type": "stream",
     "text": [
      "Mean: original, new (global)\n",
      "Mean: 1.9999493 , 0.020336743\n",
      "Mean: 2.9998176 , 1.0202049\n",
      "Mean: 4.9994397 , 3.0198257\n",
      "Mean: 1.9999493 , 0.020336743\n"
     ]
    }
   ],
   "source": [
    "img01_1_new = datamodels.open('MIRI_0_skymatchstep.fits')\n",
    "img01_2_new = datamodels.open('MIRI_1_skymatchstep.fits')\n",
    "img02_1_new = datamodels.open('MIRI_2_skymatchstep.fits')\n",
    "img02_2_new = datamodels.open('MIRI_3_skymatchstep.fits')\n",
    "\n",
    "print('Mean: original, new (global)')\n",
    "print('Mean:',np.mean(img01_1.data),',', np.mean(img01_1_new.data))\n",
    "print('Mean:',np.mean(img01_2.data),',', np.mean(img01_2_new.data))\n",
    "print('Mean:',np.mean(img02_1.data),',', np.mean(img02_1_new.data))\n",
    "print('Mean:',np.mean(img02_2.data),',', np.mean(img02_2_new.data))"
   ]
  },
  {
   "cell_type": "markdown",
   "metadata": {},
   "source": [
    "### ** Check that the output (new) sky values are equal to the original sky value minus the lowest original sky value "
   ]
  },
  {
   "cell_type": "markdown",
   "metadata": {},
   "source": [
    "##### Notes: ‘global’: compute a common sky value for all input image and groups of images. In this setting match will compute sky values for each input image/group, find the minimum sky value, and then it will set (and/or subtract) sky value of each input image to this minimum value. This method may be useful when input images have been already matched. The 'global' method computes the minimum sky value across all input images and/or groups. That sky value is then considered to be the background in all input images."
   ]
  },
  {
   "cell_type": "markdown",
   "metadata": {},
   "source": [
    "### 2.3 skymethod = 'match', match_down=True"
   ]
  },
  {
   "cell_type": "code",
   "execution_count": 24,
   "metadata": {
    "execution": {
     "iopub.execute_input": "2021-04-24T02:48:33.762110Z",
     "iopub.status.busy": "2021-04-24T02:48:33.756964Z",
     "iopub.status.idle": "2021-04-24T02:48:37.065703Z",
     "shell.execute_reply": "2021-04-24T02:48:37.065959Z"
    }
   },
   "outputs": [
    {
     "name": "stderr",
     "output_type": "stream",
     "text": [
      "2021-04-23 22:48:34,324 - CRDS - ERROR -  Error determining best reference for 'pars-skymatchstep'  =   Unknown reference type 'pars-skymatchstep'\n"
     ]
    },
    {
     "name": "stderr",
     "output_type": "stream",
     "text": [
      "2021-04-23 22:48:34,326 - stpipe.SkyMatchStep - INFO - SkyMatchStep instance created.\n"
     ]
    },
    {
     "name": "stderr",
     "output_type": "stream",
     "text": [
      "2021-04-23 22:48:34,440 - stpipe.SkyMatchStep - INFO - Step SkyMatchStep running with args ('skymatch_asnfile2.json',).\n"
     ]
    },
    {
     "name": "stderr",
     "output_type": "stream",
     "text": [
      "2021-04-23 22:48:34,442 - stpipe.SkyMatchStep - INFO - Step SkyMatchStep parameters are: {'pre_hooks': [], 'post_hooks': [], 'output_file': '/data1/jenkins/workspace/Notebooks/jwst_validation_notebooks_spacetelescope/tmp/tmpp8_yvpqc/MIRI', 'output_dir': None, 'output_ext': '.fits', 'output_use_model': False, 'output_use_index': True, 'save_results': True, 'skip': False, 'suffix': None, 'search_output_file': True, 'input_dir': '', 'skymethod': 'match', 'match_down': True, 'subtract': True, 'stepsize': None, 'skystat': 'mode', 'dqbits': '0', 'lower': None, 'upper': None, 'nclip': 5, 'lsigma': 4.0, 'usigma': 4.0, 'binwidth': 0.1}\n"
     ]
    },
    {
     "name": "stderr",
     "output_type": "stream",
     "text": [
      "2021-04-23 22:48:34,770 - stpipe.SkyMatchStep - INFO -  \n"
     ]
    },
    {
     "name": "stderr",
     "output_type": "stream",
     "text": [
      "2021-04-23 22:48:34,771 - stpipe.SkyMatchStep - INFO - ***** jwst.skymatch.skymatch.match() started on 2021-04-23 22:48:34.770600\n"
     ]
    },
    {
     "name": "stderr",
     "output_type": "stream",
     "text": [
      "2021-04-23 22:48:34,772 - stpipe.SkyMatchStep - INFO -  \n"
     ]
    },
    {
     "name": "stderr",
     "output_type": "stream",
     "text": [
      "2021-04-23 22:48:34,772 - stpipe.SkyMatchStep - INFO - Sky computation method: 'match'\n"
     ]
    },
    {
     "name": "stderr",
     "output_type": "stream",
     "text": [
      "2021-04-23 22:48:34,772 - stpipe.SkyMatchStep - INFO - Sky matching direction: DOWN\n"
     ]
    },
    {
     "name": "stderr",
     "output_type": "stream",
     "text": [
      "2021-04-23 22:48:34,773 - stpipe.SkyMatchStep - INFO - Sky subtraction from image data: ON\n"
     ]
    },
    {
     "name": "stderr",
     "output_type": "stream",
     "text": [
      "2021-04-23 22:48:34,773 - stpipe.SkyMatchStep - INFO -  \n"
     ]
    },
    {
     "name": "stderr",
     "output_type": "stream",
     "text": [
      "2021-04-23 22:48:34,773 - stpipe.SkyMatchStep - INFO - ----  Computing differences in sky values in overlapping regions.\n"
     ]
    },
    {
     "name": "stderr",
     "output_type": "stream",
     "text": [
      "2021-04-23 22:48:36,289 - stpipe.SkyMatchStep - INFO -    *  Image ID=det_image_seq1_MIRIMAGE_F560Wexp1_cal_skymatch.fits. Sky background: 0 (old=0, delta=0)\n"
     ]
    },
    {
     "name": "stderr",
     "output_type": "stream",
     "text": [
      "2021-04-23 22:48:36,291 - stpipe.SkyMatchStep - INFO -    *  Image ID=det_image_seq2_MIRIMAGE_F560Wexp1_cal_skymatch.fits. Sky background: 1.00424 (old=0, delta=1.00424)\n"
     ]
    },
    {
     "name": "stderr",
     "output_type": "stream",
     "text": [
      "2021-04-23 22:48:36,293 - stpipe.SkyMatchStep - INFO -    *  Image ID=det_image_seq3_MIRIMAGE_F560Wexp1_cal_skymatch.fits. Sky background: 3.01108 (old=0, delta=3.01108)\n"
     ]
    },
    {
     "name": "stderr",
     "output_type": "stream",
     "text": [
      "2021-04-23 22:48:36,294 - stpipe.SkyMatchStep - INFO -    *  Image ID=det_image_seq4_MIRIMAGE_F560Wexp1_cal_skymatch.fits. Sky background: 0.010434 (old=0, delta=0.010434)\n"
     ]
    },
    {
     "name": "stderr",
     "output_type": "stream",
     "text": [
      "2021-04-23 22:48:36,295 - stpipe.SkyMatchStep - INFO -  \n"
     ]
    },
    {
     "name": "stderr",
     "output_type": "stream",
     "text": [
      "2021-04-23 22:48:36,295 - stpipe.SkyMatchStep - INFO - ***** jwst.skymatch.skymatch.match() ended on 2021-04-23 22:48:36.295297\n"
     ]
    },
    {
     "name": "stderr",
     "output_type": "stream",
     "text": [
      "2021-04-23 22:48:36,295 - stpipe.SkyMatchStep - INFO - ***** jwst.skymatch.skymatch.match() TOTAL RUN TIME: 0:00:01.524697\n"
     ]
    },
    {
     "name": "stderr",
     "output_type": "stream",
     "text": [
      "2021-04-23 22:48:36,296 - stpipe.SkyMatchStep - INFO -  \n"
     ]
    },
    {
     "name": "stderr",
     "output_type": "stream",
     "text": [
      "2021-04-23 22:48:36,496 - stpipe.SkyMatchStep - INFO - Saved model in MIRI_0_skymatchstep.fits\n"
     ]
    },
    {
     "name": "stderr",
     "output_type": "stream",
     "text": [
      "2021-04-23 22:48:36,679 - stpipe.SkyMatchStep - INFO - Saved model in MIRI_1_skymatchstep.fits\n"
     ]
    },
    {
     "name": "stderr",
     "output_type": "stream",
     "text": [
      "2021-04-23 22:48:36,872 - stpipe.SkyMatchStep - INFO - Saved model in MIRI_2_skymatchstep.fits\n"
     ]
    },
    {
     "name": "stderr",
     "output_type": "stream",
     "text": [
      "2021-04-23 22:48:37,060 - stpipe.SkyMatchStep - INFO - Saved model in MIRI_3_skymatchstep.fits\n"
     ]
    },
    {
     "name": "stderr",
     "output_type": "stream",
     "text": [
      "2021-04-23 22:48:37,060 - stpipe.SkyMatchStep - INFO - Step SkyMatchStep done\n"
     ]
    },
    {
     "data": {
      "text/plain": [
       "<ModelContainer>"
      ]
     },
     "execution_count": 1,
     "metadata": {},
     "output_type": "execute_result"
    }
   ],
   "source": [
    "# skymatch, match down, subtract = True\n",
    "jwst.skymatch.skymatch_step.SkyMatchStep.call(skymatch_json_file2, skymethod='match', match_down=True,subtract=True,output_file='MIRI',save_results=True)"
   ]
  },
  {
   "cell_type": "code",
   "execution_count": 25,
   "metadata": {
    "execution": {
     "iopub.execute_input": "2021-04-24T02:48:37.069850Z",
     "iopub.status.busy": "2021-04-24T02:48:37.069519Z",
     "iopub.status.idle": "2021-04-24T02:48:37.635103Z",
     "shell.execute_reply": "2021-04-24T02:48:37.635348Z"
    }
   },
   "outputs": [
    {
     "name": "stdout",
     "output_type": "stream",
     "text": [
      "Mean: original, new (match down)\n",
      "Mean: 1.9999493 , 1.9999493\n",
      "Mean: 2.9998176 , 1.9955785\n",
      "Mean: 4.9994397 , 1.9883598\n",
      "Mean: 1.9999493 , 1.9895154\n"
     ]
    }
   ],
   "source": [
    "img01_1_new = datamodels.open('MIRI_0_skymatchstep.fits')\n",
    "img01_2_new = datamodels.open('MIRI_1_skymatchstep.fits')\n",
    "img02_1_new = datamodels.open('MIRI_2_skymatchstep.fits')\n",
    "img02_2_new = datamodels.open('MIRI_3_skymatchstep.fits')\n",
    "\n",
    "print('Mean: original, new (match down)')\n",
    "print('Mean:',np.mean(img01_1.data),',', np.mean(img01_1_new.data))\n",
    "print('Mean:',np.mean(img01_2.data),',', np.mean(img01_2_new.data))\n",
    "print('Mean:',np.mean(img02_1.data),',', np.mean(img02_1_new.data))\n",
    "print('Mean:',np.mean(img02_2.data),',', np.mean(img02_2_new.data))"
   ]
  },
  {
   "cell_type": "markdown",
   "metadata": {},
   "source": [
    "### ** Check that all output (new) sky values are equal to the lowest original sky value "
   ]
  },
  {
   "cell_type": "markdown",
   "metadata": {},
   "source": [
    "##### Notes: ‘match’: compute differences in sky values between images and/or groups in (pair-wise) common sky regions. In this case computed sky values will be relative (delta) to the sky computed in one of the input images whose sky value will be set to (reported to be) 0. This case matches to the lowest sky value."
   ]
  },
  {
   "cell_type": "markdown",
   "metadata": {},
   "source": [
    "### 2.4 skymethod = 'match', match_down=False"
   ]
  },
  {
   "cell_type": "code",
   "execution_count": 26,
   "metadata": {
    "execution": {
     "iopub.execute_input": "2021-04-24T02:48:37.639049Z",
     "iopub.status.busy": "2021-04-24T02:48:37.638731Z",
     "iopub.status.idle": "2021-04-24T02:48:40.761333Z",
     "shell.execute_reply": "2021-04-24T02:48:40.761039Z"
    }
   },
   "outputs": [
    {
     "name": "stderr",
     "output_type": "stream",
     "text": [
      "2021-04-23 22:48:37,994 - CRDS - ERROR -  Error determining best reference for 'pars-skymatchstep'  =   Unknown reference type 'pars-skymatchstep'\n"
     ]
    },
    {
     "name": "stderr",
     "output_type": "stream",
     "text": [
      "2021-04-23 22:48:37,995 - stpipe.SkyMatchStep - INFO - SkyMatchStep instance created.\n"
     ]
    },
    {
     "name": "stderr",
     "output_type": "stream",
     "text": [
      "2021-04-23 22:48:38,132 - stpipe.SkyMatchStep - INFO - Step SkyMatchStep running with args ('skymatch_asnfile2.json',).\n"
     ]
    },
    {
     "name": "stderr",
     "output_type": "stream",
     "text": [
      "2021-04-23 22:48:38,133 - stpipe.SkyMatchStep - INFO - Step SkyMatchStep parameters are: {'pre_hooks': [], 'post_hooks': [], 'output_file': '/data1/jenkins/workspace/Notebooks/jwst_validation_notebooks_spacetelescope/tmp/tmpp8_yvpqc/MIRI', 'output_dir': None, 'output_ext': '.fits', 'output_use_model': False, 'output_use_index': True, 'save_results': True, 'skip': False, 'suffix': None, 'search_output_file': True, 'input_dir': '', 'skymethod': 'match', 'match_down': False, 'subtract': True, 'stepsize': None, 'skystat': 'mode', 'dqbits': '0', 'lower': None, 'upper': None, 'nclip': 5, 'lsigma': 4.0, 'usigma': 4.0, 'binwidth': 0.1}\n"
     ]
    },
    {
     "name": "stderr",
     "output_type": "stream",
     "text": [
      "2021-04-23 22:48:38,457 - stpipe.SkyMatchStep - INFO -  \n"
     ]
    },
    {
     "name": "stderr",
     "output_type": "stream",
     "text": [
      "2021-04-23 22:48:38,458 - stpipe.SkyMatchStep - INFO - ***** jwst.skymatch.skymatch.match() started on 2021-04-23 22:48:38.457653\n"
     ]
    },
    {
     "name": "stderr",
     "output_type": "stream",
     "text": [
      "2021-04-23 22:48:38,458 - stpipe.SkyMatchStep - INFO -  \n"
     ]
    },
    {
     "name": "stderr",
     "output_type": "stream",
     "text": [
      "2021-04-23 22:48:38,459 - stpipe.SkyMatchStep - INFO - Sky computation method: 'match'\n"
     ]
    },
    {
     "name": "stderr",
     "output_type": "stream",
     "text": [
      "2021-04-23 22:48:38,459 - stpipe.SkyMatchStep - INFO - Sky matching direction: UP\n"
     ]
    },
    {
     "name": "stderr",
     "output_type": "stream",
     "text": [
      "2021-04-23 22:48:38,459 - stpipe.SkyMatchStep - INFO - Sky subtraction from image data: ON\n"
     ]
    },
    {
     "name": "stderr",
     "output_type": "stream",
     "text": [
      "2021-04-23 22:48:38,460 - stpipe.SkyMatchStep - INFO -  \n"
     ]
    },
    {
     "name": "stderr",
     "output_type": "stream",
     "text": [
      "2021-04-23 22:48:38,460 - stpipe.SkyMatchStep - INFO - ----  Computing differences in sky values in overlapping regions.\n"
     ]
    },
    {
     "name": "stderr",
     "output_type": "stream",
     "text": [
      "2021-04-23 22:48:39,961 - stpipe.SkyMatchStep - INFO -    *  Image ID=det_image_seq1_MIRIMAGE_F560Wexp1_cal_skymatch.fits. Sky background: -3.01108 (old=0, delta=-3.01108)\n"
     ]
    },
    {
     "name": "stderr",
     "output_type": "stream",
     "text": [
      "2021-04-23 22:48:39,963 - stpipe.SkyMatchStep - INFO -    *  Image ID=det_image_seq2_MIRIMAGE_F560Wexp1_cal_skymatch.fits. Sky background: -2.00684 (old=0, delta=-2.00684)\n"
     ]
    },
    {
     "name": "stderr",
     "output_type": "stream",
     "text": [
      "2021-04-23 22:48:39,965 - stpipe.SkyMatchStep - INFO -    *  Image ID=det_image_seq3_MIRIMAGE_F560Wexp1_cal_skymatch.fits. Sky background: 0 (old=0, delta=0)\n"
     ]
    },
    {
     "name": "stderr",
     "output_type": "stream",
     "text": [
      "2021-04-23 22:48:39,967 - stpipe.SkyMatchStep - INFO -    *  Image ID=det_image_seq4_MIRIMAGE_F560Wexp1_cal_skymatch.fits. Sky background: -3.00064 (old=0, delta=-3.00064)\n"
     ]
    },
    {
     "name": "stderr",
     "output_type": "stream",
     "text": [
      "2021-04-23 22:48:39,967 - stpipe.SkyMatchStep - INFO -  \n"
     ]
    },
    {
     "name": "stderr",
     "output_type": "stream",
     "text": [
      "2021-04-23 22:48:39,968 - stpipe.SkyMatchStep - INFO - ***** jwst.skymatch.skymatch.match() ended on 2021-04-23 22:48:39.967777\n"
     ]
    },
    {
     "name": "stderr",
     "output_type": "stream",
     "text": [
      "2021-04-23 22:48:39,968 - stpipe.SkyMatchStep - INFO - ***** jwst.skymatch.skymatch.match() TOTAL RUN TIME: 0:00:01.510124\n"
     ]
    },
    {
     "name": "stderr",
     "output_type": "stream",
     "text": [
      "2021-04-23 22:48:39,968 - stpipe.SkyMatchStep - INFO -  \n"
     ]
    },
    {
     "name": "stderr",
     "output_type": "stream",
     "text": [
      "2021-04-23 22:48:40,177 - stpipe.SkyMatchStep - INFO - Saved model in MIRI_0_skymatchstep.fits\n"
     ]
    },
    {
     "name": "stderr",
     "output_type": "stream",
     "text": [
      "2021-04-23 22:48:40,359 - stpipe.SkyMatchStep - INFO - Saved model in MIRI_1_skymatchstep.fits\n"
     ]
    },
    {
     "name": "stderr",
     "output_type": "stream",
     "text": [
      "2021-04-23 22:48:40,557 - stpipe.SkyMatchStep - INFO - Saved model in MIRI_2_skymatchstep.fits\n"
     ]
    },
    {
     "name": "stderr",
     "output_type": "stream",
     "text": [
      "2021-04-23 22:48:40,756 - stpipe.SkyMatchStep - INFO - Saved model in MIRI_3_skymatchstep.fits\n"
     ]
    },
    {
     "name": "stderr",
     "output_type": "stream",
     "text": [
      "2021-04-23 22:48:40,756 - stpipe.SkyMatchStep - INFO - Step SkyMatchStep done\n"
     ]
    },
    {
     "data": {
      "text/plain": [
       "<ModelContainer>"
      ]
     },
     "execution_count": 1,
     "metadata": {},
     "output_type": "execute_result"
    }
   ],
   "source": [
    "# skymatch, match up, subtract = True\n",
    "jwst.skymatch.skymatch_step.SkyMatchStep.call(skymatch_json_file2, skymethod='match', match_down=False,subtract=True,output_file='MIRI',save_results=True)"
   ]
  },
  {
   "cell_type": "code",
   "execution_count": 27,
   "metadata": {
    "execution": {
     "iopub.execute_input": "2021-04-24T02:48:40.767467Z",
     "iopub.status.busy": "2021-04-24T02:48:40.766129Z",
     "iopub.status.idle": "2021-04-24T02:48:41.341165Z",
     "shell.execute_reply": "2021-04-24T02:48:41.340883Z"
    }
   },
   "outputs": [
    {
     "name": "stdout",
     "output_type": "stream",
     "text": [
      "Mean: original, new (match up)\n",
      "Mean: 1.9999493 , 5.011027\n",
      "Mean: 2.9998176 , 5.006657\n",
      "Mean: 4.9994397 , 4.9994397\n",
      "Mean: 1.9999493 , 5.000593\n"
     ]
    }
   ],
   "source": [
    "img01_1_new = datamodels.open('MIRI_0_skymatchstep.fits')\n",
    "img01_2_new = datamodels.open('MIRI_1_skymatchstep.fits')\n",
    "img02_1_new = datamodels.open('MIRI_2_skymatchstep.fits')\n",
    "img02_2_new = datamodels.open('MIRI_3_skymatchstep.fits')\n",
    "\n",
    "print('Mean: original, new (match up)')\n",
    "print('Mean:',np.mean(img01_1.data),',', np.mean(img01_1_new.data))\n",
    "print('Mean:',np.mean(img01_2.data),',', np.mean(img01_2_new.data))\n",
    "print('Mean:',np.mean(img02_1.data),',', np.mean(img02_1_new.data))\n",
    "print('Mean:',np.mean(img02_2.data),',', np.mean(img02_2_new.data))"
   ]
  },
  {
   "cell_type": "markdown",
   "metadata": {},
   "source": [
    "### ** Check that all output (new) sky values are equal to the highest original sky value "
   ]
  },
  {
   "cell_type": "markdown",
   "metadata": {},
   "source": [
    "##### Notes: ‘match’: compute differences in sky values between images and/or groups in (pair-wise) common sky regions. In this case computed sky values will be relative (delta) to the sky computed in one of the input images whose sky value will be set to (reported to be) 0. This case matches to the highest sky value."
   ]
  },
  {
   "cell_type": "markdown",
   "metadata": {},
   "source": [
    "### 2.5 skymethod = 'global+match'"
   ]
  },
  {
   "cell_type": "code",
   "execution_count": 28,
   "metadata": {
    "execution": {
     "iopub.execute_input": "2021-04-24T02:48:41.344975Z",
     "iopub.status.busy": "2021-04-24T02:48:41.344582Z",
     "iopub.status.idle": "2021-04-24T02:48:44.563708Z",
     "shell.execute_reply": "2021-04-24T02:48:44.563420Z"
    }
   },
   "outputs": [
    {
     "name": "stderr",
     "output_type": "stream",
     "text": [
      "2021-04-23 22:48:41,697 - CRDS - ERROR -  Error determining best reference for 'pars-skymatchstep'  =   Unknown reference type 'pars-skymatchstep'\n"
     ]
    },
    {
     "name": "stderr",
     "output_type": "stream",
     "text": [
      "2021-04-23 22:48:41,699 - stpipe.SkyMatchStep - INFO - SkyMatchStep instance created.\n"
     ]
    },
    {
     "name": "stderr",
     "output_type": "stream",
     "text": [
      "2021-04-23 22:48:41,826 - stpipe.SkyMatchStep - INFO - Step SkyMatchStep running with args ('skymatch_asnfile2.json',).\n"
     ]
    },
    {
     "name": "stderr",
     "output_type": "stream",
     "text": [
      "2021-04-23 22:48:41,828 - stpipe.SkyMatchStep - INFO - Step SkyMatchStep parameters are: {'pre_hooks': [], 'post_hooks': [], 'output_file': '/data1/jenkins/workspace/Notebooks/jwst_validation_notebooks_spacetelescope/tmp/tmpp8_yvpqc/MIRI', 'output_dir': None, 'output_ext': '.fits', 'output_use_model': False, 'output_use_index': True, 'save_results': True, 'skip': False, 'suffix': None, 'search_output_file': True, 'input_dir': '', 'skymethod': 'global+match', 'match_down': True, 'subtract': True, 'stepsize': None, 'skystat': 'mode', 'dqbits': '0', 'lower': None, 'upper': None, 'nclip': 5, 'lsigma': 4.0, 'usigma': 4.0, 'binwidth': 0.1}\n"
     ]
    },
    {
     "name": "stderr",
     "output_type": "stream",
     "text": [
      "2021-04-23 22:48:42,154 - stpipe.SkyMatchStep - INFO -  \n"
     ]
    },
    {
     "name": "stderr",
     "output_type": "stream",
     "text": [
      "2021-04-23 22:48:42,155 - stpipe.SkyMatchStep - INFO - ***** jwst.skymatch.skymatch.match() started on 2021-04-23 22:48:42.154252\n"
     ]
    },
    {
     "name": "stderr",
     "output_type": "stream",
     "text": [
      "2021-04-23 22:48:42,155 - stpipe.SkyMatchStep - INFO -  \n"
     ]
    },
    {
     "name": "stderr",
     "output_type": "stream",
     "text": [
      "2021-04-23 22:48:42,155 - stpipe.SkyMatchStep - INFO - Sky computation method: 'global+match'\n"
     ]
    },
    {
     "name": "stderr",
     "output_type": "stream",
     "text": [
      "2021-04-23 22:48:42,156 - stpipe.SkyMatchStep - INFO - Sky matching direction: DOWN\n"
     ]
    },
    {
     "name": "stderr",
     "output_type": "stream",
     "text": [
      "2021-04-23 22:48:42,156 - stpipe.SkyMatchStep - INFO - Sky subtraction from image data: ON\n"
     ]
    },
    {
     "name": "stderr",
     "output_type": "stream",
     "text": [
      "2021-04-23 22:48:42,156 - stpipe.SkyMatchStep - INFO -  \n"
     ]
    },
    {
     "name": "stderr",
     "output_type": "stream",
     "text": [
      "2021-04-23 22:48:42,157 - stpipe.SkyMatchStep - INFO - ----  Computing differences in sky values in overlapping regions.\n"
     ]
    },
    {
     "name": "stderr",
     "output_type": "stream",
     "text": [
      "2021-04-23 22:48:43,665 - stpipe.SkyMatchStep - INFO -    *  Image ID=det_image_seq1_MIRIMAGE_F560Wexp1_cal_skymatch.fits. Sky background: 0 (old=0, delta=0)\n"
     ]
    },
    {
     "name": "stderr",
     "output_type": "stream",
     "text": [
      "2021-04-23 22:48:43,667 - stpipe.SkyMatchStep - INFO -    *  Image ID=det_image_seq2_MIRIMAGE_F560Wexp1_cal_skymatch.fits. Sky background: 1.00424 (old=0, delta=1.00424)\n"
     ]
    },
    {
     "name": "stderr",
     "output_type": "stream",
     "text": [
      "2021-04-23 22:48:43,668 - stpipe.SkyMatchStep - INFO -    *  Image ID=det_image_seq3_MIRIMAGE_F560Wexp1_cal_skymatch.fits. Sky background: 3.01108 (old=0, delta=3.01108)\n"
     ]
    },
    {
     "name": "stderr",
     "output_type": "stream",
     "text": [
      "2021-04-23 22:48:43,670 - stpipe.SkyMatchStep - INFO -    *  Image ID=det_image_seq4_MIRIMAGE_F560Wexp1_cal_skymatch.fits. Sky background: 0.010434 (old=0, delta=0.010434)\n"
     ]
    },
    {
     "name": "stderr",
     "output_type": "stream",
     "text": [
      "2021-04-23 22:48:43,670 - stpipe.SkyMatchStep - INFO -  \n"
     ]
    },
    {
     "name": "stderr",
     "output_type": "stream",
     "text": [
      "2021-04-23 22:48:43,671 - stpipe.SkyMatchStep - INFO - ----  Computing \"global\" sky - smallest sky value across *all* input images.\n"
     ]
    },
    {
     "name": "stderr",
     "output_type": "stream",
     "text": [
      "2021-04-23 22:48:43,744 - stpipe.SkyMatchStep - INFO -  \n"
     ]
    },
    {
     "name": "stderr",
     "output_type": "stream",
     "text": [
      "2021-04-23 22:48:43,744 - stpipe.SkyMatchStep - INFO -    \"Global\" sky value correction: 1.938139793127775 [not converted]\n"
     ]
    },
    {
     "name": "stderr",
     "output_type": "stream",
     "text": [
      "2021-04-23 22:48:43,745 - stpipe.SkyMatchStep - INFO -  \n"
     ]
    },
    {
     "name": "stderr",
     "output_type": "stream",
     "text": [
      "2021-04-23 22:48:43,745 - stpipe.SkyMatchStep - INFO - ----  Final (match+global) sky for:\n"
     ]
    },
    {
     "name": "stderr",
     "output_type": "stream",
     "text": [
      "2021-04-23 22:48:43,747 - stpipe.SkyMatchStep - INFO -    *  Image ID=det_image_seq1_MIRIMAGE_F560Wexp1_cal_skymatch.fits. Sky background: 1.93814 (old=0, delta=1.93814)\n"
     ]
    },
    {
     "name": "stderr",
     "output_type": "stream",
     "text": [
      "2021-04-23 22:48:43,748 - stpipe.SkyMatchStep - INFO -    *  Image ID=det_image_seq2_MIRIMAGE_F560Wexp1_cal_skymatch.fits. Sky background: 2.94238 (old=1.00424, delta=1.93814)\n"
     ]
    },
    {
     "name": "stderr",
     "output_type": "stream",
     "text": [
      "2021-04-23 22:48:43,750 - stpipe.SkyMatchStep - INFO -    *  Image ID=det_image_seq3_MIRIMAGE_F560Wexp1_cal_skymatch.fits. Sky background: 4.94922 (old=3.01108, delta=1.93814)\n"
     ]
    },
    {
     "name": "stderr",
     "output_type": "stream",
     "text": [
      "2021-04-23 22:48:43,751 - stpipe.SkyMatchStep - INFO -    *  Image ID=det_image_seq4_MIRIMAGE_F560Wexp1_cal_skymatch.fits. Sky background: 1.94857 (old=0.010434, delta=1.93814)\n"
     ]
    },
    {
     "name": "stderr",
     "output_type": "stream",
     "text": [
      "2021-04-23 22:48:43,752 - stpipe.SkyMatchStep - INFO -  \n"
     ]
    },
    {
     "name": "stderr",
     "output_type": "stream",
     "text": [
      "2021-04-23 22:48:43,752 - stpipe.SkyMatchStep - INFO - ***** jwst.skymatch.skymatch.match() ended on 2021-04-23 22:48:43.752145\n"
     ]
    },
    {
     "name": "stderr",
     "output_type": "stream",
     "text": [
      "2021-04-23 22:48:43,752 - stpipe.SkyMatchStep - INFO - ***** jwst.skymatch.skymatch.match() TOTAL RUN TIME: 0:00:01.597893\n"
     ]
    },
    {
     "name": "stderr",
     "output_type": "stream",
     "text": [
      "2021-04-23 22:48:43,753 - stpipe.SkyMatchStep - INFO -  \n"
     ]
    },
    {
     "name": "stderr",
     "output_type": "stream",
     "text": [
      "2021-04-23 22:48:43,978 - stpipe.SkyMatchStep - INFO - Saved model in MIRI_0_skymatchstep.fits\n"
     ]
    },
    {
     "name": "stderr",
     "output_type": "stream",
     "text": [
      "2021-04-23 22:48:44,164 - stpipe.SkyMatchStep - INFO - Saved model in MIRI_1_skymatchstep.fits\n"
     ]
    },
    {
     "name": "stderr",
     "output_type": "stream",
     "text": [
      "2021-04-23 22:48:44,372 - stpipe.SkyMatchStep - INFO - Saved model in MIRI_2_skymatchstep.fits\n"
     ]
    },
    {
     "name": "stderr",
     "output_type": "stream",
     "text": [
      "2021-04-23 22:48:44,558 - stpipe.SkyMatchStep - INFO - Saved model in MIRI_3_skymatchstep.fits\n"
     ]
    },
    {
     "name": "stderr",
     "output_type": "stream",
     "text": [
      "2021-04-23 22:48:44,559 - stpipe.SkyMatchStep - INFO - Step SkyMatchStep done\n"
     ]
    },
    {
     "data": {
      "text/plain": [
       "<ModelContainer>"
      ]
     },
     "execution_count": 1,
     "metadata": {},
     "output_type": "execute_result"
    }
   ],
   "source": [
    "# skymatch, global+match, subtract = True\n",
    "jwst.skymatch.skymatch_step.SkyMatchStep.call(skymatch_json_file2, skymethod='global+match', match_down=True,subtract=True,output_file='MIRI',save_results=True)"
   ]
  },
  {
   "cell_type": "code",
   "execution_count": 29,
   "metadata": {
    "execution": {
     "iopub.execute_input": "2021-04-24T02:48:44.567296Z",
     "iopub.status.busy": "2021-04-24T02:48:44.566989Z",
     "iopub.status.idle": "2021-04-24T02:48:45.145179Z",
     "shell.execute_reply": "2021-04-24T02:48:45.144916Z"
    }
   },
   "outputs": [
    {
     "name": "stdout",
     "output_type": "stream",
     "text": [
      "Mean: original, new (global+match)\n",
      "Mean: 1.9999493 , 0.061809763\n",
      "Mean: 2.9998176 , 0.057438865\n",
      "Mean: 4.9994397 , 0.05022043\n",
      "Mean: 1.9999493 , 0.051375862\n"
     ]
    }
   ],
   "source": [
    "img01_1_new = datamodels.open('MIRI_0_skymatchstep.fits')\n",
    "img01_2_new = datamodels.open('MIRI_1_skymatchstep.fits')\n",
    "img02_1_new = datamodels.open('MIRI_2_skymatchstep.fits')\n",
    "img02_2_new = datamodels.open('MIRI_3_skymatchstep.fits')\n",
    "\n",
    "print('Mean: original, new (global+match)')\n",
    "print('Mean:',np.mean(img01_1.data),',', np.mean(img01_1_new.data))\n",
    "print('Mean:',np.mean(img01_2.data),',', np.mean(img01_2_new.data))\n",
    "print('Mean:',np.mean(img02_1.data),',', np.mean(img02_1_new.data))\n",
    "print('Mean:',np.mean(img02_2.data),',', np.mean(img02_2_new.data))"
   ]
  },
  {
   "cell_type": "markdown",
   "metadata": {},
   "source": [
    "### ** Check that all output (new) sky values are around zero (within a standard deviation)"
   ]
  },
  {
   "cell_type": "markdown",
   "metadata": {
    "collapsed": true
   },
   "source": [
    "##### Notes: ‘global+match’: first use ‘match’ method to equalize sky values between images and then find a minimum “global” sky value in all input images.\n"
   ]
  }
 ],
 "metadata": {
  "anaconda-cloud": {},
  "kernelspec": {
   "display_name": "Python 3",
   "language": "python",
   "name": "python3"
  },
  "language_info": {
   "codemirror_mode": {
    "name": "ipython",
    "version": 3
   },
   "file_extension": ".py",
   "mimetype": "text/x-python",
   "name": "python",
   "nbconvert_exporter": "python",
   "pygments_lexer": "ipython3",
   "version": "3.8.8"
  }
 },
 "nbformat": 4,
 "nbformat_minor": 2
}
