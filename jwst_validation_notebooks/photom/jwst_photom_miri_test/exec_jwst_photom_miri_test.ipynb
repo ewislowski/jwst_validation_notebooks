{
 "cells": [
  {
   "cell_type": "markdown",
   "metadata": {},
   "source": [
    "# Testing photom step with MIRI simulated data"
   ]
  },
  {
   "cell_type": "markdown",
   "metadata": {},
   "source": [
    "## Summary\n",
    "\n",
    "This notebook processes an image through calwebb_image2 and calwebb_image3 (calwebb_detector1 is optional) and examines the output table of the source_catalog step. The steps are as follow:\n",
    "\n",
    "1) Set up data path and directory and image file name.\n",
    "\n",
    "2) Modify header information of input simulations (if needed).\n",
    "\n",
    "3) Run input data through calwebb_detector1.\n",
    "\n",
    "4) Run output of calwebb_detector1 through the photom step in calwebb_image2.\n",
    "\n",
    "5) Get photom reference file. \n",
    "\n",
    "6) Compare the flat field reference file with the rate/cal image ratio and check that the correct conversion factor was applied.\n",
    "\n",
    "7) Check that the pixel area information has been attached and that PIXAR_SR, PIXAR_A2, and BUNIT keywords have been populated in the cal image.\n",
    "\n",
    "\n",
    "The pipeline documentation can be found here: https://jwst-pipeline.readthedocs.io/en/latest/\n",
    "\n",
    "The pipeline code is available on GitHub: https://github.com/spacetelescope/jwst\n",
    "\n",
    "Author: T. Temim"
   ]
  },
  {
   "cell_type": "code",
   "execution_count": 1,
   "metadata": {
    "execution": {
     "iopub.execute_input": "2021-02-12T06:35:53.753024Z",
     "iopub.status.busy": "2021-02-12T06:35:53.752706Z",
     "iopub.status.idle": "2021-02-12T06:35:53.754792Z",
     "shell.execute_reply": "2021-02-12T06:35:53.755047Z"
    }
   },
   "outputs": [],
   "source": [
    "# Create a temporary directory to hold notebook output, and change the working directory to that directory.\n",
    "from tempfile import TemporaryDirectory\n",
    "import os\n",
    "data_dir = TemporaryDirectory()\n",
    "os.chdir(data_dir.name)"
   ]
  },
  {
   "cell_type": "markdown",
   "metadata": {},
   "source": [
    "### Set up import statements"
   ]
  },
  {
   "cell_type": "code",
   "execution_count": 2,
   "metadata": {
    "execution": {
     "iopub.execute_input": "2021-02-12T06:35:53.757530Z",
     "iopub.status.busy": "2021-02-12T06:35:53.757224Z",
     "iopub.status.idle": "2021-02-12T06:35:54.899302Z",
     "shell.execute_reply": "2021-02-12T06:35:54.899568Z"
    }
   },
   "outputs": [],
   "source": [
    "import jwst\n",
    "from jwst.pipeline import Detector1Pipeline, Image2Pipeline\n",
    "from astropy.io import fits\n",
    "import numpy as np\n",
    "from jwst.datamodels import RampModel, ImageModel, MirImgPhotomModel\n",
    "from astropy.utils.data import get_pkg_data_filename\n",
    "from ci_watson.artifactory_helpers import get_bigdata\n",
    "from astropy import table\n",
    "import crds"
   ]
  },
  {
   "cell_type": "code",
   "execution_count": 3,
   "metadata": {
    "execution": {
     "iopub.execute_input": "2021-02-12T06:35:54.901945Z",
     "iopub.status.busy": "2021-02-12T06:35:54.901624Z",
     "iopub.status.idle": "2021-02-12T06:35:54.903499Z",
     "shell.execute_reply": "2021-02-12T06:35:54.903163Z"
    }
   },
   "outputs": [],
   "source": [
    "#import os\n",
    "#os.environ['CRDS_PATH']='$HOME/crds_cache'\n",
    "#os.environ['CRDS_SERVER_URL'] = 'https://jwst-crds.stsci.edu'\n",
    "#os.environ['CRDS_CONTEXT']='jwst_0619.pmap'\n",
    "#os.environ['TEST_BIGDATA']='https://bytesalad.stsci.edu/artifactory/'\n",
    "#export CRDS_SERVER_URL=https://jwst-crds.stsci.edu\n",
    "#export CRDS_PATH=$HOME/crds_cache\n",
    "#export CRDS_CONTEXT='jwst_0619.pmap'\n",
    "#export TEST_BIGDATA=https://bytesalad.stsci.edu/artifactory/"
   ]
  },
  {
   "cell_type": "markdown",
   "metadata": {},
   "source": [
    "### Print pipeline version number"
   ]
  },
  {
   "cell_type": "code",
   "execution_count": 4,
   "metadata": {
    "execution": {
     "iopub.execute_input": "2021-02-12T06:35:54.906930Z",
     "iopub.status.busy": "2021-02-12T06:35:54.906621Z",
     "iopub.status.idle": "2021-02-12T06:35:54.908636Z",
     "shell.execute_reply": "2021-02-12T06:35:54.908958Z"
    }
   },
   "outputs": [
    {
     "data": {
      "text/plain": [
       "'0.18.3'"
      ]
     },
     "execution_count": 1,
     "metadata": {},
     "output_type": "execute_result"
    }
   ],
   "source": [
    "jwst.__version__ "
   ]
  },
  {
   "cell_type": "markdown",
   "metadata": {},
   "source": [
    "### Read in data from artifactory"
   ]
  },
  {
   "cell_type": "code",
   "execution_count": 5,
   "metadata": {
    "execution": {
     "iopub.execute_input": "2021-02-12T06:35:54.911041Z",
     "iopub.status.busy": "2021-02-12T06:35:54.910722Z",
     "iopub.status.idle": "2021-02-12T06:35:55.121070Z",
     "shell.execute_reply": "2021-02-12T06:35:55.121326Z"
    }
   },
   "outputs": [],
   "source": [
    "input_file = get_bigdata('jwst_validation_notebooks',\n",
    "                     'validation_data',\n",
    "                     'source_catalog',\n",
    "                     'source_catalog_miri_test', \n",
    "                     'det_image_seq1_MIRIMAGE_F560Wexp1_rate.fits')"
   ]
  },
  {
   "cell_type": "markdown",
   "metadata": {},
   "source": [
    "### Read in input image as JWST data model"
   ]
  },
  {
   "cell_type": "code",
   "execution_count": 6,
   "metadata": {
    "execution": {
     "iopub.execute_input": "2021-02-12T06:35:55.128689Z",
     "iopub.status.busy": "2021-02-12T06:35:55.123552Z",
     "iopub.status.idle": "2021-02-12T06:35:55.462515Z",
     "shell.execute_reply": "2021-02-12T06:35:55.462145Z"
    }
   },
   "outputs": [],
   "source": [
    "from jwst import datamodels\n",
    "\n",
    "im = ImageModel(input_file)"
   ]
  },
  {
   "cell_type": "markdown",
   "metadata": {},
   "source": [
    "### Modify header information of input simulations (if needed)"
   ]
  },
  {
   "cell_type": "code",
   "execution_count": 7,
   "metadata": {
    "execution": {
     "iopub.execute_input": "2021-02-12T06:35:55.465017Z",
     "iopub.status.busy": "2021-02-12T06:35:55.464702Z",
     "iopub.status.idle": "2021-02-12T06:35:55.466720Z",
     "shell.execute_reply": "2021-02-12T06:35:55.466975Z"
    }
   },
   "outputs": [
    {
     "name": "stdout",
     "output_type": "stream",
     "text": [
      "4\n"
     ]
    }
   ],
   "source": [
    "print(im.meta.wcsinfo.wcsaxes)"
   ]
  },
  {
   "cell_type": "code",
   "execution_count": 8,
   "metadata": {
    "execution": {
     "iopub.execute_input": "2021-02-12T06:35:55.469245Z",
     "iopub.status.busy": "2021-02-12T06:35:55.468947Z",
     "iopub.status.idle": "2021-02-12T06:35:55.470742Z",
     "shell.execute_reply": "2021-02-12T06:35:55.470418Z"
    }
   },
   "outputs": [],
   "source": [
    "im.meta.wcsinfo.wcsaxes=2"
   ]
  },
  {
   "cell_type": "code",
   "execution_count": 9,
   "metadata": {
    "execution": {
     "iopub.execute_input": "2021-02-12T06:35:55.472701Z",
     "iopub.status.busy": "2021-02-12T06:35:55.472411Z",
     "iopub.status.idle": "2021-02-12T06:35:55.474616Z",
     "shell.execute_reply": "2021-02-12T06:35:55.474286Z"
    }
   },
   "outputs": [
    {
     "name": "stdout",
     "output_type": "stream",
     "text": [
      "2\n"
     ]
    }
   ],
   "source": [
    "print(im.meta.wcsinfo.wcsaxes)"
   ]
  },
  {
   "cell_type": "code",
   "execution_count": 10,
   "metadata": {
    "execution": {
     "iopub.execute_input": "2021-02-12T06:35:55.477168Z",
     "iopub.status.busy": "2021-02-12T06:35:55.476869Z",
     "iopub.status.idle": "2021-02-12T06:35:55.478545Z",
     "shell.execute_reply": "2021-02-12T06:35:55.478231Z"
    }
   },
   "outputs": [],
   "source": [
    "del im.meta.wcsinfo.cdelt3\n",
    "del im.meta.wcsinfo.crpix3\n",
    "del im.meta.wcsinfo.crval3\n",
    "del im.meta.wcsinfo.ctype3\n",
    "del im.meta.wcsinfo.cunit3\n",
    "del im.meta.wcsinfo.pc3_1\n",
    "del im.meta.wcsinfo.pc3_2"
   ]
  },
  {
   "cell_type": "markdown",
   "metadata": {},
   "source": [
    "### Run input data through calwebb_detector1"
   ]
  },
  {
   "cell_type": "code",
   "execution_count": 11,
   "metadata": {
    "execution": {
     "iopub.execute_input": "2021-02-12T06:35:55.480402Z",
     "iopub.status.busy": "2021-02-12T06:35:55.480102Z",
     "iopub.status.idle": "2021-02-12T06:35:55.481871Z",
     "shell.execute_reply": "2021-02-12T06:35:55.481541Z"
    }
   },
   "outputs": [],
   "source": [
    "# The data read in is an image file already processed through Detector1. This step should only be run \n",
    "#if we're starting with a ramp file.\n",
    "\n",
    "#det1 = Detector1Pipeline()\n",
    "#det1.save_results = True\n",
    "#det1.run(im)"
   ]
  },
  {
   "cell_type": "markdown",
   "metadata": {},
   "source": [
    "### Run output of calwebb_detector1 through calwebb_image2"
   ]
  },
  {
   "cell_type": "code",
   "execution_count": 12,
   "metadata": {
    "execution": {
     "iopub.execute_input": "2021-02-12T06:35:55.483747Z",
     "iopub.status.busy": "2021-02-12T06:35:55.483457Z",
     "iopub.status.idle": "2021-02-12T06:35:55.485334Z",
     "shell.execute_reply": "2021-02-12T06:35:55.485052Z"
    }
   },
   "outputs": [],
   "source": [
    "#input_file = input_file.replace('rateint.fits', 'rate.fits')"
   ]
  },
  {
   "cell_type": "code",
   "execution_count": 13,
   "metadata": {
    "execution": {
     "iopub.execute_input": "2021-02-12T06:35:55.489737Z",
     "iopub.status.busy": "2021-02-12T06:35:55.489443Z",
     "iopub.status.idle": "2021-02-12T06:35:56.294001Z",
     "shell.execute_reply": "2021-02-12T06:35:56.293664Z"
    }
   },
   "outputs": [
    {
     "name": "stderr",
     "output_type": "stream",
     "text": [
      "2021-02-12 01:35:55,491 - stpipe.Image2Pipeline - INFO - Image2Pipeline instance created.\n"
     ]
    },
    {
     "name": "stderr",
     "output_type": "stream",
     "text": [
      "2021-02-12 01:35:55,492 - stpipe.Image2Pipeline.bkg_subtract - INFO - BackgroundStep instance created.\n"
     ]
    },
    {
     "name": "stderr",
     "output_type": "stream",
     "text": [
      "2021-02-12 01:35:55,493 - stpipe.Image2Pipeline.assign_wcs - INFO - AssignWcsStep instance created.\n"
     ]
    },
    {
     "name": "stderr",
     "output_type": "stream",
     "text": [
      "2021-02-12 01:35:55,494 - stpipe.Image2Pipeline.flat_field - INFO - FlatFieldStep instance created.\n"
     ]
    },
    {
     "name": "stderr",
     "output_type": "stream",
     "text": [
      "2021-02-12 01:35:55,495 - stpipe.Image2Pipeline.photom - INFO - PhotomStep instance created.\n"
     ]
    },
    {
     "name": "stderr",
     "output_type": "stream",
     "text": [
      "2021-02-12 01:35:55,496 - stpipe.Image2Pipeline.resample - INFO - ResampleStep instance created.\n"
     ]
    },
    {
     "name": "stderr",
     "output_type": "stream",
     "text": [
      "2021-02-12 01:35:55,569 - stpipe.Image2Pipeline - INFO - Step Image2Pipeline running with args (<ImageModel(1024, 1032) from det_image_seq1_MIRIMAGE_F560Wexp1_rate.fits>,).\n"
     ]
    },
    {
     "name": "stderr",
     "output_type": "stream",
     "text": [
      "2021-02-12 01:35:55,572 - stpipe.Image2Pipeline - INFO - Step Image2Pipeline parameters are: {'pre_hooks': [], 'post_hooks': [], 'output_file': None, 'output_dir': None, 'output_ext': '.fits', 'output_use_model': False, 'output_use_index': True, 'save_results': True, 'skip': False, 'suffix': None, 'search_output_file': True, 'input_dir': '', 'save_bsub': False, 'steps': {'bkg_subtract': {'pre_hooks': [], 'post_hooks': [], 'output_file': None, 'output_dir': None, 'output_ext': '.fits', 'output_use_model': False, 'output_use_index': True, 'save_results': False, 'skip': False, 'suffix': None, 'search_output_file': True, 'input_dir': '', 'sigma': 3.0, 'maxiters': None}, 'assign_wcs': {'pre_hooks': [], 'post_hooks': [], 'output_file': None, 'output_dir': None, 'output_ext': '.fits', 'output_use_model': False, 'output_use_index': True, 'save_results': False, 'skip': True, 'suffix': None, 'search_output_file': True, 'input_dir': '', 'sip_approx': True, 'sip_max_pix_error': 0.25, 'sip_degree': None, 'sip_max_inv_pix_error': 0.25, 'sip_inv_degree': None, 'sip_npoints': 32, 'slit_y_low': -0.55, 'slit_y_high': 0.55}, 'flat_field': {'pre_hooks': [], 'post_hooks': [], 'output_file': None, 'output_dir': None, 'output_ext': '.fits', 'output_use_model': False, 'output_use_index': True, 'save_results': False, 'skip': True, 'suffix': None, 'search_output_file': True, 'input_dir': '', 'save_interpolated_flat': False, 'user_supplied_flat': None, 'inverse': False}, 'photom': {'pre_hooks': [], 'post_hooks': [], 'output_file': None, 'output_dir': None, 'output_ext': '.fits', 'output_use_model': False, 'output_use_index': True, 'save_results': False, 'skip': False, 'suffix': None, 'search_output_file': True, 'input_dir': '', 'inverse': False, 'source_type': None}, 'resample': {'pre_hooks': [], 'post_hooks': [], 'output_file': None, 'output_dir': None, 'output_ext': '.fits', 'output_use_model': False, 'output_use_index': True, 'save_results': False, 'skip': True, 'suffix': None, 'search_output_file': True, 'input_dir': '', 'pixfrac': 1.0, 'kernel': 'square', 'fillval': 'INDEF', 'weight_type': 'exptime', 'pixel_scale_ratio': 1.0, 'single': False, 'blendheaders': True, 'allowed_memory': None}}}\n"
     ]
    },
    {
     "name": "stderr",
     "output_type": "stream",
     "text": [
      "2021-02-12 01:35:55,579 - stpipe.Image2Pipeline - INFO - Prefetching reference files for dataset: 'det_image_seq1_MIRIMAGE_F560Wexp1_rate.fits' reftypes = ['area', 'photom', 'wavelengthrange', 'wfssbkg']\n"
     ]
    },
    {
     "name": "stderr",
     "output_type": "stream",
     "text": [
      "2021-02-12 01:35:55,787 - stpipe.Image2Pipeline - INFO - Prefetch for AREA reference file is '/grp/crds/cache/references/jwst/jwst_miri_area_0004.fits'.\n"
     ]
    },
    {
     "name": "stderr",
     "output_type": "stream",
     "text": [
      "2021-02-12 01:35:55,788 - stpipe.Image2Pipeline - INFO - Prefetch for PHOTOM reference file is '/grp/crds/cache/references/jwst/jwst_miri_photom_0044.fits'.\n"
     ]
    },
    {
     "name": "stderr",
     "output_type": "stream",
     "text": [
      "2021-02-12 01:35:55,790 - stpipe.Image2Pipeline - INFO - Prefetch for WAVELENGTHRANGE reference file is 'N/A'.\n"
     ]
    },
    {
     "name": "stderr",
     "output_type": "stream",
     "text": [
      "2021-02-12 01:35:55,790 - stpipe.Image2Pipeline - INFO - Prefetch for WFSSBKG reference file is 'N/A'.\n"
     ]
    },
    {
     "name": "stderr",
     "output_type": "stream",
     "text": [
      "2021-02-12 01:35:55,790 - stpipe.Image2Pipeline - INFO - Starting calwebb_image2 ...\n"
     ]
    },
    {
     "name": "stderr",
     "output_type": "stream",
     "text": [
      "2021-02-12 01:35:55,823 - stpipe.Image2Pipeline - INFO - Processing product det_image_seq1_MIRIMAGE_F560Wexp1_rate\n"
     ]
    },
    {
     "name": "stderr",
     "output_type": "stream",
     "text": [
      "2021-02-12 01:35:55,823 - stpipe.Image2Pipeline - INFO - Working on input <ImageModel(1024, 1032) from det_image_seq1_MIRIMAGE_F560Wexp1_rate.fits> ...\n"
     ]
    },
    {
     "name": "stderr",
     "output_type": "stream",
     "text": [
      "2021-02-12 01:35:55,888 - stpipe.Image2Pipeline.assign_wcs - INFO - Step assign_wcs running with args (<ImageModel(1024, 1032) from det_image_seq1_MIRIMAGE_F560Wexp1_rate.fits>,).\n"
     ]
    },
    {
     "name": "stderr",
     "output_type": "stream",
     "text": [
      "2021-02-12 01:35:55,889 - stpipe.Image2Pipeline.assign_wcs - INFO - Step assign_wcs parameters are: {'pre_hooks': [], 'post_hooks': [], 'output_file': None, 'output_dir': None, 'output_ext': '.fits', 'output_use_model': False, 'output_use_index': True, 'save_results': False, 'skip': True, 'suffix': None, 'search_output_file': True, 'input_dir': '', 'sip_approx': True, 'sip_max_pix_error': 0.25, 'sip_degree': None, 'sip_max_inv_pix_error': 0.25, 'sip_inv_degree': None, 'sip_npoints': 32, 'slit_y_low': -0.55, 'slit_y_high': 0.55}\n"
     ]
    },
    {
     "name": "stderr",
     "output_type": "stream",
     "text": [
      "2021-02-12 01:35:55,890 - stpipe.Image2Pipeline.assign_wcs - INFO - Step skipped.\n"
     ]
    },
    {
     "name": "stderr",
     "output_type": "stream",
     "text": [
      "2021-02-12 01:35:55,890 - stpipe.Image2Pipeline.assign_wcs - INFO - Step assign_wcs done\n"
     ]
    },
    {
     "name": "stderr",
     "output_type": "stream",
     "text": [
      "2021-02-12 01:35:55,940 - stpipe.Image2Pipeline.flat_field - INFO - Step flat_field running with args (<ImageModel(1024, 1032) from det_image_seq1_MIRIMAGE_F560Wexp1_rate.fits>,).\n"
     ]
    },
    {
     "name": "stderr",
     "output_type": "stream",
     "text": [
      "2021-02-12 01:35:55,941 - stpipe.Image2Pipeline.flat_field - INFO - Step flat_field parameters are: {'pre_hooks': [], 'post_hooks': [], 'output_file': None, 'output_dir': None, 'output_ext': '.fits', 'output_use_model': False, 'output_use_index': True, 'save_results': False, 'skip': True, 'suffix': None, 'search_output_file': True, 'input_dir': '', 'save_interpolated_flat': False, 'user_supplied_flat': None, 'inverse': False}\n"
     ]
    },
    {
     "name": "stderr",
     "output_type": "stream",
     "text": [
      "2021-02-12 01:35:55,942 - stpipe.Image2Pipeline.flat_field - INFO - Step skipped.\n"
     ]
    },
    {
     "name": "stderr",
     "output_type": "stream",
     "text": [
      "2021-02-12 01:35:55,942 - stpipe.Image2Pipeline.flat_field - INFO - Step flat_field done\n"
     ]
    },
    {
     "name": "stderr",
     "output_type": "stream",
     "text": [
      "2021-02-12 01:35:55,991 - stpipe.Image2Pipeline.photom - INFO - Step photom running with args (<ImageModel(1024, 1032) from det_image_seq1_MIRIMAGE_F560Wexp1_rate.fits>,).\n"
     ]
    },
    {
     "name": "stderr",
     "output_type": "stream",
     "text": [
      "2021-02-12 01:35:55,992 - stpipe.Image2Pipeline.photom - INFO - Step photom parameters are: {'pre_hooks': [], 'post_hooks': [], 'output_file': None, 'output_dir': None, 'output_ext': '.fits', 'output_use_model': False, 'output_use_index': True, 'save_results': False, 'skip': False, 'suffix': None, 'search_output_file': True, 'input_dir': '', 'inverse': False, 'source_type': None}\n"
     ]
    },
    {
     "name": "stderr",
     "output_type": "stream",
     "text": [
      "2021-02-12 01:35:56,003 - stpipe.Image2Pipeline.photom - INFO - Using photom reference file: /grp/crds/cache/references/jwst/jwst_miri_photom_0044.fits\n"
     ]
    },
    {
     "name": "stderr",
     "output_type": "stream",
     "text": [
      "2021-02-12 01:35:56,003 - stpipe.Image2Pipeline.photom - INFO - Using area reference file: /grp/crds/cache/references/jwst/jwst_miri_area_0004.fits\n"
     ]
    },
    {
     "name": "stderr",
     "output_type": "stream",
     "text": [
      "2021-02-12 01:35:56,026 - stpipe.Image2Pipeline.photom - INFO - Using instrument: MIRI\n"
     ]
    },
    {
     "name": "stderr",
     "output_type": "stream",
     "text": [
      "2021-02-12 01:35:56,027 - stpipe.Image2Pipeline.photom - INFO -  detector: MIRIMAGE\n"
     ]
    },
    {
     "name": "stderr",
     "output_type": "stream",
     "text": [
      "2021-02-12 01:35:56,027 - stpipe.Image2Pipeline.photom - INFO -  exp_type: MIR_IMAGE\n"
     ]
    },
    {
     "name": "stderr",
     "output_type": "stream",
     "text": [
      "2021-02-12 01:35:56,027 - stpipe.Image2Pipeline.photom - INFO -  filter: F560W\n"
     ]
    },
    {
     "name": "stderr",
     "output_type": "stream",
     "text": [
      "2021-02-12 01:35:56,148 - stpipe.Image2Pipeline.photom - INFO - Pixel area map copied to output.\n"
     ]
    },
    {
     "name": "stderr",
     "output_type": "stream",
     "text": [
      "2021-02-12 01:35:56,149 - stpipe.Image2Pipeline.photom - INFO -  subarray: FULL\n"
     ]
    },
    {
     "name": "stderr",
     "output_type": "stream",
     "text": [
      "2021-02-12 01:35:56,149 - stpipe.Image2Pipeline.photom - INFO - PHOTMJSR value: 1.02701\n"
     ]
    },
    {
     "name": "stderr",
     "output_type": "stream",
     "text": [
      "2021-02-12 01:35:56,159 - stpipe.Image2Pipeline.photom - INFO - Step photom done\n"
     ]
    },
    {
     "name": "stderr",
     "output_type": "stream",
     "text": [
      "2021-02-12 01:35:56,223 - stpipe.Image2Pipeline.resample - INFO - Step resample running with args (<ImageModel(1024, 1032) from det_image_seq1_MIRIMAGE_F560Wexp1_rate.fits>,).\n"
     ]
    },
    {
     "name": "stderr",
     "output_type": "stream",
     "text": [
      "2021-02-12 01:35:56,224 - stpipe.Image2Pipeline.resample - INFO - Step resample parameters are: {'pre_hooks': [], 'post_hooks': [], 'output_file': None, 'output_dir': None, 'output_ext': '.fits', 'output_use_model': False, 'output_use_index': True, 'save_results': True, 'skip': True, 'suffix': 'i2d', 'search_output_file': True, 'input_dir': '', 'pixfrac': 1.0, 'kernel': 'square', 'fillval': 'INDEF', 'weight_type': 'exptime', 'pixel_scale_ratio': 1.0, 'single': False, 'blendheaders': True, 'allowed_memory': None}\n"
     ]
    },
    {
     "name": "stderr",
     "output_type": "stream",
     "text": [
      "2021-02-12 01:35:56,224 - stpipe.Image2Pipeline.resample - INFO - Step skipped.\n"
     ]
    },
    {
     "name": "stderr",
     "output_type": "stream",
     "text": [
      "2021-02-12 01:35:56,225 - stpipe.Image2Pipeline.resample - INFO - Step resample done\n"
     ]
    },
    {
     "name": "stderr",
     "output_type": "stream",
     "text": [
      "2021-02-12 01:35:56,226 - stpipe.Image2Pipeline - INFO - Finished processing product det_image_seq1_MIRIMAGE_F560Wexp1_rate\n"
     ]
    },
    {
     "name": "stderr",
     "output_type": "stream",
     "text": [
      "2021-02-12 01:35:56,227 - stpipe.Image2Pipeline - INFO - ... ending calwebb_image2\n"
     ]
    },
    {
     "name": "stderr",
     "output_type": "stream",
     "text": [
      "2021-02-12 01:35:56,289 - stpipe.Image2Pipeline - INFO - Saved model in det_image_seq1_MIRIMAGE_F560Wexp1_cal.fits\n"
     ]
    },
    {
     "name": "stderr",
     "output_type": "stream",
     "text": [
      "2021-02-12 01:35:56,290 - stpipe.Image2Pipeline - INFO - Step Image2Pipeline done\n"
     ]
    },
    {
     "data": {
      "text/plain": [
       "[<ImageModel(1024, 1032) from det_image_seq1_MIRIMAGE_F560Wexp1_cal.fits>]"
      ]
     },
     "execution_count": 1,
     "metadata": {},
     "output_type": "execute_result"
    }
   ],
   "source": [
    "im2 = Image2Pipeline()\n",
    "#im2.background.skip = True\n",
    "im2.assign_wcs.skip = True\n",
    "im2.flat_field.skip = True\n",
    "im2.photom.skip=False\n",
    "im2.resample.skip = True\n",
    "im2.save_results = True\n",
    "im2.run(im)"
   ]
  },
  {
   "cell_type": "code",
   "execution_count": 14,
   "metadata": {
    "execution": {
     "iopub.execute_input": "2021-02-12T06:35:56.296348Z",
     "iopub.status.busy": "2021-02-12T06:35:56.296058Z",
     "iopub.status.idle": "2021-02-12T06:35:56.297466Z",
     "shell.execute_reply": "2021-02-12T06:35:56.297703Z"
    }
   },
   "outputs": [],
   "source": [
    "input_file = input_file.replace('rate.fits', 'cal.fits')"
   ]
  },
  {
   "cell_type": "code",
   "execution_count": 15,
   "metadata": {
    "execution": {
     "iopub.execute_input": "2021-02-12T06:35:56.305203Z",
     "iopub.status.busy": "2021-02-12T06:35:56.304908Z",
     "iopub.status.idle": "2021-02-12T06:35:56.323960Z",
     "shell.execute_reply": "2021-02-12T06:35:56.324264Z"
    }
   },
   "outputs": [],
   "source": [
    "# read in the calibrated file\n",
    "im_cal = ImageModel(input_file)"
   ]
  },
  {
   "cell_type": "markdown",
   "metadata": {},
   "source": [
    "### Calculate the rate/cal image ratio"
   ]
  },
  {
   "cell_type": "code",
   "execution_count": 16,
   "metadata": {
    "execution": {
     "iopub.execute_input": "2021-02-12T06:35:56.326562Z",
     "iopub.status.busy": "2021-02-12T06:35:56.326264Z",
     "iopub.status.idle": "2021-02-12T06:35:56.331926Z",
     "shell.execute_reply": "2021-02-12T06:35:56.331598Z"
    }
   },
   "outputs": [
    {
     "name": "stderr",
     "output_type": "stream",
     "text": [
      "2021-02-12 01:35:56,329 - stpipe - WARNING - /data1/jenkins/workspace/Notebooks/jwst_validation_notebooks_spacetelescope/miniconda3/envs/jwst_validation_notebooks/lib/python3.8/site-packages/asdf/tags/core/ndarray.py:523: RuntimeWarning: invalid value encountered in true_divide\n",
      "  return getattr(self._make_array(), name)(*args)\n",
      "\n"
     ]
    }
   ],
   "source": [
    "ratio_im=im_cal.data/im.data"
   ]
  },
  {
   "cell_type": "code",
   "execution_count": 17,
   "metadata": {
    "execution": {
     "iopub.execute_input": "2021-02-12T06:35:56.334438Z",
     "iopub.status.busy": "2021-02-12T06:35:56.334151Z",
     "iopub.status.idle": "2021-02-12T06:35:56.336183Z",
     "shell.execute_reply": "2021-02-12T06:35:56.335861Z"
    }
   },
   "outputs": [
    {
     "name": "stdout",
     "output_type": "stream",
     "text": [
      "[[1.02701 1.02701 1.02701 ... 1.02701 1.02701 1.02701]\n",
      " [1.02701 1.02701 1.02701 ... 1.02701 1.02701 1.02701]\n",
      " [1.02701 1.02701 1.02701 ... 1.02701 1.02701 1.02701]\n",
      " ...\n",
      " [1.02701 1.02701 1.02701 ... 1.02701 1.02701 1.02701]\n",
      " [    nan     nan     nan ... 1.02701 1.02701 1.02701]\n",
      " [1.02701 1.02701 1.02701 ... 1.02701 1.02701 1.02701]]\n"
     ]
    }
   ],
   "source": [
    "print(ratio_im)"
   ]
  },
  {
   "cell_type": "markdown",
   "metadata": {},
   "source": [
    "### Get photom reference file"
   ]
  },
  {
   "cell_type": "code",
   "execution_count": 18,
   "metadata": {
    "execution": {
     "iopub.execute_input": "2021-02-12T06:35:56.339216Z",
     "iopub.status.busy": "2021-02-12T06:35:56.338913Z",
     "iopub.status.idle": "2021-02-12T06:35:56.350433Z",
     "shell.execute_reply": "2021-02-12T06:35:56.350115Z"
    }
   },
   "outputs": [
    {
     "name": "stdout",
     "output_type": "stream",
     "text": [
      "Photom reference file crds://jwst_miri_photom_0044.fits\n"
     ]
    }
   ],
   "source": [
    "photomreffile = im_cal.meta.ref_file.photom.name\n",
    "print('Photom reference file', photomreffile)\n",
    "# find location of file\n",
    "basename = crds.core.config.pop_crds_uri(photomreffile)\n",
    "path = crds.locate_file(basename, \"jwst\")\n",
    "# open reference file\n",
    "\n",
    "photom_file = MirImgPhotomModel(path)"
   ]
  },
  {
   "cell_type": "code",
   "execution_count": 19,
   "metadata": {
    "execution": {
     "iopub.execute_input": "2021-02-12T06:35:56.352620Z",
     "iopub.status.busy": "2021-02-12T06:35:56.352328Z",
     "iopub.status.idle": "2021-02-12T06:35:56.354323Z",
     "shell.execute_reply": "2021-02-12T06:35:56.354561Z"
    }
   },
   "outputs": [
    {
     "data": {
      "text/plain": [
       "8.4403609523084e-14"
      ]
     },
     "execution_count": 1,
     "metadata": {},
     "output_type": "execute_result"
    }
   ],
   "source": [
    "photom_file.meta.photometry.pixelarea_steradians"
   ]
  },
  {
   "cell_type": "markdown",
   "metadata": {},
   "source": [
    "### Print photom calibration conversion factor for image"
   ]
  },
  {
   "cell_type": "code",
   "execution_count": 20,
   "metadata": {
    "execution": {
     "iopub.execute_input": "2021-02-12T06:35:56.357093Z",
     "iopub.status.busy": "2021-02-12T06:35:56.356785Z",
     "iopub.status.idle": "2021-02-12T06:35:56.358828Z",
     "shell.execute_reply": "2021-02-12T06:35:56.358512Z"
    }
   },
   "outputs": [
    {
     "name": "stdout",
     "output_type": "stream",
     "text": [
      "1.02701\n"
     ]
    }
   ],
   "source": [
    "print(photom_file.phot_table['photmjsr'][np.where(photom_file.phot_table['filter'] == im_cal.meta.instrument.filter)][0])"
   ]
  },
  {
   "cell_type": "markdown",
   "metadata": {},
   "source": [
    "### Check that same value has been applied to cal image (three values should be the same)"
   ]
  },
  {
   "cell_type": "code",
   "execution_count": 21,
   "metadata": {
    "execution": {
     "iopub.execute_input": "2021-02-12T06:35:56.361321Z",
     "iopub.status.busy": "2021-02-12T06:35:56.361012Z",
     "iopub.status.idle": "2021-02-12T06:35:56.365164Z",
     "shell.execute_reply": "2021-02-12T06:35:56.364826Z"
    }
   },
   "outputs": [
    {
     "name": "stdout",
     "output_type": "stream",
     "text": [
      "image min image max ref file\n",
      "1.0270098 1.0270101 1.02701\n"
     ]
    }
   ],
   "source": [
    "print('image min','image max','ref file')\n",
    "print(np.nanmin(ratio_im),np.nanmax(ratio_im),photom_file.phot_table['photmjsr'][np.where(photom_file.phot_table['filter'] == im_cal.meta.instrument.filter)][0])"
   ]
  },
  {
   "cell_type": "markdown",
   "metadata": {},
   "source": [
    "### Check that pixel area information has been attached"
   ]
  },
  {
   "cell_type": "code",
   "execution_count": 22,
   "metadata": {
    "execution": {
     "iopub.execute_input": "2021-02-12T06:35:56.367415Z",
     "iopub.status.busy": "2021-02-12T06:35:56.367124Z",
     "iopub.status.idle": "2021-02-12T06:35:56.378556Z",
     "shell.execute_reply": "2021-02-12T06:35:56.378237Z"
    }
   },
   "outputs": [
    {
     "data": {
      "text/plain": [
       "1.0159259"
      ]
     },
     "execution_count": 1,
     "metadata": {},
     "output_type": "execute_result"
    }
   ],
   "source": [
    "im_cal.area\n",
    "np.nanmin(im_cal.area)\n",
    "np.nanmax(im_cal.area)"
   ]
  },
  {
   "cell_type": "code",
   "execution_count": 23,
   "metadata": {
    "execution": {
     "iopub.execute_input": "2021-02-12T06:35:56.380881Z",
     "iopub.status.busy": "2021-02-12T06:35:56.380580Z",
     "iopub.status.idle": "2021-02-12T06:35:56.389438Z",
     "shell.execute_reply": "2021-02-12T06:35:56.389127Z"
    }
   },
   "outputs": [
    {
     "name": "stdout",
     "output_type": "stream",
     "text": [
      "pix_area_min pix_area_max pix_area_mean\n",
      "0.97582465 1.0159259 1.0058197\n"
     ]
    }
   ],
   "source": [
    "print('pix_area_min', 'pix_area_max','pix_area_mean')\n",
    "print(np.nanmin(im_cal.area),np.nanmax(im_cal.area),np.nanmean(im_cal.area))"
   ]
  },
  {
   "cell_type": "markdown",
   "metadata": {},
   "source": [
    "### Check that PIXAR_SR and PIXAR_A2 keywords have been populated"
   ]
  },
  {
   "cell_type": "code",
   "execution_count": 24,
   "metadata": {
    "execution": {
     "iopub.execute_input": "2021-02-12T06:35:56.392388Z",
     "iopub.status.busy": "2021-02-12T06:35:56.392097Z",
     "iopub.status.idle": "2021-02-12T06:35:56.394365Z",
     "shell.execute_reply": "2021-02-12T06:35:56.394048Z"
    }
   },
   "outputs": [
    {
     "data": {
      "text/plain": [
       "['meta.photometry.pixelarea_steradians']"
      ]
     },
     "execution_count": 1,
     "metadata": {},
     "output_type": "execute_result"
    }
   ],
   "source": [
    "im_cal.find_fits_keyword('PIXAR_SR')"
   ]
  },
  {
   "cell_type": "code",
   "execution_count": 25,
   "metadata": {
    "execution": {
     "iopub.execute_input": "2021-02-12T06:35:56.396526Z",
     "iopub.status.busy": "2021-02-12T06:35:56.396240Z",
     "iopub.status.idle": "2021-02-12T06:35:56.398526Z",
     "shell.execute_reply": "2021-02-12T06:35:56.398211Z"
    }
   },
   "outputs": [
    {
     "data": {
      "text/plain": [
       "['meta.photometry.pixelarea_steradians']"
      ]
     },
     "execution_count": 1,
     "metadata": {},
     "output_type": "execute_result"
    }
   ],
   "source": [
    "photom_file.find_fits_keyword('PIXAR_SR')"
   ]
  },
  {
   "cell_type": "markdown",
   "metadata": {},
   "source": [
    "#### Two values should be identical"
   ]
  },
  {
   "cell_type": "code",
   "execution_count": 26,
   "metadata": {
    "execution": {
     "iopub.execute_input": "2021-02-12T06:35:56.400579Z",
     "iopub.status.busy": "2021-02-12T06:35:56.400275Z",
     "iopub.status.idle": "2021-02-12T06:35:56.402437Z",
     "shell.execute_reply": "2021-02-12T06:35:56.402121Z"
    }
   },
   "outputs": [
    {
     "name": "stdout",
     "output_type": "stream",
     "text": [
      "8.4403609523084e-14 8.4403609523084e-14\n"
     ]
    }
   ],
   "source": [
    "print(photom_file.meta.photometry.pixelarea_steradians,im_cal.meta.photometry.pixelarea_steradians)"
   ]
  },
  {
   "cell_type": "markdown",
   "metadata": {},
   "source": [
    "#### Two values should be identical"
   ]
  },
  {
   "cell_type": "code",
   "execution_count": 27,
   "metadata": {
    "execution": {
     "iopub.execute_input": "2021-02-12T06:35:56.404491Z",
     "iopub.status.busy": "2021-02-12T06:35:56.404201Z",
     "iopub.status.idle": "2021-02-12T06:35:56.406516Z",
     "shell.execute_reply": "2021-02-12T06:35:56.406195Z"
    }
   },
   "outputs": [
    {
     "name": "stdout",
     "output_type": "stream",
     "text": [
      "0.0121 0.0121\n"
     ]
    }
   ],
   "source": [
    "print(photom_file.meta.photometry.pixelarea_arcsecsq, im_cal.meta.photometry.pixelarea_arcsecsq)"
   ]
  },
  {
   "cell_type": "markdown",
   "metadata": {},
   "source": [
    "### Verify that pixel area in steradians is correct (values should be the same)"
   ]
  },
  {
   "cell_type": "code",
   "execution_count": 28,
   "metadata": {
    "execution": {
     "iopub.execute_input": "2021-02-12T06:35:56.408777Z",
     "iopub.status.busy": "2021-02-12T06:35:56.408486Z",
     "iopub.status.idle": "2021-02-12T06:35:56.410421Z",
     "shell.execute_reply": "2021-02-12T06:35:56.410108Z"
    }
   },
   "outputs": [
    {
     "name": "stdout",
     "output_type": "stream",
     "text": [
      "2.844030752201317e-13 8.4403609523084e-14\n"
     ]
    }
   ],
   "source": [
    "print(im_cal.meta.photometry.pixelarea_arcsecsq/(206265.0**2),im_cal.meta.photometry.pixelarea_steradians)"
   ]
  },
  {
   "cell_type": "markdown",
   "metadata": {},
   "source": [
    "### Check that bunit information has been added to image ('MJy/sr')"
   ]
  },
  {
   "cell_type": "code",
   "execution_count": 29,
   "metadata": {
    "execution": {
     "iopub.execute_input": "2021-02-12T06:35:56.412530Z",
     "iopub.status.busy": "2021-02-12T06:35:56.412240Z",
     "iopub.status.idle": "2021-02-12T06:35:56.414440Z",
     "shell.execute_reply": "2021-02-12T06:35:56.414123Z"
    }
   },
   "outputs": [
    {
     "data": {
      "text/plain": [
       "'MJy/sr'"
      ]
     },
     "execution_count": 1,
     "metadata": {},
     "output_type": "execute_result"
    }
   ],
   "source": [
    "im_cal.meta.bunit_data"
   ]
  },
  {
   "cell_type": "code",
   "execution_count": 30,
   "metadata": {
    "execution": {
     "iopub.execute_input": "2021-02-12T06:35:56.416252Z",
     "iopub.status.busy": "2021-02-12T06:35:56.415964Z",
     "iopub.status.idle": "2021-02-12T06:35:56.417587Z",
     "shell.execute_reply": "2021-02-12T06:35:56.417277Z"
    }
   },
   "outputs": [],
   "source": [
    "#photom_file.meta.author"
   ]
  }
 ],
 "metadata": {
  "kernelspec": {
   "display_name": "Python 3",
   "language": "python",
   "name": "python3"
  },
  "language_info": {
   "codemirror_mode": {
    "name": "ipython",
    "version": 3
   },
   "file_extension": ".py",
   "mimetype": "text/x-python",
   "name": "python",
   "nbconvert_exporter": "python",
   "pygments_lexer": "ipython3",
   "version": "3.8.6"
  }
 },
 "nbformat": 4,
 "nbformat_minor": 4
}
