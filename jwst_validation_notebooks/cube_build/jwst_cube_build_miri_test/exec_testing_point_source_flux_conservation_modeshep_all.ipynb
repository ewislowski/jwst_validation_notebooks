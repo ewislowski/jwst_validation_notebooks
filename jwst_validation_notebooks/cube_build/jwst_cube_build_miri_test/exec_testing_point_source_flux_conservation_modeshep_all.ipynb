{
 "cells": [
  {
   "cell_type": "markdown",
   "metadata": {},
   "source": [
    "<a id=\"title_ID\"></a>\n",
    "# JWST Pipeline Validation Testing Notebook: Point Source Flux Conservation Modeshep\n",
    "\n",
    "<span style=\"color:red\"> **Instruments Affected**</span>: MIRI\n",
    "\n",
    "Tested on MIRI Simulated data\n",
    "\n",
    "### Table of Contents\n",
    "<div style=\"text-align: left\"> \n",
    "\n",
    "<br>  [Introduction](#intro_ID) <br> [Imports](#imports_ID) <br>[Run JWST Pipeline](#pipeline_ID) <br> [Examine Input and Output Data](#examine_data)  <br> [About This Notebook](#about_ID) <br>\n",
    "\n",
    "\n",
    "</div>"
   ]
  },
  {
   "cell_type": "markdown",
   "metadata": {},
   "source": [
    "## Author: Isha Nayak\n",
    "## Last Modified: September 15\n",
    "## The purpose of this notebook is to check if you input either a flat point source or flat extended source, then the output is also flat. We check the flatness of a source by inputting a known flat source, then checking the output three different ways: (1) our own code which sums up the total flux, (2) the cube build algorithm, and (3) extract 1D algorithm. We want to make sure nothing strange is happening during the cube build and extract 1D steps."
   ]
  },
  {
   "cell_type": "code",
   "execution_count": 1,
   "metadata": {
    "execution": {
     "iopub.execute_input": "2021-04-22T20:45:01.600375Z",
     "iopub.status.busy": "2021-04-22T20:45:01.600061Z",
     "iopub.status.idle": "2021-04-22T20:45:01.603445Z",
     "shell.execute_reply": "2021-04-22T20:45:01.603077Z"
    }
   },
   "outputs": [],
   "source": [
    "# Create a temporary directory to hold notebook output, and change the working directory to that directory.\n",
    "from tempfile import TemporaryDirectory\n",
    "import os\n",
    "data_dir = TemporaryDirectory()\n",
    "os.chdir(data_dir.name)"
   ]
  },
  {
   "cell_type": "code",
   "execution_count": 2,
   "metadata": {
    "execution": {
     "iopub.execute_input": "2021-04-22T20:45:01.605577Z",
     "iopub.status.busy": "2021-04-22T20:45:01.605251Z",
     "iopub.status.idle": "2021-04-22T20:45:01.683946Z",
     "shell.execute_reply": "2021-04-22T20:45:01.683654Z"
    }
   },
   "outputs": [
    {
     "data": {
      "text/plain": [
       "'1.1.0'"
      ]
     },
     "execution_count": 1,
     "metadata": {},
     "output_type": "execute_result"
    }
   ],
   "source": [
    "# Check jwst pipeline version\n",
    "import jwst\n",
    "jwst.__version__"
   ]
  },
  {
   "cell_type": "code",
   "execution_count": 3,
   "metadata": {
    "execution": {
     "iopub.execute_input": "2021-04-22T20:45:01.686991Z",
     "iopub.status.busy": "2021-04-22T20:45:01.686674Z",
     "iopub.status.idle": "2021-04-22T20:45:03.222768Z",
     "shell.execute_reply": "2021-04-22T20:45:03.223067Z"
    }
   },
   "outputs": [],
   "source": [
    "#Import inject psf\n",
    "import miri3d.tools.inject_psf as ip\n",
    "\n",
    "#Import assign wcs\n",
    "from jwst.assign_wcs import AssignWcsStep\n",
    "\n",
    "#Import modshep\n",
    "import miri3d.modshep.modshep as modshep\n",
    "\n",
    "#Import plotting things\n",
    "import matplotlib.pyplot as plt\n",
    "\n",
    "#Import fits file things\n",
    "from astropy.io import fits\n",
    "\n",
    "#Import cube build\n",
    "from jwst.cube_build import CubeBuildStep\n",
    "\n",
    "#Import extract1D\n",
    "from jwst.extract_1d import Extract1dStep\n",
    "\n",
    "#Import table\n",
    "from astropy.table import Table\n",
    "\n",
    "import sys\n",
    "from ci_watson.artifactory_helpers import get_bigdata"
   ]
  },
  {
   "cell_type": "markdown",
   "metadata": {},
   "source": [
    "#### Run the inject_psf code for point source with the following:\n",
    "#### ip.main('12A',[1,2],1,1e-7)\n",
    "#### This would give a standard 2-pt dither in Ch12A with a specified PSF total (total=1) and background/extended value (1e-7).\n",
    "#### Run the inject_psf code for extended source with the following:\n",
    "#### inject_psf.main('12A',[1,2,3,4],0,1)\n",
    "#### This would give a standard 2-pt dither in Ch12A with no specified PSF and an extended source with flat spectrum of 1.\n",
    "#### The output should be two scene files, two mock files, and two mockarea files."
   ]
  },
  {
   "cell_type": "code",
   "execution_count": 4,
   "metadata": {
    "execution": {
     "iopub.execute_input": "2021-04-22T20:45:03.226895Z",
     "iopub.status.busy": "2021-04-22T20:45:03.225413Z",
     "iopub.status.idle": "2021-04-22T20:45:03.296786Z",
     "shell.execute_reply": "2021-04-22T20:45:03.296466Z"
    }
   },
   "outputs": [],
   "source": [
    "# Read association file in from artifactory\n",
    "\n",
    "asnfile = get_bigdata('jwst_validation_notebooks',\n",
    "                      'validation_data',\n",
    "                      'cube_build',\n",
    "                      'cube_build_miri_test',\n",
    "                      'cube_testing.json')"
   ]
  },
  {
   "cell_type": "code",
   "execution_count": 5,
   "metadata": {
    "execution": {
     "iopub.execute_input": "2021-04-22T20:45:03.299934Z",
     "iopub.status.busy": "2021-04-22T20:45:03.299605Z",
     "iopub.status.idle": "2021-04-22T20:45:03.301380Z",
     "shell.execute_reply": "2021-04-22T20:45:03.301114Z"
    }
   },
   "outputs": [],
   "source": [
    "#Define band and channels\n",
    "band_chan=['12A','34A','12B','34B','12C','34C']\n",
    "\n",
    "#Define Channels 1 and 3\n",
    "indiv1=['1A','3A','1B','3B','1C','3C']\n",
    "\n",
    "#Define Channels 2 and 4\n",
    "indiv2=['2A','4A','2B','4B','2C','4C']\n",
    "\n",
    "#Define plot colors for each band\n",
    "plot_color=['black','black','blue','blue','red','red']"
   ]
  },
  {
   "cell_type": "markdown",
   "metadata": {},
   "source": [
    "#### Using D. Law's injest_psf code to first define a flat point source or flat extended source in a particular band/channel which does not depend on JWST pipeline for distortion transforms. Then this uses D. Law's modshep code as a standalone implementation of modified Sheperd's cube building algorithm. We need to correct units and plot the output from the modshep algorithm.\n",
    "\n"
   ]
  },
  {
   "cell_type": "code",
   "execution_count": 1,
   "metadata": {
    "execution": {
     "iopub.execute_input": "2021-04-22T20:45:03.315207Z",
     "iopub.status.busy": "2021-04-22T20:45:03.311382Z",
     "iopub.status.idle": "2021-04-22T20:54:22.424035Z",
     "shell.execute_reply": "2021-04-22T20:54:22.423426Z"
    }
   },
   "outputs": [
    {
     "name": "stdout",
     "output_type": "stream",
     "text": [
      "Setting up the dithers\n",
      "Ndither =  2\n",
      "Working on left half of detector\n",
      "Setting up the coordinates\n"
     ]
    },
    {
     "name": "stdout",
     "output_type": "stream",
     "text": [
      "Setting up the scene\n"
     ]
    },
    {
     "name": "stdout",
     "output_type": "stream",
     "text": [
      "Projecting scene\n"
     ]
    },
    {
     "name": "stdout",
     "output_type": "stream",
     "text": [
      "Working on exposure 0\n",
      "Doing coordinate projection\n"
     ]
    },
    {
     "name": "stdout",
     "output_type": "stream",
     "text": [
      "Projecting slices\n"
     ]
    },
    {
     "name": "stdout",
     "output_type": "stream",
     "text": [
      "Doing pixel value computation\n"
     ]
    },
    {
     "name": "stdout",
     "output_type": "stream",
     "text": [
      "Working on exposure 1\n",
      "Doing coordinate projection\n"
     ]
    },
    {
     "name": "stdout",
     "output_type": "stream",
     "text": [
      "Projecting slices\n"
     ]
    },
    {
     "name": "stdout",
     "output_type": "stream",
     "text": [
      "Doing pixel value computation\n"
     ]
    },
    {
     "name": "stdout",
     "output_type": "stream",
     "text": [
      "Working on right half of detector\n",
      "Setting up the coordinates\n"
     ]
    },
    {
     "name": "stdout",
     "output_type": "stream",
     "text": [
      "Setting up the scene\n"
     ]
    },
    {
     "name": "stdout",
     "output_type": "stream",
     "text": [
      "Projecting scene\n"
     ]
    },
    {
     "name": "stdout",
     "output_type": "stream",
     "text": [
      "Working on exposure 0\n",
      "Doing coordinate projection\n"
     ]
    },
    {
     "name": "stdout",
     "output_type": "stream",
     "text": [
      "Projecting slices\n"
     ]
    },
    {
     "name": "stdout",
     "output_type": "stream",
     "text": [
      "Doing pixel value computation\n"
     ]
    },
    {
     "name": "stdout",
     "output_type": "stream",
     "text": [
      "Working on exposure 1\n",
      "Doing coordinate projection\n"
     ]
    },
    {
     "name": "stdout",
     "output_type": "stream",
     "text": [
      "Projecting slices\n"
     ]
    },
    {
     "name": "stdout",
     "output_type": "stream",
     "text": [
      "Doing pixel value computation\n"
     ]
    },
    {
     "name": "stdout",
     "output_type": "stream",
     "text": [
      "Writing files\n"
     ]
    },
    {
     "name": "stderr",
     "output_type": "stream",
     "text": [
      "2021-04-22 16:54:22,271 - stpipe - WARNING - Input dataset is not a DataModel.\n"
     ]
    },
    {
     "name": "stderr",
     "output_type": "stream",
     "text": [
      "2021-04-22 16:54:22,272 - stpipe - INFO - PARS-ASSIGNWCSSTEP: CRDS parameter reference retrieval disabled.\n"
     ]
    },
    {
     "name": "stderr",
     "output_type": "stream",
     "text": [
      "2021-04-22 16:54:22,278 - stpipe.AssignWcsStep - INFO - AssignWcsStep instance created.\n"
     ]
    },
    {
     "name": "stderr",
     "output_type": "stream",
     "text": [
      "2021-04-22 16:54:22,399 - stpipe.AssignWcsStep - INFO - Step AssignWcsStep running with args ('mock12A-0.fits',).\n"
     ]
    },
    {
     "name": "stderr",
     "output_type": "stream",
     "text": [
      "2021-04-22 16:54:22,400 - stpipe.AssignWcsStep - INFO - Step AssignWcsStep parameters are: {'pre_hooks': [], 'post_hooks': [], 'output_file': None, 'output_dir': None, 'output_ext': '.fits', 'output_use_model': False, 'output_use_index': True, 'save_results': True, 'skip': False, 'suffix': None, 'search_output_file': True, 'input_dir': '', 'sip_approx': True, 'sip_max_pix_error': 0.25, 'sip_degree': None, 'sip_max_inv_pix_error': 0.25, 'sip_inv_degree': None, 'sip_npoints': 32, 'slit_y_low': -0.55, 'slit_y_high': 0.55}\n"
     ]
    },
    {
     "name": "stdout",
     "output_type": "stream",
     "text": [
      "Done!\n"
     ]
    },
    {
     "ename": "FileNotFoundError",
     "evalue": "[Errno 2] No such file or directory: 'mock12A-0.fits'",
     "output_type": "error",
     "traceback": [
      "\u001b[0;31m---------------------------------------------------------------------------\u001b[0m",
      "\u001b[0;31mFileNotFoundError\u001b[0m                         Traceback (most recent call last)",
      "\u001b[0;32m<ipython-input-1-89cf7d0cf676>\u001b[0m in \u001b[0;36m<module>\u001b[0;34m\u001b[0m\n\u001b[1;32m      2\u001b[0m     \u001b[0mip\u001b[0m\u001b[0;34m.\u001b[0m\u001b[0mmain\u001b[0m\u001b[0;34m(\u001b[0m\u001b[0mband_chan\u001b[0m\u001b[0;34m[\u001b[0m\u001b[0mj\u001b[0m\u001b[0;34m]\u001b[0m\u001b[0;34m,\u001b[0m\u001b[0;34m[\u001b[0m\u001b[0;36m1\u001b[0m\u001b[0;34m,\u001b[0m\u001b[0;36m2\u001b[0m\u001b[0;34m]\u001b[0m\u001b[0;34m,\u001b[0m\u001b[0;36m1\u001b[0m\u001b[0;34m,\u001b[0m\u001b[0;36m1e-7\u001b[0m\u001b[0;34m)\u001b[0m\u001b[0;34m\u001b[0m\u001b[0;34m\u001b[0m\u001b[0m\n\u001b[1;32m      3\u001b[0m \u001b[0;34m\u001b[0m\u001b[0m\n\u001b[0;32m----> 4\u001b[0;31m     \u001b[0mresult\u001b[0m\u001b[0;34m=\u001b[0m\u001b[0mAssignWcsStep\u001b[0m\u001b[0;34m.\u001b[0m\u001b[0mcall\u001b[0m\u001b[0;34m(\u001b[0m\u001b[0;34m'mock'\u001b[0m\u001b[0;34m+\u001b[0m\u001b[0mband_chan\u001b[0m\u001b[0;34m[\u001b[0m\u001b[0mj\u001b[0m\u001b[0;34m]\u001b[0m\u001b[0;34m+\u001b[0m\u001b[0;34m'-0.fits'\u001b[0m\u001b[0;34m,\u001b[0m\u001b[0msave_results\u001b[0m\u001b[0;34m=\u001b[0m\u001b[0;32mTrue\u001b[0m\u001b[0;34m)\u001b[0m\u001b[0;34m\u001b[0m\u001b[0;34m\u001b[0m\u001b[0m\n\u001b[0m\u001b[1;32m      5\u001b[0m     \u001b[0mresult\u001b[0m\u001b[0;34m=\u001b[0m\u001b[0mAssignWcsStep\u001b[0m\u001b[0;34m.\u001b[0m\u001b[0mcall\u001b[0m\u001b[0;34m(\u001b[0m\u001b[0;34m'mock'\u001b[0m\u001b[0;34m+\u001b[0m\u001b[0mband_chan\u001b[0m\u001b[0;34m[\u001b[0m\u001b[0mj\u001b[0m\u001b[0;34m]\u001b[0m\u001b[0;34m+\u001b[0m\u001b[0;34m'-1.fits'\u001b[0m\u001b[0;34m,\u001b[0m\u001b[0msave_results\u001b[0m\u001b[0;34m=\u001b[0m\u001b[0;32mTrue\u001b[0m\u001b[0;34m)\u001b[0m\u001b[0;34m\u001b[0m\u001b[0;34m\u001b[0m\u001b[0m\n\u001b[1;32m      6\u001b[0m \u001b[0;34m\u001b[0m\u001b[0m\n",
      "\u001b[0;32m~/miniconda3/envs/jwst_validation_notebooks/lib/python3.8/site-packages/stpipe/step.py\u001b[0m in \u001b[0;36mcall\u001b[0;34m(cls, *args, **kwargs)\u001b[0m\n\u001b[1;32m    587\u001b[0m             name=name, config_file=config_file)\n\u001b[1;32m    588\u001b[0m \u001b[0;34m\u001b[0m\u001b[0m\n\u001b[0;32m--> 589\u001b[0;31m         \u001b[0;32mreturn\u001b[0m \u001b[0minstance\u001b[0m\u001b[0;34m.\u001b[0m\u001b[0mrun\u001b[0m\u001b[0;34m(\u001b[0m\u001b[0;34m*\u001b[0m\u001b[0margs\u001b[0m\u001b[0;34m)\u001b[0m\u001b[0;34m\u001b[0m\u001b[0;34m\u001b[0m\u001b[0m\n\u001b[0m\u001b[1;32m    590\u001b[0m \u001b[0;34m\u001b[0m\u001b[0m\n\u001b[1;32m    591\u001b[0m     \u001b[0;34m@\u001b[0m\u001b[0mproperty\u001b[0m\u001b[0;34m\u001b[0m\u001b[0;34m\u001b[0m\u001b[0m\n",
      "\u001b[0;32m~/miniconda3/envs/jwst_validation_notebooks/lib/python3.8/site-packages/stpipe/step.py\u001b[0m in \u001b[0;36mrun\u001b[0;34m(self, *args)\u001b[0m\n\u001b[1;32m    405\u001b[0m                     \u001b[0mself\u001b[0m\u001b[0;34m.\u001b[0m\u001b[0mprefetch\u001b[0m\u001b[0;34m(\u001b[0m\u001b[0;34m*\u001b[0m\u001b[0margs\u001b[0m\u001b[0;34m)\u001b[0m\u001b[0;34m\u001b[0m\u001b[0;34m\u001b[0m\u001b[0m\n\u001b[1;32m    406\u001b[0m                 \u001b[0;32mtry\u001b[0m\u001b[0;34m:\u001b[0m\u001b[0;34m\u001b[0m\u001b[0;34m\u001b[0m\u001b[0m\n\u001b[0;32m--> 407\u001b[0;31m                     \u001b[0mstep_result\u001b[0m \u001b[0;34m=\u001b[0m \u001b[0mself\u001b[0m\u001b[0;34m.\u001b[0m\u001b[0mprocess\u001b[0m\u001b[0;34m(\u001b[0m\u001b[0;34m*\u001b[0m\u001b[0margs\u001b[0m\u001b[0;34m)\u001b[0m\u001b[0;34m\u001b[0m\u001b[0;34m\u001b[0m\u001b[0m\n\u001b[0m\u001b[1;32m    408\u001b[0m                 \u001b[0;32mexcept\u001b[0m \u001b[0mTypeError\u001b[0m \u001b[0;32mas\u001b[0m \u001b[0me\u001b[0m\u001b[0;34m:\u001b[0m\u001b[0;34m\u001b[0m\u001b[0;34m\u001b[0m\u001b[0m\n\u001b[1;32m    409\u001b[0m                     \u001b[0;32mif\u001b[0m \u001b[0;34m\"process() takes exactly\"\u001b[0m \u001b[0;32min\u001b[0m \u001b[0mstr\u001b[0m\u001b[0;34m(\u001b[0m\u001b[0me\u001b[0m\u001b[0;34m)\u001b[0m\u001b[0;34m:\u001b[0m\u001b[0;34m\u001b[0m\u001b[0;34m\u001b[0m\u001b[0m\n",
      "\u001b[0;32m~/miniconda3/envs/jwst_validation_notebooks/lib/python3.8/site-packages/jwst/assign_wcs/assign_wcs_step.py\u001b[0m in \u001b[0;36mprocess\u001b[0;34m(self, input, *args, **kwargs)\u001b[0m\n\u001b[1;32m     64\u001b[0m     \u001b[0;32mdef\u001b[0m \u001b[0mprocess\u001b[0m\u001b[0;34m(\u001b[0m\u001b[0mself\u001b[0m\u001b[0;34m,\u001b[0m \u001b[0minput\u001b[0m\u001b[0;34m,\u001b[0m \u001b[0;34m*\u001b[0m\u001b[0margs\u001b[0m\u001b[0;34m,\u001b[0m \u001b[0;34m**\u001b[0m\u001b[0mkwargs\u001b[0m\u001b[0;34m)\u001b[0m\u001b[0;34m:\u001b[0m\u001b[0;34m\u001b[0m\u001b[0;34m\u001b[0m\u001b[0m\n\u001b[1;32m     65\u001b[0m         \u001b[0mreference_file_names\u001b[0m \u001b[0;34m=\u001b[0m \u001b[0;34m{\u001b[0m\u001b[0;34m}\u001b[0m\u001b[0;34m\u001b[0m\u001b[0;34m\u001b[0m\u001b[0m\n\u001b[0;32m---> 66\u001b[0;31m         \u001b[0;32mwith\u001b[0m \u001b[0mdatamodels\u001b[0m\u001b[0;34m.\u001b[0m\u001b[0mopen\u001b[0m\u001b[0;34m(\u001b[0m\u001b[0minput\u001b[0m\u001b[0;34m)\u001b[0m \u001b[0;32mas\u001b[0m \u001b[0minput_model\u001b[0m\u001b[0;34m:\u001b[0m\u001b[0;34m\u001b[0m\u001b[0;34m\u001b[0m\u001b[0m\n\u001b[0m\u001b[1;32m     67\u001b[0m             \u001b[0;31m# If input type is not supported, log warning, set to 'skipped', exit\u001b[0m\u001b[0;34m\u001b[0m\u001b[0;34m\u001b[0m\u001b[0;34m\u001b[0m\u001b[0m\n\u001b[1;32m     68\u001b[0m             if not (isinstance(input_model, datamodels.ImageModel) or\n",
      "\u001b[0;32m~/miniconda3/envs/jwst_validation_notebooks/lib/python3.8/site-packages/jwst/datamodels/util.py\u001b[0m in \u001b[0;36mopen\u001b[0;34m(init, memmap, **kwargs)\u001b[0m\n\u001b[1;32m    108\u001b[0m                 \u001b[0mhdulist\u001b[0m \u001b[0;34m=\u001b[0m \u001b[0mfits\u001b[0m\u001b[0;34m.\u001b[0m\u001b[0mopen\u001b[0m\u001b[0;34m(\u001b[0m\u001b[0ms3_utils\u001b[0m\u001b[0;34m.\u001b[0m\u001b[0mget_object\u001b[0m\u001b[0;34m(\u001b[0m\u001b[0minit\u001b[0m\u001b[0;34m)\u001b[0m\u001b[0;34m)\u001b[0m\u001b[0;34m\u001b[0m\u001b[0;34m\u001b[0m\u001b[0m\n\u001b[1;32m    109\u001b[0m             \u001b[0;32melse\u001b[0m\u001b[0;34m:\u001b[0m\u001b[0;34m\u001b[0m\u001b[0;34m\u001b[0m\u001b[0m\n\u001b[0;32m--> 110\u001b[0;31m                 \u001b[0mhdulist\u001b[0m \u001b[0;34m=\u001b[0m \u001b[0mfits\u001b[0m\u001b[0;34m.\u001b[0m\u001b[0mopen\u001b[0m\u001b[0;34m(\u001b[0m\u001b[0minit\u001b[0m\u001b[0;34m,\u001b[0m \u001b[0mmemmap\u001b[0m\u001b[0;34m=\u001b[0m\u001b[0mmemmap\u001b[0m\u001b[0;34m)\u001b[0m\u001b[0;34m\u001b[0m\u001b[0;34m\u001b[0m\u001b[0m\n\u001b[0m\u001b[1;32m    111\u001b[0m             \u001b[0mfile_to_close\u001b[0m \u001b[0;34m=\u001b[0m \u001b[0mhdulist\u001b[0m\u001b[0;34m\u001b[0m\u001b[0;34m\u001b[0m\u001b[0m\n\u001b[1;32m    112\u001b[0m \u001b[0;34m\u001b[0m\u001b[0m\n",
      "\u001b[0;32m~/miniconda3/envs/jwst_validation_notebooks/lib/python3.8/site-packages/astropy/io/fits/hdu/hdulist.py\u001b[0m in \u001b[0;36mfitsopen\u001b[0;34m(name, mode, memmap, save_backup, cache, lazy_load_hdus, **kwargs)\u001b[0m\n\u001b[1;32m    162\u001b[0m         \u001b[0;32mraise\u001b[0m \u001b[0mValueError\u001b[0m\u001b[0;34m(\u001b[0m\u001b[0;34mf'Empty filename: {name!r}'\u001b[0m\u001b[0;34m)\u001b[0m\u001b[0;34m\u001b[0m\u001b[0;34m\u001b[0m\u001b[0m\n\u001b[1;32m    163\u001b[0m \u001b[0;34m\u001b[0m\u001b[0m\n\u001b[0;32m--> 164\u001b[0;31m     return HDUList.fromfile(name, mode, memmap, save_backup, cache,\n\u001b[0m\u001b[1;32m    165\u001b[0m                             lazy_load_hdus, **kwargs)\n\u001b[1;32m    166\u001b[0m \u001b[0;34m\u001b[0m\u001b[0m\n",
      "\u001b[0;32m~/miniconda3/envs/jwst_validation_notebooks/lib/python3.8/site-packages/astropy/io/fits/hdu/hdulist.py\u001b[0m in \u001b[0;36mfromfile\u001b[0;34m(cls, fileobj, mode, memmap, save_backup, cache, lazy_load_hdus, **kwargs)\u001b[0m\n\u001b[1;32m    399\u001b[0m         \"\"\"\n\u001b[1;32m    400\u001b[0m \u001b[0;34m\u001b[0m\u001b[0m\n\u001b[0;32m--> 401\u001b[0;31m         return cls._readfrom(fileobj=fileobj, mode=mode, memmap=memmap,\n\u001b[0m\u001b[1;32m    402\u001b[0m                              \u001b[0msave_backup\u001b[0m\u001b[0;34m=\u001b[0m\u001b[0msave_backup\u001b[0m\u001b[0;34m,\u001b[0m \u001b[0mcache\u001b[0m\u001b[0;34m=\u001b[0m\u001b[0mcache\u001b[0m\u001b[0;34m,\u001b[0m\u001b[0;34m\u001b[0m\u001b[0;34m\u001b[0m\u001b[0m\n\u001b[1;32m    403\u001b[0m                              lazy_load_hdus=lazy_load_hdus, **kwargs)\n",
      "\u001b[0;32m~/miniconda3/envs/jwst_validation_notebooks/lib/python3.8/site-packages/astropy/io/fits/hdu/hdulist.py\u001b[0m in \u001b[0;36m_readfrom\u001b[0;34m(cls, fileobj, data, mode, memmap, cache, lazy_load_hdus, **kwargs)\u001b[0m\n\u001b[1;32m   1050\u001b[0m             \u001b[0;32mif\u001b[0m \u001b[0;32mnot\u001b[0m \u001b[0misinstance\u001b[0m\u001b[0;34m(\u001b[0m\u001b[0mfileobj\u001b[0m\u001b[0;34m,\u001b[0m \u001b[0m_File\u001b[0m\u001b[0;34m)\u001b[0m\u001b[0;34m:\u001b[0m\u001b[0;34m\u001b[0m\u001b[0;34m\u001b[0m\u001b[0m\n\u001b[1;32m   1051\u001b[0m                 \u001b[0;31m# instantiate a FITS file object (ffo)\u001b[0m\u001b[0;34m\u001b[0m\u001b[0;34m\u001b[0m\u001b[0;34m\u001b[0m\u001b[0m\n\u001b[0;32m-> 1052\u001b[0;31m                 \u001b[0mfileobj\u001b[0m \u001b[0;34m=\u001b[0m \u001b[0m_File\u001b[0m\u001b[0;34m(\u001b[0m\u001b[0mfileobj\u001b[0m\u001b[0;34m,\u001b[0m \u001b[0mmode\u001b[0m\u001b[0;34m=\u001b[0m\u001b[0mmode\u001b[0m\u001b[0;34m,\u001b[0m \u001b[0mmemmap\u001b[0m\u001b[0;34m=\u001b[0m\u001b[0mmemmap\u001b[0m\u001b[0;34m,\u001b[0m \u001b[0mcache\u001b[0m\u001b[0;34m=\u001b[0m\u001b[0mcache\u001b[0m\u001b[0;34m)\u001b[0m\u001b[0;34m\u001b[0m\u001b[0;34m\u001b[0m\u001b[0m\n\u001b[0m\u001b[1;32m   1053\u001b[0m             \u001b[0;31m# The Astropy mode is determined by the _File initializer if the\u001b[0m\u001b[0;34m\u001b[0m\u001b[0;34m\u001b[0m\u001b[0;34m\u001b[0m\u001b[0m\n\u001b[1;32m   1054\u001b[0m             \u001b[0;31m# supplied mode was None\u001b[0m\u001b[0;34m\u001b[0m\u001b[0;34m\u001b[0m\u001b[0;34m\u001b[0m\u001b[0m\n",
      "\u001b[0;32m~/miniconda3/envs/jwst_validation_notebooks/lib/python3.8/site-packages/astropy/utils/decorators.py\u001b[0m in \u001b[0;36mwrapper\u001b[0;34m(*args, **kwargs)\u001b[0m\n\u001b[1;32m    533\u001b[0m                     \u001b[0mwarnings\u001b[0m\u001b[0;34m.\u001b[0m\u001b[0mwarn\u001b[0m\u001b[0;34m(\u001b[0m\u001b[0mmessage\u001b[0m\u001b[0;34m,\u001b[0m \u001b[0mwarning_type\u001b[0m\u001b[0;34m,\u001b[0m \u001b[0mstacklevel\u001b[0m\u001b[0;34m=\u001b[0m\u001b[0;36m2\u001b[0m\u001b[0;34m)\u001b[0m\u001b[0;34m\u001b[0m\u001b[0;34m\u001b[0m\u001b[0m\n\u001b[1;32m    534\u001b[0m \u001b[0;34m\u001b[0m\u001b[0m\n\u001b[0;32m--> 535\u001b[0;31m             \u001b[0;32mreturn\u001b[0m \u001b[0mfunction\u001b[0m\u001b[0;34m(\u001b[0m\u001b[0;34m*\u001b[0m\u001b[0margs\u001b[0m\u001b[0;34m,\u001b[0m \u001b[0;34m**\u001b[0m\u001b[0mkwargs\u001b[0m\u001b[0;34m)\u001b[0m\u001b[0;34m\u001b[0m\u001b[0;34m\u001b[0m\u001b[0m\n\u001b[0m\u001b[1;32m    536\u001b[0m \u001b[0;34m\u001b[0m\u001b[0m\n\u001b[1;32m    537\u001b[0m         \u001b[0;32mreturn\u001b[0m \u001b[0mwrapper\u001b[0m\u001b[0;34m\u001b[0m\u001b[0;34m\u001b[0m\u001b[0m\n",
      "\u001b[0;32m~/miniconda3/envs/jwst_validation_notebooks/lib/python3.8/site-packages/astropy/io/fits/file.py\u001b[0m in \u001b[0;36m__init__\u001b[0;34m(self, fileobj, mode, memmap, overwrite, cache)\u001b[0m\n\u001b[1;32m    173\u001b[0m             \u001b[0mself\u001b[0m\u001b[0;34m.\u001b[0m\u001b[0m_open_fileobj\u001b[0m\u001b[0;34m(\u001b[0m\u001b[0mfileobj\u001b[0m\u001b[0;34m,\u001b[0m \u001b[0mmode\u001b[0m\u001b[0;34m,\u001b[0m \u001b[0moverwrite\u001b[0m\u001b[0;34m)\u001b[0m\u001b[0;34m\u001b[0m\u001b[0;34m\u001b[0m\u001b[0m\n\u001b[1;32m    174\u001b[0m         \u001b[0;32melif\u001b[0m \u001b[0misinstance\u001b[0m\u001b[0;34m(\u001b[0m\u001b[0mfileobj\u001b[0m\u001b[0;34m,\u001b[0m \u001b[0;34m(\u001b[0m\u001b[0mstr\u001b[0m\u001b[0;34m,\u001b[0m \u001b[0mbytes\u001b[0m\u001b[0;34m)\u001b[0m\u001b[0;34m)\u001b[0m\u001b[0;34m:\u001b[0m\u001b[0;34m\u001b[0m\u001b[0;34m\u001b[0m\u001b[0m\n\u001b[0;32m--> 175\u001b[0;31m             \u001b[0mself\u001b[0m\u001b[0;34m.\u001b[0m\u001b[0m_open_filename\u001b[0m\u001b[0;34m(\u001b[0m\u001b[0mfileobj\u001b[0m\u001b[0;34m,\u001b[0m \u001b[0mmode\u001b[0m\u001b[0;34m,\u001b[0m \u001b[0moverwrite\u001b[0m\u001b[0;34m)\u001b[0m\u001b[0;34m\u001b[0m\u001b[0;34m\u001b[0m\u001b[0m\n\u001b[0m\u001b[1;32m    176\u001b[0m         \u001b[0;32melse\u001b[0m\u001b[0;34m:\u001b[0m\u001b[0;34m\u001b[0m\u001b[0;34m\u001b[0m\u001b[0m\n\u001b[1;32m    177\u001b[0m             \u001b[0mself\u001b[0m\u001b[0;34m.\u001b[0m\u001b[0m_open_filelike\u001b[0m\u001b[0;34m(\u001b[0m\u001b[0mfileobj\u001b[0m\u001b[0;34m,\u001b[0m \u001b[0mmode\u001b[0m\u001b[0;34m,\u001b[0m \u001b[0moverwrite\u001b[0m\u001b[0;34m)\u001b[0m\u001b[0;34m\u001b[0m\u001b[0;34m\u001b[0m\u001b[0m\n",
      "\u001b[0;32m~/miniconda3/envs/jwst_validation_notebooks/lib/python3.8/site-packages/astropy/io/fits/file.py\u001b[0m in \u001b[0;36m_open_filename\u001b[0;34m(self, filename, mode, overwrite)\u001b[0m\n\u001b[1;32m    562\u001b[0m \u001b[0;34m\u001b[0m\u001b[0m\n\u001b[1;32m    563\u001b[0m         \u001b[0;32mif\u001b[0m \u001b[0;32mnot\u001b[0m \u001b[0mself\u001b[0m\u001b[0;34m.\u001b[0m\u001b[0m_try_read_compressed\u001b[0m\u001b[0;34m(\u001b[0m\u001b[0mself\u001b[0m\u001b[0;34m.\u001b[0m\u001b[0mname\u001b[0m\u001b[0;34m,\u001b[0m \u001b[0mmagic\u001b[0m\u001b[0;34m,\u001b[0m \u001b[0mmode\u001b[0m\u001b[0;34m,\u001b[0m \u001b[0mext\u001b[0m\u001b[0;34m=\u001b[0m\u001b[0mext\u001b[0m\u001b[0;34m)\u001b[0m\u001b[0;34m:\u001b[0m\u001b[0;34m\u001b[0m\u001b[0;34m\u001b[0m\u001b[0m\n\u001b[0;32m--> 564\u001b[0;31m             \u001b[0mself\u001b[0m\u001b[0;34m.\u001b[0m\u001b[0m_file\u001b[0m \u001b[0;34m=\u001b[0m \u001b[0mfileobj_open\u001b[0m\u001b[0;34m(\u001b[0m\u001b[0mself\u001b[0m\u001b[0;34m.\u001b[0m\u001b[0mname\u001b[0m\u001b[0;34m,\u001b[0m \u001b[0mIO_FITS_MODES\u001b[0m\u001b[0;34m[\u001b[0m\u001b[0mmode\u001b[0m\u001b[0;34m]\u001b[0m\u001b[0;34m)\u001b[0m\u001b[0;34m\u001b[0m\u001b[0;34m\u001b[0m\u001b[0m\n\u001b[0m\u001b[1;32m    565\u001b[0m             \u001b[0mself\u001b[0m\u001b[0;34m.\u001b[0m\u001b[0mclose_on_error\u001b[0m \u001b[0;34m=\u001b[0m \u001b[0;32mTrue\u001b[0m\u001b[0;34m\u001b[0m\u001b[0;34m\u001b[0m\u001b[0m\n\u001b[1;32m    566\u001b[0m \u001b[0;34m\u001b[0m\u001b[0m\n",
      "\u001b[0;32m~/miniconda3/envs/jwst_validation_notebooks/lib/python3.8/site-packages/astropy/io/fits/util.py\u001b[0m in \u001b[0;36mfileobj_open\u001b[0;34m(filename, mode)\u001b[0m\n\u001b[1;32m    390\u001b[0m     \"\"\"\n\u001b[1;32m    391\u001b[0m \u001b[0;34m\u001b[0m\u001b[0m\n\u001b[0;32m--> 392\u001b[0;31m     \u001b[0;32mreturn\u001b[0m \u001b[0mopen\u001b[0m\u001b[0;34m(\u001b[0m\u001b[0mfilename\u001b[0m\u001b[0;34m,\u001b[0m \u001b[0mmode\u001b[0m\u001b[0;34m,\u001b[0m \u001b[0mbuffering\u001b[0m\u001b[0;34m=\u001b[0m\u001b[0;36m0\u001b[0m\u001b[0;34m)\u001b[0m\u001b[0;34m\u001b[0m\u001b[0;34m\u001b[0m\u001b[0m\n\u001b[0m\u001b[1;32m    393\u001b[0m \u001b[0;34m\u001b[0m\u001b[0m\n\u001b[1;32m    394\u001b[0m \u001b[0;34m\u001b[0m\u001b[0m\n",
      "\u001b[0;31mFileNotFoundError\u001b[0m: [Errno 2] No such file or directory: 'mock12A-0.fits'"
     ]
    }
   ],
   "source": [
    "for j in range(0,6):\n",
    "    ip.main(band_chan[j],[1,2],1,1e-7)\n",
    "    \n",
    "    result=AssignWcsStep.call('mock'+band_chan[j]+'-0.fits',save_results=True)\n",
    "    result=AssignWcsStep.call('mock'+band_chan[j]+'-1.fits',save_results=True)\n",
    "    \n",
    "    wtype=3\n",
    "    band=indiv1[j]\n",
    "    filenames='mock'+band_chan[j]+'-0_assignwcsstep.fits','mock'+band_chan[j]+'-1_assignwcsstep.fits'\n",
    "    modshep.setcube(filenames, band, wtype)\n",
    "    \n",
    "    band=indiv2[j]\n",
    "    filenames='mock'+band_chan[j]+'-0_assignwcsstep.fits','mock'+band_chan[j]+'-1_assignwcsstep.fits'\n",
    "    modshep.setcube(filenames, band, wtype)\n",
    "        \n",
    "    image1,header1=fits.getdata('pystack/pycube'+indiv1[j]+'.fits',header=True)\n",
    "    \n",
    "    num_x1=header1[\"NAXIS2\"]\n",
    "    num_y1=header1[\"NAXIS1\"]\n",
    "    num_chan1=header1[\"NAXIS3\"]\n",
    "    start_wavelength1=header1[\"CRVAL3\"]\n",
    "    step_wavelength1=header1[\"CDELT3\"]\n",
    "    pix_size1=header1[\"CD2_2\"]\n",
    "    \n",
    "    a1=[0.0]*num_chan1\n",
    "    for i in range(0,num_chan1):\n",
    "        for m in range(0,num_x1):\n",
    "            for n in range(0,num_y1):\n",
    "                a1[i]=image1[i,m,n]+a1[i]    \n",
    "\n",
    "    d1=[0.0]*num_chan1\n",
    "    d1[0]=start_wavelength1\n",
    "    for i in range(1,num_chan1):\n",
    "        d1[i]=d1[i-1]+step_wavelength1\n",
    "        \n",
    "    for i in range(0,num_chan1):\n",
    "        a1[i]=(a1[i]*(pix_size1*3600)*(pix_size1*3600)*(10**6))/(4.25*10**10)\n",
    "    \n",
    "    image2,header2=fits.getdata('pystack/pycube'+indiv2[j]+'.fits',header=True)\n",
    "    \n",
    "    num_x2=header2[\"NAXIS2\"]\n",
    "    num_y2=header2[\"NAXIS1\"]\n",
    "    num_chan2=header2[\"NAXIS3\"]\n",
    "    start_wavelength2=header2[\"CRVAL3\"]\n",
    "    step_wavelength2=header2[\"CDELT3\"]\n",
    "    pix_size2=header2[\"CD2_2\"]\n",
    "    \n",
    "    a2=[0.0]*num_chan2\n",
    "    for i in range(0,num_chan2):\n",
    "        for m in range(0,num_x2):\n",
    "            for n in range(0,num_y2):\n",
    "                a2[i]=image2[i,m,n]+a2[i]   \n",
    "                \n",
    "    d2=[0.0]*num_chan2\n",
    "    d2[0]=start_wavelength2\n",
    "    for i in range(1,num_chan2):\n",
    "        d2[i]=d2[i-1]+step_wavelength2                \n",
    "                \n",
    "    for i in range(0,num_chan2):\n",
    "        a2[i]=(a2[i]*(pix_size2*3600)*(pix_size2*3600)*(10**6))/(4.25*10**10)\n",
    "        \n",
    "        \n",
    "    plt.plot(d1,a1,'-', color=plot_color[j], lw=1)\n",
    "    plt.plot(d2,a2,'-', color=plot_color[j], lw=1)\n",
    "    plt.xlim(4.5,28)\n",
    "    plt.ylim(0.0009,0.0011) \n",
    "    plt.xlabel('Wavelength [micron]')\n",
    "    plt.ylabel('Flux [mJy]')\n",
    "    \n",
    "plt.savefig('point_source_flux_conservation_modshep_all.pdf')"
   ]
  },
  {
   "cell_type": "markdown",
   "metadata": {},
   "source": [
    "#### Use WCS corrected mock files to test cube build.\n",
    "#### cube_testing.json file looks like the following:\n",
    "\n",
    "#### {\"asn_rule\": \"Asn_MIRIFU_Dither\", \n",
    "#### \"targname\": \"MYTarget\", \n",
    "#### \"asn_pool\": \"jw00024_001_01_pool\", \n",
    "#### \"program\": \"0001\",\n",
    "#### \"asn_type\":\"dither\",\n",
    "#### \"asn_id\": \"a3001\",\n",
    "#### \"target\": \"1\",\n",
    "#### \"products\": [ {\"name\": \"det_image\", \n",
    "#### \"members\": [ {\"exptype\": \"SCIENCE\", \"expname\": \"mock12A-0_assignwcsstep.fits\"}, \n",
    "#### {\"exptype\": \"SCIENCE\", \"expname\": \"mock12A-1_assignwcsstep.fits\"} ] } ] }\n",
    "\n",
    "#### result=CubeBuildStep.call('cube_testing.json',save_results=True) (this will run each channel/band individually)\n",
    "#### result=CubeBuildStep.call('cube_testing.json',save_results=True, --output_type=multi) (this will make one cube as the final output)"
   ]
  },
  {
   "cell_type": "code",
   "execution_count": null,
   "metadata": {},
   "outputs": [],
   "source": [
    "#The output should be 12 files: det_image_ch1-short_s3d.fits, det_image_ch1-medium_s3d.fits, etc.\n",
    "result=CubeBuildStep.call('cube_testing.json',save_results=True)"
   ]
  },
  {
   "cell_type": "code",
   "execution_count": null,
   "metadata": {},
   "outputs": [],
   "source": [
    "#Define band and channels\n",
    "band_chan=['ch1-short','ch2-short','ch3-short','ch4-short']\n",
    "\n",
    "for j in range(0,4):\n",
    "    image3,header3=fits.getdata('det_image_'+band_chan[j]+'_s3d.fits',header=True)\n",
    "\n",
    "    num_x3=header3[\"NAXIS2\"]\n",
    "    num_y3=header3[\"NAXIS1\"]\n",
    "    num_chan3=header3[\"NAXIS3\"]\n",
    "    start_wavelength3=header3[\"CRVAL3\"]\n",
    "    step_wavelength3=header3[\"CDELT3\"]\n",
    "    pix_size3=header3[\"CDELT1\"]\n",
    "\n",
    "    a3=[0.0]*num_chan3\n",
    "    for i in range(0,num_chan3):\n",
    "        for m in range(0,num_x3):\n",
    "            for n in range(0,num_y3):\n",
    "                a3[i]=image3[i,m,n]+a3[i]\n",
    "            \n",
    "    d3=[0.0]*num_chan3\n",
    "    d3[0]=start_wavelength3\n",
    "    for i in range(1,num_chan3):\n",
    "        d3[i]=d3[i-1]+step_wavelength3\n",
    "    \n",
    "    for i in range(0,num_chan3):\n",
    "        a3[i]=(a3[i]*(pix_size3*3600)*(pix_size3*3600)*(10**6))/(4.25*10**10)\n",
    "\n",
    "    plt.plot(d3,a3,'-', color='black', lw=1)\n",
    "    plt.xlim(4.5,28)\n",
    "    plt.ylim(0.0009,0.0011) \n",
    "\n",
    "#Define band and channels\n",
    "band_chan=['ch1-medium','ch2-medium','ch3-medium','ch4-medium']\n",
    "\n",
    "for j in range(0,4):\n",
    "    image3,header3=fits.getdata('det_image_'+band_chan[j]+'_s3d.fits',header=True)\n",
    "\n",
    "    num_x3=header3[\"NAXIS2\"]\n",
    "    num_y3=header3[\"NAXIS1\"]\n",
    "    num_chan3=header3[\"NAXIS3\"]\n",
    "    start_wavelength3=header3[\"CRVAL3\"]\n",
    "    step_wavelength3=header3[\"CDELT3\"]\n",
    "    pix_size3=header3[\"CDELT1\"]\n",
    "\n",
    "    a3=[0.0]*num_chan3\n",
    "    for i in range(0,num_chan3):\n",
    "        for m in range(0,num_x3):\n",
    "            for n in range(0,num_y3):\n",
    "                a3[i]=image3[i,m,n]+a3[i]\n",
    "            \n",
    "    d3=[0.0]*num_chan3\n",
    "    d3[0]=start_wavelength3\n",
    "    for i in range(1,num_chan3):\n",
    "        d3[i]=d3[i-1]+step_wavelength3\n",
    "    \n",
    "    for i in range(0,num_chan3):\n",
    "        a3[i]=(a3[i]*(pix_size3*3600)*(pix_size3*3600)*(10**6))/(4.25*10**10)\n",
    "\n",
    "    plt.plot(d3,a3,'-', color='blue', lw=1)\n",
    "    plt.xlim(4.5,28)\n",
    "    plt.ylim(0.0009,0.0011) \n",
    "    \n",
    "#Define band and channels\n",
    "band_chan=['ch1-long','ch2-long','ch3-long','ch4-long']\n",
    "\n",
    "for j in range(0,4):\n",
    "    image3,header3=fits.getdata('det_image_'+band_chan[j]+'_s3d.fits',header=True)\n",
    "\n",
    "    num_x3=header3[\"NAXIS2\"]\n",
    "    num_y3=header3[\"NAXIS1\"]\n",
    "    num_chan3=header3[\"NAXIS3\"]\n",
    "    start_wavelength3=header3[\"CRVAL3\"]\n",
    "    step_wavelength3=header3[\"CDELT3\"]\n",
    "    pix_size3=header3[\"CDELT1\"]\n",
    "\n",
    "    a3=[0.0]*num_chan3\n",
    "    for i in range(0,num_chan3):\n",
    "        for m in range(0,num_x3):\n",
    "            for n in range(0,num_y3):\n",
    "                a3[i]=image3[i,m,n]+a3[i]\n",
    "            \n",
    "    d3=[0.0]*num_chan3\n",
    "    d3[0]=start_wavelength3\n",
    "    for i in range(1,num_chan3):\n",
    "        d3[i]=d3[i-1]+step_wavelength3\n",
    "    \n",
    "    for i in range(0,num_chan3):\n",
    "        a3[i]=(a3[i]*(pix_size3*3600)*(pix_size3*3600)*(10**6))/(4.25*10**10)\n",
    "\n",
    "    plt.plot(d3,a3,'-', color='red', lw=1)\n",
    "    plt.xlim(4.5,28)\n",
    "    plt.ylim(0.0009,0.0011)     "
   ]
  },
  {
   "cell_type": "markdown",
   "metadata": {},
   "source": [
    "#### Check the output of flat point source using Extract 1D"
   ]
  },
  {
   "cell_type": "code",
   "execution_count": null,
   "metadata": {},
   "outputs": [],
   "source": [
    "#Do Band A things\n",
    "band_chan=['ch1-short','ch2-short','ch3-short','ch4-short']\n",
    "for i in range(0,4):\n",
    "    temppath1='det_image_'+band_chan[i]+'_s3d.fits'\n",
    "    print(temppath1)\n",
    "    result=Extract1dStep.call(temppath1) \n",
    "    result.save(band_chan[i]+\"_output_file_from_extract1d.fits\")\n",
    "    \n",
    "#Do Band B things\n",
    "band_chan=['ch1-medium','ch2-medium','ch3-medium','ch4-medium']\n",
    "for i in range(0,4):\n",
    "    temppath1='det_image_'+band_chan[i]+'_s3d.fits'\n",
    "    result=Extract1dStep.call(temppath1) \n",
    "    result.save(band_chan[i]+\"_output_file_from_extract1d.fits\")\n",
    "    \n",
    "#Do Band C things\n",
    "band_chan=['ch1-long','ch2-long','ch3-long','ch4-long']\n",
    "for i in range(0,4):\n",
    "    temppath1='det_image_'+band_chan[i]+'_s3d.fits'\n",
    "    result=Extract1dStep.call(temppath1) \n",
    "    result.save(band_chan[i]+\"_output_file_from_extract1d.fits\")"
   ]
  },
  {
   "cell_type": "code",
   "execution_count": null,
   "metadata": {},
   "outputs": [],
   "source": [
    "#Plot Band A\n",
    "band_chan=['ch1-short','ch2-short','ch3-short','ch4-short']\n",
    "for i in range(0,4):\n",
    "    read_output1=fits.open(band_chan[i]+\"_output_file_from_extract1d.fits\")\n",
    "    data1=Table.read(read_output1, hdu=1)\n",
    "    flux1=data1['FLUX']\n",
    "    wavelength1=data1['WAVELENGTH']\n",
    "    plt.plot(wavelength1,flux1,'-', color='black', lw=1)\n",
    "\n",
    "#Plot Band B\n",
    "band_chan=['ch1-medium','ch2-medium','ch3-medium','ch4-medium']\n",
    "for i in range(0,4):\n",
    "    read_output1=fits.open(band_chan[i]+\"_output_file_from_extract1d.fits\")\n",
    "    data1=Table.read(read_output1, hdu=1)\n",
    "    flux1=data1['FLUX']\n",
    "    wavelength1=data1['WAVELENGTH']\n",
    "    plt.plot(wavelength1,flux1,'-', color='blue', lw=1)\n",
    "    \n",
    "#Plot Band C\n",
    "band_chan=['ch1-long','ch2-long','ch3-long','ch4-long']\n",
    "for i in range(0,4):\n",
    "    read_output1=fits.open(band_chan[i]+\"_output_file_from_extract1d.fits\")\n",
    "    data1=Table.read(read_output1, hdu=1)\n",
    "    flux1=data1['FLUX']\n",
    "    wavelength1=data1['WAVELENGTH']\n",
    "    plt.plot(wavelength1,flux1,'-', color='red', lw=1)\n",
    "    plt.xlim(4.5,28)\n",
    "    plt.ylim(0.0009,0.0011) "
   ]
  },
  {
   "cell_type": "markdown",
   "metadata": {},
   "source": [
    "A successful test shows that the source is flat within 2%."
   ]
  }
 ],
 "metadata": {
  "kernelspec": {
   "display_name": "Python 3",
   "language": "python",
   "name": "python3"
  },
  "language_info": {
   "codemirror_mode": {
    "name": "ipython",
    "version": 3
   },
   "file_extension": ".py",
   "mimetype": "text/x-python",
   "name": "python",
   "nbconvert_exporter": "python",
   "pygments_lexer": "ipython3",
   "version": "3.8.8"
  }
 },
 "nbformat": 4,
 "nbformat_minor": 2
}
