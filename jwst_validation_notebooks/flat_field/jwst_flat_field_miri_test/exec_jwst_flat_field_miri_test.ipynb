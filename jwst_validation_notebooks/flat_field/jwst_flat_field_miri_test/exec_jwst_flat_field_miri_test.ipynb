{
 "cells": [
  {
   "cell_type": "markdown",
   "metadata": {},
   "source": [
    "# Testing flat_field step with MIRI simulated data"
   ]
  },
  {
   "cell_type": "markdown",
   "metadata": {},
   "source": [
    "## Summary\n",
    "\n",
    "This notebook processes an image through calwebb_image2 and calwebb_image3 (calwebb_detector1 is optional) and examines the output table of the source_catalog step. The steps are as follow:\n",
    "\n",
    "1) Set up data path and directory and image file name.\n",
    "\n",
    "2) Modify header information of input simulations (if needed).\n",
    "\n",
    "3) Run input data through calwebb_detector1.\n",
    "\n",
    "4) Run output of calwebb_detector1 through the flat_field step in calwebb_image2.\n",
    "\n",
    "5) Get flat field reference file. \n",
    "\n",
    "6) Compare the flat field reference file with the rate/cal image ratio and check that they are the same.\n",
    "\n",
    "\n",
    "The pipeline documentation can be found here: https://jwst-pipeline.readthedocs.io/en/latest/\n",
    "\n",
    "The pipeline code is available on GitHub: https://github.com/spacetelescope/jwst\n",
    "\n",
    "Author: T. Temim"
   ]
  },
  {
   "cell_type": "code",
   "execution_count": 1,
   "metadata": {
    "execution": {
     "iopub.execute_input": "2021-03-17T00:31:23.211003Z",
     "iopub.status.busy": "2021-03-17T00:31:23.210697Z",
     "iopub.status.idle": "2021-03-17T00:31:23.213845Z",
     "shell.execute_reply": "2021-03-17T00:31:23.214095Z"
    }
   },
   "outputs": [],
   "source": [
    "# Create a temporary directory to hold notebook output, and change the working directory to that directory.\n",
    "from tempfile import TemporaryDirectory\n",
    "import os\n",
    "data_dir = TemporaryDirectory()\n",
    "os.chdir(data_dir.name)"
   ]
  },
  {
   "cell_type": "markdown",
   "metadata": {},
   "source": [
    "### Set up import statements"
   ]
  },
  {
   "cell_type": "code",
   "execution_count": 2,
   "metadata": {
    "execution": {
     "iopub.execute_input": "2021-03-17T00:31:23.217825Z",
     "iopub.status.busy": "2021-03-17T00:31:23.217477Z",
     "iopub.status.idle": "2021-03-17T00:31:25.128533Z",
     "shell.execute_reply": "2021-03-17T00:31:25.128113Z"
    }
   },
   "outputs": [],
   "source": [
    "import pytest\n",
    "import numpy as np\n",
    "from glob import glob\n",
    "import json\n",
    "import jwst\n",
    "from astropy.io import fits, ascii\n",
    "from astropy.coordinates import Angle\n",
    "from astropy.table import Table, vstack, unique\n",
    "from astropy.stats import sigma_clip\n",
    "from jwst.pipeline import Detector1Pipeline, Image2Pipeline, Image3Pipeline\n",
    "from jwst.associations import asn_from_list\n",
    "import matplotlib.pyplot as plt\n",
    "import random\n",
    "from jwst import associations\n",
    "from jwst.datamodels import RampModel\n",
    "from astropy.io import fits\n",
    "import numpy as np\n",
    "from jwst.associations.lib.rules_level3_base import DMS_Level3_Base\n",
    "from jwst.pipeline import calwebb_image3\n",
    "from jwst.pipeline import calwebb_image2\n",
    "from jwst.pipeline import calwebb_detector1\n",
    "from astropy.io import fits\n",
    "from jwst.datamodels import ImageModel\n",
    "from jwst import datamodels\n",
    "from astropy.utils.data import get_pkg_data_filename\n",
    "from ci_watson.artifactory_helpers import get_bigdata\n",
    "from astropy import table\n",
    "import crds"
   ]
  },
  {
   "cell_type": "code",
   "execution_count": 3,
   "metadata": {
    "execution": {
     "iopub.execute_input": "2021-03-17T00:31:25.131372Z",
     "iopub.status.busy": "2021-03-17T00:31:25.131065Z",
     "iopub.status.idle": "2021-03-17T00:31:25.132887Z",
     "shell.execute_reply": "2021-03-17T00:31:25.132598Z"
    }
   },
   "outputs": [],
   "source": [
    "import os\n",
    "os.environ['CRDS_SERVER_URL'] = 'https://jwst-crds.stsci.edu'\n",
    "os.environ['CRDS_CONTEXT']='jwst_0619.pmap'\n",
    "os.environ['TEST_BIGDATA']='https://bytesalad.stsci.edu/artifactory/'"
   ]
  },
  {
   "cell_type": "markdown",
   "metadata": {},
   "source": [
    "### Print pipeline version number"
   ]
  },
  {
   "cell_type": "code",
   "execution_count": 4,
   "metadata": {
    "execution": {
     "iopub.execute_input": "2021-03-17T00:31:25.136434Z",
     "iopub.status.busy": "2021-03-17T00:31:25.136141Z",
     "iopub.status.idle": "2021-03-17T00:31:25.138558Z",
     "shell.execute_reply": "2021-03-17T00:31:25.138286Z"
    }
   },
   "outputs": [
    {
     "data": {
      "text/plain": [
       "'1.1.0'"
      ]
     },
     "execution_count": 1,
     "metadata": {},
     "output_type": "execute_result"
    }
   ],
   "source": [
    "jwst.__version__ "
   ]
  },
  {
   "cell_type": "markdown",
   "metadata": {},
   "source": [
    "### Read in data from artifactory"
   ]
  },
  {
   "cell_type": "code",
   "execution_count": 5,
   "metadata": {
    "execution": {
     "iopub.execute_input": "2021-03-17T00:31:25.141017Z",
     "iopub.status.busy": "2021-03-17T00:31:25.140718Z",
     "iopub.status.idle": "2021-03-17T00:31:25.418912Z",
     "shell.execute_reply": "2021-03-17T00:31:25.418585Z"
    }
   },
   "outputs": [],
   "source": [
    "input_file = get_bigdata('jwst_validation_notebooks',\n",
    "                     'validation_data',\n",
    "                     'source_catalog',\n",
    "                     'source_catalog_miri_test', \n",
    "                     'det_image_seq1_MIRIMAGE_F560Wexp1_rate.fits')"
   ]
  },
  {
   "cell_type": "markdown",
   "metadata": {},
   "source": [
    "### Read in input image as JWST data model"
   ]
  },
  {
   "cell_type": "code",
   "execution_count": 6,
   "metadata": {
    "execution": {
     "iopub.execute_input": "2021-03-17T00:31:25.421606Z",
     "iopub.status.busy": "2021-03-17T00:31:25.421312Z",
     "iopub.status.idle": "2021-03-17T00:31:25.793692Z",
     "shell.execute_reply": "2021-03-17T00:31:25.793288Z"
    }
   },
   "outputs": [],
   "source": [
    "from jwst import datamodels\n",
    "im = ImageModel(input_file)"
   ]
  },
  {
   "cell_type": "markdown",
   "metadata": {},
   "source": [
    "### Modify header information of input simulations (if needed)"
   ]
  },
  {
   "cell_type": "code",
   "execution_count": 7,
   "metadata": {
    "execution": {
     "iopub.execute_input": "2021-03-17T00:31:25.796466Z",
     "iopub.status.busy": "2021-03-17T00:31:25.796170Z",
     "iopub.status.idle": "2021-03-17T00:31:25.798516Z",
     "shell.execute_reply": "2021-03-17T00:31:25.798191Z"
    }
   },
   "outputs": [
    {
     "name": "stdout",
     "output_type": "stream",
     "text": [
      "4\n"
     ]
    }
   ],
   "source": [
    "print(im.meta.wcsinfo.wcsaxes)"
   ]
  },
  {
   "cell_type": "code",
   "execution_count": 8,
   "metadata": {
    "execution": {
     "iopub.execute_input": "2021-03-17T00:31:25.800933Z",
     "iopub.status.busy": "2021-03-17T00:31:25.800619Z",
     "iopub.status.idle": "2021-03-17T00:31:25.802327Z",
     "shell.execute_reply": "2021-03-17T00:31:25.802014Z"
    }
   },
   "outputs": [],
   "source": [
    "im.meta.wcsinfo.wcsaxes=2"
   ]
  },
  {
   "cell_type": "code",
   "execution_count": 9,
   "metadata": {
    "execution": {
     "iopub.execute_input": "2021-03-17T00:31:25.804457Z",
     "iopub.status.busy": "2021-03-17T00:31:25.804161Z",
     "iopub.status.idle": "2021-03-17T00:31:25.805820Z",
     "shell.execute_reply": "2021-03-17T00:31:25.806064Z"
    }
   },
   "outputs": [
    {
     "name": "stdout",
     "output_type": "stream",
     "text": [
      "2\n"
     ]
    }
   ],
   "source": [
    "print(im.meta.wcsinfo.wcsaxes)"
   ]
  },
  {
   "cell_type": "code",
   "execution_count": 10,
   "metadata": {
    "execution": {
     "iopub.execute_input": "2021-03-17T00:31:25.809781Z",
     "iopub.status.busy": "2021-03-17T00:31:25.809462Z",
     "iopub.status.idle": "2021-03-17T00:31:25.811053Z",
     "shell.execute_reply": "2021-03-17T00:31:25.810796Z"
    }
   },
   "outputs": [],
   "source": [
    "del im.meta.wcsinfo.cdelt3\n",
    "del im.meta.wcsinfo.crpix3\n",
    "del im.meta.wcsinfo.crval3\n",
    "del im.meta.wcsinfo.ctype3\n",
    "del im.meta.wcsinfo.cunit3\n",
    "del im.meta.wcsinfo.pc3_1\n",
    "del im.meta.wcsinfo.pc3_2\n",
    "#del im.meta.wcsinfo.cdelt4\n",
    "#del im.meta.wcsinfo.crpix4\n",
    "#del im.meta.wcsinfo.crval4\n",
    "#del im.meta.wcsinfo.ctype4\n",
    "#del im.meta.wcsinfo.cunit4"
   ]
  },
  {
   "cell_type": "markdown",
   "metadata": {},
   "source": [
    "### Run input data through calwebb_detector1  (not done here)"
   ]
  },
  {
   "cell_type": "code",
   "execution_count": 11,
   "metadata": {
    "execution": {
     "iopub.execute_input": "2021-03-17T00:31:25.812821Z",
     "iopub.status.busy": "2021-03-17T00:31:25.812519Z",
     "iopub.status.idle": "2021-03-17T00:31:25.813864Z",
     "shell.execute_reply": "2021-03-17T00:31:25.814098Z"
    }
   },
   "outputs": [],
   "source": [
    "#det1 = calwebb_detector1.Detector1Pipeline()\n",
    "#det1.save_results = True\n",
    "#det1.run(im)"
   ]
  },
  {
   "cell_type": "markdown",
   "metadata": {},
   "source": [
    "### Run output of calwebb_detector1 through calwebb_image2"
   ]
  },
  {
   "cell_type": "code",
   "execution_count": 12,
   "metadata": {
    "execution": {
     "iopub.execute_input": "2021-03-17T00:31:25.816109Z",
     "iopub.status.busy": "2021-03-17T00:31:25.815813Z",
     "iopub.status.idle": "2021-03-17T00:31:25.817430Z",
     "shell.execute_reply": "2021-03-17T00:31:25.817117Z"
    }
   },
   "outputs": [],
   "source": [
    "input_file = input_file.replace('rateint.fits', 'rate.fits')"
   ]
  },
  {
   "cell_type": "code",
   "execution_count": 13,
   "metadata": {
    "execution": {
     "iopub.execute_input": "2021-03-17T00:31:25.822007Z",
     "iopub.status.busy": "2021-03-17T00:31:25.819885Z",
     "iopub.status.idle": "2021-03-17T00:31:28.446151Z",
     "shell.execute_reply": "2021-03-17T00:31:28.446478Z"
    }
   },
   "outputs": [
    {
     "name": "stderr",
     "output_type": "stream",
     "text": [
      "2021-03-16 20:31:25,823 - stpipe.Image2Pipeline - INFO - Image2Pipeline instance created.\n"
     ]
    },
    {
     "name": "stderr",
     "output_type": "stream",
     "text": [
      "2021-03-16 20:31:25,825 - stpipe.Image2Pipeline.bkg_subtract - INFO - BackgroundStep instance created.\n"
     ]
    },
    {
     "name": "stderr",
     "output_type": "stream",
     "text": [
      "2021-03-16 20:31:25,826 - stpipe.Image2Pipeline.assign_wcs - INFO - AssignWcsStep instance created.\n"
     ]
    },
    {
     "name": "stderr",
     "output_type": "stream",
     "text": [
      "2021-03-16 20:31:25,827 - stpipe.Image2Pipeline.flat_field - INFO - FlatFieldStep instance created.\n"
     ]
    },
    {
     "name": "stderr",
     "output_type": "stream",
     "text": [
      "2021-03-16 20:31:25,828 - stpipe.Image2Pipeline.photom - INFO - PhotomStep instance created.\n"
     ]
    },
    {
     "name": "stderr",
     "output_type": "stream",
     "text": [
      "2021-03-16 20:31:25,829 - stpipe.Image2Pipeline.resample - INFO - ResampleStep instance created.\n"
     ]
    },
    {
     "name": "stderr",
     "output_type": "stream",
     "text": [
      "2021-03-16 20:31:25,970 - stpipe.Image2Pipeline - INFO - Step Image2Pipeline running with args (<ImageModel(1024, 1032) from det_image_seq1_MIRIMAGE_F560Wexp1_rate.fits>,).\n"
     ]
    },
    {
     "name": "stderr",
     "output_type": "stream",
     "text": [
      "2021-03-16 20:31:25,975 - stpipe.Image2Pipeline - INFO - Step Image2Pipeline parameters are: {'pre_hooks': [], 'post_hooks': [], 'output_file': None, 'output_dir': None, 'output_ext': '.fits', 'output_use_model': False, 'output_use_index': True, 'save_results': True, 'skip': False, 'suffix': None, 'search_output_file': True, 'input_dir': '', 'save_bsub': False, 'steps': {'bkg_subtract': {'pre_hooks': [], 'post_hooks': [], 'output_file': None, 'output_dir': None, 'output_ext': '.fits', 'output_use_model': False, 'output_use_index': True, 'save_results': False, 'skip': False, 'suffix': None, 'search_output_file': True, 'input_dir': '', 'sigma': 3.0, 'maxiters': None}, 'assign_wcs': {'pre_hooks': [], 'post_hooks': [], 'output_file': None, 'output_dir': None, 'output_ext': '.fits', 'output_use_model': False, 'output_use_index': True, 'save_results': False, 'skip': True, 'suffix': None, 'search_output_file': True, 'input_dir': '', 'sip_approx': True, 'sip_max_pix_error': 0.25, 'sip_degree': None, 'sip_max_inv_pix_error': 0.25, 'sip_inv_degree': None, 'sip_npoints': 32, 'slit_y_low': -0.55, 'slit_y_high': 0.55}, 'flat_field': {'pre_hooks': [], 'post_hooks': [], 'output_file': None, 'output_dir': None, 'output_ext': '.fits', 'output_use_model': False, 'output_use_index': True, 'save_results': False, 'skip': False, 'suffix': None, 'search_output_file': True, 'input_dir': '', 'save_interpolated_flat': False, 'user_supplied_flat': None, 'inverse': False}, 'photom': {'pre_hooks': [], 'post_hooks': [], 'output_file': None, 'output_dir': None, 'output_ext': '.fits', 'output_use_model': False, 'output_use_index': True, 'save_results': False, 'skip': True, 'suffix': None, 'search_output_file': True, 'input_dir': '', 'inverse': False, 'source_type': None}, 'resample': {'pre_hooks': [], 'post_hooks': [], 'output_file': None, 'output_dir': None, 'output_ext': '.fits', 'output_use_model': False, 'output_use_index': True, 'save_results': False, 'skip': True, 'suffix': None, 'search_output_file': True, 'input_dir': '', 'pixfrac': 1.0, 'kernel': 'square', 'fillval': 'INDEF', 'weight_type': 'ivm', 'pixel_scale_ratio': 1.0, 'single': False, 'blendheaders': True, 'allowed_memory': None}}}\n"
     ]
    },
    {
     "name": "stderr",
     "output_type": "stream",
     "text": [
      "2021-03-16 20:31:25,982 - stpipe.Image2Pipeline - INFO - Prefetching reference files for dataset: 'det_image_seq1_MIRIMAGE_F560Wexp1_rate.fits' reftypes = ['dflat', 'fflat', 'flat', 'sflat', 'wavelengthrange', 'wfssbkg']\n"
     ]
    },
    {
     "name": "stderr",
     "output_type": "stream",
     "text": [
      "2021-03-16 20:31:27,407 - stpipe.Image2Pipeline - INFO - Prefetch for DFLAT reference file is 'N/A'.\n"
     ]
    },
    {
     "name": "stderr",
     "output_type": "stream",
     "text": [
      "2021-03-16 20:31:27,408 - stpipe.Image2Pipeline - INFO - Prefetch for FFLAT reference file is 'N/A'.\n"
     ]
    },
    {
     "name": "stderr",
     "output_type": "stream",
     "text": [
      "2021-03-16 20:31:27,408 - stpipe.Image2Pipeline - INFO - Prefetch for FLAT reference file is '/grp/crds/cache/references/jwst/jwst_miri_flat_0507.fits'.\n"
     ]
    },
    {
     "name": "stderr",
     "output_type": "stream",
     "text": [
      "2021-03-16 20:31:27,410 - stpipe.Image2Pipeline - INFO - Prefetch for SFLAT reference file is 'N/A'.\n"
     ]
    },
    {
     "name": "stderr",
     "output_type": "stream",
     "text": [
      "2021-03-16 20:31:27,410 - stpipe.Image2Pipeline - INFO - Prefetch for WAVELENGTHRANGE reference file is 'N/A'.\n"
     ]
    },
    {
     "name": "stderr",
     "output_type": "stream",
     "text": [
      "2021-03-16 20:31:27,410 - stpipe.Image2Pipeline - INFO - Prefetch for WFSSBKG reference file is 'N/A'.\n"
     ]
    },
    {
     "name": "stderr",
     "output_type": "stream",
     "text": [
      "2021-03-16 20:31:27,411 - stpipe.Image2Pipeline - INFO - Starting calwebb_image2 ...\n"
     ]
    },
    {
     "name": "stderr",
     "output_type": "stream",
     "text": [
      "2021-03-16 20:31:27,444 - stpipe.Image2Pipeline - INFO - Processing product det_image_seq1_MIRIMAGE_F560Wexp1_rate\n"
     ]
    },
    {
     "name": "stderr",
     "output_type": "stream",
     "text": [
      "2021-03-16 20:31:27,445 - stpipe.Image2Pipeline - INFO - Working on input <ImageModel(1024, 1032) from det_image_seq1_MIRIMAGE_F560Wexp1_rate.fits> ...\n"
     ]
    },
    {
     "name": "stderr",
     "output_type": "stream",
     "text": [
      "2021-03-16 20:31:27,544 - stpipe.Image2Pipeline.assign_wcs - INFO - Step assign_wcs running with args (<ImageModel(1024, 1032) from det_image_seq1_MIRIMAGE_F560Wexp1_rate.fits>,).\n"
     ]
    },
    {
     "name": "stderr",
     "output_type": "stream",
     "text": [
      "2021-03-16 20:31:27,545 - stpipe.Image2Pipeline.assign_wcs - INFO - Step assign_wcs parameters are: {'pre_hooks': [], 'post_hooks': [], 'output_file': None, 'output_dir': None, 'output_ext': '.fits', 'output_use_model': False, 'output_use_index': True, 'save_results': False, 'skip': True, 'suffix': None, 'search_output_file': True, 'input_dir': '', 'sip_approx': True, 'sip_max_pix_error': 0.25, 'sip_degree': None, 'sip_max_inv_pix_error': 0.25, 'sip_inv_degree': None, 'sip_npoints': 32, 'slit_y_low': -0.55, 'slit_y_high': 0.55}\n"
     ]
    },
    {
     "name": "stderr",
     "output_type": "stream",
     "text": [
      "2021-03-16 20:31:27,546 - stpipe.Image2Pipeline.assign_wcs - INFO - Step skipped.\n"
     ]
    },
    {
     "name": "stderr",
     "output_type": "stream",
     "text": [
      "2021-03-16 20:31:27,546 - stpipe.Image2Pipeline.assign_wcs - INFO - Step assign_wcs done\n"
     ]
    },
    {
     "name": "stderr",
     "output_type": "stream",
     "text": [
      "2021-03-16 20:31:27,620 - stpipe.Image2Pipeline.flat_field - INFO - Step flat_field running with args (<ImageModel(1024, 1032) from det_image_seq1_MIRIMAGE_F560Wexp1_rate.fits>,).\n"
     ]
    },
    {
     "name": "stderr",
     "output_type": "stream",
     "text": [
      "2021-03-16 20:31:27,622 - stpipe.Image2Pipeline.flat_field - INFO - Step flat_field parameters are: {'pre_hooks': [], 'post_hooks': [], 'output_file': None, 'output_dir': None, 'output_ext': '.fits', 'output_use_model': False, 'output_use_index': True, 'save_results': False, 'skip': False, 'suffix': None, 'search_output_file': True, 'input_dir': '', 'save_interpolated_flat': False, 'user_supplied_flat': None, 'inverse': False}\n"
     ]
    },
    {
     "name": "stderr",
     "output_type": "stream",
     "text": [
      "2021-03-16 20:31:28,113 - stpipe.Image2Pipeline.flat_field - WARNING - Keyword CDP_PARTIAL_DATA does not correspond to an existing DQ mnemonic, so will be ignored\n"
     ]
    },
    {
     "name": "stderr",
     "output_type": "stream",
     "text": [
      "2021-03-16 20:31:28,116 - stpipe.Image2Pipeline.flat_field - WARNING - Keyword CDP_LOW_QUAL does not correspond to an existing DQ mnemonic, so will be ignored\n"
     ]
    },
    {
     "name": "stderr",
     "output_type": "stream",
     "text": [
      "2021-03-16 20:31:28,117 - stpipe.Image2Pipeline.flat_field - WARNING - Keyword CDP_UNRELIABLE_ERROR does not correspond to an existing DQ mnemonic, so will be ignored\n"
     ]
    },
    {
     "name": "stderr",
     "output_type": "stream",
     "text": [
      "2021-03-16 20:31:28,124 - stpipe.Image2Pipeline.flat_field - WARNING - Keyword DIFF_PATTERN does not correspond to an existing DQ mnemonic, so will be ignored\n"
     ]
    },
    {
     "name": "stderr",
     "output_type": "stream",
     "text": [
      "2021-03-16 20:31:28,197 - stpipe.Image2Pipeline.flat_field - WARNING - /data1/jenkins/workspace/Notebooks/jwst_validation_notebooks_spacetelescope/miniconda3/envs/jwst_validation_notebooks/lib/python3.8/site-packages/jwst/flatfield/flat_field.py:208: RuntimeWarning: invalid value encountered in multiply\n",
      "  science.var_flat = science.data**2 / flat_data_squared * flat_err**2\n",
      "\n"
     ]
    },
    {
     "name": "stderr",
     "output_type": "stream",
     "text": [
      "2021-03-16 20:31:28,211 - stpipe.Image2Pipeline.flat_field - INFO - Step flat_field done\n"
     ]
    },
    {
     "name": "stderr",
     "output_type": "stream",
     "text": [
      "2021-03-16 20:31:28,301 - stpipe.Image2Pipeline.photom - INFO - Step photom running with args (<ImageModel(1024, 1032) from det_image_seq1_MIRIMAGE_F560Wexp1_rate.fits>,).\n"
     ]
    },
    {
     "name": "stderr",
     "output_type": "stream",
     "text": [
      "2021-03-16 20:31:28,302 - stpipe.Image2Pipeline.photom - INFO - Step photom parameters are: {'pre_hooks': [], 'post_hooks': [], 'output_file': None, 'output_dir': None, 'output_ext': '.fits', 'output_use_model': False, 'output_use_index': True, 'save_results': False, 'skip': True, 'suffix': None, 'search_output_file': True, 'input_dir': '', 'inverse': False, 'source_type': None}\n"
     ]
    },
    {
     "name": "stderr",
     "output_type": "stream",
     "text": [
      "2021-03-16 20:31:28,303 - stpipe.Image2Pipeline.photom - INFO - Step skipped.\n"
     ]
    },
    {
     "name": "stderr",
     "output_type": "stream",
     "text": [
      "2021-03-16 20:31:28,303 - stpipe.Image2Pipeline.photom - INFO - Step photom done\n"
     ]
    },
    {
     "name": "stderr",
     "output_type": "stream",
     "text": [
      "2021-03-16 20:31:28,377 - stpipe.Image2Pipeline.resample - INFO - Step resample running with args (<ImageModel(1024, 1032) from det_image_seq1_MIRIMAGE_F560Wexp1_rate.fits>,).\n"
     ]
    },
    {
     "name": "stderr",
     "output_type": "stream",
     "text": [
      "2021-03-16 20:31:28,379 - stpipe.Image2Pipeline.resample - INFO - Step resample parameters are: {'pre_hooks': [], 'post_hooks': [], 'output_file': None, 'output_dir': None, 'output_ext': '.fits', 'output_use_model': False, 'output_use_index': True, 'save_results': True, 'skip': True, 'suffix': 'i2d', 'search_output_file': True, 'input_dir': '', 'pixfrac': 1.0, 'kernel': 'square', 'fillval': 'INDEF', 'weight_type': 'ivm', 'pixel_scale_ratio': 1.0, 'single': False, 'blendheaders': True, 'allowed_memory': None}\n"
     ]
    },
    {
     "name": "stderr",
     "output_type": "stream",
     "text": [
      "2021-03-16 20:31:28,379 - stpipe.Image2Pipeline.resample - INFO - Step skipped.\n"
     ]
    },
    {
     "name": "stderr",
     "output_type": "stream",
     "text": [
      "2021-03-16 20:31:28,380 - stpipe.Image2Pipeline.resample - INFO - Step resample done\n"
     ]
    },
    {
     "name": "stderr",
     "output_type": "stream",
     "text": [
      "2021-03-16 20:31:28,380 - stpipe.Image2Pipeline - INFO - Finished processing product det_image_seq1_MIRIMAGE_F560Wexp1_rate\n"
     ]
    },
    {
     "name": "stderr",
     "output_type": "stream",
     "text": [
      "2021-03-16 20:31:28,381 - stpipe.Image2Pipeline - INFO - ... ending calwebb_image2\n"
     ]
    },
    {
     "name": "stderr",
     "output_type": "stream",
     "text": [
      "2021-03-16 20:31:28,441 - stpipe.Image2Pipeline - INFO - Saved model in det_image_seq1_MIRIMAGE_F560Wexp1_cal.fits\n"
     ]
    },
    {
     "name": "stderr",
     "output_type": "stream",
     "text": [
      "2021-03-16 20:31:28,442 - stpipe.Image2Pipeline - INFO - Step Image2Pipeline done\n"
     ]
    },
    {
     "data": {
      "text/plain": [
       "[<ImageModel(1024, 1032) from det_image_seq1_MIRIMAGE_F560Wexp1_cal.fits>]"
      ]
     },
     "execution_count": 1,
     "metadata": {},
     "output_type": "execute_result"
    }
   ],
   "source": [
    "im2 = calwebb_image2.Image2Pipeline()\n",
    "#im2.background.skip = True\n",
    "im2.assign_wcs.skip = True\n",
    "im2.flat_field.skip = False\n",
    "im2.photom.skip=True\n",
    "im2.resample.skip = True\n",
    "im2.save_results = True\n",
    "im2.run(im)"
   ]
  },
  {
   "cell_type": "code",
   "execution_count": 14,
   "metadata": {
    "execution": {
     "iopub.execute_input": "2021-03-17T00:31:28.449080Z",
     "iopub.status.busy": "2021-03-17T00:31:28.448778Z",
     "iopub.status.idle": "2021-03-17T00:31:28.450622Z",
     "shell.execute_reply": "2021-03-17T00:31:28.450304Z"
    }
   },
   "outputs": [],
   "source": [
    "input_file = input_file.replace('rate.fits', 'cal.fits')"
   ]
  },
  {
   "cell_type": "code",
   "execution_count": 15,
   "metadata": {
    "execution": {
     "iopub.execute_input": "2021-03-17T00:31:28.458560Z",
     "iopub.status.busy": "2021-03-17T00:31:28.458265Z",
     "iopub.status.idle": "2021-03-17T00:31:28.477639Z",
     "shell.execute_reply": "2021-03-17T00:31:28.477321Z"
    }
   },
   "outputs": [],
   "source": [
    "im_cal = ImageModel(input_file)"
   ]
  },
  {
   "cell_type": "markdown",
   "metadata": {},
   "source": [
    "### Calculate the rate/cal image ratio"
   ]
  },
  {
   "cell_type": "code",
   "execution_count": 16,
   "metadata": {
    "execution": {
     "iopub.execute_input": "2021-03-17T00:31:28.480366Z",
     "iopub.status.busy": "2021-03-17T00:31:28.480071Z",
     "iopub.status.idle": "2021-03-17T00:31:28.486427Z",
     "shell.execute_reply": "2021-03-17T00:31:28.486104Z"
    }
   },
   "outputs": [
    {
     "name": "stderr",
     "output_type": "stream",
     "text": [
      "2021-03-16 20:31:28,483 - stpipe - WARNING - <ipython-input-1-13a01c86caeb>:1: RuntimeWarning: invalid value encountered in true_divide\n",
      "  ratio_im=im.data/im_cal.data\n",
      "\n"
     ]
    }
   ],
   "source": [
    "ratio_im=im.data/im_cal.data"
   ]
  },
  {
   "cell_type": "markdown",
   "metadata": {},
   "source": [
    "### Get flat_field reference file"
   ]
  },
  {
   "cell_type": "code",
   "execution_count": 17,
   "metadata": {
    "execution": {
     "iopub.execute_input": "2021-03-17T00:31:28.495657Z",
     "iopub.status.busy": "2021-03-17T00:31:28.495351Z",
     "iopub.status.idle": "2021-03-17T00:31:28.530528Z",
     "shell.execute_reply": "2021-03-17T00:31:28.530781Z"
    }
   },
   "outputs": [
    {
     "name": "stdout",
     "output_type": "stream",
     "text": [
      "Flat reference file crds://jwst_miri_flat_0507.fits\n"
     ]
    }
   ],
   "source": [
    "flatreffile = im_cal.meta.ref_file.flat.name\n",
    "print('Flat reference file', flatreffile)\n",
    "# find location of file\n",
    "basename = crds.core.config.pop_crds_uri(flatreffile)\n",
    "path = crds.locate_file(basename, \"jwst\")\n",
    "# open reference file\n",
    "flat_im = ImageModel(path)"
   ]
  },
  {
   "cell_type": "markdown",
   "metadata": {},
   "source": [
    "### Compare flat field reference file with the rate/cal image ratio and check that they are equal"
   ]
  },
  {
   "cell_type": "code",
   "execution_count": 18,
   "metadata": {
    "execution": {
     "iopub.execute_input": "2021-03-17T00:31:28.533401Z",
     "iopub.status.busy": "2021-03-17T00:31:28.533104Z",
     "iopub.status.idle": "2021-03-17T00:31:28.538057Z",
     "shell.execute_reply": "2021-03-17T00:31:28.537731Z"
    }
   },
   "outputs": [],
   "source": [
    "check_flat=ratio_im/flat_im.data"
   ]
  },
  {
   "cell_type": "code",
   "execution_count": 19,
   "metadata": {
    "execution": {
     "iopub.execute_input": "2021-03-17T00:31:28.540219Z",
     "iopub.status.busy": "2021-03-17T00:31:28.539928Z",
     "iopub.status.idle": "2021-03-17T00:31:28.544985Z",
     "shell.execute_reply": "2021-03-17T00:31:28.544646Z"
    }
   },
   "outputs": [
    {
     "name": "stdout",
     "output_type": "stream",
     "text": [
      "Minimum and maximum values in the check_flat image are: 0.9999999 and 1.0000001\n"
     ]
    }
   ],
   "source": [
    "print('Minimum and maximum values in the check_flat image are:', np.nanmin(check_flat), 'and', np.nanmax(check_flat))"
   ]
  },
  {
   "cell_type": "markdown",
   "metadata": {},
   "source": [
    "### Both values above should equal to 1.0"
   ]
  }
 ],
 "metadata": {
  "kernelspec": {
   "display_name": "Python 3",
   "language": "python",
   "name": "python3"
  },
  "language_info": {
   "codemirror_mode": {
    "name": "ipython",
    "version": 3
   },
   "file_extension": ".py",
   "mimetype": "text/x-python",
   "name": "python",
   "nbconvert_exporter": "python",
   "pygments_lexer": "ipython3",
   "version": "3.8.8"
  }
 },
 "nbformat": 4,
 "nbformat_minor": 4
}
