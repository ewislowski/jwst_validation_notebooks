{
 "cells": [
  {
   "cell_type": "markdown",
   "metadata": {},
   "source": [
    "# Testing flat_field step with MIRI simulated data"
   ]
  },
  {
   "cell_type": "markdown",
   "metadata": {},
   "source": [
    "## Summary\n",
    "\n",
    "This notebook processes an image through calwebb_image2 and calwebb_image3 (calwebb_detector1 is optional) and examines the output table of the source_catalog step. The steps are as follow:\n",
    "\n",
    "1) Set up data path and directory and image file name.\n",
    "\n",
    "2) Modify header information of input simulations (if needed).\n",
    "\n",
    "3) Run input data through calwebb_detector1.\n",
    "\n",
    "4) Run output of calwebb_detector1 through the flat_field step in calwebb_image2.\n",
    "\n",
    "5) Get flat field reference file. \n",
    "\n",
    "6) Compare the flat field reference file with the rate/cal image ratio and check that they are the same.\n",
    "\n",
    "\n",
    "The pipeline documentation can be found here: https://jwst-pipeline.readthedocs.io/en/latest/\n",
    "\n",
    "The pipeline code is available on GitHub: https://github.com/spacetelescope/jwst\n",
    "\n",
    "Author: T. Temim"
   ]
  },
  {
   "cell_type": "code",
   "execution_count": 1,
   "metadata": {
    "execution": {
     "iopub.execute_input": "2021-02-24T20:53:36.444540Z",
     "iopub.status.busy": "2021-02-24T20:53:36.444232Z",
     "iopub.status.idle": "2021-02-24T20:53:36.446807Z",
     "shell.execute_reply": "2021-02-24T20:53:36.447051Z"
    }
   },
   "outputs": [],
   "source": [
    "# Create a temporary directory to hold notebook output, and change the working directory to that directory.\n",
    "from tempfile import TemporaryDirectory\n",
    "import os\n",
    "data_dir = TemporaryDirectory()\n",
    "os.chdir(data_dir.name)"
   ]
  },
  {
   "cell_type": "markdown",
   "metadata": {},
   "source": [
    "### Set up import statements"
   ]
  },
  {
   "cell_type": "code",
   "execution_count": 2,
   "metadata": {
    "execution": {
     "iopub.execute_input": "2021-02-24T20:53:36.450507Z",
     "iopub.status.busy": "2021-02-24T20:53:36.450199Z",
     "iopub.status.idle": "2021-02-24T20:53:37.898473Z",
     "shell.execute_reply": "2021-02-24T20:53:37.898805Z"
    }
   },
   "outputs": [],
   "source": [
    "import pytest\n",
    "import numpy as np\n",
    "from glob import glob\n",
    "import json\n",
    "import jwst\n",
    "from astropy.io import fits, ascii\n",
    "from astropy.coordinates import Angle\n",
    "from astropy.table import Table, vstack, unique\n",
    "from astropy.stats import sigma_clip\n",
    "from jwst.pipeline import Detector1Pipeline, Image2Pipeline, Image3Pipeline\n",
    "from jwst.associations import asn_from_list\n",
    "import matplotlib.pyplot as plt\n",
    "import random\n",
    "from jwst import associations\n",
    "from jwst.datamodels import RampModel\n",
    "from astropy.io import fits\n",
    "import numpy as np\n",
    "from jwst.associations.lib.rules_level3_base import DMS_Level3_Base\n",
    "from jwst.pipeline import calwebb_image3\n",
    "from jwst.pipeline import calwebb_image2\n",
    "from jwst.pipeline import calwebb_detector1\n",
    "from astropy.io import fits\n",
    "from jwst.datamodels import ImageModel\n",
    "from jwst import datamodels\n",
    "from astropy.utils.data import get_pkg_data_filename\n",
    "from ci_watson.artifactory_helpers import get_bigdata\n",
    "from astropy import table\n",
    "import crds"
   ]
  },
  {
   "cell_type": "code",
   "execution_count": 3,
   "metadata": {
    "execution": {
     "iopub.execute_input": "2021-02-24T20:53:37.901531Z",
     "iopub.status.busy": "2021-02-24T20:53:37.900663Z",
     "iopub.status.idle": "2021-02-24T20:53:37.902910Z",
     "shell.execute_reply": "2021-02-24T20:53:37.903163Z"
    }
   },
   "outputs": [],
   "source": [
    "import os\n",
    "os.environ['CRDS_SERVER_URL'] = 'https://jwst-crds.stsci.edu'\n",
    "os.environ['CRDS_CONTEXT']='jwst_0619.pmap'\n",
    "os.environ['TEST_BIGDATA']='https://bytesalad.stsci.edu/artifactory/'"
   ]
  },
  {
   "cell_type": "markdown",
   "metadata": {},
   "source": [
    "### Print pipeline version number"
   ]
  },
  {
   "cell_type": "code",
   "execution_count": 4,
   "metadata": {
    "execution": {
     "iopub.execute_input": "2021-02-24T20:53:37.906871Z",
     "iopub.status.busy": "2021-02-24T20:53:37.906549Z",
     "iopub.status.idle": "2021-02-24T20:53:37.908316Z",
     "shell.execute_reply": "2021-02-24T20:53:37.908558Z"
    }
   },
   "outputs": [
    {
     "data": {
      "text/plain": [
       "'0.18.3'"
      ]
     },
     "execution_count": 1,
     "metadata": {},
     "output_type": "execute_result"
    }
   ],
   "source": [
    "jwst.__version__ "
   ]
  },
  {
   "cell_type": "markdown",
   "metadata": {},
   "source": [
    "### Read in data from artifactory"
   ]
  },
  {
   "cell_type": "code",
   "execution_count": 5,
   "metadata": {
    "execution": {
     "iopub.execute_input": "2021-02-24T20:53:37.910810Z",
     "iopub.status.busy": "2021-02-24T20:53:37.910377Z",
     "iopub.status.idle": "2021-02-24T20:53:38.181942Z",
     "shell.execute_reply": "2021-02-24T20:53:38.182231Z"
    }
   },
   "outputs": [],
   "source": [
    "input_file = get_bigdata('jwst_validation_notebooks',\n",
    "                     'validation_data',\n",
    "                     'source_catalog',\n",
    "                     'source_catalog_miri_test', \n",
    "                     'det_image_seq1_MIRIMAGE_F560Wexp1_rate.fits')"
   ]
  },
  {
   "cell_type": "markdown",
   "metadata": {},
   "source": [
    "### Read in input image as JWST data model"
   ]
  },
  {
   "cell_type": "code",
   "execution_count": 6,
   "metadata": {
    "execution": {
     "iopub.execute_input": "2021-02-24T20:53:38.185800Z",
     "iopub.status.busy": "2021-02-24T20:53:38.185358Z",
     "iopub.status.idle": "2021-02-24T20:53:38.574660Z",
     "shell.execute_reply": "2021-02-24T20:53:38.575265Z"
    }
   },
   "outputs": [],
   "source": [
    "from jwst import datamodels\n",
    "im = ImageModel(input_file)"
   ]
  },
  {
   "cell_type": "markdown",
   "metadata": {},
   "source": [
    "### Modify header information of input simulations (if needed)"
   ]
  },
  {
   "cell_type": "code",
   "execution_count": 7,
   "metadata": {
    "execution": {
     "iopub.execute_input": "2021-02-24T20:53:38.578324Z",
     "iopub.status.busy": "2021-02-24T20:53:38.578000Z",
     "iopub.status.idle": "2021-02-24T20:53:38.580142Z",
     "shell.execute_reply": "2021-02-24T20:53:38.579728Z"
    }
   },
   "outputs": [
    {
     "name": "stdout",
     "output_type": "stream",
     "text": [
      "4\n"
     ]
    }
   ],
   "source": [
    "print(im.meta.wcsinfo.wcsaxes)"
   ]
  },
  {
   "cell_type": "code",
   "execution_count": 8,
   "metadata": {
    "execution": {
     "iopub.execute_input": "2021-02-24T20:53:38.582362Z",
     "iopub.status.busy": "2021-02-24T20:53:38.581589Z",
     "iopub.status.idle": "2021-02-24T20:53:38.583996Z",
     "shell.execute_reply": "2021-02-24T20:53:38.583725Z"
    }
   },
   "outputs": [],
   "source": [
    "im.meta.wcsinfo.wcsaxes=2"
   ]
  },
  {
   "cell_type": "code",
   "execution_count": 9,
   "metadata": {
    "execution": {
     "iopub.execute_input": "2021-02-24T20:53:38.586192Z",
     "iopub.status.busy": "2021-02-24T20:53:38.585876Z",
     "iopub.status.idle": "2021-02-24T20:53:38.587789Z",
     "shell.execute_reply": "2021-02-24T20:53:38.587512Z"
    }
   },
   "outputs": [
    {
     "name": "stdout",
     "output_type": "stream",
     "text": [
      "2\n"
     ]
    }
   ],
   "source": [
    "print(im.meta.wcsinfo.wcsaxes)"
   ]
  },
  {
   "cell_type": "code",
   "execution_count": 10,
   "metadata": {
    "execution": {
     "iopub.execute_input": "2021-02-24T20:53:38.590415Z",
     "iopub.status.busy": "2021-02-24T20:53:38.590114Z",
     "iopub.status.idle": "2021-02-24T20:53:38.591494Z",
     "shell.execute_reply": "2021-02-24T20:53:38.591743Z"
    }
   },
   "outputs": [],
   "source": [
    "del im.meta.wcsinfo.cdelt3\n",
    "del im.meta.wcsinfo.crpix3\n",
    "del im.meta.wcsinfo.crval3\n",
    "del im.meta.wcsinfo.ctype3\n",
    "del im.meta.wcsinfo.cunit3\n",
    "del im.meta.wcsinfo.pc3_1\n",
    "del im.meta.wcsinfo.pc3_2\n",
    "#del im.meta.wcsinfo.cdelt4\n",
    "#del im.meta.wcsinfo.crpix4\n",
    "#del im.meta.wcsinfo.crval4\n",
    "#del im.meta.wcsinfo.ctype4\n",
    "#del im.meta.wcsinfo.cunit4"
   ]
  },
  {
   "cell_type": "markdown",
   "metadata": {},
   "source": [
    "### Run input data through calwebb_detector1  (not done here)"
   ]
  },
  {
   "cell_type": "code",
   "execution_count": 11,
   "metadata": {
    "execution": {
     "iopub.execute_input": "2021-02-24T20:53:38.593626Z",
     "iopub.status.busy": "2021-02-24T20:53:38.593334Z",
     "iopub.status.idle": "2021-02-24T20:53:38.594971Z",
     "shell.execute_reply": "2021-02-24T20:53:38.594710Z"
    }
   },
   "outputs": [],
   "source": [
    "#det1 = calwebb_detector1.Detector1Pipeline()\n",
    "#det1.save_results = True\n",
    "#det1.run(im)"
   ]
  },
  {
   "cell_type": "markdown",
   "metadata": {},
   "source": [
    "### Run output of calwebb_detector1 through calwebb_image2"
   ]
  },
  {
   "cell_type": "code",
   "execution_count": 12,
   "metadata": {
    "execution": {
     "iopub.execute_input": "2021-02-24T20:53:38.597184Z",
     "iopub.status.busy": "2021-02-24T20:53:38.596880Z",
     "iopub.status.idle": "2021-02-24T20:53:38.598793Z",
     "shell.execute_reply": "2021-02-24T20:53:38.598517Z"
    }
   },
   "outputs": [],
   "source": [
    "input_file = input_file.replace('rateint.fits', 'rate.fits')"
   ]
  },
  {
   "cell_type": "code",
   "execution_count": 13,
   "metadata": {
    "execution": {
     "iopub.execute_input": "2021-02-24T20:53:38.605762Z",
     "iopub.status.busy": "2021-02-24T20:53:38.603309Z",
     "iopub.status.idle": "2021-02-24T20:53:41.140938Z",
     "shell.execute_reply": "2021-02-24T20:53:41.140558Z"
    }
   },
   "outputs": [
    {
     "name": "stderr",
     "output_type": "stream",
     "text": [
      "2021-02-24 15:53:38,605 - stpipe.Image2Pipeline - INFO - Image2Pipeline instance created.\n"
     ]
    },
    {
     "name": "stderr",
     "output_type": "stream",
     "text": [
      "2021-02-24 15:53:38,606 - stpipe.Image2Pipeline.bkg_subtract - INFO - BackgroundStep instance created.\n"
     ]
    },
    {
     "name": "stderr",
     "output_type": "stream",
     "text": [
      "2021-02-24 15:53:38,607 - stpipe.Image2Pipeline.assign_wcs - INFO - AssignWcsStep instance created.\n"
     ]
    },
    {
     "name": "stderr",
     "output_type": "stream",
     "text": [
      "2021-02-24 15:53:38,608 - stpipe.Image2Pipeline.flat_field - INFO - FlatFieldStep instance created.\n"
     ]
    },
    {
     "name": "stderr",
     "output_type": "stream",
     "text": [
      "2021-02-24 15:53:38,609 - stpipe.Image2Pipeline.photom - INFO - PhotomStep instance created.\n"
     ]
    },
    {
     "name": "stderr",
     "output_type": "stream",
     "text": [
      "2021-02-24 15:53:38,611 - stpipe.Image2Pipeline.resample - INFO - ResampleStep instance created.\n"
     ]
    },
    {
     "name": "stderr",
     "output_type": "stream",
     "text": [
      "2021-02-24 15:53:38,715 - stpipe.Image2Pipeline - INFO - Step Image2Pipeline running with args (<ImageModel(1024, 1032) from det_image_seq1_MIRIMAGE_F560Wexp1_rate.fits>,).\n"
     ]
    },
    {
     "name": "stderr",
     "output_type": "stream",
     "text": [
      "2021-02-24 15:53:38,719 - stpipe.Image2Pipeline - INFO - Step Image2Pipeline parameters are: {'pre_hooks': [], 'post_hooks': [], 'output_file': None, 'output_dir': None, 'output_ext': '.fits', 'output_use_model': False, 'output_use_index': True, 'save_results': True, 'skip': False, 'suffix': None, 'search_output_file': True, 'input_dir': '', 'save_bsub': False, 'steps': {'bkg_subtract': {'pre_hooks': [], 'post_hooks': [], 'output_file': None, 'output_dir': None, 'output_ext': '.fits', 'output_use_model': False, 'output_use_index': True, 'save_results': False, 'skip': False, 'suffix': None, 'search_output_file': True, 'input_dir': '', 'sigma': 3.0, 'maxiters': None}, 'assign_wcs': {'pre_hooks': [], 'post_hooks': [], 'output_file': None, 'output_dir': None, 'output_ext': '.fits', 'output_use_model': False, 'output_use_index': True, 'save_results': False, 'skip': True, 'suffix': None, 'search_output_file': True, 'input_dir': '', 'sip_approx': True, 'sip_max_pix_error': 0.25, 'sip_degree': None, 'sip_max_inv_pix_error': 0.25, 'sip_inv_degree': None, 'sip_npoints': 32, 'slit_y_low': -0.55, 'slit_y_high': 0.55}, 'flat_field': {'pre_hooks': [], 'post_hooks': [], 'output_file': None, 'output_dir': None, 'output_ext': '.fits', 'output_use_model': False, 'output_use_index': True, 'save_results': False, 'skip': False, 'suffix': None, 'search_output_file': True, 'input_dir': '', 'save_interpolated_flat': False, 'user_supplied_flat': None, 'inverse': False}, 'photom': {'pre_hooks': [], 'post_hooks': [], 'output_file': None, 'output_dir': None, 'output_ext': '.fits', 'output_use_model': False, 'output_use_index': True, 'save_results': False, 'skip': True, 'suffix': None, 'search_output_file': True, 'input_dir': '', 'inverse': False, 'source_type': None}, 'resample': {'pre_hooks': [], 'post_hooks': [], 'output_file': None, 'output_dir': None, 'output_ext': '.fits', 'output_use_model': False, 'output_use_index': True, 'save_results': False, 'skip': True, 'suffix': None, 'search_output_file': True, 'input_dir': '', 'pixfrac': 1.0, 'kernel': 'square', 'fillval': 'INDEF', 'weight_type': 'exptime', 'pixel_scale_ratio': 1.0, 'single': False, 'blendheaders': True, 'allowed_memory': None}}}\n"
     ]
    },
    {
     "name": "stderr",
     "output_type": "stream",
     "text": [
      "2021-02-24 15:53:38,726 - stpipe.Image2Pipeline - INFO - Prefetching reference files for dataset: 'det_image_seq1_MIRIMAGE_F560Wexp1_rate.fits' reftypes = ['dflat', 'fflat', 'flat', 'sflat', 'wavelengthrange', 'wfssbkg']\n"
     ]
    },
    {
     "name": "stderr",
     "output_type": "stream",
     "text": [
      "2021-02-24 15:53:40,092 - stpipe.Image2Pipeline - INFO - Prefetch for DFLAT reference file is 'N/A'.\n"
     ]
    },
    {
     "name": "stderr",
     "output_type": "stream",
     "text": [
      "2021-02-24 15:53:40,093 - stpipe.Image2Pipeline - INFO - Prefetch for FFLAT reference file is 'N/A'.\n"
     ]
    },
    {
     "name": "stderr",
     "output_type": "stream",
     "text": [
      "2021-02-24 15:53:40,093 - stpipe.Image2Pipeline - INFO - Prefetch for FLAT reference file is '/grp/crds/cache/references/jwst/jwst_miri_flat_0507.fits'.\n"
     ]
    },
    {
     "name": "stderr",
     "output_type": "stream",
     "text": [
      "2021-02-24 15:53:40,094 - stpipe.Image2Pipeline - INFO - Prefetch for SFLAT reference file is 'N/A'.\n"
     ]
    },
    {
     "name": "stderr",
     "output_type": "stream",
     "text": [
      "2021-02-24 15:53:40,095 - stpipe.Image2Pipeline - INFO - Prefetch for WAVELENGTHRANGE reference file is 'N/A'.\n"
     ]
    },
    {
     "name": "stderr",
     "output_type": "stream",
     "text": [
      "2021-02-24 15:53:40,095 - stpipe.Image2Pipeline - INFO - Prefetch for WFSSBKG reference file is 'N/A'.\n"
     ]
    },
    {
     "name": "stderr",
     "output_type": "stream",
     "text": [
      "2021-02-24 15:53:40,095 - stpipe.Image2Pipeline - INFO - Starting calwebb_image2 ...\n"
     ]
    },
    {
     "name": "stderr",
     "output_type": "stream",
     "text": [
      "2021-02-24 15:53:40,122 - stpipe.Image2Pipeline - INFO - Processing product det_image_seq1_MIRIMAGE_F560Wexp1_rate\n"
     ]
    },
    {
     "name": "stderr",
     "output_type": "stream",
     "text": [
      "2021-02-24 15:53:40,122 - stpipe.Image2Pipeline - INFO - Working on input <ImageModel(1024, 1032) from det_image_seq1_MIRIMAGE_F560Wexp1_rate.fits> ...\n"
     ]
    },
    {
     "name": "stderr",
     "output_type": "stream",
     "text": [
      "2021-02-24 15:53:40,239 - stpipe.Image2Pipeline.assign_wcs - INFO - Step assign_wcs running with args (<ImageModel(1024, 1032) from det_image_seq1_MIRIMAGE_F560Wexp1_rate.fits>,).\n"
     ]
    },
    {
     "name": "stderr",
     "output_type": "stream",
     "text": [
      "2021-02-24 15:53:40,240 - stpipe.Image2Pipeline.assign_wcs - INFO - Step assign_wcs parameters are: {'pre_hooks': [], 'post_hooks': [], 'output_file': None, 'output_dir': None, 'output_ext': '.fits', 'output_use_model': False, 'output_use_index': True, 'save_results': False, 'skip': True, 'suffix': None, 'search_output_file': True, 'input_dir': '', 'sip_approx': True, 'sip_max_pix_error': 0.25, 'sip_degree': None, 'sip_max_inv_pix_error': 0.25, 'sip_inv_degree': None, 'sip_npoints': 32, 'slit_y_low': -0.55, 'slit_y_high': 0.55}\n"
     ]
    },
    {
     "name": "stderr",
     "output_type": "stream",
     "text": [
      "2021-02-24 15:53:40,241 - stpipe.Image2Pipeline.assign_wcs - INFO - Step skipped.\n"
     ]
    },
    {
     "name": "stderr",
     "output_type": "stream",
     "text": [
      "2021-02-24 15:53:40,241 - stpipe.Image2Pipeline.assign_wcs - INFO - Step assign_wcs done\n"
     ]
    },
    {
     "name": "stderr",
     "output_type": "stream",
     "text": [
      "2021-02-24 15:53:40,324 - stpipe.Image2Pipeline.flat_field - INFO - Step flat_field running with args (<ImageModel(1024, 1032) from det_image_seq1_MIRIMAGE_F560Wexp1_rate.fits>,).\n"
     ]
    },
    {
     "name": "stderr",
     "output_type": "stream",
     "text": [
      "2021-02-24 15:53:40,325 - stpipe.Image2Pipeline.flat_field - INFO - Step flat_field parameters are: {'pre_hooks': [], 'post_hooks': [], 'output_file': None, 'output_dir': None, 'output_ext': '.fits', 'output_use_model': False, 'output_use_index': True, 'save_results': False, 'skip': False, 'suffix': None, 'search_output_file': True, 'input_dir': '', 'save_interpolated_flat': False, 'user_supplied_flat': None, 'inverse': False}\n"
     ]
    },
    {
     "name": "stderr",
     "output_type": "stream",
     "text": [
      "2021-02-24 15:53:40,790 - stpipe.Image2Pipeline.flat_field - WARNING - Keyword CDP_PARTIAL_DATA does not correspond to an existing DQ mnemonic, so will be ignored\n"
     ]
    },
    {
     "name": "stderr",
     "output_type": "stream",
     "text": [
      "2021-02-24 15:53:40,790 - stpipe.Image2Pipeline.flat_field - WARNING - Keyword CDP_LOW_QUAL does not correspond to an existing DQ mnemonic, so will be ignored\n"
     ]
    },
    {
     "name": "stderr",
     "output_type": "stream",
     "text": [
      "2021-02-24 15:53:40,791 - stpipe.Image2Pipeline.flat_field - WARNING - Keyword CDP_UNRELIABLE_ERROR does not correspond to an existing DQ mnemonic, so will be ignored\n"
     ]
    },
    {
     "name": "stderr",
     "output_type": "stream",
     "text": [
      "2021-02-24 15:53:40,797 - stpipe.Image2Pipeline.flat_field - WARNING - Keyword DIFF_PATTERN does not correspond to an existing DQ mnemonic, so will be ignored\n"
     ]
    },
    {
     "name": "stderr",
     "output_type": "stream",
     "text": [
      "2021-02-24 15:53:40,843 - stpipe.Image2Pipeline.flat_field - WARNING - /data1/jenkins/workspace/Notebooks/jwst_validation_notebooks_spacetelescope/miniconda3/envs/jwst_validation_notebooks/lib/python3.8/site-packages/jwst/flatfield/flat_field.py:208: RuntimeWarning: invalid value encountered in multiply\n",
      "  science.var_flat = science.data**2 / flat_data_squared * flat_err**2\n",
      "\n"
     ]
    },
    {
     "name": "stderr",
     "output_type": "stream",
     "text": [
      "2021-02-24 15:53:40,855 - stpipe.Image2Pipeline.flat_field - INFO - Step flat_field done\n"
     ]
    },
    {
     "name": "stderr",
     "output_type": "stream",
     "text": [
      "2021-02-24 15:53:40,967 - stpipe.Image2Pipeline.photom - INFO - Step photom running with args (<ImageModel(1024, 1032) from det_image_seq1_MIRIMAGE_F560Wexp1_rate.fits>,).\n"
     ]
    },
    {
     "name": "stderr",
     "output_type": "stream",
     "text": [
      "2021-02-24 15:53:40,968 - stpipe.Image2Pipeline.photom - INFO - Step photom parameters are: {'pre_hooks': [], 'post_hooks': [], 'output_file': None, 'output_dir': None, 'output_ext': '.fits', 'output_use_model': False, 'output_use_index': True, 'save_results': False, 'skip': True, 'suffix': None, 'search_output_file': True, 'input_dir': '', 'inverse': False, 'source_type': None}\n"
     ]
    },
    {
     "name": "stderr",
     "output_type": "stream",
     "text": [
      "2021-02-24 15:53:40,968 - stpipe.Image2Pipeline.photom - INFO - Step skipped.\n"
     ]
    },
    {
     "name": "stderr",
     "output_type": "stream",
     "text": [
      "2021-02-24 15:53:40,969 - stpipe.Image2Pipeline.photom - INFO - Step photom done\n"
     ]
    },
    {
     "name": "stderr",
     "output_type": "stream",
     "text": [
      "2021-02-24 15:53:41,072 - stpipe.Image2Pipeline.resample - INFO - Step resample running with args (<ImageModel(1024, 1032) from det_image_seq1_MIRIMAGE_F560Wexp1_rate.fits>,).\n"
     ]
    },
    {
     "name": "stderr",
     "output_type": "stream",
     "text": [
      "2021-02-24 15:53:41,074 - stpipe.Image2Pipeline.resample - INFO - Step resample parameters are: {'pre_hooks': [], 'post_hooks': [], 'output_file': None, 'output_dir': None, 'output_ext': '.fits', 'output_use_model': False, 'output_use_index': True, 'save_results': True, 'skip': True, 'suffix': 'i2d', 'search_output_file': True, 'input_dir': '', 'pixfrac': 1.0, 'kernel': 'square', 'fillval': 'INDEF', 'weight_type': 'exptime', 'pixel_scale_ratio': 1.0, 'single': False, 'blendheaders': True, 'allowed_memory': None}\n"
     ]
    },
    {
     "name": "stderr",
     "output_type": "stream",
     "text": [
      "2021-02-24 15:53:41,074 - stpipe.Image2Pipeline.resample - INFO - Step skipped.\n"
     ]
    },
    {
     "name": "stderr",
     "output_type": "stream",
     "text": [
      "2021-02-24 15:53:41,075 - stpipe.Image2Pipeline.resample - INFO - Step resample done\n"
     ]
    },
    {
     "name": "stderr",
     "output_type": "stream",
     "text": [
      "2021-02-24 15:53:41,076 - stpipe.Image2Pipeline - INFO - Finished processing product det_image_seq1_MIRIMAGE_F560Wexp1_rate\n"
     ]
    },
    {
     "name": "stderr",
     "output_type": "stream",
     "text": [
      "2021-02-24 15:53:41,076 - stpipe.Image2Pipeline - INFO - ... ending calwebb_image2\n"
     ]
    },
    {
     "name": "stderr",
     "output_type": "stream",
     "text": [
      "2021-02-24 15:53:41,136 - stpipe.Image2Pipeline - INFO - Saved model in det_image_seq1_MIRIMAGE_F560Wexp1_cal.fits\n"
     ]
    },
    {
     "name": "stderr",
     "output_type": "stream",
     "text": [
      "2021-02-24 15:53:41,137 - stpipe.Image2Pipeline - INFO - Step Image2Pipeline done\n"
     ]
    },
    {
     "data": {
      "text/plain": [
       "[<ImageModel(1024, 1032) from det_image_seq1_MIRIMAGE_F560Wexp1_cal.fits>]"
      ]
     },
     "execution_count": 1,
     "metadata": {},
     "output_type": "execute_result"
    }
   ],
   "source": [
    "im2 = calwebb_image2.Image2Pipeline()\n",
    "#im2.background.skip = True\n",
    "im2.assign_wcs.skip = True\n",
    "im2.flat_field.skip = False\n",
    "im2.photom.skip=True\n",
    "im2.resample.skip = True\n",
    "im2.save_results = True\n",
    "im2.run(im)"
   ]
  },
  {
   "cell_type": "code",
   "execution_count": 14,
   "metadata": {
    "execution": {
     "iopub.execute_input": "2021-02-24T20:53:41.143380Z",
     "iopub.status.busy": "2021-02-24T20:53:41.143078Z",
     "iopub.status.idle": "2021-02-24T20:53:41.144747Z",
     "shell.execute_reply": "2021-02-24T20:53:41.144410Z"
    }
   },
   "outputs": [],
   "source": [
    "input_file = input_file.replace('rate.fits', 'cal.fits')"
   ]
  },
  {
   "cell_type": "code",
   "execution_count": 15,
   "metadata": {
    "execution": {
     "iopub.execute_input": "2021-02-24T20:53:41.152117Z",
     "iopub.status.busy": "2021-02-24T20:53:41.151101Z",
     "iopub.status.idle": "2021-02-24T20:53:41.171047Z",
     "shell.execute_reply": "2021-02-24T20:53:41.170779Z"
    }
   },
   "outputs": [],
   "source": [
    "im_cal = ImageModel(input_file)"
   ]
  },
  {
   "cell_type": "markdown",
   "metadata": {},
   "source": [
    "### Calculate the rate/cal image ratio"
   ]
  },
  {
   "cell_type": "code",
   "execution_count": 16,
   "metadata": {
    "execution": {
     "iopub.execute_input": "2021-02-24T20:53:41.173355Z",
     "iopub.status.busy": "2021-02-24T20:53:41.173058Z",
     "iopub.status.idle": "2021-02-24T20:53:41.178155Z",
     "shell.execute_reply": "2021-02-24T20:53:41.177824Z"
    }
   },
   "outputs": [
    {
     "name": "stderr",
     "output_type": "stream",
     "text": [
      "2021-02-24 15:53:41,175 - stpipe - WARNING - <ipython-input-1-13a01c86caeb>:1: RuntimeWarning: invalid value encountered in true_divide\n",
      "  ratio_im=im.data/im_cal.data\n",
      "\n"
     ]
    }
   ],
   "source": [
    "ratio_im=im.data/im_cal.data"
   ]
  },
  {
   "cell_type": "markdown",
   "metadata": {},
   "source": [
    "### Get flat_field reference file"
   ]
  },
  {
   "cell_type": "code",
   "execution_count": 17,
   "metadata": {
    "execution": {
     "iopub.execute_input": "2021-02-24T20:53:41.186650Z",
     "iopub.status.busy": "2021-02-24T20:53:41.186341Z",
     "iopub.status.idle": "2021-02-24T20:53:41.218918Z",
     "shell.execute_reply": "2021-02-24T20:53:41.219236Z"
    }
   },
   "outputs": [
    {
     "name": "stdout",
     "output_type": "stream",
     "text": [
      "Flat reference file crds://jwst_miri_flat_0507.fits\n"
     ]
    }
   ],
   "source": [
    "flatreffile = im_cal.meta.ref_file.flat.name\n",
    "print('Flat reference file', flatreffile)\n",
    "# find location of file\n",
    "basename = crds.core.config.pop_crds_uri(flatreffile)\n",
    "path = crds.locate_file(basename, \"jwst\")\n",
    "# open reference file\n",
    "flat_im = ImageModel(path)"
   ]
  },
  {
   "cell_type": "markdown",
   "metadata": {},
   "source": [
    "### Compare flat field reference file with the rate/cal image ratio and check that they are equal"
   ]
  },
  {
   "cell_type": "code",
   "execution_count": 18,
   "metadata": {
    "execution": {
     "iopub.execute_input": "2021-02-24T20:53:41.221340Z",
     "iopub.status.busy": "2021-02-24T20:53:41.221040Z",
     "iopub.status.idle": "2021-02-24T20:53:41.225065Z",
     "shell.execute_reply": "2021-02-24T20:53:41.224740Z"
    }
   },
   "outputs": [],
   "source": [
    "check_flat=ratio_im/flat_im.data"
   ]
  },
  {
   "cell_type": "code",
   "execution_count": 19,
   "metadata": {
    "execution": {
     "iopub.execute_input": "2021-02-24T20:53:41.227169Z",
     "iopub.status.busy": "2021-02-24T20:53:41.226866Z",
     "iopub.status.idle": "2021-02-24T20:53:41.231289Z",
     "shell.execute_reply": "2021-02-24T20:53:41.231604Z"
    }
   },
   "outputs": [
    {
     "name": "stdout",
     "output_type": "stream",
     "text": [
      "Minimum and maximum values in the check_flat image are: 0.9999999 and 1.0000001\n"
     ]
    }
   ],
   "source": [
    "print('Minimum and maximum values in the check_flat image are:', np.nanmin(check_flat), 'and', np.nanmax(check_flat))"
   ]
  },
  {
   "cell_type": "markdown",
   "metadata": {},
   "source": [
    "### Both values above should equal to 1.0"
   ]
  }
 ],
 "metadata": {
  "kernelspec": {
   "display_name": "Python 3",
   "language": "python",
   "name": "python3"
  },
  "language_info": {
   "codemirror_mode": {
    "name": "ipython",
    "version": 3
   },
   "file_extension": ".py",
   "mimetype": "text/x-python",
   "name": "python",
   "nbconvert_exporter": "python",
   "pygments_lexer": "ipython3",
   "version": "3.8.8"
  }
 },
 "nbformat": 4,
 "nbformat_minor": 4
}
