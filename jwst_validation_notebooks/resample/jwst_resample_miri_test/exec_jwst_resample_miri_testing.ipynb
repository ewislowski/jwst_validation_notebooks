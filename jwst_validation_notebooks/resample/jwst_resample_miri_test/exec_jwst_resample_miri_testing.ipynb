{
 "cells": [
  {
   "cell_type": "markdown",
   "metadata": {},
   "source": [
    "<a id=\"title_ID\"></a>\n",
    "# JWST Pipeline Validation Testing Notebook: Calwebb_Image3, Resample step\n",
    "\n",
    "<span style=\"color:red\"> **Instruments Affected**</span>: FGS, MIRI, NIRCam, NIRISS, NIRSpec \n",
    "\n",
    "Tested on MIRI Simulated data\n",
    "\n",
    "### Table of Contents\n",
    "<div style=\"text-align: left\"> \n",
    "\n",
    "<br>  [Introduction](#intro_ID) <br> [Run JWST Pipelines](#pipeline_ID) <br> [Imports](#imports_ID) <br> [Create an association table for your cal files and run them through calwebb_image3](#runpipeline_ID) <br> [Find Stars in Image and Determine their Coordinates](#runscript_ID) <br> [Compare RA and Dec to expected Values](#residual_ID) <br> [About This Notebook](#about_ID) <br>\n",
    "\n",
    "\n",
    "</div>"
   ]
  },
  {
   "cell_type": "markdown",
   "metadata": {},
   "source": [
    "<a id=\"intro_ID\"></a>\n",
    "# Introduction\n",
    "\n",
    "\n",
    "This test is designed to test the resample step in the calwebb_image3 pipeline. At the end of the calwebb_image3 pipeline, the set of files defined in an association table will be distortion corrected and combined. Resample is the step that applies the distortion correction using the drizzling algorithm (as defined in the DrizzlePac handbook) and combines the listed files. For more information on the pipeline step visit the links below. \n",
    "\n",
    "Step description: https://jwst-pipeline.readthedocs.io/en/latest/jwst/resample/main.html\n",
    "\n",
    "Pipeline code: https://github.com/spacetelescope/jwst/tree/master/jwst/resample\n",
    "\n",
    "The data for this test were created with the MIRI Data Simulator, and the documentation for that code can be found here: http://miri.ster.kuleuven.be/bin/view/Public/MIRISim_Public\n",
    "\n",
    "\n",
    "### Calibration WG Requested Algorithm: \n",
    "\n",
    "A short description and link to the page: https://outerspace.stsci.edu/display/JWSTCC/Vanilla+Image+Combination\n",
    "\n",
    "\n",
    "### Defining Terms\n",
    "Definition of terms or acronymns.\n",
    "\n",
    "JWST: James Webb Space Telescope\n",
    "\n",
    "MIRI: Mid-Infrared Instrument\n",
    "\n",
    "MIRISim: MIRI Data Simulator\n",
    "\n",
    "### Description of test\n",
    "\n",
    "This test is performed by creating a set of simulated data with multiple point sources located at specified coordinates. The simulator puts in the expected distortion, so the initial output data comes out of the simulator in distorted coordinates. When this data is then run through calwebb_detector1, calwebb_image2 and calwebbb_image3, the combined, undistorted image should have the point sources registered at the expected locations. In flight, this test can be repeated with known stars that should be found at their expected coordinates.\n",
    "\n",
    "### Create the data for testing\n",
    "\n",
    "The set of data used in this particular test were created with the MIRI Data Simulator (MIRISim). Referring to the MIRISim link, you can see how to set up and run the simulator to re-create the input files if you wish. The data was run with a scene.ini file that specified what the scene should look like, with coordinates for the stars given in units of arcsecond offsets from the center of the field of view. The scene.ini file as well as the setup files simuation.ini and simulator.ini are needed to run the simulation.\n",
    "\n",
    "Once in the mirisim conda environment, the simulation is run with the command line:\n",
    "> mirisim simulation.ini\n",
    "\n",
    "The simulator created four files, two exposures each at two different dither positions, using the specified filter. Make sure the WCSAXES header keyword in the SCI extension is set to 2 and not 4. If it is set to 4, change it to 2.\n",
    "\n",
    "\n",
    "\n",
    "[Top of Page](#title_ID)"
   ]
  },
  {
   "cell_type": "markdown",
   "metadata": {},
   "source": [
    "<a id=\"pipeline_ID\"></a>\n",
    "## Run JWST Pipelines\n",
    "\n",
    "The four files were then run individually through the calwebb_detector1 and calwebb_image2 pipelines. When running the calwebb_detector1 pipeline, increase the threshold for a detection in the jump step from 4 sigma to 10 sigma to avoid a current issue where the jump detection step flags a large percentage of pixels as jumps. This can be done on the command line. (commands to be typed start with $)\n",
    "\n",
    "The pipelines can be run on the command line with the following commands or put into a script while using the pipeline conda environment.\n",
    "\n",
    "$ strun calwebb_detector1.cfg filename --steps.jump.rejection_threshold 10.0\n",
    "\n",
    "The output of the calwebb_detector1 pipeline is a set of four *rate.fits files which will then be run through the calwebb_image2 pipeline.\n",
    "\n",
    "$ strun calwebb_image2.cfg filename\n",
    "\n",
    "The output of the calwebb_image2 pipeline was then a set of four *cal.fits files. An association table was created that included these four files as input, and then the files and the association table were run through the calwebb_image3 pipeline. \n",
    "\n",
    "The cal files are stored in artifactory, and this notebook is meant to pull those files for the test of resample. Step through the cells of this notebook to run calwebb_image3 and then check the alignment.\n",
    "\n",
    "\n",
    "\n",
    "[Top of Page](#title_ID)"
   ]
  },
  {
   "cell_type": "code",
   "execution_count": 1,
   "metadata": {
    "execution": {
     "iopub.execute_input": "2021-03-13T13:09:32.726651Z",
     "iopub.status.busy": "2021-03-13T13:09:32.726343Z",
     "iopub.status.idle": "2021-03-13T13:09:32.728918Z",
     "shell.execute_reply": "2021-03-13T13:09:32.728594Z"
    }
   },
   "outputs": [],
   "source": [
    "# Create a temporary directory to hold notebook output, and change the working directory to that directory.\n",
    "from tempfile import TemporaryDirectory\n",
    "import os\n",
    "data_dir = TemporaryDirectory()\n",
    "os.chdir(data_dir.name)"
   ]
  },
  {
   "cell_type": "markdown",
   "metadata": {},
   "source": [
    "\n",
    "<a id=\"imports_ID\"></a>\n",
    "# Imports\n",
    "The following packages will need to be imported for the scripts to work.\n",
    "\n",
    "\n",
    "* astropy.io for opening files\n",
    "* astropy.stats for sigma clipping routine\n",
    "* astropy.visualization for image plotting\n",
    "* ci_watson.artifactory_helpers to read in data from artifactory\n",
    "* jwst.datamodels for opening files as a JWST Datamodel\n",
    "* jwst.pipeline to run the pipeline step/module\n",
    "* jwst.associations to create association table\n",
    "* numpy for calculations\n",
    "* matplotlib.pyplot.plt to generate plot\n",
    "* os for path information  \n",
    "* photutils for star finding and aperture photometry\n",
    "* regtest to retrieve data from artifactory needed to run notebook\n",
    "\n",
    "\n",
    "[Top of Page](#title_ID)"
   ]
  },
  {
   "cell_type": "code",
   "execution_count": 2,
   "metadata": {
    "execution": {
     "iopub.execute_input": "2021-03-13T13:09:32.732014Z",
     "iopub.status.busy": "2021-03-13T13:09:32.731710Z",
     "iopub.status.idle": "2021-03-13T13:09:34.148775Z",
     "shell.execute_reply": "2021-03-13T13:09:34.148370Z"
    },
    "nbpresent": {
     "id": "45177853-942e-4949-9e30-f544d70ef5f4"
    }
   },
   "outputs": [],
   "source": [
    "from astropy.io import ascii, fits\n",
    "from astropy.stats import sigma_clipped_stats\n",
    "from astropy.table import Column\n",
    "from astropy.visualization import SqrtStretch\n",
    "from astropy.visualization.mpl_normalize import ImageNormalize\n",
    "from ci_watson.artifactory_helpers import get_bigdata\n",
    "from itertools import product\n",
    "from jwst.datamodels import DrizProductModel, ImageModel\n",
    "from jwst.pipeline import Image3Pipeline\n",
    "from jwst import associations\n",
    "from jwst.associations.lib.rules_level3_base import DMS_Level3_Base\n",
    "from jwst.associations import asn_from_list\n",
    "import matplotlib.pyplot as plt\n",
    "import numpy as np\n",
    "import os\n",
    "from photutils import CircularAperture, DAOStarFinder, CircularAnnulus, aperture_photometry\n",
    "from jwst.regtest.regtestdata import RegtestData"
   ]
  },
  {
   "cell_type": "markdown",
   "metadata": {},
   "source": [
    "<a id=\"runpipeline_ID\"></a>\n",
    "# Open an association table for your cal files and run them through calwebb_image3\n",
    "\n",
    "Load the association table to use the .cal files that were output from calwebb_image2. That will be the input for calwebb_image3 that uses the resample step to combine each of the individual images.\n",
    "\n",
    "[Top of Page](#title_ID)"
   ]
  },
  {
   "cell_type": "code",
   "execution_count": 3,
   "metadata": {
    "execution": {
     "iopub.execute_input": "2021-03-13T13:09:34.152033Z",
     "iopub.status.busy": "2021-03-13T13:09:34.151721Z",
     "iopub.status.idle": "2021-03-13T13:09:35.908397Z",
     "shell.execute_reply": "2021-03-13T13:09:35.908105Z"
    }
   },
   "outputs": [
    {
     "data": {
      "text/plain": [
       "'/data1/jenkins/workspace/Notebooks/jwst_validation_notebooks_spacetelescope/tmp/tmp66ryz9h4/starfield_74_asnfile.json'"
      ]
     },
     "execution_count": 1,
     "metadata": {},
     "output_type": "execute_result"
    }
   ],
   "source": [
    "# Use regtest infrastructure to access all input files associated with the association file\n",
    "\n",
    "rtdata = RegtestData(inputs_root=\"jwst_validation_notebooks\", env=\"validation_data\")\n",
    "rtdata.get_asn(\"resample/resample_miri_test/starfield_74_asnfile.json\")\n",
    "rtdata.input #this should be the list of files associated with the asn"
   ]
  },
  {
   "cell_type": "code",
   "execution_count": 4,
   "metadata": {
    "execution": {
     "iopub.execute_input": "2021-03-13T13:09:35.918092Z",
     "iopub.status.busy": "2021-03-13T13:09:35.915240Z",
     "iopub.status.idle": "2021-03-13T13:10:04.609894Z",
     "shell.execute_reply": "2021-03-13T13:10:04.609525Z"
    }
   },
   "outputs": [
    {
     "name": "stderr",
     "output_type": "stream",
     "text": [
      "2021-03-13 08:09:35,921 - stpipe.Image3Pipeline - INFO - Image3Pipeline instance created.\n"
     ]
    },
    {
     "name": "stderr",
     "output_type": "stream",
     "text": [
      "2021-03-13 08:09:35,923 - stpipe.Image3Pipeline.assign_mtwcs - INFO - AssignMTWcsStep instance created.\n"
     ]
    },
    {
     "name": "stderr",
     "output_type": "stream",
     "text": [
      "2021-03-13 08:09:35,924 - stpipe.Image3Pipeline.tweakreg - INFO - TweakRegStep instance created.\n"
     ]
    },
    {
     "name": "stderr",
     "output_type": "stream",
     "text": [
      "2021-03-13 08:09:35,926 - stpipe.Image3Pipeline.skymatch - INFO - SkyMatchStep instance created.\n"
     ]
    },
    {
     "name": "stderr",
     "output_type": "stream",
     "text": [
      "2021-03-13 08:09:35,927 - stpipe.Image3Pipeline.outlier_detection - INFO - OutlierDetectionStep instance created.\n"
     ]
    },
    {
     "name": "stderr",
     "output_type": "stream",
     "text": [
      "2021-03-13 08:09:35,928 - stpipe.Image3Pipeline.resample - INFO - ResampleStep instance created.\n"
     ]
    },
    {
     "name": "stderr",
     "output_type": "stream",
     "text": [
      "2021-03-13 08:09:35,929 - stpipe.Image3Pipeline.source_catalog - INFO - SourceCatalogStep instance created.\n"
     ]
    },
    {
     "name": "stderr",
     "output_type": "stream",
     "text": [
      "2021-03-13 08:09:36,023 - stpipe.Image3Pipeline - INFO - Step Image3Pipeline running with args ('/data1/jenkins/workspace/Notebooks/jwst_validation_notebooks_spacetelescope/tmp/tmp66ryz9h4/starfield_74_asnfile.json',).\n"
     ]
    },
    {
     "name": "stderr",
     "output_type": "stream",
     "text": [
      "2021-03-13 08:09:36,029 - stpipe.Image3Pipeline - INFO - Step Image3Pipeline parameters are: {'pre_hooks': [], 'post_hooks': [], 'output_file': None, 'output_dir': None, 'output_ext': '.fits', 'output_use_model': False, 'output_use_index': True, 'save_results': True, 'skip': False, 'suffix': None, 'search_output_file': True, 'input_dir': '', 'steps': {'assign_mtwcs': {'pre_hooks': [], 'post_hooks': [], 'output_file': None, 'output_dir': None, 'output_ext': '.fits', 'output_use_model': True, 'output_use_index': True, 'save_results': False, 'skip': False, 'suffix': 'assign_mtwcs', 'search_output_file': True, 'input_dir': ''}, 'tweakreg': {'pre_hooks': [], 'post_hooks': [], 'output_file': None, 'output_dir': None, 'output_ext': '.fits', 'output_use_model': False, 'output_use_index': True, 'save_results': False, 'skip': False, 'suffix': None, 'search_output_file': True, 'input_dir': '', 'save_catalogs': False, 'catalog_format': 'ecsv', 'kernel_fwhm': 2.5, 'snr_threshold': 250, 'brightest': 1000, 'peakmax': None, 'enforce_user_order': False, 'expand_refcat': False, 'minobj': 5, 'searchrad': 1.0, 'use2dhist': False, 'separation': 0.5, 'tolerance': 1.0, 'xoffset': 0.0, 'yoffset': 0.0, 'fitgeometry': 'shift', 'nclip': 3, 'sigma': 3, 'align_to_gaia': False, 'gaia_catalog': 'GAIADR2', 'min_gaia': 5, 'save_gaia_catalog': False}, 'skymatch': {'pre_hooks': [], 'post_hooks': [], 'output_file': None, 'output_dir': None, 'output_ext': '.fits', 'output_use_model': False, 'output_use_index': True, 'save_results': False, 'skip': False, 'suffix': None, 'search_output_file': True, 'input_dir': '', 'skymethod': 'global+match', 'match_down': True, 'subtract': False, 'stepsize': None, 'skystat': 'mode', 'dqbits': '0', 'lower': None, 'upper': None, 'nclip': 5, 'lsigma': 4.0, 'usigma': 4.0, 'binwidth': 0.1}, 'outlier_detection': {'pre_hooks': [], 'post_hooks': [], 'output_file': None, 'output_dir': None, 'output_ext': '.fits', 'output_use_model': False, 'output_use_index': True, 'save_results': False, 'skip': False, 'suffix': None, 'search_output_file': False, 'input_dir': '', 'weight_type': 'ivm', 'pixfrac': 1.0, 'kernel': 'square', 'fillval': 'INDEF', 'nlow': 0, 'nhigh': 0, 'maskpt': 0.7, 'grow': 1, 'snr': '4.0 3.0', 'scale': '0.5 0.4', 'backg': 0.0, 'save_intermediate_results': False, 'resample_data': True, 'good_bits': '~DO_NOT_USE', 'scale_detection': False, 'allowed_memory': None}, 'resample': {'pre_hooks': [], 'post_hooks': [], 'output_file': None, 'output_dir': None, 'output_ext': '.fits', 'output_use_model': False, 'output_use_index': True, 'save_results': False, 'skip': False, 'suffix': None, 'search_output_file': True, 'input_dir': '', 'pixfrac': 1.0, 'kernel': 'square', 'fillval': 'INDEF', 'weight_type': 'ivm', 'pixel_scale_ratio': 1.0, 'single': False, 'blendheaders': True, 'allowed_memory': None}, 'source_catalog': {'pre_hooks': [], 'post_hooks': [], 'output_file': None, 'output_dir': None, 'output_ext': '.fits', 'output_use_model': False, 'output_use_index': True, 'save_results': True, 'skip': False, 'suffix': 'cat', 'search_output_file': True, 'input_dir': '', 'bkg_boxsize': 100, 'kernel_fwhm': 2.0, 'snr_threshold': 3.0, 'npixels': 5, 'deblend': False, 'aperture_ee1': 30, 'aperture_ee2': 50, 'aperture_ee3': 70, 'ci1_star_threshold': 2.0, 'ci2_star_threshold': 1.8}}}\n"
     ]
    },
    {
     "name": "stderr",
     "output_type": "stream",
     "text": [
      "2021-03-13 08:09:36,391 - stpipe.Image3Pipeline - INFO - Prefetching reference files for dataset: 'det_image_seq1_MIRIMAGE_F1130Wexp1_74test_cal.fits' reftypes = ['abvegaoffset', 'apcorr', 'drizpars']\n"
     ]
    },
    {
     "name": "stderr",
     "output_type": "stream",
     "text": [
      "2021-03-13 08:09:37,951 - stpipe.Image3Pipeline - INFO - Prefetch for ABVEGAOFFSET reference file is '/grp/crds/cache/references/jwst/jwst_miri_abvegaoffset_0001.asdf'.\n"
     ]
    },
    {
     "name": "stderr",
     "output_type": "stream",
     "text": [
      "2021-03-13 08:09:37,952 - stpipe.Image3Pipeline - INFO - Prefetch for APCORR reference file is '/grp/crds/cache/references/jwst/jwst_miri_apcorr_0005.fits'.\n"
     ]
    },
    {
     "name": "stderr",
     "output_type": "stream",
     "text": [
      "2021-03-13 08:09:37,953 - stpipe.Image3Pipeline - INFO - Prefetch for DRIZPARS reference file is '/grp/crds/cache/references/jwst/jwst_miri_drizpars_0001.fits'.\n"
     ]
    },
    {
     "name": "stderr",
     "output_type": "stream",
     "text": [
      "2021-03-13 08:09:37,955 - stpipe.Image3Pipeline - INFO - Starting calwebb_image3 ...\n"
     ]
    },
    {
     "name": "stderr",
     "output_type": "stream",
     "text": [
      "2021-03-13 08:09:38,535 - stpipe.Image3Pipeline.tweakreg - INFO - Step tweakreg running with args (<ModelContainer>,).\n"
     ]
    },
    {
     "name": "stderr",
     "output_type": "stream",
     "text": [
      "2021-03-13 08:09:38,537 - stpipe.Image3Pipeline.tweakreg - INFO - Step tweakreg parameters are: {'pre_hooks': [], 'post_hooks': [], 'output_file': None, 'output_dir': None, 'output_ext': '.fits', 'output_use_model': False, 'output_use_index': True, 'save_results': False, 'skip': False, 'suffix': None, 'search_output_file': True, 'input_dir': '/data1/jenkins/workspace/Notebooks/jwst_validation_notebooks_spacetelescope/tmp/tmp66ryz9h4', 'save_catalogs': False, 'catalog_format': 'ecsv', 'kernel_fwhm': 2.5, 'snr_threshold': 250, 'brightest': 1000, 'peakmax': None, 'enforce_user_order': False, 'expand_refcat': False, 'minobj': 5, 'searchrad': 1.0, 'use2dhist': False, 'separation': 0.5, 'tolerance': 1.0, 'xoffset': 0.0, 'yoffset': 0.0, 'fitgeometry': 'shift', 'nclip': 3, 'sigma': 3, 'align_to_gaia': False, 'gaia_catalog': 'GAIADR2', 'min_gaia': 5, 'save_gaia_catalog': False}\n"
     ]
    },
    {
     "name": "stderr",
     "output_type": "stream",
     "text": [
      "2021-03-13 08:09:38,793 - stpipe.Image3Pipeline.tweakreg - INFO - Detected 50 sources in det_image_seq1_MIRIMAGE_F1130Wexp1_74test_cal.fits.\n"
     ]
    },
    {
     "name": "stderr",
     "output_type": "stream",
     "text": [
      "2021-03-13 08:09:39,027 - stpipe.Image3Pipeline.tweakreg - INFO - Detected 50 sources in det_image_seq1_MIRIMAGE_F1130Wexp2_74test_cal.fits.\n"
     ]
    },
    {
     "name": "stderr",
     "output_type": "stream",
     "text": [
      "2021-03-13 08:09:39,264 - stpipe.Image3Pipeline.tweakreg - INFO - Detected 49 sources in det_image_seq2_MIRIMAGE_F1130Wexp1_74test_cal.fits.\n"
     ]
    },
    {
     "name": "stderr",
     "output_type": "stream",
     "text": [
      "2021-03-13 08:09:39,512 - stpipe.Image3Pipeline.tweakreg - INFO - Detected 50 sources in det_image_seq2_MIRIMAGE_F1130Wexp2_74test_cal.fits.\n"
     ]
    },
    {
     "name": "stderr",
     "output_type": "stream",
     "text": [
      "2021-03-13 08:09:39,517 - stpipe.Image3Pipeline.tweakreg - INFO - \n"
     ]
    },
    {
     "name": "stderr",
     "output_type": "stream",
     "text": [
      "2021-03-13 08:09:39,517 - stpipe.Image3Pipeline.tweakreg - INFO - Number of image groups to be aligned: 4.\n"
     ]
    },
    {
     "name": "stderr",
     "output_type": "stream",
     "text": [
      "2021-03-13 08:09:39,518 - stpipe.Image3Pipeline.tweakreg - INFO - Image groups:\n"
     ]
    },
    {
     "name": "stderr",
     "output_type": "stream",
     "text": [
      "2021-03-13 08:09:39,540 - stpipe.Image3Pipeline.tweakreg - INFO - * Images in GROUP 'det_image_seq1_MIRIMAGE_F1130Wexp1_74test_cal':\n"
     ]
    },
    {
     "name": "stderr",
     "output_type": "stream",
     "text": [
      "2021-03-13 08:09:39,540 - stpipe.Image3Pipeline.tweakreg - INFO -      det_image_seq1_MIRIMAGE_F1130Wexp1_74test_cal\n"
     ]
    },
    {
     "name": "stderr",
     "output_type": "stream",
     "text": [
      "2021-03-13 08:09:39,562 - stpipe.Image3Pipeline.tweakreg - INFO - * Images in GROUP 'det_image_seq1_MIRIMAGE_F1130Wexp2_74test_cal':\n"
     ]
    },
    {
     "name": "stderr",
     "output_type": "stream",
     "text": [
      "2021-03-13 08:09:39,562 - stpipe.Image3Pipeline.tweakreg - INFO -      det_image_seq1_MIRIMAGE_F1130Wexp2_74test_cal\n"
     ]
    },
    {
     "name": "stderr",
     "output_type": "stream",
     "text": [
      "2021-03-13 08:09:39,583 - stpipe.Image3Pipeline.tweakreg - INFO - * Images in GROUP 'det_image_seq2_MIRIMAGE_F1130Wexp1_74test_cal':\n"
     ]
    },
    {
     "name": "stderr",
     "output_type": "stream",
     "text": [
      "2021-03-13 08:09:39,584 - stpipe.Image3Pipeline.tweakreg - INFO -      det_image_seq2_MIRIMAGE_F1130Wexp1_74test_cal\n"
     ]
    },
    {
     "name": "stderr",
     "output_type": "stream",
     "text": [
      "2021-03-13 08:09:39,604 - stpipe.Image3Pipeline.tweakreg - INFO - * Images in GROUP 'det_image_seq2_MIRIMAGE_F1130Wexp2_74test_cal':\n"
     ]
    },
    {
     "name": "stderr",
     "output_type": "stream",
     "text": [
      "2021-03-13 08:09:39,605 - stpipe.Image3Pipeline.tweakreg - INFO -      det_image_seq2_MIRIMAGE_F1130Wexp2_74test_cal\n"
     ]
    },
    {
     "name": "stderr",
     "output_type": "stream",
     "text": [
      "2021-03-13 08:09:39,605 - stpipe.Image3Pipeline.tweakreg - INFO - \n"
     ]
    },
    {
     "name": "stderr",
     "output_type": "stream",
     "text": [
      "2021-03-13 08:09:39,605 - stpipe.Image3Pipeline.tweakreg - INFO -  \n"
     ]
    },
    {
     "name": "stderr",
     "output_type": "stream",
     "text": [
      "2021-03-13 08:09:39,605 - stpipe.Image3Pipeline.tweakreg - INFO - ***** tweakwcs.imalign.align_wcs() started on 2021-03-13 08:09:39.605589\n"
     ]
    },
    {
     "name": "stderr",
     "output_type": "stream",
     "text": [
      "2021-03-13 08:09:39,606 - stpipe.Image3Pipeline.tweakreg - INFO -       Version 0.7.1\n"
     ]
    },
    {
     "name": "stderr",
     "output_type": "stream",
     "text": [
      "2021-03-13 08:09:39,606 - stpipe.Image3Pipeline.tweakreg - INFO -  \n"
     ]
    },
    {
     "name": "stderr",
     "output_type": "stream",
     "text": [
      "2021-03-13 08:09:39,676 - stpipe.Image3Pipeline.tweakreg - INFO - Selected image 'GROUP ID: det_image_seq1_MIRIMAGE_F1130Wexp1_74test_cal' as reference image\n"
     ]
    },
    {
     "name": "stderr",
     "output_type": "stream",
     "text": [
      "2021-03-13 08:09:39,679 - stpipe.Image3Pipeline.tweakreg - INFO - Aligning image catalog 'GROUP ID: det_image_seq1_MIRIMAGE_F1130Wexp2_74test_cal' to the reference catalog.\n"
     ]
    },
    {
     "name": "stderr",
     "output_type": "stream",
     "text": [
      "2021-03-13 08:09:39,761 - stpipe.Image3Pipeline.tweakreg - INFO - Matching sources from 'det_image_seq1_MIRIMAGE_F1130Wexp2_74test_cal' catalog with sources from the reference 'det_image_seq1_MIRIMAGE_F1130Wexp1_74test_cal' catalog.\n"
     ]
    },
    {
     "name": "stderr",
     "output_type": "stream",
     "text": [
      "2021-03-13 08:09:39,762 - stpipe.Image3Pipeline.tweakreg - INFO - Found 49 matches for 'GROUP ID: det_image_seq1_MIRIMAGE_F1130Wexp2_74test_cal'...\n"
     ]
    },
    {
     "name": "stderr",
     "output_type": "stream",
     "text": [
      "2021-03-13 08:09:39,763 - stpipe.Image3Pipeline.tweakreg - INFO - Performing 'shift' fit\n"
     ]
    },
    {
     "name": "stderr",
     "output_type": "stream",
     "text": [
      "2021-03-13 08:09:39,765 - stpipe.Image3Pipeline.tweakreg - INFO - Computed 'shift' fit for GROUP ID: det_image_seq1_MIRIMAGE_F1130Wexp2_74test_cal:\n"
     ]
    },
    {
     "name": "stderr",
     "output_type": "stream",
     "text": [
      "2021-03-13 08:09:39,765 - stpipe.Image3Pipeline.tweakreg - INFO - XSH: -6.58944e-07  YSH: -1.44021e-05\n"
     ]
    },
    {
     "name": "stderr",
     "output_type": "stream",
     "text": [
      "2021-03-13 08:09:39,765 - stpipe.Image3Pipeline.tweakreg - INFO - \n"
     ]
    },
    {
     "name": "stderr",
     "output_type": "stream",
     "text": [
      "2021-03-13 08:09:39,765 - stpipe.Image3Pipeline.tweakreg - INFO - FIT RMSE: 0.000302863   FIT MAE: 0.000262083\n"
     ]
    },
    {
     "name": "stderr",
     "output_type": "stream",
     "text": [
      "2021-03-13 08:09:39,766 - stpipe.Image3Pipeline.tweakreg - INFO - Final solution based on 49 objects.\n"
     ]
    },
    {
     "name": "stderr",
     "output_type": "stream",
     "text": [
      "2021-03-13 08:09:39,799 - stpipe.Image3Pipeline.tweakreg - INFO - Aligning image catalog 'GROUP ID: det_image_seq2_MIRIMAGE_F1130Wexp1_74test_cal' to the reference catalog.\n"
     ]
    },
    {
     "name": "stderr",
     "output_type": "stream",
     "text": [
      "2021-03-13 08:09:39,886 - stpipe.Image3Pipeline.tweakreg - INFO - Matching sources from 'det_image_seq2_MIRIMAGE_F1130Wexp1_74test_cal' catalog with sources from the reference 'det_image_seq1_MIRIMAGE_F1130Wexp1_74test_cal' catalog.\n"
     ]
    },
    {
     "name": "stderr",
     "output_type": "stream",
     "text": [
      "2021-03-13 08:09:39,887 - stpipe.Image3Pipeline.tweakreg - INFO - Found 49 matches for 'GROUP ID: det_image_seq2_MIRIMAGE_F1130Wexp1_74test_cal'...\n"
     ]
    },
    {
     "name": "stderr",
     "output_type": "stream",
     "text": [
      "2021-03-13 08:09:39,888 - stpipe.Image3Pipeline.tweakreg - INFO - Performing 'shift' fit\n"
     ]
    },
    {
     "name": "stderr",
     "output_type": "stream",
     "text": [
      "2021-03-13 08:09:39,889 - stpipe.Image3Pipeline.tweakreg - INFO - Computed 'shift' fit for GROUP ID: det_image_seq2_MIRIMAGE_F1130Wexp1_74test_cal:\n"
     ]
    },
    {
     "name": "stderr",
     "output_type": "stream",
     "text": [
      "2021-03-13 08:09:39,890 - stpipe.Image3Pipeline.tweakreg - INFO - XSH: -0.000511129  YSH: 0.000423463\n"
     ]
    },
    {
     "name": "stderr",
     "output_type": "stream",
     "text": [
      "2021-03-13 08:09:39,890 - stpipe.Image3Pipeline.tweakreg - INFO - \n"
     ]
    },
    {
     "name": "stderr",
     "output_type": "stream",
     "text": [
      "2021-03-13 08:09:39,890 - stpipe.Image3Pipeline.tweakreg - INFO - FIT RMSE: 0.0033229   FIT MAE: 0.00257355\n"
     ]
    },
    {
     "name": "stderr",
     "output_type": "stream",
     "text": [
      "2021-03-13 08:09:39,890 - stpipe.Image3Pipeline.tweakreg - INFO - Final solution based on 48 objects.\n"
     ]
    },
    {
     "name": "stderr",
     "output_type": "stream",
     "text": [
      "2021-03-13 08:09:39,922 - stpipe.Image3Pipeline.tweakreg - INFO - Aligning image catalog 'GROUP ID: det_image_seq2_MIRIMAGE_F1130Wexp2_74test_cal' to the reference catalog.\n"
     ]
    },
    {
     "name": "stderr",
     "output_type": "stream",
     "text": [
      "2021-03-13 08:09:40,009 - stpipe.Image3Pipeline.tweakreg - INFO - Matching sources from 'det_image_seq2_MIRIMAGE_F1130Wexp2_74test_cal' catalog with sources from the reference 'det_image_seq1_MIRIMAGE_F1130Wexp1_74test_cal' catalog.\n"
     ]
    },
    {
     "name": "stderr",
     "output_type": "stream",
     "text": [
      "2021-03-13 08:09:40,010 - stpipe.Image3Pipeline.tweakreg - INFO - Found 49 matches for 'GROUP ID: det_image_seq2_MIRIMAGE_F1130Wexp2_74test_cal'...\n"
     ]
    },
    {
     "name": "stderr",
     "output_type": "stream",
     "text": [
      "2021-03-13 08:09:40,010 - stpipe.Image3Pipeline.tweakreg - INFO - Performing 'shift' fit\n"
     ]
    },
    {
     "name": "stderr",
     "output_type": "stream",
     "text": [
      "2021-03-13 08:09:40,012 - stpipe.Image3Pipeline.tweakreg - INFO - Computed 'shift' fit for GROUP ID: det_image_seq2_MIRIMAGE_F1130Wexp2_74test_cal:\n"
     ]
    },
    {
     "name": "stderr",
     "output_type": "stream",
     "text": [
      "2021-03-13 08:09:40,012 - stpipe.Image3Pipeline.tweakreg - INFO - XSH: -0.000665744  YSH: 0.000422398\n"
     ]
    },
    {
     "name": "stderr",
     "output_type": "stream",
     "text": [
      "2021-03-13 08:09:40,013 - stpipe.Image3Pipeline.tweakreg - INFO - \n"
     ]
    },
    {
     "name": "stderr",
     "output_type": "stream",
     "text": [
      "2021-03-13 08:09:40,013 - stpipe.Image3Pipeline.tweakreg - INFO - FIT RMSE: 0.00331562   FIT MAE: 0.00258955\n"
     ]
    },
    {
     "name": "stderr",
     "output_type": "stream",
     "text": [
      "2021-03-13 08:09:40,013 - stpipe.Image3Pipeline.tweakreg - INFO - Final solution based on 48 objects.\n"
     ]
    },
    {
     "name": "stderr",
     "output_type": "stream",
     "text": [
      "2021-03-13 08:09:40,046 - stpipe.Image3Pipeline.tweakreg - INFO -  \n"
     ]
    },
    {
     "name": "stderr",
     "output_type": "stream",
     "text": [
      "2021-03-13 08:09:40,046 - stpipe.Image3Pipeline.tweakreg - INFO - ***** tweakwcs.imalign.align_wcs() ended on 2021-03-13 08:09:40.046260\n"
     ]
    },
    {
     "name": "stderr",
     "output_type": "stream",
     "text": [
      "2021-03-13 08:09:40,047 - stpipe.Image3Pipeline.tweakreg - INFO - ***** tweakwcs.imalign.align_wcs() TOTAL RUN TIME: 0:00:00.440671\n"
     ]
    },
    {
     "name": "stderr",
     "output_type": "stream",
     "text": [
      "2021-03-13 08:09:40,047 - stpipe.Image3Pipeline.tweakreg - INFO -  \n"
     ]
    },
    {
     "name": "stderr",
     "output_type": "stream",
     "text": [
      "2021-03-13 08:09:40,115 - stpipe.Image3Pipeline.tweakreg - INFO - Step tweakreg done\n"
     ]
    },
    {
     "name": "stderr",
     "output_type": "stream",
     "text": [
      "2021-03-13 08:09:40,219 - stpipe.Image3Pipeline.skymatch - INFO - Step skymatch running with args (<ModelContainer>,).\n"
     ]
    },
    {
     "name": "stderr",
     "output_type": "stream",
     "text": [
      "2021-03-13 08:09:40,221 - stpipe.Image3Pipeline.skymatch - INFO - Step skymatch parameters are: {'pre_hooks': [], 'post_hooks': [], 'output_file': None, 'output_dir': None, 'output_ext': '.fits', 'output_use_model': False, 'output_use_index': True, 'save_results': False, 'skip': False, 'suffix': None, 'search_output_file': True, 'input_dir': '/data1/jenkins/workspace/Notebooks/jwst_validation_notebooks_spacetelescope/tmp/tmp66ryz9h4', 'skymethod': 'global+match', 'match_down': True, 'subtract': False, 'stepsize': None, 'skystat': 'mode', 'dqbits': '0', 'lower': None, 'upper': None, 'nclip': 5, 'lsigma': 4.0, 'usigma': 4.0, 'binwidth': 0.1}\n"
     ]
    },
    {
     "name": "stderr",
     "output_type": "stream",
     "text": [
      "2021-03-13 08:09:40,245 - stpipe.Image3Pipeline.skymatch - INFO -  \n"
     ]
    },
    {
     "name": "stderr",
     "output_type": "stream",
     "text": [
      "2021-03-13 08:09:40,246 - stpipe.Image3Pipeline.skymatch - INFO - ***** jwst.skymatch.skymatch.match() started on 2021-03-13 08:09:40.245753\n"
     ]
    },
    {
     "name": "stderr",
     "output_type": "stream",
     "text": [
      "2021-03-13 08:09:40,246 - stpipe.Image3Pipeline.skymatch - INFO -  \n"
     ]
    },
    {
     "name": "stderr",
     "output_type": "stream",
     "text": [
      "2021-03-13 08:09:40,246 - stpipe.Image3Pipeline.skymatch - INFO - Sky computation method: 'global+match'\n"
     ]
    },
    {
     "name": "stderr",
     "output_type": "stream",
     "text": [
      "2021-03-13 08:09:40,247 - stpipe.Image3Pipeline.skymatch - INFO - Sky matching direction: DOWN\n"
     ]
    },
    {
     "name": "stderr",
     "output_type": "stream",
     "text": [
      "2021-03-13 08:09:40,247 - stpipe.Image3Pipeline.skymatch - INFO - Sky subtraction from image data: OFF\n"
     ]
    },
    {
     "name": "stderr",
     "output_type": "stream",
     "text": [
      "2021-03-13 08:09:40,247 - stpipe.Image3Pipeline.skymatch - INFO -  \n"
     ]
    },
    {
     "name": "stderr",
     "output_type": "stream",
     "text": [
      "2021-03-13 08:09:40,247 - stpipe.Image3Pipeline.skymatch - INFO - ----  Computing differences in sky values in overlapping regions.\n"
     ]
    },
    {
     "name": "stderr",
     "output_type": "stream",
     "text": [
      "2021-03-13 08:09:41,812 - stpipe.Image3Pipeline.skymatch - INFO -    *  Image ID=det_image_seq1_MIRIMAGE_F1130Wexp1_74test_cal.fits. Sky background: 0.0303561\n"
     ]
    },
    {
     "name": "stderr",
     "output_type": "stream",
     "text": [
      "2021-03-13 08:09:41,813 - stpipe.Image3Pipeline.skymatch - INFO -    *  Image ID=det_image_seq1_MIRIMAGE_F1130Wexp2_74test_cal.fits. Sky background: 0\n"
     ]
    },
    {
     "name": "stderr",
     "output_type": "stream",
     "text": [
      "2021-03-13 08:09:41,813 - stpipe.Image3Pipeline.skymatch - INFO -    *  Image ID=det_image_seq2_MIRIMAGE_F1130Wexp1_74test_cal.fits. Sky background: 0.0603457\n"
     ]
    },
    {
     "name": "stderr",
     "output_type": "stream",
     "text": [
      "2021-03-13 08:09:41,813 - stpipe.Image3Pipeline.skymatch - INFO -    *  Image ID=det_image_seq2_MIRIMAGE_F1130Wexp2_74test_cal.fits. Sky background: 0.0584788\n"
     ]
    },
    {
     "name": "stderr",
     "output_type": "stream",
     "text": [
      "2021-03-13 08:09:41,814 - stpipe.Image3Pipeline.skymatch - INFO -  \n"
     ]
    },
    {
     "name": "stderr",
     "output_type": "stream",
     "text": [
      "2021-03-13 08:09:41,814 - stpipe.Image3Pipeline.skymatch - INFO - ----  Computing \"global\" sky - smallest sky value across *all* input images.\n"
     ]
    },
    {
     "name": "stderr",
     "output_type": "stream",
     "text": [
      "2021-03-13 08:09:41,889 - stpipe.Image3Pipeline.skymatch - INFO -  \n"
     ]
    },
    {
     "name": "stderr",
     "output_type": "stream",
     "text": [
      "2021-03-13 08:09:41,889 - stpipe.Image3Pipeline.skymatch - INFO -    \"Global\" sky value correction: 10.932765660646014 [not converted]\n"
     ]
    },
    {
     "name": "stderr",
     "output_type": "stream",
     "text": [
      "2021-03-13 08:09:41,889 - stpipe.Image3Pipeline.skymatch - INFO -  \n"
     ]
    },
    {
     "name": "stderr",
     "output_type": "stream",
     "text": [
      "2021-03-13 08:09:41,890 - stpipe.Image3Pipeline.skymatch - INFO - ----  Final (match+global) sky for:\n"
     ]
    },
    {
     "name": "stderr",
     "output_type": "stream",
     "text": [
      "2021-03-13 08:09:41,890 - stpipe.Image3Pipeline.skymatch - INFO -    *  Image ID=det_image_seq1_MIRIMAGE_F1130Wexp1_74test_cal.fits. Sky background: 10.9631 (old=0.0303561, delta=10.9328)\n"
     ]
    },
    {
     "name": "stderr",
     "output_type": "stream",
     "text": [
      "2021-03-13 08:09:41,890 - stpipe.Image3Pipeline.skymatch - INFO -    *  Image ID=det_image_seq1_MIRIMAGE_F1130Wexp2_74test_cal.fits. Sky background: 10.9328 (old=0, delta=10.9328)\n"
     ]
    },
    {
     "name": "stderr",
     "output_type": "stream",
     "text": [
      "2021-03-13 08:09:41,891 - stpipe.Image3Pipeline.skymatch - INFO -    *  Image ID=det_image_seq2_MIRIMAGE_F1130Wexp1_74test_cal.fits. Sky background: 10.9931 (old=0.0603457, delta=10.9328)\n"
     ]
    },
    {
     "name": "stderr",
     "output_type": "stream",
     "text": [
      "2021-03-13 08:09:41,891 - stpipe.Image3Pipeline.skymatch - INFO -    *  Image ID=det_image_seq2_MIRIMAGE_F1130Wexp2_74test_cal.fits. Sky background: 10.9912 (old=0.0584788, delta=10.9328)\n"
     ]
    },
    {
     "name": "stderr",
     "output_type": "stream",
     "text": [
      "2021-03-13 08:09:41,891 - stpipe.Image3Pipeline.skymatch - INFO -  \n"
     ]
    },
    {
     "name": "stderr",
     "output_type": "stream",
     "text": [
      "2021-03-13 08:09:41,891 - stpipe.Image3Pipeline.skymatch - INFO - ***** jwst.skymatch.skymatch.match() ended on 2021-03-13 08:09:41.891489\n"
     ]
    },
    {
     "name": "stderr",
     "output_type": "stream",
     "text": [
      "2021-03-13 08:09:41,892 - stpipe.Image3Pipeline.skymatch - INFO - ***** jwst.skymatch.skymatch.match() TOTAL RUN TIME: 0:00:01.645736\n"
     ]
    },
    {
     "name": "stderr",
     "output_type": "stream",
     "text": [
      "2021-03-13 08:09:41,892 - stpipe.Image3Pipeline.skymatch - INFO -  \n"
     ]
    },
    {
     "name": "stderr",
     "output_type": "stream",
     "text": [
      "2021-03-13 08:09:41,894 - stpipe.Image3Pipeline.skymatch - INFO - Step skymatch done\n"
     ]
    },
    {
     "name": "stderr",
     "output_type": "stream",
     "text": [
      "2021-03-13 08:09:41,970 - stpipe.Image3Pipeline.outlier_detection - INFO - Step outlier_detection running with args (<ModelContainer>,).\n"
     ]
    },
    {
     "name": "stderr",
     "output_type": "stream",
     "text": [
      "2021-03-13 08:09:41,972 - stpipe.Image3Pipeline.outlier_detection - INFO - Step outlier_detection parameters are: {'pre_hooks': [], 'post_hooks': [], 'output_file': None, 'output_dir': None, 'output_ext': '.fits', 'output_use_model': False, 'output_use_index': True, 'save_results': True, 'skip': False, 'suffix': 'crf', 'search_output_file': False, 'input_dir': '/data1/jenkins/workspace/Notebooks/jwst_validation_notebooks_spacetelescope/tmp/tmp66ryz9h4', 'weight_type': 'ivm', 'pixfrac': 1.0, 'kernel': 'square', 'fillval': 'INDEF', 'nlow': 0, 'nhigh': 0, 'maskpt': 0.7, 'grow': 1, 'snr': '4.0 3.0', 'scale': '0.5 0.4', 'backg': 0.0, 'save_intermediate_results': False, 'resample_data': True, 'good_bits': '~DO_NOT_USE', 'scale_detection': False, 'allowed_memory': None}\n"
     ]
    },
    {
     "name": "stderr",
     "output_type": "stream",
     "text": [
      "2021-03-13 08:09:41,974 - stpipe.Image3Pipeline.outlier_detection - INFO - Performing outlier detection on 4 inputs\n"
     ]
    },
    {
     "name": "stderr",
     "output_type": "stream",
     "text": [
      "2021-03-13 08:09:42,689 - stpipe.Image3Pipeline.outlier_detection - INFO - Drizzling (1024, 1032) --> (1064, 1048)\n"
     ]
    },
    {
     "name": "stderr",
     "output_type": "stream",
     "text": [
      "2021-03-13 08:09:44,109 - stpipe.Image3Pipeline.outlier_detection - INFO - Drizzling (1024, 1032) --> (1064, 1048)\n"
     ]
    },
    {
     "name": "stderr",
     "output_type": "stream",
     "text": [
      "2021-03-13 08:09:45,545 - stpipe.Image3Pipeline.outlier_detection - INFO - Drizzling (1024, 1032) --> (1064, 1048)\n"
     ]
    },
    {
     "name": "stderr",
     "output_type": "stream",
     "text": [
      "2021-03-13 08:09:46,995 - stpipe.Image3Pipeline.outlier_detection - INFO - Drizzling (1024, 1032) --> (1064, 1048)\n"
     ]
    },
    {
     "name": "stderr",
     "output_type": "stream",
     "text": [
      "2021-03-13 08:09:47,889 - stpipe.Image3Pipeline.outlier_detection - INFO - Generating median from 4 images\n"
     ]
    },
    {
     "name": "stderr",
     "output_type": "stream",
     "text": [
      "2021-03-13 08:09:48,162 - stpipe.Image3Pipeline.outlier_detection - WARNING - /data1/jenkins/workspace/Notebooks/jwst_validation_notebooks_spacetelescope/miniconda3/envs/jwst_validation_notebooks/lib/python3.8/site-packages/numpy/lib/nanfunctions.py:1113: RuntimeWarning: All-NaN slice encountered\n",
      "  r, k = function_base._ureduce(a, func=_nanmedian, axis=axis, out=out,\n",
      "\n"
     ]
    },
    {
     "name": "stderr",
     "output_type": "stream",
     "text": [
      "2021-03-13 08:09:48,192 - stpipe.Image3Pipeline.outlier_detection - INFO - Blotting median...\n"
     ]
    },
    {
     "name": "stderr",
     "output_type": "stream",
     "text": [
      "2021-03-13 08:09:48,821 - stpipe.Image3Pipeline.outlier_detection - INFO - Blotting (1024, 1032) <-- (1064, 1048)\n"
     ]
    },
    {
     "name": "stderr",
     "output_type": "stream",
     "text": [
      "2021-03-13 08:09:49,785 - stpipe.Image3Pipeline.outlier_detection - INFO - Blotting (1024, 1032) <-- (1064, 1048)\n"
     ]
    },
    {
     "name": "stderr",
     "output_type": "stream",
     "text": [
      "2021-03-13 08:09:50,738 - stpipe.Image3Pipeline.outlier_detection - INFO - Blotting (1024, 1032) <-- (1064, 1048)\n"
     ]
    },
    {
     "name": "stderr",
     "output_type": "stream",
     "text": [
      "2021-03-13 08:09:51,678 - stpipe.Image3Pipeline.outlier_detection - INFO - Blotting (1024, 1032) <-- (1064, 1048)\n"
     ]
    },
    {
     "name": "stderr",
     "output_type": "stream",
     "text": [
      "2021-03-13 08:09:51,915 - stpipe.Image3Pipeline.outlier_detection - WARNING - /data1/jenkins/workspace/Notebooks/jwst_validation_notebooks_spacetelescope/miniconda3/envs/jwst_validation_notebooks/lib/python3.8/site-packages/jwst/outlier_detection/outlier_detection.py:424: RuntimeWarning: overflow encountered in square\n",
      "  ta = np.sqrt(np.abs(blot_data) + err_data ** 2)\n",
      "\n"
     ]
    },
    {
     "name": "stderr",
     "output_type": "stream",
     "text": [
      "2021-03-13 08:09:52,794 - stpipe.Image3Pipeline.outlier_detection - INFO - Saved model in det_image_seq1_MIRIMAGE_F1130Wexp1_74test_a3001_crf.fits\n"
     ]
    },
    {
     "name": "stderr",
     "output_type": "stream",
     "text": [
      "2021-03-13 08:09:52,909 - stpipe.Image3Pipeline.outlier_detection - INFO - Saved model in det_image_seq1_MIRIMAGE_F1130Wexp2_74test_a3001_crf.fits\n"
     ]
    },
    {
     "name": "stderr",
     "output_type": "stream",
     "text": [
      "2021-03-13 08:09:53,024 - stpipe.Image3Pipeline.outlier_detection - INFO - Saved model in det_image_seq2_MIRIMAGE_F1130Wexp1_74test_a3001_crf.fits\n"
     ]
    },
    {
     "name": "stderr",
     "output_type": "stream",
     "text": [
      "2021-03-13 08:09:53,139 - stpipe.Image3Pipeline.outlier_detection - INFO - Saved model in det_image_seq2_MIRIMAGE_F1130Wexp2_74test_a3001_crf.fits\n"
     ]
    },
    {
     "name": "stderr",
     "output_type": "stream",
     "text": [
      "2021-03-13 08:09:53,140 - stpipe.Image3Pipeline.outlier_detection - INFO - Step outlier_detection done\n"
     ]
    },
    {
     "name": "stderr",
     "output_type": "stream",
     "text": [
      "2021-03-13 08:09:53,216 - stpipe.Image3Pipeline.resample - INFO - Step resample running with args (<ModelContainer>,).\n"
     ]
    },
    {
     "name": "stderr",
     "output_type": "stream",
     "text": [
      "2021-03-13 08:09:53,218 - stpipe.Image3Pipeline.resample - INFO - Step resample parameters are: {'pre_hooks': [], 'post_hooks': [], 'output_file': None, 'output_dir': None, 'output_ext': '.fits', 'output_use_model': False, 'output_use_index': True, 'save_results': True, 'skip': False, 'suffix': 'i2d', 'search_output_file': True, 'input_dir': '/data1/jenkins/workspace/Notebooks/jwst_validation_notebooks_spacetelescope/tmp/tmp66ryz9h4', 'pixfrac': 1.0, 'kernel': 'square', 'fillval': 'INDEF', 'weight_type': 'ivm', 'pixel_scale_ratio': 1.0, 'single': False, 'blendheaders': True, 'allowed_memory': None}\n"
     ]
    },
    {
     "name": "stderr",
     "output_type": "stream",
     "text": [
      "2021-03-13 08:09:53,233 - stpipe.Image3Pipeline.resample - INFO - Drizpars reference file: /grp/crds/cache/references/jwst/jwst_miri_drizpars_0001.fits\n"
     ]
    },
    {
     "name": "stderr",
     "output_type": "stream",
     "text": [
      "2021-03-13 08:09:53,326 - stpipe.Image3Pipeline.resample - INFO - Blending metadata for /ifs/jwst/wit/miri/pipelinetests/20190906_131730_jumpsteptest_mirisim/starfield_74_combined.fits\n"
     ]
    },
    {
     "name": "stderr",
     "output_type": "stream",
     "text": [
      "2021-03-13 08:09:54,350 - stpipe.Image3Pipeline.resample - INFO - Drizzling (1024, 1032) --> (1064, 1048)\n"
     ]
    },
    {
     "name": "stderr",
     "output_type": "stream",
     "text": [
      "2021-03-13 08:09:55,528 - stpipe.Image3Pipeline.resample - INFO - Drizzling (1024, 1032) --> (1064, 1048)\n"
     ]
    },
    {
     "name": "stderr",
     "output_type": "stream",
     "text": [
      "2021-03-13 08:09:56,704 - stpipe.Image3Pipeline.resample - INFO - Drizzling (1024, 1032) --> (1064, 1048)\n"
     ]
    },
    {
     "name": "stderr",
     "output_type": "stream",
     "text": [
      "2021-03-13 08:09:57,913 - stpipe.Image3Pipeline.resample - INFO - Drizzling (1024, 1032) --> (1064, 1048)\n"
     ]
    },
    {
     "name": "stderr",
     "output_type": "stream",
     "text": [
      "2021-03-13 08:09:58,325 - stpipe.Image3Pipeline.resample - WARNING - /data1/jenkins/workspace/Notebooks/jwst_validation_notebooks_spacetelescope/miniconda3/envs/jwst_validation_notebooks/lib/python3.8/site-packages/gwcs/utils.py:72: DeprecationWarning: `np.int` is a deprecated alias for the builtin `int`. To silence this warning, use `int` by itself. Doing this will not modify any behavior and is safe. When replacing `np.int`, you may wish to use e.g. `np.int64` or `np.int32` to specify the precision. If you wish to review your current use, check the release note link for additional information.\n",
      "Deprecated in NumPy 1.20; for more details and guidance: https://numpy.org/devdocs/release/1.20.0-notes.html#deprecations\n",
      "  indx = np.asarray(np.floor(np.asarray(value) + 0.5), dtype=np.int)\n",
      "\n"
     ]
    },
    {
     "name": "stderr",
     "output_type": "stream",
     "text": [
      "2021-03-13 08:09:58,327 - stpipe.Image3Pipeline.resample - INFO - Update S_REGION to POLYGON ICRS  0.020082947 -0.018623990 0.022943509 0.013972782 359.990837374 0.016790287 359.987976812 -0.015806484\n"
     ]
    },
    {
     "name": "stderr",
     "output_type": "stream",
     "text": [
      "2021-03-13 08:09:58,654 - stpipe.Image3Pipeline.resample - INFO - Saved model in starfield_74_combined_i2d.fits\n"
     ]
    },
    {
     "name": "stderr",
     "output_type": "stream",
     "text": [
      "2021-03-13 08:09:58,654 - stpipe.Image3Pipeline.resample - INFO - Step resample done\n"
     ]
    },
    {
     "name": "stderr",
     "output_type": "stream",
     "text": [
      "2021-03-13 08:09:58,771 - stpipe.Image3Pipeline.source_catalog - INFO - Step source_catalog running with args (<ImageModel(1064, 1048) from starfield_74_combined_i2d.fits>,).\n"
     ]
    },
    {
     "name": "stderr",
     "output_type": "stream",
     "text": [
      "2021-03-13 08:09:58,772 - stpipe.Image3Pipeline.source_catalog - INFO - Step source_catalog parameters are: {'pre_hooks': [], 'post_hooks': [], 'output_file': None, 'output_dir': None, 'output_ext': '.fits', 'output_use_model': False, 'output_use_index': True, 'save_results': True, 'skip': False, 'suffix': 'cat', 'search_output_file': True, 'input_dir': '/data1/jenkins/workspace/Notebooks/jwst_validation_notebooks_spacetelescope/tmp/tmp66ryz9h4', 'bkg_boxsize': 100, 'kernel_fwhm': 2.0, 'snr_threshold': 3.0, 'npixels': 5, 'deblend': False, 'aperture_ee1': 30, 'aperture_ee2': 50, 'aperture_ee3': 70, 'ci1_star_threshold': 2.0, 'ci2_star_threshold': 1.8}\n"
     ]
    },
    {
     "name": "stderr",
     "output_type": "stream",
     "text": [
      "2021-03-13 08:09:58,787 - stpipe.Image3Pipeline.source_catalog - INFO - Using APCORR reference file /grp/crds/cache/references/jwst/jwst_miri_apcorr_0005.fits\n"
     ]
    },
    {
     "name": "stderr",
     "output_type": "stream",
     "text": [
      "2021-03-13 08:09:58,795 - stpipe.Image3Pipeline.source_catalog - INFO - Using ABVEGAOFFSET reference file /grp/crds/cache/references/jwst/jwst_miri_abvegaoffset_0001.asdf\n"
     ]
    },
    {
     "name": "stderr",
     "output_type": "stream",
     "text": [
      "2021-03-13 08:09:58,796 - stpipe.Image3Pipeline.source_catalog - INFO - Instrument: MIRI\n"
     ]
    },
    {
     "name": "stderr",
     "output_type": "stream",
     "text": [
      "2021-03-13 08:09:58,796 - stpipe.Image3Pipeline.source_catalog - INFO - Detector: MIRIMAGE\n"
     ]
    },
    {
     "name": "stderr",
     "output_type": "stream",
     "text": [
      "2021-03-13 08:09:58,796 - stpipe.Image3Pipeline.source_catalog - INFO - Filter: F1130W\n"
     ]
    },
    {
     "name": "stderr",
     "output_type": "stream",
     "text": [
      "2021-03-13 08:09:58,797 - stpipe.Image3Pipeline.source_catalog - INFO - Subarray: FULL\n"
     ]
    },
    {
     "name": "stderr",
     "output_type": "stream",
     "text": [
      "2021-03-13 08:09:58,830 - stpipe.Image3Pipeline.source_catalog - INFO - AB to Vega magnitude offset 5.49349\n"
     ]
    },
    {
     "name": "stderr",
     "output_type": "stream",
     "text": [
      "2021-03-13 08:09:59,237 - stpipe.Image3Pipeline.source_catalog - INFO - Detected 688 sources\n"
     ]
    },
    {
     "name": "stderr",
     "output_type": "stream",
     "text": [
      "2021-03-13 08:10:04,559 - stpipe.Image3Pipeline.source_catalog - INFO - Wrote source catalog: starfield_74_combined_cat.ecsv\n"
     ]
    },
    {
     "name": "stderr",
     "output_type": "stream",
     "text": [
      "2021-03-13 08:10:04,603 - stpipe.Image3Pipeline.source_catalog - INFO - Saved model in starfield_74_combined_segm.fits\n"
     ]
    },
    {
     "name": "stderr",
     "output_type": "stream",
     "text": [
      "2021-03-13 08:10:04,604 - stpipe.Image3Pipeline.source_catalog - INFO - Wrote segmentation map: starfield_74_combined_segm.fits\n"
     ]
    },
    {
     "name": "stderr",
     "output_type": "stream",
     "text": [
      "2021-03-13 08:10:04,605 - stpipe.Image3Pipeline.source_catalog - INFO - Step source_catalog done\n"
     ]
    },
    {
     "name": "stderr",
     "output_type": "stream",
     "text": [
      "2021-03-13 08:10:04,606 - stpipe.Image3Pipeline - INFO - Step Image3Pipeline done\n"
     ]
    }
   ],
   "source": [
    "# Run Calwebb_image3 on the association table\n",
    "    \n",
    "# set any specific parameters\n",
    "# tweakreg parameters to allow data to run\n",
    "fwhm=2.5  # Gaussian kernel FWHM of objects expected, default=2.5\n",
    "minobj=5  # minimum number of objects needed to match positions for a good fit, default=15\n",
    "snr= 250 # signal to noise threshold, default=5\n",
    "sigma= 3 # clipping limit, in sigma units, used when performing fit, default=3\n",
    "fit_geom='shift' # ftype of affine transformation to be considered when fitting catalogs, default='general'\n",
    "use2dhist=False  # boolean indicating whether to use 2D histogram to find initial offset, default=True\n",
    "   \n",
    "pipe3=Image3Pipeline()    \n",
    "pipe3.tweakreg.kernel_fwhm = fwhm\n",
    "pipe3.tweakreg.snr_threshold = snr\n",
    "pipe3.tweakreg.minobj = minobj\n",
    "pipe3.tweakreg.sigma = sigma\n",
    "pipe3.tweakreg.fitgeometry = fit_geom\n",
    "pipe3.tweakreg.use2dhist = use2dhist\n",
    "#pipe3.skymatch.skip = True        # test to see if this affects the final output\n",
    "pipe3.source_catalog.save_results = True\n",
    "pipe3.save_results = True\n",
    "\n",
    "# run Image3\n",
    "\n",
    "im = pipe3.run(rtdata.input)"
   ]
  },
  {
   "cell_type": "markdown",
   "metadata": {},
   "source": [
    "<a id=\"runscript_ID\"></a>\n",
    "# Find stars in image and determine their coordinates\n",
    "\n",
    "The output of the pipeline command in the previous step (given our association table) is an i2d.fits file. This file is in the format of a JWST Data model type of DrizProductModel and should be opened as such. It is this file that we will use for source finding and to determine whether the stars are found in the expected locations. The i2d file and the associated text file containing the input coordinates of the stars can be found in artifactory.\n",
    "\n",
    "[Top of Page](#title_ID)"
   ]
  },
  {
   "cell_type": "markdown",
   "metadata": {},
   "source": [
    "#### Read in combined i2d data file and list of coordinates"
   ]
  },
  {
   "cell_type": "code",
   "execution_count": 5,
   "metadata": {
    "execution": {
     "iopub.execute_input": "2021-03-13T13:10:04.611943Z",
     "iopub.status.busy": "2021-03-13T13:10:04.611626Z",
     "iopub.status.idle": "2021-03-13T13:10:04.851127Z",
     "shell.execute_reply": "2021-03-13T13:10:04.850816Z"
    }
   },
   "outputs": [
    {
     "name": "stderr",
     "output_type": "stream",
     "text": [
      "2021-03-13 08:10:04,611 - stpipe - WARNING - /data1/jenkins/workspace/Notebooks/jwst_validation_notebooks_spacetelescope/miniconda3/envs/jwst_validation_notebooks/lib/python3.8/site-packages/ipykernel/ipkernel.py:283: DeprecationWarning: `should_run_async` will not call `transform_cell` automatically in the future. Please pass the result to `transformed_cell` argument and any exception that happen during thetransform in `preprocessing_exc_tuple` in IPython 7.17 and above.\n",
      "  and should_run_async(code)\n",
      "\n"
     ]
    },
    {
     "name": "stdout",
     "output_type": "stream",
     "text": [
      "1.8549801 0.0 48.753773\n"
     ]
    }
   ],
   "source": [
    "# Read in the combined data file and list of coordinates\n",
    "\n",
    "im = ImageModel('starfield_74_combined_i2d.fits')\n",
    "\n",
    "coords = get_bigdata('jwst_validation_notebooks',\n",
    "                     'validation_data',\n",
    "                     'resample',\n",
    "                     'resample_miri_test', \n",
    "                     'radec_coords.txt')\n",
    "\n",
    "# read in text file with RA and Dec input coordinates\n",
    "RA_in, Dec_in = np.loadtxt( coords, dtype=str, unpack=True)\n",
    "\n",
    "# put RA and Dec into floats\n",
    "RA_sim = RA_in.astype(float)\n",
    "Dec_sim = Dec_in.astype(float)\n",
    "\n",
    "\n",
    "# pull out data portion of input file\n",
    "data = im.data\n",
    "\n",
    "# print stats on input image\n",
    "mean, median, std = sigma_clipped_stats(data, sigma=200.0, maxiters=5)  # default sigma=3\n",
    "print(mean, median, std)"
   ]
  },
  {
   "cell_type": "markdown",
   "metadata": {},
   "source": [
    "#### Run DAOStar finder to find sources in the image and examine the image and positions marked. \n",
    "The block of code below will find the sources in the image, create apertures for each source found, and output the table of x, y coordinates along with the peak pixel value. It will also show a scaled version of the image and mark in blue the positions of sources found.\n"
   ]
  },
  {
   "cell_type": "code",
   "execution_count": 6,
   "metadata": {
    "execution": {
     "iopub.execute_input": "2021-03-13T13:10:04.853225Z",
     "iopub.status.busy": "2021-03-13T13:10:04.852921Z",
     "iopub.status.idle": "2021-03-13T13:10:05.228772Z",
     "shell.execute_reply": "2021-03-13T13:10:05.228389Z"
    }
   },
   "outputs": [
    {
     "name": "stderr",
     "output_type": "stream",
     "text": [
      "2021-03-13 08:10:04,852 - stpipe - WARNING - /data1/jenkins/workspace/Notebooks/jwst_validation_notebooks_spacetelescope/miniconda3/envs/jwst_validation_notebooks/lib/python3.8/site-packages/ipykernel/ipkernel.py:283: DeprecationWarning: `should_run_async` will not call `transform_cell` automatically in the future. Please pass the result to `transformed_cell` argument and any exception that happen during thetransform in `preprocessing_exc_tuple` in IPython 7.17 and above.\n",
      "  and should_run_async(code)\n",
      "\n"
     ]
    },
    {
     "name": "stderr",
     "output_type": "stream",
     "text": [
      "2021-03-13 08:10:04,927 - stpipe - WARNING - <ipython-input-1-56bf342f74ee>:19: MatplotlibDeprecationWarning: Passing parameters norm and vmin/vmax simultaneously is deprecated since 3.3 and will become an error two minor releases later. Please pass vmin/vmax directly to the norm when creating it.\n",
      "  plt.imshow(data, cmap='Greys', origin='lower', vmin=-15,vmax=10, norm=norm)\n",
      "\n"
     ]
    },
    {
     "name": "stdout",
     "output_type": "stream",
     "text": [
      "    xcentroid          ycentroid             peak       \n",
      "------------------ ------------------ ------------------\n",
      " 560.0987010436182 2.2053395362279984 1258.0850830078125\n",
      "477.07485076369124  77.19174495684257  2654.273193359375\n",
      "  906.279788659758  77.07653734641946  2695.757568359375\n",
      " 573.4181103633771 139.52784533211005   2505.43310546875\n",
      "507.09808560178516 145.68263296942078  2629.088623046875\n",
      " 622.3682742805331 177.15020086018424   2649.88525390625\n",
      " 848.0691090711276 178.04438565730206  2719.910400390625\n",
      " 521.5570995359815 184.83405951921065   2579.84521484375\n",
      " 770.5975452930055  201.4687051385318  2446.204345703125\n",
      "480.26855620556006 240.27170070399112  2616.530517578125\n",
      "               ...                ...                ...\n",
      " 695.7277701207136  745.9159665381453  2645.144775390625\n",
      " 836.6522346566137  776.5085266766656  2518.190673828125\n",
      " 617.4114298258066  790.4039801126019   2549.41064453125\n",
      "495.98622679494457  844.5001179446455   2673.33740234375\n",
      " 557.4544933812986  853.9147768915058   2534.82958984375\n",
      " 819.6468210623252  890.0737085001088    2679.7158203125\n",
      "1015.5139835356126  924.7462547638968  2504.116455078125\n",
      " 544.1879044278852  934.3195044104472  2627.982177734375\n",
      " 593.7121987984788  955.7053886201268  2674.524169921875\n",
      " 586.8735177718164   962.008279387329  2674.302490234375\n",
      " 632.0591574030313  994.2121675422885     2641.513671875\n",
      "Length = 50 rows\n"
     ]
    },
    {
     "data": {
      "image/png": "[encoded data removed]",
      "text/plain": [
       "<Figure size 432x288 with 1 Axes>"
      ]
     },
     "metadata": {
      "needs_background": "light"
     },
     "output_type": "display_data"
    }
   ],
   "source": [
    "# Run DAOStarFinder to find sources in image\n",
    "\n",
    "ap_radius = 4.  # radius for aperture for centroiding and photometry\n",
    "\n",
    "daofind = DAOStarFinder(fwhm=3.0, threshold=10.*std)    # default threshold=5*std, fwhm=3\n",
    "sources = daofind(data)    \n",
    "print(sources['xcentroid','ycentroid','peak'])   \n",
    "\n",
    "# Create apertures for x,y positions\n",
    "positions = tuple(zip(sources['xcentroid'], sources['ycentroid']))\n",
    "#print(positions)\n",
    "\n",
    "#positions = (sources['xcentroid'], sources['ycentroid'])\n",
    "apertures = CircularAperture(positions, r=ap_radius)\n",
    "\n",
    "# mark sources on image frame to see if the correct sources were found\n",
    "norm = ImageNormalize(stretch=SqrtStretch())\n",
    "# keep image stretch in mind for plotting. sky subtracted range ~ (-15, 10), single sample ~ (0, 20)\n",
    "plt.imshow(data, cmap='Greys', origin='lower', vmin=-15,vmax=10, norm=norm)\n",
    "apertures.plot(color='blue', lw=1.5, alpha=0.5)\n",
    "plt.show()"
   ]
  },
  {
   "cell_type": "markdown",
   "metadata": {},
   "source": [
    "#### Run photometry on apertures (with a specified annulus for background subtraction)\n",
    "\n",
    "Set a specified annulus (inner and outer radii for the annulus).\n",
    "\n",
    "Run photometry on aperture and annuli.\n",
    "\n",
    "Subtract background values in annulus from aperture photometry.\n",
    "\n",
    "Output should be a table of photometry values printed to the screen (full table has columns id, xcenter, ycenter, aperture_sum and the added columns annulus_median, aperture_bkg and aperture_sum_bkgsub). You can choose which columns you wish to see printed."
   ]
  },
  {
   "cell_type": "code",
   "execution_count": 7,
   "metadata": {
    "execution": {
     "iopub.execute_input": "2021-03-13T13:10:05.230770Z",
     "iopub.status.busy": "2021-03-13T13:10:05.230446Z",
     "iopub.status.idle": "2021-03-13T13:10:05.279183Z",
     "shell.execute_reply": "2021-03-13T13:10:05.278860Z"
    }
   },
   "outputs": [
    {
     "name": "stderr",
     "output_type": "stream",
     "text": [
      "2021-03-13 08:10:05,229 - stpipe - WARNING - /data1/jenkins/workspace/Notebooks/jwst_validation_notebooks_spacetelescope/miniconda3/envs/jwst_validation_notebooks/lib/python3.8/site-packages/ipykernel/ipkernel.py:283: DeprecationWarning: `should_run_async` will not call `transform_cell` automatically in the future. Please pass the result to `transformed_cell` argument and any exception that happen during thetransform in `preprocessing_exc_tuple` in IPython 7.17 and above.\n",
      "  and should_run_async(code)\n",
      "\n"
     ]
    },
    {
     "name": "stdout",
     "output_type": "stream",
     "text": [
      "   aperture_sum    annulus_median aperture_bkg aperture_sum_bkgsub\n",
      "------------------ -------------- ------------ -------------------\n",
      " 2686.910518419551            0.0          0.0   2686.910518419551\n",
      " 36522.01467743814            0.0          0.0   36522.01467743814\n",
      " 36148.12514656686            0.0          0.0   36148.12514656686\n",
      " 36357.30444933739            0.0          0.0   36357.30444933739\n",
      " 36537.71457623308            0.0          0.0   36537.71457623308\n",
      " 36455.09201764634            0.0          0.0   36455.09201764634\n",
      "36477.251758942955            0.0          0.0  36477.251758942955\n",
      " 36542.77812382633            0.0          0.0   36542.77812382633\n",
      " 36436.54074642096            0.0          0.0   36436.54074642096\n",
      "36742.979287711016            0.0          0.0  36742.979287711016\n",
      "               ...            ...          ...                 ...\n",
      "36668.393253376824            0.0          0.0  36668.393253376824\n",
      " 36513.50286005811            0.0          0.0   36513.50286005811\n",
      " 36421.61340179604            0.0          0.0   36421.61340179604\n",
      " 36575.84302845723            0.0          0.0   36575.84302845723\n",
      " 36460.36984740387            0.0          0.0   36460.36984740387\n",
      "36466.166453030004            0.0          0.0  36466.166453030004\n",
      "  36276.9138158457            0.0          0.0    36276.9138158457\n",
      " 36459.32882435148            0.0          0.0   36459.32882435148\n",
      "37120.644520233036            0.0          0.0  37120.644520233036\n",
      " 37134.60896693893            0.0          0.0   37134.60896693893\n",
      " 36185.42431568387            0.0          0.0   36185.42431568387\n",
      "Length = 50 rows\n"
     ]
    }
   ],
   "source": [
    "# set values for inner and outer annuli to collect background counts\n",
    "\n",
    "inner_annulus = 10.\n",
    "outer_annulus = 15.\n",
    "\n",
    "# set up annulus for background\n",
    "background_aper = CircularAnnulus(positions, r_in=inner_annulus, r_out=outer_annulus)\n",
    "\n",
    "# perform photometry on apertures for targets and background annuli\n",
    "phot_table = aperture_photometry(im.data, apertures)\n",
    "\n",
    "# perform background subtraction with outlier rejection\n",
    "bkg_median = []\n",
    "bkg_mask = background_aper.to_mask(method='center')\n",
    "bmask = bkg_mask[0]\n",
    "for mask in bkg_mask:\n",
    "    aper_data = bmask.multiply(data)\n",
    "    aper_data = aper_data[mask.data > 0]\n",
    "    \n",
    "    # perform sigma-clipped median\n",
    "    _, median_sigclip, _ = sigma_clipped_stats(aper_data)\n",
    "    bkg_median.append(median_sigclip)\n",
    "bkg_median = np.array(bkg_median)\n",
    "\n",
    "\n",
    "# do calculations on background regions found in annuli\n",
    "# Get average background per pixel\n",
    "phot_table['annulus_median'] = bkg_median\n",
    "# Get total background in the science aperture (per pixel * area in aperture)\n",
    "phot_table['aperture_bkg'] = bkg_median * apertures.area\n",
    "# subtract background in aperture from flux in aperture\n",
    "phot_table['aperture_sum_bkgsub'] = phot_table['aperture_sum'] - phot_table['aperture_bkg']\n",
    "\n",
    "print(phot_table['aperture_sum','annulus_median','aperture_bkg','aperture_sum_bkgsub'])"
   ]
  },
  {
   "cell_type": "markdown",
   "metadata": {},
   "source": [
    "#### Put x, y coordinates into RA and Dec using the wcs information from the files.\n",
    "The output of the next block of code should be a table showing the x and y centroid positions as well as the associated RA and Dec values."
   ]
  },
  {
   "cell_type": "code",
   "execution_count": 8,
   "metadata": {
    "execution": {
     "iopub.execute_input": "2021-03-13T13:10:05.280955Z",
     "iopub.status.busy": "2021-03-13T13:10:05.280642Z",
     "iopub.status.idle": "2021-03-13T13:10:05.286486Z",
     "shell.execute_reply": "2021-03-13T13:10:05.286161Z"
    }
   },
   "outputs": [
    {
     "name": "stderr",
     "output_type": "stream",
     "text": [
      "2021-03-13 08:10:05,280 - stpipe - WARNING - /data1/jenkins/workspace/Notebooks/jwst_validation_notebooks_spacetelescope/miniconda3/envs/jwst_validation_notebooks/lib/python3.8/site-packages/ipykernel/ipkernel.py:283: DeprecationWarning: `should_run_async` will not call `transform_cell` automatically in the future. Please pass the result to `transformed_cell` argument and any exception that happen during thetransform in `preprocessing_exc_tuple` in IPython 7.17 and above.\n",
      "  and should_run_async(code)\n",
      "\n"
     ]
    },
    {
     "name": "stdout",
     "output_type": "stream",
     "text": [
      "    xcentroid          ycentroid      ...          Dec         \n",
      "------------------ ------------------ ... ---------------------\n",
      " 560.0987010436182 2.2053395362279984 ... -0.017049123131588045\n",
      "477.07485076369124  77.19174495684257 ... -0.014973093178388528\n",
      "  906.279788659758  77.07653734641946 ... -0.013821623452015987\n",
      " 573.4181103633771 139.52784533211005 ... -0.012802301510358724\n",
      "507.09808560178516 145.68263296942078 ... -0.012792034668439539\n",
      " 622.3682742805331 177.15020086018424 ... -0.011516890067633907\n",
      " 848.0691090711276 178.04438565730206 ... -0.010882102704481322\n",
      " 521.5570995359815 184.83405951921065 ... -0.011552551080568166\n",
      " 770.5975452930055  201.4687051385318 ...  -0.01037227682042507\n",
      "480.26855620556006 240.27170070399112 ...  -0.00996367078462253\n",
      "               ...                ... ...                   ...\n",
      " 695.7277701207136  745.9159665381453 ...  0.006121659508154253\n",
      " 836.6522346566137  776.5085266766656 ... 0.0074390083847092996\n",
      " 617.4114298258066  790.4039801126019 ...  0.007275127946872316\n",
      "495.98622679494457  844.5001179446455 ...  0.008607221262685026\n",
      " 557.4544933812986  853.9147768915058 ...  0.009061333488725284\n",
      " 819.6468210623252  890.0737085001088 ...  0.010875709578593367\n",
      "1015.5139835356126  924.7462547638968 ...   0.01246602282497613\n",
      " 544.1879044278852  934.3195044104472 ...  0.011491234443644924\n",
      " 593.7121987984788  955.7053886201268 ...  0.012280301339186976\n",
      " 586.8735177718164   962.008279387329 ...  0.012455175679063398\n",
      " 632.0591574030313  994.2121675422885 ...  0.013564299961005956\n",
      "Length = 50 rows\n"
     ]
    }
   ],
   "source": [
    "# using wcs info from images, put coordinates into RA, Dec\n",
    "ra, dec = im.meta.wcs(sources['xcentroid'], sources['ycentroid'])\n",
    "\n",
    "# add RA, Dec to sources table\n",
    "\n",
    "ra_col = Column(name='RA', data=ra)\n",
    "dec_col = Column(name='Dec', data=dec)\n",
    "sources.add_column(ra_col)\n",
    "sources.add_column(dec_col)\n",
    "\n",
    "# print RA, Dec for each x, y position found\n",
    "print(sources['xcentroid', 'ycentroid', 'RA', 'Dec'])   \n",
    "\n",
    "# add option to print out list of sources with flux values\n",
    "outtable = 'sourcelist_phot_rate.txt'\n",
    "sources.add_column(phot_table['aperture_sum'])\n",
    "sources.add_column(phot_table['aperture_sum_bkgsub'])"
   ]
  },
  {
   "cell_type": "markdown",
   "metadata": {},
   "source": [
    "#### Compare the RA and Dec positions used to create the simulated data to the values found in the output image.\n",
    "Difference each set of RA and Dec coordinates in both the input list and the found coordinates, taking into account any angles close to 360/0 degrees. If the difference for both the RA and Dec are below a set tolerance, then the positions match. Take the matched positions and convert the differences from degrees to milli arcseconds, and output the RA and Dec positions as well as the differences. "
   ]
  },
  {
   "cell_type": "code",
   "execution_count": 9,
   "metadata": {
    "execution": {
     "iopub.execute_input": "2021-03-13T13:10:05.290604Z",
     "iopub.status.busy": "2021-03-13T13:10:05.290125Z",
     "iopub.status.idle": "2021-03-13T13:10:05.298765Z",
     "shell.execute_reply": "2021-03-13T13:10:05.298441Z"
    }
   },
   "outputs": [
    {
     "name": "stdout",
     "output_type": "stream",
     "text": [
      "       RA found       Dec found    RA_Diff (mas)  Dec_diff (mas)  Bkg sub flux  pass/fail\n",
      "     359.990963       -0.003021        2.403155        8.230579    36801.689405 pass\n",
      "       0.009317       -0.000259        4.285593       10.335850    36992.391958 pass\n",
      "       0.005910        0.011491        2.760375        0.843997    36459.328824 pass\n",
      "     359.998084       -0.000737        2.929700        0.200370    36766.066066 pass\n",
      "       0.001286        0.000412        2.565203        7.422088    36770.692623 pass\n",
      "     359.997344        0.010876        0.777869        1.045517    36466.166453 pass\n",
      "       0.005661       -0.014973        0.815731       14.064558    36522.014677 pass\n",
      "     359.996517        0.007439        1.051748        0.030185    36513.502860 pass\n",
      "     359.990957       -0.005373        0.134329        8.712816    36834.917153 pass\n",
      "       0.005287        0.009061        5.677225        4.800559    36460.369847 pass\n",
      "       0.001239       -0.001040        0.888144        0.983307    36865.838710 pass\n",
      "       0.007146        0.008607        0.573421        2.803454    36575.843028 pass\n",
      "       0.005960        0.004918        0.667497        6.906247    36742.542390 pass\n",
      "       0.003277        0.007275        6.857660        4.060609    36421.613402 pass\n",
      "     359.994413        0.003188        1.561456        5.688378    36930.116780 pass\n",
      "     359.991431        0.012466        4.158933       14.482170    36276.913816 pass\n",
      "     359.994225        0.005507        2.153482       12.705891    36714.189886 pass\n",
      "       0.003044        0.003807        0.141383       13.018758    36690.600475 pass\n",
      "     359.996995       -0.010372       10.149746       13.403447    36436.540746 pass\n",
      "       0.002922       -0.003074        5.035478        8.086437    36742.373422 pass\n",
      "       0.007696       -0.002200        0.898266        3.866290    37030.600905 pass\n",
      "       0.005142       -0.002170        0.475402        6.419202    36967.444429 pass\n",
      "       0.002718       -0.005704        1.998651        3.030585    36782.881217 pass\n",
      "       0.004748       -0.009569        1.504310       12.269192    36761.884398 pass\n",
      "       0.006439       -0.008769        1.888301        0.991505    36927.413386 pass\n",
      "       0.004925       -0.012792        0.437851       14.275194    36537.714576 pass\n",
      "     359.996567       -0.006210        2.182435        2.582742    36847.517138 pass\n",
      "     359.992499       -0.013822        1.426487       12.155573    36148.125147 pass\n",
      "       0.001740        0.003520        3.709876        9.773198    36739.930082 pass\n",
      "     359.992052       -0.001350        0.962742        1.908703    37086.085406 pass\n",
      "     359.994246        0.000138        0.499500        6.927412    36781.324450 pass\n",
      "       0.008430       -0.002258        5.268588        8.361290    37065.928370 pass\n",
      "       0.000064        0.004106        3.527945        5.423157    36690.270177 pass\n",
      "     359.992343       -0.001126        3.245066        3.133595    37076.680667 pass\n",
      "       0.005100        0.001618        0.024181       11.281598    36907.601183 pass\n",
      "       0.002875       -0.012802        2.230806        9.714563    36357.304449 pass\n",
      "       0.000717       -0.002985        1.584406        4.732241    36880.318583 pass\n",
      "       0.004449        0.012280        1.224229        1.084821    37120.644520 pass\n",
      "     359.993295        0.000263        3.793642       10.039193    36918.633923 pass\n",
      "       0.004587       -0.011553        3.066924        5.216110    36542.778124 pass\n",
      "       0.007462       -0.001068        0.765232        7.284091    36946.232193 pass\n",
      "       0.000756        0.006122        0.666016        1.225771    36668.393253 pass\n",
      "     359.994556       -0.010882        4.058199        0.369736    36477.251759 pass\n",
      "       0.004675        0.012455        2.417178        2.967555    37134.608967 pass\n",
      "       0.001475       -0.011517        6.520553       14.795757    36455.092018 pass\n",
      "     359.991200        0.006288        3.100876       12.275518    36797.577224 pass\n",
      "     359.999241       -0.003934        0.956186        0.371666    36877.881508 pass\n",
      "       0.006002       -0.009964        0.520615        1.185175    36742.979288 pass\n",
      "       0.003376        0.013564        2.240545        8.279860    36185.424316 pass\n"
     ]
    }
   ],
   "source": [
    "# Compare input RA, Dec to found RA, Dec\n",
    "print('       RA found       Dec found    RA_Diff (mas)  Dec_diff (mas)  Bkg sub flux  pass/fail')\n",
    "\n",
    "for i in np.arange(0,len(RA_sim)):\n",
    "    for j in np.arange(0,len(ra)):\n",
    "        ra_diff = 180 - abs(abs(RA_sim[i] - ra[j])-180)\n",
    "        dec_diff = 180 - abs(abs(Dec_sim[i] - dec[j])-180)\n",
    "\n",
    "        if ra_diff < 1e-5 and dec_diff < 1e-5:\n",
    "            # put differences in milliarcseconds\n",
    "            ra_diff = ra_diff * 3600000\n",
    "            dec_diff = dec_diff * 3600000\n",
    "            if ra_diff < 30 and dec_diff < 30: \n",
    "                test = 'pass' \n",
    "            else: \n",
    "                test = 'fail'\n",
    "            print('{:15.6f} {:15.6f} {:15.6f} {:15.6f} {:15.6f} {}'.format(ra[j], dec[j], ra_diff, dec_diff, \n",
    "                                                                        phot_table['aperture_sum_bkgsub'][j], test))"
   ]
  },
  {
   "cell_type": "markdown",
   "metadata": {},
   "source": [
    "<a id=\"residual_ID\"></a>\n",
    "# Compare output RA and Dec to expected values\n",
    "\n",
    "The output RA and Dec coordinates should match the input RA and Dec coordinates to within 1/10 of a PSF FWHM (~0.03 arcsec for F770W).\n",
    "\n",
    "Output RA_Diff and Dec_diff above should be on order of 30 or fewer milliarcseconds.\n",
    "\n",
    "Check to see if your input flux is roughly what you expected based on the input data.\n",
    "\n",
    "[Top of Page](#title_ID)"
   ]
  },
  {
   "cell_type": "markdown",
   "metadata": {},
   "source": [
    "<a id=\"about_ID\"></a>\n",
    "## About this Notebook\n",
    "**Author:** M. Cracraft, Research and Instrument Scientist II, INS/MIRI\n",
    "<br>**Updated On:** 08/09/2019 to add in aperture photometry"
   ]
  },
  {
   "cell_type": "markdown",
   "metadata": {},
   "source": [
    "An extra optional test that can be done is to plot the flux values against x or y values. Previous testing has shown a spatial dependence of the flux with y values, so a quick plot can show whether this problem is fixed or not. Prior to the resample step, there is no pattern, after the step, a pattern is clear. Just do this as a last check. If the scatter is not random, there may be a problem that needs to be checked. (Of course, this only works if you give an equivalent if not equal input count level to each input star.)"
   ]
  },
  {
   "cell_type": "code",
   "execution_count": 10,
   "metadata": {
    "execution": {
     "iopub.execute_input": "2021-03-13T13:10:05.308942Z",
     "iopub.status.busy": "2021-03-13T13:10:05.306693Z",
     "iopub.status.idle": "2021-03-13T13:10:05.398973Z",
     "shell.execute_reply": "2021-03-13T13:10:05.399277Z"
    }
   },
   "outputs": [
    {
     "data": {
      "image/png": "[encoded data removed]",
      "text/plain": [
       "<Figure size 432x288 with 1 Axes>"
      ]
     },
     "metadata": {
      "needs_background": "light"
     },
     "output_type": "display_data"
    }
   ],
   "source": [
    "plt.title('Surface brightness vs. y position on detector')\n",
    "plt.ylim(35500,37500) # help weed out sources that were erroneously 'hits' (bad pixels, cosmic rays, etc)\n",
    "plt.xlabel('y centroid position')\n",
    "plt.ylabel('Surface brightness')\n",
    "plt.plot(sources['ycentroid'], phot_table['aperture_sum_bkgsub'], marker='o',linestyle='') #ylim=(30000,40000))\n",
    "plt.show()"
   ]
  },
  {
   "cell_type": "markdown",
   "metadata": {},
   "source": [
    "[Top of Page](#title_ID)\n",
    "<img style=\"float: right;\" src=\"./stsci_pri_combo_mark_horizonal_white_bkgd.png\" alt=\"stsci_pri_combo_mark_horizonal_white_bkgd\" width=\"200px\"/> "
   ]
  }
 ],
 "metadata": {
  "kernelspec": {
   "display_name": "Python 3",
   "language": "python",
   "name": "python3"
  },
  "language_info": {
   "codemirror_mode": {
    "name": "ipython",
    "version": 3
   },
   "file_extension": ".py",
   "mimetype": "text/x-python",
   "name": "python",
   "nbconvert_exporter": "python",
   "pygments_lexer": "ipython3",
   "version": "3.8.8"
  }
 },
 "nbformat": 4,
 "nbformat_minor": 1
}
